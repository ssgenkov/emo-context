{
 "cells": [
  {
   "cell_type": "code",
   "execution_count": 83,
   "metadata": {},
   "outputs": [],
   "source": [
    "import numpy as np\n",
    "import pandas as pd\n",
    "import matplotlib.pyplot as plt\n",
    "from scipy.sparse import hstack,vstack\n",
    "from scipy import sparse\n",
    "import lightgbm\n",
    "from sklearn.model_selection import train_test_split \n",
    "from sklearn.metrics import f1_score\n",
    "from sklearn.feature_extraction.text  import CountVectorizer\n",
    "import starterkit\n",
    "from sklearn.preprocessing import LabelEncoder\n",
    "from sklearn.preprocessing import LabelBinarizer\n",
    "import os\n",
    "import io\n",
    "from bayes_opt import BayesianOptimization"
   ]
  },
  {
   "cell_type": "markdown",
   "metadata": {},
   "source": [
    "# Loading Data"
   ]
  },
  {
   "cell_type": "code",
   "execution_count": 4,
   "metadata": {},
   "outputs": [],
   "source": [
    "train_data = pd.read_csv('D:\\\\Machine Learning\\\\Datasets\\\\EmoContext\\\\train.txt',\n",
    "                        sep='\\t', index_col='id')\n",
    "X = train_data.iloc[:,:-1]\n",
    "y = train_data.iloc[:,-1]\n",
    "le = LabelEncoder()\n",
    "y = le.fit_transform(y)"
   ]
  },
  {
   "cell_type": "code",
   "execution_count": 5,
   "metadata": {},
   "outputs": [],
   "source": [
    "dev_data = pd.read_csv('D:\\\\Machine Learning\\\\Datasets\\\\EmoContext\\\\dev.txt',\n",
    "                        sep='\\t', index_col='id')\n",
    "X_dev = dev_data.iloc[:,:-1]\n",
    "y_dev = dev_data.iloc[:,-1]\n",
    "y_dev = le.transform(y_dev)"
   ]
  },
  {
   "cell_type": "code",
   "execution_count": 6,
   "metadata": {},
   "outputs": [],
   "source": [
    "X_test = pd.read_csv('D:\\\\Machine Learning\\\\Datasets\\\\EmoContext\\\\testwithoutlabels.txt',\n",
    "                        sep='\\t', index_col='id')"
   ]
  },
  {
   "cell_type": "code",
   "execution_count": 13,
   "metadata": {},
   "outputs": [],
   "source": [
    "features_path = 'D:\\\\Machine Learning\\\\Datasets\\\\EmoContext\\\\Features\\\\FeatSelection\\\\' \n",
    "X_log_select_train = sparse.load_npz(features_path + r'\\log_reg\\train.npz')\n",
    "X_log_select_dev = sparse.load_npz(features_path + r'\\log_reg\\dev.npz')\n",
    "X_log_select_test = sparse.load_npz(features_path + r'\\log_reg\\test.npz')\n",
    "\n",
    "X_lgbm_feats_train = sparse.load_npz(features_path + r'\\lgbm\\train.npz')\n",
    "X_lgbm_feats_dev = sparse.load_npz(features_path + r'\\lgbm\\dev.npz')\n",
    "X_lgbm_feats_test = sparse.load_npz(features_path + r'\\lgbm\\test.npz')\n",
    "\n",
    "X_chi2_train = sparse.load_npz(features_path + r'\\chi2\\train.npz')\n",
    "X_chi2_dev = sparse.load_npz(features_path + r'\\chi2\\dev.npz')\n",
    "X_chi2_test = sparse.load_npz(features_path + r'\\chi2\\test.npz')"
   ]
  },
  {
   "cell_type": "code",
   "execution_count": 8,
   "metadata": {},
   "outputs": [],
   "source": [
    "def load_feats(feats_dir, folder):\n",
    "    dict_to_feed = {}\n",
    "    full_path = os.path.join(feats_dir, folder)\n",
    "    files = [f for f in os.listdir(full_path) \n",
    "             if os.path.isfile(os.path.join(full_path, f)) and f[-4:] =='.npz']\n",
    "    \n",
    "    for f in files:\n",
    "        dict_to_feed[f[:-4]] = sparse.load_npz(os.path.join(full_path, f))\n",
    "    return dict_to_feed"
   ]
  },
  {
   "cell_type": "code",
   "execution_count": 9,
   "metadata": {},
   "outputs": [],
   "source": [
    "feats_path = 'D:\\\\Machine Learning\\\\Datasets\\\\EmoContext\\\\Features'\n",
    "\n",
    "train_feats_dict = load_feats(feats_path, 'train')\n",
    "dev_feats_dict = load_feats(feats_path, 'dev')\n",
    "test_feats_dict = load_feats(feats_path, 'test')\n",
    "\n",
    "train_feats = hstack(list(train_feats_dict.values()))\n",
    "dev_feats = hstack(list(dev_feats_dict.values()))\n",
    "test_feats = hstack(list(test_feats_dict.values()))"
   ]
  },
  {
   "cell_type": "code",
   "execution_count": 36,
   "metadata": {},
   "outputs": [
    {
     "data": {
      "text/plain": [
       "LGBMClassifier(bagging_fraction=1, boosting_type='gbdt', class_weight=None,\n",
       "        colsample_bytree=1.0, feature_fraction=0.9,\n",
       "        importance_type='split', lambda_l1=5, lambda_l2=3,\n",
       "        learning_rate=0.1, max_depth=8, min_child_samples=20,\n",
       "        min_child_weight=50, min_split_gain=0.1, n_estimators=100,\n",
       "        n_jobs=-1, num_leaves=45, objective=None, random_state=42,\n",
       "        reg_alpha=0.0, reg_lambda=0.0, silent=True, subsample=1.0,\n",
       "        subsample_for_bin=200000, subsample_freq=0)"
      ]
     },
     "execution_count": 36,
     "metadata": {},
     "output_type": "execute_result"
    }
   ],
   "source": [
    "params =  {'num_leaves': 45,\n",
    "                                        'feature_fraction':  0.9,\n",
    "                                        'bagging_fraction': 1,\n",
    "                                        'max_depth': 8,\n",
    "                                        'lambda_l1':  5,\n",
    "                                        'lambda_l2':  3,\n",
    "                                        'min_split_gain':  0.1,\n",
    "                                        'min_child_weight': 50}\n",
    "clf = lightgbm.LGBMClassifier(**params, random_state=42)\n",
    "clf.fit(X_log_select_train, y)"
   ]
  },
  {
   "cell_type": "code",
   "execution_count": 33,
   "metadata": {},
   "outputs": [
    {
     "data": {
      "text/plain": [
       "(30160,)"
      ]
     },
     "execution_count": 33,
     "metadata": {},
     "output_type": "execute_result"
    }
   ],
   "source": []
  },
  {
   "cell_type": "code",
   "execution_count": 56,
   "metadata": {},
   "outputs": [],
   "source": [
    "def lightGbmEval(X_train, y_train, X_dev, y_dev):\n",
    "    def lightGbmTrainDevKitScore(num_leaves, feature_fraction, bagging_fraction,\n",
    "                 max_depth, lambda_l1, lambda_l2, min_split_gain, min_child_weight):\n",
    "        params = {'application':'multiclass',\n",
    "                  'num_iterations':4000, 'learning_rate':0.05,\n",
    "                 # 'early_stopping_round':100, \n",
    "                  'metric':'multi_logloss'}\n",
    "        params[\"num_leaves\"] = int(round(num_leaves))\n",
    "        params['feature_fraction'] = max(min(feature_fraction, 1), 0)\n",
    "        params['bagging_fraction'] = max(min(bagging_fraction, 1), 0)\n",
    "        params['max_depth'] = int(round(max_depth))\n",
    "        params['lambda_l1'] = max(lambda_l1, 0)\n",
    "        params['lambda_l2'] = max(lambda_l2, 0)\n",
    "        params['min_split_gain'] = min_split_gain\n",
    "        params['min_child_weight'] = min_child_weight\n",
    "        #lgb_train = lgb.Dataset(X_train, y_train)\n",
    "        #lgb_eval = lgb.Dataset(X_dev, y_dev, reference=lgb_train)\n",
    "        clf = lightgbm.LGBMClassifier(**params, random_state=42)\n",
    "        clf.fit(X_train, y_train)\n",
    "\n",
    "        lb = LabelBinarizer()\n",
    "        lb.fit(y_train)\n",
    "\n",
    "        dev_pred = clf.predict(X_dev)\n",
    "        ground = lb.transform(y_dev)\n",
    "        predictions = lb.transform(dev_pred)\n",
    "        return starterkit.getMetrics(predictions=predictions, ground=ground)[-1]\n",
    "    return lightGbmTrainDevKitScore"
   ]
  },
  {
   "cell_type": "code",
   "execution_count": 57,
   "metadata": {},
   "outputs": [],
   "source": [
    "lgb_eval = lightGbmEval(X_log_select_train, y, X_log_select_dev, y_dev)"
   ]
  },
  {
   "cell_type": "code",
   "execution_count": 58,
   "metadata": {},
   "outputs": [
    {
     "name": "stdout",
     "output_type": "stream",
     "text": [
      "|   iter    |  target   | baggin... | featur... | lambda_l1 | lambda_l2 | max_depth | min_ch... | min_sp... | num_le... |\n",
      "-------------------------------------------------------------------------------------------------------------------------\n",
      "True Positives per class :  [ 116.  101. 2124.   91.]\n",
      "False Positives per class :  [94. 80. 94. 55.]\n",
      "False Negatives per class :  [ 34.  41. 214.  34.]\n",
      "Class happy : Precision : 0.558, Recall : 0.711, F1 : 0.625\n",
      "Class sad : Precision : 0.958, Recall : 0.908, F1 : 0.932\n",
      "Class angry : Precision : 0.623, Recall : 0.728, F1 : 0.672\n",
      "Ignoring the Others class, Macro Precision : 0.7130, Macro Recall : 0.7826, Macro F1 : 0.7462\n",
      "Ignoring the Others class, Micro TP : 2316, FP : 229, FN : 289\n",
      "Accuracy : 0.8828, Micro Precision : 0.9100, Micro Recall : 0.8891, Micro F1 : 0.8994\n",
      "| \u001b[0m 1       \u001b[0m | \u001b[0m 0.8994  \u001b[0m | \u001b[0m 0.9098  \u001b[0m | \u001b[0m 0.6722  \u001b[0m | \u001b[0m 3.014   \u001b[0m | \u001b[0m 1.635   \u001b[0m | \u001b[0m 6.695   \u001b[0m | \u001b[0m 34.07   \u001b[0m | \u001b[0m 0.04432 \u001b[0m | \u001b[0m 42.73   \u001b[0m |\n"
     ]
    },
    {
     "name": "stderr",
     "output_type": "stream",
     "text": [
      "C:\\Users\\Simeon\\Anaconda3\\envs\\First\\lib\\site-packages\\lightgbm\\engine.py:113: UserWarning: Found `num_iterations` in params. Will use it instead of argument\n",
      "  warnings.warn(\"Found `{}` in params. Will use it instead of argument\".format(alias))\n"
     ]
    },
    {
     "name": "stdout",
     "output_type": "stream",
     "text": [
      "True Positives per class :  [ 113.  101. 2114.   88.]\n",
      "False Positives per class :  [100.  76.  96.  67.]\n",
      "False Negatives per class :  [ 37.  41. 224.  37.]\n",
      "Class happy : Precision : 0.571, Recall : 0.711, F1 : 0.633\n",
      "Class sad : Precision : 0.957, Recall : 0.904, F1 : 0.930\n",
      "Class angry : Precision : 0.568, Recall : 0.704, F1 : 0.629\n",
      "Ignoring the Others class, Macro Precision : 0.6983, Macro Recall : 0.7732, Macro F1 : 0.7338\n",
      "Ignoring the Others class, Micro TP : 2303, FP : 239, FN : 302\n",
      "Accuracy : 0.8770, Micro Precision : 0.9060, Micro Recall : 0.8841, Micro F1 : 0.8949\n",
      "| \u001b[0m 2       \u001b[0m | \u001b[0m 0.8949  \u001b[0m | \u001b[0m 0.9927  \u001b[0m | \u001b[0m 0.4068  \u001b[0m | \u001b[0m 3.959   \u001b[0m | \u001b[0m 1.587   \u001b[0m | \u001b[0m 7.272   \u001b[0m | \u001b[0m 46.65   \u001b[0m | \u001b[0m 0.008033\u001b[0m | \u001b[0m 25.83   \u001b[0m |\n"
     ]
    },
    {
     "name": "stderr",
     "output_type": "stream",
     "text": [
      "C:\\Users\\Simeon\\Anaconda3\\envs\\First\\lib\\site-packages\\lightgbm\\engine.py:113: UserWarning: Found `num_iterations` in params. Will use it instead of argument\n",
      "  warnings.warn(\"Found `{}` in params. Will use it instead of argument\".format(alias))\n"
     ]
    },
    {
     "name": "stdout",
     "output_type": "stream",
     "text": [
      "True Positives per class :  [ 113.  101. 2111.   89.]\n",
      "False Positives per class :  [104.  80.  96.  61.]\n",
      "False Negatives per class :  [ 37.  41. 227.  36.]\n",
      "Class happy : Precision : 0.558, Recall : 0.711, F1 : 0.625\n",
      "Class sad : Precision : 0.957, Recall : 0.903, F1 : 0.929\n",
      "Class angry : Precision : 0.593, Recall : 0.712, F1 : 0.647\n",
      "Ignoring the Others class, Macro Precision : 0.7026, Macro Recall : 0.7754, Macro F1 : 0.7372\n",
      "Ignoring the Others class, Micro TP : 2301, FP : 237, FN : 304\n",
      "Accuracy : 0.8762, Micro Precision : 0.9066, Micro Recall : 0.8833, Micro F1 : 0.8948\n",
      "| \u001b[0m 3       \u001b[0m | \u001b[0m 0.8948  \u001b[0m | \u001b[0m 0.804   \u001b[0m | \u001b[0m 0.7661  \u001b[0m | \u001b[0m 3.891   \u001b[0m | \u001b[0m 2.61    \u001b[0m | \u001b[0m 8.914   \u001b[0m | \u001b[0m 40.96   \u001b[0m | \u001b[0m 0.04669 \u001b[0m | \u001b[0m 40.39   \u001b[0m |\n"
     ]
    },
    {
     "name": "stderr",
     "output_type": "stream",
     "text": [
      "C:\\Users\\Simeon\\Anaconda3\\envs\\First\\lib\\site-packages\\lightgbm\\engine.py:113: UserWarning: Found `num_iterations` in params. Will use it instead of argument\n",
      "  warnings.warn(\"Found `{}` in params. Will use it instead of argument\".format(alias))\n"
     ]
    },
    {
     "name": "stdout",
     "output_type": "stream",
     "text": [
      "True Positives per class :  [ 114.  102. 2131.   95.]\n",
      "False Positives per class :  [89. 81. 91. 52.]\n",
      "False Negatives per class :  [ 36.  40. 207.  30.]\n",
      "Class happy : Precision : 0.557, Recall : 0.718, F1 : 0.628\n",
      "Class sad : Precision : 0.959, Recall : 0.911, F1 : 0.935\n",
      "Class angry : Precision : 0.646, Recall : 0.760, F1 : 0.699\n",
      "Ignoring the Others class, Macro Precision : 0.7209, Macro Recall : 0.7966, Macro F1 : 0.7569\n",
      "Ignoring the Others class, Micro TP : 2328, FP : 224, FN : 277\n",
      "Accuracy : 0.8864, Micro Precision : 0.9122, Micro Recall : 0.8937, Micro F1 : 0.9029\n",
      "| \u001b[95m 4       \u001b[0m | \u001b[95m 0.9029  \u001b[0m | \u001b[95m 0.8237  \u001b[0m | \u001b[95m 0.6119  \u001b[0m | \u001b[95m 0.7168  \u001b[0m | \u001b[95m 2.834   \u001b[0m | \u001b[95m 7.087   \u001b[0m | \u001b[95m 23.66   \u001b[0m | \u001b[95m 0.02719 \u001b[0m | \u001b[95m 40.26   \u001b[0m |\n"
     ]
    },
    {
     "name": "stderr",
     "output_type": "stream",
     "text": [
      "C:\\Users\\Simeon\\Anaconda3\\envs\\First\\lib\\site-packages\\lightgbm\\engine.py:113: UserWarning: Found `num_iterations` in params. Will use it instead of argument\n",
      "  warnings.warn(\"Found `{}` in params. Will use it instead of argument\".format(alias))\n"
     ]
    },
    {
     "name": "stdout",
     "output_type": "stream",
     "text": [
      "True Positives per class :  [ 114.  100. 2113.   93.]\n",
      "False Positives per class :  [97. 78. 96. 64.]\n",
      "False Negatives per class :  [ 36.  42. 225.  32.]\n",
      "Class happy : Precision : 0.562, Recall : 0.704, F1 : 0.625\n",
      "Class sad : Precision : 0.957, Recall : 0.904, F1 : 0.929\n",
      "Class angry : Precision : 0.592, Recall : 0.744, F1 : 0.660\n",
      "Ignoring the Others class, Macro Precision : 0.7036, Macro Recall : 0.7840, Macro F1 : 0.7416\n",
      "Ignoring the Others class, Micro TP : 2306, FP : 238, FN : 299\n",
      "Accuracy : 0.8784, Micro Precision : 0.9064, Micro Recall : 0.8852, Micro F1 : 0.8957\n",
      "| \u001b[0m 5       \u001b[0m | \u001b[0m 0.8957  \u001b[0m | \u001b[0m 0.8912  \u001b[0m | \u001b[0m 0.5547  \u001b[0m | \u001b[0m 0.09395 \u001b[0m | \u001b[0m 1.853   \u001b[0m | \u001b[0m 7.448   \u001b[0m | \u001b[0m 32.76   \u001b[0m | \u001b[0m 0.09443 \u001b[0m | \u001b[0m 38.32   \u001b[0m |\n"
     ]
    },
    {
     "name": "stderr",
     "output_type": "stream",
     "text": [
      "C:\\Users\\Simeon\\Anaconda3\\envs\\First\\lib\\site-packages\\lightgbm\\engine.py:113: UserWarning: Found `num_iterations` in params. Will use it instead of argument\n",
      "  warnings.warn(\"Found `{}` in params. Will use it instead of argument\".format(alias))\n"
     ]
    },
    {
     "name": "stdout",
     "output_type": "stream",
     "text": [
      "True Positives per class :  [ 115.   99. 2121.   90.]\n",
      "False Positives per class :  [96. 75. 96. 63.]\n",
      "False Negatives per class :  [ 35.  43. 217.  35.]\n",
      "Class happy : Precision : 0.569, Recall : 0.697, F1 : 0.627\n",
      "Class sad : Precision : 0.957, Recall : 0.907, F1 : 0.931\n",
      "Class angry : Precision : 0.588, Recall : 0.720, F1 : 0.647\n",
      "Ignoring the Others class, Macro Precision : 0.7046, Macro Recall : 0.7748, Macro F1 : 0.7380\n",
      "Ignoring the Others class, Micro TP : 2310, FP : 234, FN : 295\n",
      "Accuracy : 0.8802, Micro Precision : 0.9080, Micro Recall : 0.8868, Micro F1 : 0.8973\n",
      "| \u001b[0m 6       \u001b[0m | \u001b[0m 0.8973  \u001b[0m | \u001b[0m 0.8719  \u001b[0m | \u001b[0m 0.4496  \u001b[0m | \u001b[0m 3.488   \u001b[0m | \u001b[0m 0.1807  \u001b[0m | \u001b[0m 7.667   \u001b[0m | \u001b[0m 35.18   \u001b[0m | \u001b[0m 0.02183 \u001b[0m | \u001b[0m 26.71   \u001b[0m |\n"
     ]
    },
    {
     "name": "stderr",
     "output_type": "stream",
     "text": [
      "C:\\Users\\Simeon\\Anaconda3\\envs\\First\\lib\\site-packages\\lightgbm\\engine.py:113: UserWarning: Found `num_iterations` in params. Will use it instead of argument\n",
      "  warnings.warn(\"Found `{}` in params. Will use it instead of argument\".format(alias))\n"
     ]
    },
    {
     "name": "stdout",
     "output_type": "stream",
     "text": [
      "True Positives per class :  [ 121.  102. 2141.   94.]\n",
      "False Positives per class :  [89. 75. 83. 50.]\n",
      "False Negatives per class :  [ 29.  40. 197.  31.]\n",
      "Class happy : Precision : 0.576, Recall : 0.718, F1 : 0.639\n",
      "Class sad : Precision : 0.963, Recall : 0.916, F1 : 0.939\n",
      "Class angry : Precision : 0.653, Recall : 0.752, F1 : 0.699\n",
      "Ignoring the Others class, Macro Precision : 0.7306, Macro Recall : 0.7953, Macro F1 : 0.7616\n",
      "Ignoring the Others class, Micro TP : 2337, FP : 208, FN : 268\n",
      "Accuracy : 0.8922, Micro Precision : 0.9183, Micro Recall : 0.8971, Micro F1 : 0.9076\n",
      "| \u001b[95m 7       \u001b[0m | \u001b[95m 0.9076  \u001b[0m | \u001b[95m 0.8631  \u001b[0m | \u001b[95m 0.391   \u001b[0m | \u001b[95m 2.851   \u001b[0m | \u001b[95m 1.316   \u001b[0m | \u001b[95m 8.953   \u001b[0m | \u001b[95m 9.592   \u001b[0m | \u001b[95m 0.02168 \u001b[0m | \u001b[95m 27.39   \u001b[0m |\n"
     ]
    },
    {
     "name": "stderr",
     "output_type": "stream",
     "text": [
      "C:\\Users\\Simeon\\Anaconda3\\envs\\First\\lib\\site-packages\\lightgbm\\engine.py:113: UserWarning: Found `num_iterations` in params. Will use it instead of argument\n",
      "  warnings.warn(\"Found `{}` in params. Will use it instead of argument\".format(alias))\n"
     ]
    },
    {
     "name": "stdout",
     "output_type": "stream",
     "text": [
      "True Positives per class :  [ 116.  102. 2146.   91.]\n",
      "False Positives per class :  [88. 76. 91. 45.]\n",
      "False Negatives per class :  [ 34.  40. 192.  34.]\n",
      "Class happy : Precision : 0.573, Recall : 0.718, F1 : 0.637\n",
      "Class sad : Precision : 0.959, Recall : 0.918, F1 : 0.938\n",
      "Class angry : Precision : 0.669, Recall : 0.728, F1 : 0.697\n",
      "Ignoring the Others class, Macro Precision : 0.7338, Macro Recall : 0.7881, Macro F1 : 0.7600\n",
      "Ignoring the Others class, Micro TP : 2339, FP : 212, FN : 266\n",
      "Accuracy : 0.8911, Micro Precision : 0.9169, Micro Recall : 0.8979, Micro F1 : 0.9073\n",
      "| \u001b[0m 8       \u001b[0m | \u001b[0m 0.9073  \u001b[0m | \u001b[0m 0.9306  \u001b[0m | \u001b[0m 0.3026  \u001b[0m | \u001b[0m 2.332   \u001b[0m | \u001b[0m 0.7333  \u001b[0m | \u001b[0m 5.636   \u001b[0m | \u001b[0m 9.967   \u001b[0m | \u001b[0m 0.06598 \u001b[0m | \u001b[0m 26.9    \u001b[0m |\n"
     ]
    },
    {
     "name": "stderr",
     "output_type": "stream",
     "text": [
      "C:\\Users\\Simeon\\Anaconda3\\envs\\First\\lib\\site-packages\\lightgbm\\engine.py:113: UserWarning: Found `num_iterations` in params. Will use it instead of argument\n",
      "  warnings.warn(\"Found `{}` in params. Will use it instead of argument\".format(alias))\n"
     ]
    },
    {
     "name": "stdout",
     "output_type": "stream",
     "text": [
      "True Positives per class :  [ 120.  101. 2146.   89.]\n",
      "False Positives per class :  [89. 73. 91. 46.]\n",
      "False Negatives per class :  [ 30.  41. 192.  36.]\n",
      "Class happy : Precision : 0.580, Recall : 0.711, F1 : 0.639\n",
      "Class sad : Precision : 0.959, Recall : 0.918, F1 : 0.938\n",
      "Class angry : Precision : 0.659, Recall : 0.712, F1 : 0.685\n",
      "Ignoring the Others class, Macro Precision : 0.7330, Macro Recall : 0.7804, Macro F1 : 0.7560\n",
      "Ignoring the Others class, Micro TP : 2336, FP : 210, FN : 269\n",
      "Accuracy : 0.8915, Micro Precision : 0.9175, Micro Recall : 0.8967, Micro F1 : 0.9070\n",
      "| \u001b[0m 9       \u001b[0m | \u001b[0m 0.907   \u001b[0m | \u001b[0m 0.8393  \u001b[0m | \u001b[0m 0.395   \u001b[0m | \u001b[0m 4.105   \u001b[0m | \u001b[0m 0.2913  \u001b[0m | \u001b[0m 8.352   \u001b[0m | \u001b[0m 9.324   \u001b[0m | \u001b[0m 0.09767 \u001b[0m | \u001b[0m 33.84   \u001b[0m |\n"
     ]
    },
    {
     "name": "stderr",
     "output_type": "stream",
     "text": [
      "C:\\Users\\Simeon\\Anaconda3\\envs\\First\\lib\\site-packages\\lightgbm\\engine.py:113: UserWarning: Found `num_iterations` in params. Will use it instead of argument\n",
      "  warnings.warn(\"Found `{}` in params. Will use it instead of argument\".format(alias))\n"
     ]
    },
    {
     "name": "stdout",
     "output_type": "stream",
     "text": [
      "True Positives per class :  [ 120.  103. 2153.   91.]\n",
      "False Positives per class :  [83. 73. 90. 42.]\n",
      "False Negatives per class :  [ 30.  39. 185.  34.]\n",
      "Class happy : Precision : 0.585, Recall : 0.725, F1 : 0.648\n",
      "Class sad : Precision : 0.960, Recall : 0.921, F1 : 0.940\n",
      "Class angry : Precision : 0.684, Recall : 0.728, F1 : 0.705\n",
      "Ignoring the Others class, Macro Precision : 0.7431, Macro Recall : 0.7914, Macro F1 : 0.7665\n",
      "Ignoring the Others class, Micro TP : 2347, FP : 205, FN : 258\n",
      "Accuracy : 0.8955, Micro Precision : 0.9197, Micro Recall : 0.9010, Micro F1 : 0.9102\n",
      "| \u001b[95m 10      \u001b[0m | \u001b[95m 0.9102  \u001b[0m | \u001b[95m 0.9954  \u001b[0m | \u001b[95m 0.5839  \u001b[0m | \u001b[95m 3.696   \u001b[0m | \u001b[95m 0.1176  \u001b[0m | \u001b[95m 6.131   \u001b[0m | \u001b[95m 10.41   \u001b[0m | \u001b[95m 0.03032 \u001b[0m | \u001b[95m 26.49   \u001b[0m |\n"
     ]
    },
    {
     "name": "stderr",
     "output_type": "stream",
     "text": [
      "C:\\Users\\Simeon\\Anaconda3\\envs\\First\\lib\\site-packages\\lightgbm\\engine.py:113: UserWarning: Found `num_iterations` in params. Will use it instead of argument\n",
      "  warnings.warn(\"Found `{}` in params. Will use it instead of argument\".format(alias))\n"
     ]
    },
    {
     "name": "stdout",
     "output_type": "stream",
     "text": [
      "True Positives per class :  [ 116.  101. 2128.   96.]\n",
      "False Positives per class :  [95. 81. 89. 49.]\n",
      "False Negatives per class :  [ 34.  41. 210.  29.]\n",
      "Class happy : Precision : 0.555, Recall : 0.711, F1 : 0.623\n",
      "Class sad : Precision : 0.960, Recall : 0.910, F1 : 0.934\n",
      "Class angry : Precision : 0.662, Recall : 0.768, F1 : 0.711\n",
      "Ignoring the Others class, Macro Precision : 0.7256, Macro Recall : 0.7965, Macro F1 : 0.7594\n",
      "Ignoring the Others class, Micro TP : 2325, FP : 219, FN : 280\n",
      "Accuracy : 0.8860, Micro Precision : 0.9139, Micro Recall : 0.8925, Micro F1 : 0.9031\n",
      "| \u001b[0m 11      \u001b[0m | \u001b[0m 0.9031  \u001b[0m | \u001b[0m 0.8636  \u001b[0m | \u001b[0m 0.4314  \u001b[0m | \u001b[0m 0.3207  \u001b[0m | \u001b[0m 2.077   \u001b[0m | \u001b[0m 7.266   \u001b[0m | \u001b[0m 16.94   \u001b[0m | \u001b[0m 0.0528  \u001b[0m | \u001b[0m 25.97   \u001b[0m |\n"
     ]
    },
    {
     "name": "stderr",
     "output_type": "stream",
     "text": [
      "C:\\Users\\Simeon\\Anaconda3\\envs\\First\\lib\\site-packages\\lightgbm\\engine.py:113: UserWarning: Found `num_iterations` in params. Will use it instead of argument\n",
      "  warnings.warn(\"Found `{}` in params. Will use it instead of argument\".format(alias))\n"
     ]
    },
    {
     "name": "stdout",
     "output_type": "stream",
     "text": [
      "True Positives per class :  [ 114.  102. 2110.   89.]\n",
      "False Positives per class :  [101.  84.  95.  60.]\n",
      "False Negatives per class :  [ 36.  40. 228.  36.]\n",
      "Class happy : Precision : 0.548, Recall : 0.718, F1 : 0.622\n",
      "Class sad : Precision : 0.957, Recall : 0.902, F1 : 0.929\n",
      "Class angry : Precision : 0.597, Recall : 0.712, F1 : 0.650\n",
      "Ignoring the Others class, Macro Precision : 0.7009, Macro Recall : 0.7776, Macro F1 : 0.7372\n",
      "Ignoring the Others class, Micro TP : 2301, FP : 239, FN : 304\n",
      "Accuracy : 0.8766, Micro Precision : 0.9059, Micro Recall : 0.8833, Micro F1 : 0.8945\n",
      "| \u001b[0m 12      \u001b[0m | \u001b[0m 0.8945  \u001b[0m | \u001b[0m 0.9152  \u001b[0m | \u001b[0m 0.8434  \u001b[0m | \u001b[0m 1.593   \u001b[0m | \u001b[0m 2.002   \u001b[0m | \u001b[0m 5.527   \u001b[0m | \u001b[0m 37.23   \u001b[0m | \u001b[0m 0.02965 \u001b[0m | \u001b[0m 27.85   \u001b[0m |\n"
     ]
    },
    {
     "name": "stderr",
     "output_type": "stream",
     "text": [
      "C:\\Users\\Simeon\\Anaconda3\\envs\\First\\lib\\site-packages\\lightgbm\\engine.py:113: UserWarning: Found `num_iterations` in params. Will use it instead of argument\n",
      "  warnings.warn(\"Found `{}` in params. Will use it instead of argument\".format(alias))\n"
     ]
    },
    {
     "name": "stdout",
     "output_type": "stream",
     "text": [
      "True Positives per class :  [ 120.  101. 2148.   93.]\n",
      "False Positives per class :  [83. 72. 89. 49.]\n",
      "False Negatives per class :  [ 30.  41. 190.  32.]\n",
      "Class happy : Precision : 0.584, Recall : 0.711, F1 : 0.641\n",
      "Class sad : Precision : 0.960, Recall : 0.919, F1 : 0.939\n",
      "Class angry : Precision : 0.655, Recall : 0.744, F1 : 0.697\n",
      "Ignoring the Others class, Macro Precision : 0.7330, Macro Recall : 0.7913, Macro F1 : 0.7610\n",
      "Ignoring the Others class, Micro TP : 2342, FP : 210, FN : 263\n",
      "Accuracy : 0.8936, Micro Precision : 0.9177, Micro Recall : 0.8990, Micro F1 : 0.9083\n",
      "| \u001b[0m 13      \u001b[0m | \u001b[0m 0.9083  \u001b[0m | \u001b[0m 0.9173  \u001b[0m | \u001b[0m 0.1161  \u001b[0m | \u001b[0m 4.145   \u001b[0m | \u001b[0m 0.01409 \u001b[0m | \u001b[0m 7.711   \u001b[0m | \u001b[0m 17.15   \u001b[0m | \u001b[0m 0.07378 \u001b[0m | \u001b[0m 44.21   \u001b[0m |\n"
     ]
    },
    {
     "name": "stderr",
     "output_type": "stream",
     "text": [
      "C:\\Users\\Simeon\\Anaconda3\\envs\\First\\lib\\site-packages\\lightgbm\\engine.py:113: UserWarning: Found `num_iterations` in params. Will use it instead of argument\n",
      "  warnings.warn(\"Found `{}` in params. Will use it instead of argument\".format(alias))\n"
     ]
    },
    {
     "name": "stdout",
     "output_type": "stream",
     "text": [
      "True Positives per class :  [ 115.  102. 2102.   88.]\n",
      "False Positives per class :  [106.  81.  95.  66.]\n",
      "False Negatives per class :  [ 35.  40. 236.  37.]\n",
      "Class happy : Precision : 0.557, Recall : 0.718, F1 : 0.628\n",
      "Class sad : Precision : 0.957, Recall : 0.899, F1 : 0.927\n",
      "Class angry : Precision : 0.571, Recall : 0.704, F1 : 0.631\n",
      "Ignoring the Others class, Macro Precision : 0.6952, Macro Recall : 0.7738, Macro F1 : 0.7324\n",
      "Ignoring the Others class, Micro TP : 2292, FP : 242, FN : 313\n",
      "Accuracy : 0.8737, Micro Precision : 0.9045, Micro Recall : 0.8798, Micro F1 : 0.8920\n",
      "| \u001b[0m 14      \u001b[0m | \u001b[0m 0.892   \u001b[0m | \u001b[0m 0.8498  \u001b[0m | \u001b[0m 0.5609  \u001b[0m | \u001b[0m 2.96    \u001b[0m | \u001b[0m 1.717   \u001b[0m | \u001b[0m 5.892   \u001b[0m | \u001b[0m 47.87   \u001b[0m | \u001b[0m 0.04527 \u001b[0m | \u001b[0m 41.77   \u001b[0m |\n"
     ]
    },
    {
     "name": "stderr",
     "output_type": "stream",
     "text": [
      "C:\\Users\\Simeon\\Anaconda3\\envs\\First\\lib\\site-packages\\lightgbm\\engine.py:113: UserWarning: Found `num_iterations` in params. Will use it instead of argument\n",
      "  warnings.warn(\"Found `{}` in params. Will use it instead of argument\".format(alias))\n"
     ]
    },
    {
     "name": "stdout",
     "output_type": "stream",
     "text": [
      "True Positives per class :  [ 116.  102. 2128.   91.]\n",
      "False Positives per class :  [87. 78. 95. 58.]\n",
      "False Negatives per class :  [ 34.  40. 210.  34.]\n",
      "Class happy : Precision : 0.567, Recall : 0.718, F1 : 0.634\n",
      "Class sad : Precision : 0.957, Recall : 0.910, F1 : 0.933\n",
      "Class angry : Precision : 0.611, Recall : 0.728, F1 : 0.664\n",
      "Ignoring the Others class, Macro Precision : 0.7116, Macro Recall : 0.7855, Macro F1 : 0.7467\n",
      "Ignoring the Others class, Micro TP : 2321, FP : 231, FN : 284\n",
      "Accuracy : 0.8846, Micro Precision : 0.9095, Micro Recall : 0.8910, Micro F1 : 0.9001\n",
      "| \u001b[0m 15      \u001b[0m | \u001b[0m 0.9001  \u001b[0m | \u001b[0m 0.9399  \u001b[0m | \u001b[0m 0.3379  \u001b[0m | \u001b[0m 4.069   \u001b[0m | \u001b[0m 1.19    \u001b[0m | \u001b[0m 8.524   \u001b[0m | \u001b[0m 31.16   \u001b[0m | \u001b[0m 0.08829 \u001b[0m | \u001b[0m 38.54   \u001b[0m |\n"
     ]
    },
    {
     "name": "stderr",
     "output_type": "stream",
     "text": [
      "C:\\Users\\Simeon\\Anaconda3\\envs\\First\\lib\\site-packages\\lightgbm\\engine.py:113: UserWarning: Found `num_iterations` in params. Will use it instead of argument\n",
      "  warnings.warn(\"Found `{}` in params. Will use it instead of argument\".format(alias))\n"
     ]
    },
    {
     "name": "stdout",
     "output_type": "stream",
     "text": [
      "True Positives per class :  [ 113.   99. 2112.   92.]\n",
      "False Positives per class :  [95. 81. 94. 69.]\n",
      "False Negatives per class :  [ 37.  43. 226.  33.]\n",
      "Class happy : Precision : 0.550, Recall : 0.697, F1 : 0.615\n",
      "Class sad : Precision : 0.957, Recall : 0.903, F1 : 0.930\n",
      "Class angry : Precision : 0.571, Recall : 0.736, F1 : 0.643\n",
      "Ignoring the Others class, Macro Precision : 0.6929, Macro Recall : 0.7788, Macro F1 : 0.7334\n",
      "Ignoring the Others class, Micro TP : 2303, FP : 244, FN : 302\n",
      "Accuracy : 0.8770, Micro Precision : 0.9042, Micro Recall : 0.8841, Micro F1 : 0.8940\n",
      "| \u001b[0m 16      \u001b[0m | \u001b[0m 0.894   \u001b[0m | \u001b[0m 0.9451  \u001b[0m | \u001b[0m 0.5011  \u001b[0m | \u001b[0m 4.78    \u001b[0m | \u001b[0m 1.932   \u001b[0m | \u001b[0m 6.695   \u001b[0m | \u001b[0m 32.29   \u001b[0m | \u001b[0m 0.0029  \u001b[0m | \u001b[0m 30.33   \u001b[0m |\n"
     ]
    },
    {
     "name": "stderr",
     "output_type": "stream",
     "text": [
      "C:\\Users\\Simeon\\Anaconda3\\envs\\First\\lib\\site-packages\\lightgbm\\engine.py:113: UserWarning: Found `num_iterations` in params. Will use it instead of argument\n",
      "  warnings.warn(\"Found `{}` in params. Will use it instead of argument\".format(alias))\n"
     ]
    },
    {
     "name": "stdout",
     "output_type": "stream",
     "text": [
      "True Positives per class :  [ 118.  101. 2141.   93.]\n",
      "False Positives per class :  [88. 75. 90. 49.]\n",
      "False Negatives per class :  [ 32.  41. 197.  32.]\n",
      "Class happy : Precision : 0.574, Recall : 0.711, F1 : 0.635\n",
      "Class sad : Precision : 0.960, Recall : 0.916, F1 : 0.937\n",
      "Class angry : Precision : 0.655, Recall : 0.744, F1 : 0.697\n",
      "Ignoring the Others class, Macro Precision : 0.7295, Macro Recall : 0.7903, Macro F1 : 0.7587\n",
      "Ignoring the Others class, Micro TP : 2335, FP : 214, FN : 270\n",
      "Accuracy : 0.8904, Micro Precision : 0.9160, Micro Recall : 0.8964, Micro F1 : 0.9061\n",
      "| \u001b[0m 17      \u001b[0m | \u001b[0m 0.9061  \u001b[0m | \u001b[0m 0.932   \u001b[0m | \u001b[0m 0.3321  \u001b[0m | \u001b[0m 3.09    \u001b[0m | \u001b[0m 1.286   \u001b[0m | \u001b[0m 5.542   \u001b[0m | \u001b[0m 18.42   \u001b[0m | \u001b[0m 0.05743 \u001b[0m | \u001b[0m 36.41   \u001b[0m |\n"
     ]
    },
    {
     "name": "stderr",
     "output_type": "stream",
     "text": [
      "C:\\Users\\Simeon\\Anaconda3\\envs\\First\\lib\\site-packages\\lightgbm\\engine.py:113: UserWarning: Found `num_iterations` in params. Will use it instead of argument\n",
      "  warnings.warn(\"Found `{}` in params. Will use it instead of argument\".format(alias))\n"
     ]
    },
    {
     "name": "stdout",
     "output_type": "stream",
     "text": [
      "True Positives per class :  [ 116.  102. 2126.   93.]\n",
      "False Positives per class :  [98. 80. 90. 50.]\n",
      "False Negatives per class :  [ 34.  40. 212.  32.]\n",
      "Class happy : Precision : 0.560, Recall : 0.718, F1 : 0.630\n",
      "Class sad : Precision : 0.959, Recall : 0.909, F1 : 0.934\n",
      "Class angry : Precision : 0.650, Recall : 0.744, F1 : 0.694\n",
      "Ignoring the Others class, Macro Precision : 0.7234, Macro Recall : 0.7905, Macro F1 : 0.7555\n",
      "Ignoring the Others class, Micro TP : 2321, FP : 220, FN : 284\n",
      "Accuracy : 0.8846, Micro Precision : 0.9134, Micro Recall : 0.8910, Micro F1 : 0.9021\n",
      "| \u001b[0m 18      \u001b[0m | \u001b[0m 0.9021  \u001b[0m | \u001b[0m 0.9149  \u001b[0m | \u001b[0m 0.6226  \u001b[0m | \u001b[0m 3.261   \u001b[0m | \u001b[0m 1.294   \u001b[0m | \u001b[0m 8.586   \u001b[0m | \u001b[0m 21.54   \u001b[0m | \u001b[0m 0.04415 \u001b[0m | \u001b[0m 42.73   \u001b[0m |\n"
     ]
    },
    {
     "name": "stderr",
     "output_type": "stream",
     "text": [
      "C:\\Users\\Simeon\\Anaconda3\\envs\\First\\lib\\site-packages\\lightgbm\\engine.py:113: UserWarning: Found `num_iterations` in params. Will use it instead of argument\n",
      "  warnings.warn(\"Found `{}` in params. Will use it instead of argument\".format(alias))\n"
     ]
    },
    {
     "name": "stdout",
     "output_type": "stream",
     "text": [
      "True Positives per class :  [ 109.  100. 2091.   87.]\n",
      "False Positives per class :  [104.  87. 101.  76.]\n",
      "False Negatives per class :  [ 41.  42. 247.  38.]\n",
      "Class happy : Precision : 0.535, Recall : 0.704, F1 : 0.608\n",
      "Class sad : Precision : 0.954, Recall : 0.894, F1 : 0.923\n",
      "Class angry : Precision : 0.534, Recall : 0.696, F1 : 0.604\n",
      "Ignoring the Others class, Macro Precision : 0.6741, Macro Recall : 0.7649, Macro F1 : 0.7166\n",
      "Ignoring the Others class, Micro TP : 2278, FP : 264, FN : 327\n",
      "Accuracy : 0.8664, Micro Precision : 0.8961, Micro Recall : 0.8745, Micro F1 : 0.8852\n",
      "| \u001b[0m 19      \u001b[0m | \u001b[0m 0.8852  \u001b[0m | \u001b[0m 0.9612  \u001b[0m | \u001b[0m 0.6631  \u001b[0m | \u001b[0m 0.5011  \u001b[0m | \u001b[0m 2.758   \u001b[0m | \u001b[0m 7.857   \u001b[0m | \u001b[0m 49.95   \u001b[0m | \u001b[0m 0.0158  \u001b[0m | \u001b[0m 42.23   \u001b[0m |\n"
     ]
    },
    {
     "name": "stderr",
     "output_type": "stream",
     "text": [
      "C:\\Users\\Simeon\\Anaconda3\\envs\\First\\lib\\site-packages\\lightgbm\\engine.py:113: UserWarning: Found `num_iterations` in params. Will use it instead of argument\n",
      "  warnings.warn(\"Found `{}` in params. Will use it instead of argument\".format(alias))\n"
     ]
    },
    {
     "name": "stdout",
     "output_type": "stream",
     "text": [
      "True Positives per class :  [ 117.  103. 2116.   94.]\n",
      "False Positives per class :  [97. 80. 86. 62.]\n",
      "False Negatives per class :  [ 33.  39. 222.  31.]\n",
      "Class happy : Precision : 0.563, Recall : 0.725, F1 : 0.634\n",
      "Class sad : Precision : 0.961, Recall : 0.905, F1 : 0.932\n",
      "Class angry : Precision : 0.603, Recall : 0.752, F1 : 0.669\n",
      "Ignoring the Others class, Macro Precision : 0.7088, Macro Recall : 0.7941, Macro F1 : 0.7490\n",
      "Ignoring the Others class, Micro TP : 2313, FP : 228, FN : 292\n",
      "Accuracy : 0.8820, Micro Precision : 0.9103, Micro Recall : 0.8879, Micro F1 : 0.8990\n",
      "| \u001b[0m 20      \u001b[0m | \u001b[0m 0.899   \u001b[0m | \u001b[0m 0.8325  \u001b[0m | \u001b[0m 0.5924  \u001b[0m | \u001b[0m 0.6191  \u001b[0m | \u001b[0m 2.544   \u001b[0m | \u001b[0m 8.229   \u001b[0m | \u001b[0m 30.61   \u001b[0m | \u001b[0m 0.04131 \u001b[0m | \u001b[0m 25.45   \u001b[0m |\n"
     ]
    },
    {
     "name": "stderr",
     "output_type": "stream",
     "text": [
      "C:\\Users\\Simeon\\Anaconda3\\envs\\First\\lib\\site-packages\\lightgbm\\engine.py:113: UserWarning: Found `num_iterations` in params. Will use it instead of argument\n",
      "  warnings.warn(\"Found `{}` in params. Will use it instead of argument\".format(alias))\n"
     ]
    },
    {
     "name": "stdout",
     "output_type": "stream",
     "text": [
      "True Positives per class :  [ 118.  100. 2141.   90.]\n",
      "False Positives per class :  [90. 73. 89. 54.]\n",
      "False Negatives per class :  [ 32.  42. 197.  35.]\n",
      "Class happy : Precision : 0.578, Recall : 0.704, F1 : 0.635\n",
      "Class sad : Precision : 0.960, Recall : 0.916, F1 : 0.937\n",
      "Class angry : Precision : 0.625, Recall : 0.720, F1 : 0.669\n",
      "Ignoring the Others class, Macro Precision : 0.7210, Macro Recall : 0.7800, Macro F1 : 0.7494\n",
      "Ignoring the Others class, Micro TP : 2331, FP : 216, FN : 274\n",
      "Accuracy : 0.8889, Micro Precision : 0.9152, Micro Recall : 0.8948, Micro F1 : 0.9049\n",
      "| \u001b[0m 21      \u001b[0m | \u001b[0m 0.9049  \u001b[0m | \u001b[0m 0.8883  \u001b[0m | \u001b[0m 0.3472  \u001b[0m | \u001b[0m 4.986   \u001b[0m | \u001b[0m 0.03108 \u001b[0m | \u001b[0m 5.537   \u001b[0m | \u001b[0m 6.018   \u001b[0m | \u001b[0m 0.00142 \u001b[0m | \u001b[0m 44.54   \u001b[0m |\n"
     ]
    },
    {
     "name": "stderr",
     "output_type": "stream",
     "text": [
      "C:\\Users\\Simeon\\Anaconda3\\envs\\First\\lib\\site-packages\\lightgbm\\engine.py:113: UserWarning: Found `num_iterations` in params. Will use it instead of argument\n",
      "  warnings.warn(\"Found `{}` in params. Will use it instead of argument\".format(alias))\n"
     ]
    },
    {
     "name": "stdout",
     "output_type": "stream",
     "text": [
      "True Positives per class :  [ 117.  102. 2142.   93.]\n",
      "False Positives per class :  [89. 74. 90. 48.]\n",
      "False Negatives per class :  [ 33.  40. 196.  32.]\n",
      "Class happy : Precision : 0.580, Recall : 0.718, F1 : 0.642\n",
      "Class sad : Precision : 0.960, Recall : 0.916, F1 : 0.937\n",
      "Class angry : Precision : 0.660, Recall : 0.744, F1 : 0.699\n",
      "Ignoring the Others class, Macro Precision : 0.7329, Macro Recall : 0.7928, Macro F1 : 0.7617\n",
      "Ignoring the Others class, Micro TP : 2337, FP : 212, FN : 268\n",
      "Accuracy : 0.8907, Micro Precision : 0.9168, Micro Recall : 0.8971, Micro F1 : 0.9069\n",
      "| \u001b[0m 22      \u001b[0m | \u001b[0m 0.9069  \u001b[0m | \u001b[0m 0.8481  \u001b[0m | \u001b[0m 0.1337  \u001b[0m | \u001b[0m 4.689   \u001b[0m | \u001b[0m 0.01048 \u001b[0m | \u001b[0m 5.889   \u001b[0m | \u001b[0m 5.749   \u001b[0m | \u001b[0m 0.03046 \u001b[0m | \u001b[0m 24.34   \u001b[0m |\n"
     ]
    },
    {
     "name": "stderr",
     "output_type": "stream",
     "text": [
      "C:\\Users\\Simeon\\Anaconda3\\envs\\First\\lib\\site-packages\\lightgbm\\engine.py:113: UserWarning: Found `num_iterations` in params. Will use it instead of argument\n",
      "  warnings.warn(\"Found `{}` in params. Will use it instead of argument\".format(alias))\n"
     ]
    },
    {
     "name": "stdout",
     "output_type": "stream",
     "text": [
      "True Positives per class :  [ 115.  104. 2143.   93.]\n",
      "False Positives per class :  [89. 80. 86. 45.]\n",
      "False Negatives per class :  [ 35.  38. 195.  32.]\n",
      "Class happy : Precision : 0.565, Recall : 0.732, F1 : 0.638\n",
      "Class sad : Precision : 0.961, Recall : 0.917, F1 : 0.938\n",
      "Class angry : Precision : 0.674, Recall : 0.744, F1 : 0.707\n",
      "Ignoring the Others class, Macro Precision : 0.7335, Macro Recall : 0.7977, Macro F1 : 0.7642\n",
      "Ignoring the Others class, Micro TP : 2340, FP : 211, FN : 265\n",
      "Accuracy : 0.8911, Micro Precision : 0.9173, Micro Recall : 0.8983, Micro F1 : 0.9077\n",
      "| \u001b[0m 23      \u001b[0m | \u001b[0m 0.9077  \u001b[0m | \u001b[0m 0.8205  \u001b[0m | \u001b[0m 0.8688  \u001b[0m | \u001b[0m 0.09656 \u001b[0m | \u001b[0m 0.002578\u001b[0m | \u001b[0m 8.808   \u001b[0m | \u001b[0m 6.857   \u001b[0m | \u001b[0m 0.03149 \u001b[0m | \u001b[0m 24.75   \u001b[0m |\n"
     ]
    },
    {
     "name": "stderr",
     "output_type": "stream",
     "text": [
      "C:\\Users\\Simeon\\Anaconda3\\envs\\First\\lib\\site-packages\\lightgbm\\engine.py:113: UserWarning: Found `num_iterations` in params. Will use it instead of argument\n",
      "  warnings.warn(\"Found `{}` in params. Will use it instead of argument\".format(alias))\n"
     ]
    },
    {
     "name": "stdout",
     "output_type": "stream",
     "text": [
      "True Positives per class :  [ 119.  100. 2138.   91.]\n",
      "False Positives per class :  [88. 79. 87. 53.]\n",
      "False Negatives per class :  [ 31.  42. 200.  34.]\n",
      "Class happy : Precision : 0.559, Recall : 0.704, F1 : 0.623\n",
      "Class sad : Precision : 0.961, Recall : 0.914, F1 : 0.937\n",
      "Class angry : Precision : 0.632, Recall : 0.728, F1 : 0.677\n",
      "Ignoring the Others class, Macro Precision : 0.7172, Macro Recall : 0.7822, Macro F1 : 0.7483\n",
      "Ignoring the Others class, Micro TP : 2329, FP : 219, FN : 276\n",
      "Accuracy : 0.8886, Micro Precision : 0.9141, Micro Recall : 0.8940, Micro F1 : 0.9039\n",
      "| \u001b[0m 24      \u001b[0m | \u001b[0m 0.9039  \u001b[0m | \u001b[0m 0.905   \u001b[0m | \u001b[0m 0.8727  \u001b[0m | \u001b[0m 0.4848  \u001b[0m | \u001b[0m 0.1609  \u001b[0m | \u001b[0m 5.166   \u001b[0m | \u001b[0m 15.14   \u001b[0m | \u001b[0m 0.08568 \u001b[0m | \u001b[0m 44.6    \u001b[0m |\n"
     ]
    },
    {
     "name": "stderr",
     "output_type": "stream",
     "text": [
      "C:\\Users\\Simeon\\Anaconda3\\envs\\First\\lib\\site-packages\\lightgbm\\engine.py:113: UserWarning: Found `num_iterations` in params. Will use it instead of argument\n",
      "  warnings.warn(\"Found `{}` in params. Will use it instead of argument\".format(alias))\n"
     ]
    },
    {
     "name": "stdout",
     "output_type": "stream",
     "text": [
      "True Positives per class :  [ 114.  104. 2134.   92.]\n",
      "False Positives per class :  [86. 77. 92. 56.]\n",
      "False Negatives per class :  [ 36.  38. 204.  33.]\n",
      "Class happy : Precision : 0.575, Recall : 0.732, F1 : 0.644\n",
      "Class sad : Precision : 0.959, Recall : 0.913, F1 : 0.935\n",
      "Class angry : Precision : 0.622, Recall : 0.736, F1 : 0.674\n",
      "Ignoring the Others class, Macro Precision : 0.7183, Macro Recall : 0.7937, Macro F1 : 0.7541\n",
      "Ignoring the Others class, Micro TP : 2330, FP : 225, FN : 275\n",
      "Accuracy : 0.8871, Micro Precision : 0.9119, Micro Recall : 0.8944, Micro F1 : 0.9031\n",
      "| \u001b[0m 25      \u001b[0m | \u001b[0m 0.9031  \u001b[0m | \u001b[0m 0.8089  \u001b[0m | \u001b[0m 0.2132  \u001b[0m | \u001b[0m 4.958   \u001b[0m | \u001b[0m 0.06702 \u001b[0m | \u001b[0m 5.104   \u001b[0m | \u001b[0m 21.72   \u001b[0m | \u001b[0m 0.07445 \u001b[0m | \u001b[0m 44.65   \u001b[0m |\n"
     ]
    },
    {
     "name": "stderr",
     "output_type": "stream",
     "text": [
      "C:\\Users\\Simeon\\Anaconda3\\envs\\First\\lib\\site-packages\\lightgbm\\engine.py:113: UserWarning: Found `num_iterations` in params. Will use it instead of argument\n",
      "  warnings.warn(\"Found `{}` in params. Will use it instead of argument\".format(alias))\n"
     ]
    },
    {
     "name": "stdout",
     "output_type": "stream",
     "text": [
      "True Positives per class :  [ 114.  104. 2147.   96.]\n",
      "False Positives per class :  [88. 76. 84. 46.]\n",
      "False Negatives per class :  [ 36.  38. 191.  29.]\n",
      "Class happy : Precision : 0.578, Recall : 0.732, F1 : 0.646\n",
      "Class sad : Precision : 0.962, Recall : 0.918, F1 : 0.940\n",
      "Class angry : Precision : 0.676, Recall : 0.768, F1 : 0.719\n",
      "Ignoring the Others class, Macro Precision : 0.7387, Macro Recall : 0.8062, Macro F1 : 0.7710\n",
      "Ignoring the Others class, Micro TP : 2347, FP : 206, FN : 258\n",
      "Accuracy : 0.8933, Micro Precision : 0.9193, Micro Recall : 0.9010, Micro F1 : 0.9100\n",
      "| \u001b[0m 26      \u001b[0m | \u001b[0m 0.91    \u001b[0m | \u001b[0m 0.9139  \u001b[0m | \u001b[0m 0.1303  \u001b[0m | \u001b[0m 0.425   \u001b[0m | \u001b[0m 0.008149\u001b[0m | \u001b[0m 5.983   \u001b[0m | \u001b[0m 6.008   \u001b[0m | \u001b[0m 0.01976 \u001b[0m | \u001b[0m 31.35   \u001b[0m |\n"
     ]
    },
    {
     "name": "stderr",
     "output_type": "stream",
     "text": [
      "C:\\Users\\Simeon\\Anaconda3\\envs\\First\\lib\\site-packages\\lightgbm\\engine.py:113: UserWarning: Found `num_iterations` in params. Will use it instead of argument\n",
      "  warnings.warn(\"Found `{}` in params. Will use it instead of argument\".format(alias))\n"
     ]
    },
    {
     "name": "stdout",
     "output_type": "stream",
     "text": [
      "True Positives per class :  [ 120.  104. 2144.   95.]\n",
      "False Positives per class :  [89. 79. 82. 42.]\n",
      "False Negatives per class :  [ 30.  38. 194.  30.]\n",
      "Class happy : Precision : 0.568, Recall : 0.732, F1 : 0.640\n",
      "Class sad : Precision : 0.963, Recall : 0.917, F1 : 0.940\n",
      "Class angry : Precision : 0.693, Recall : 0.760, F1 : 0.725\n",
      "Ignoring the Others class, Macro Precision : 0.7416, Macro Recall : 0.8031, Macro F1 : 0.7712\n",
      "Ignoring the Others class, Micro TP : 2343, FP : 203, FN : 262\n",
      "Accuracy : 0.8940, Micro Precision : 0.9203, Micro Recall : 0.8994, Micro F1 : 0.9097\n",
      "| \u001b[0m 27      \u001b[0m | \u001b[0m 0.9097  \u001b[0m | \u001b[0m 0.9875  \u001b[0m | \u001b[0m 0.2138  \u001b[0m | \u001b[0m 0.1525  \u001b[0m | \u001b[0m 2.888   \u001b[0m | \u001b[0m 6.077   \u001b[0m | \u001b[0m 5.613   \u001b[0m | \u001b[0m 0.03652 \u001b[0m | \u001b[0m 28.27   \u001b[0m |\n"
     ]
    },
    {
     "name": "stderr",
     "output_type": "stream",
     "text": [
      "C:\\Users\\Simeon\\Anaconda3\\envs\\First\\lib\\site-packages\\lightgbm\\engine.py:113: UserWarning: Found `num_iterations` in params. Will use it instead of argument\n",
      "  warnings.warn(\"Found `{}` in params. Will use it instead of argument\".format(alias))\n"
     ]
    },
    {
     "name": "stdout",
     "output_type": "stream",
     "text": [
      "True Positives per class :  [ 121.  105. 2145.   95.]\n",
      "False Positives per class :  [86. 77. 83. 43.]\n",
      "False Negatives per class :  [ 29.  37. 193.  30.]\n",
      "Class happy : Precision : 0.577, Recall : 0.739, F1 : 0.648\n",
      "Class sad : Precision : 0.963, Recall : 0.917, F1 : 0.940\n",
      "Class angry : Precision : 0.688, Recall : 0.760, F1 : 0.722\n",
      "Ignoring the Others class, Macro Precision : 0.7427, Macro Recall : 0.8056, Macro F1 : 0.7729\n",
      "Ignoring the Others class, Micro TP : 2345, FP : 203, FN : 260\n",
      "Accuracy : 0.8951, Micro Precision : 0.9203, Micro Recall : 0.9002, Micro F1 : 0.9101\n",
      "| \u001b[0m 28      \u001b[0m | \u001b[0m 0.9101  \u001b[0m | \u001b[0m 0.9939  \u001b[0m | \u001b[0m 0.1268  \u001b[0m | \u001b[0m 0.2893  \u001b[0m | \u001b[0m 0.3473  \u001b[0m | \u001b[0m 8.364   \u001b[0m | \u001b[0m 5.575   \u001b[0m | \u001b[0m 0.08795 \u001b[0m | \u001b[0m 28.97   \u001b[0m |\n"
     ]
    },
    {
     "name": "stderr",
     "output_type": "stream",
     "text": [
      "C:\\Users\\Simeon\\Anaconda3\\envs\\First\\lib\\site-packages\\lightgbm\\engine.py:113: UserWarning: Found `num_iterations` in params. Will use it instead of argument\n",
      "  warnings.warn(\"Found `{}` in params. Will use it instead of argument\".format(alias))\n"
     ]
    },
    {
     "name": "stdout",
     "output_type": "stream",
     "text": [
      "True Positives per class :  [ 114.  103. 2148.   95.]\n",
      "False Positives per class :  [85. 78. 89. 43.]\n",
      "False Negatives per class :  [ 36.  39. 190.  30.]\n",
      "Class happy : Precision : 0.569, Recall : 0.725, F1 : 0.638\n",
      "Class sad : Precision : 0.960, Recall : 0.919, F1 : 0.939\n",
      "Class angry : Precision : 0.688, Recall : 0.760, F1 : 0.722\n",
      "Ignoring the Others class, Macro Precision : 0.7392, Macro Recall : 0.8014, Macro F1 : 0.7690\n",
      "Ignoring the Others class, Micro TP : 2346, FP : 210, FN : 259\n",
      "Accuracy : 0.8929, Micro Precision : 0.9178, Micro Recall : 0.9006, Micro F1 : 0.9091\n",
      "| \u001b[0m 29      \u001b[0m | \u001b[0m 0.9091  \u001b[0m | \u001b[0m 0.9277  \u001b[0m | \u001b[0m 0.2878  \u001b[0m | \u001b[0m 0.01852 \u001b[0m | \u001b[0m 2.04    \u001b[0m | \u001b[0m 8.743   \u001b[0m | \u001b[0m 5.34    \u001b[0m | \u001b[0m 0.008291\u001b[0m | \u001b[0m 44.6    \u001b[0m |\n"
     ]
    },
    {
     "name": "stderr",
     "output_type": "stream",
     "text": [
      "C:\\Users\\Simeon\\Anaconda3\\envs\\First\\lib\\site-packages\\lightgbm\\engine.py:113: UserWarning: Found `num_iterations` in params. Will use it instead of argument\n",
      "  warnings.warn(\"Found `{}` in params. Will use it instead of argument\".format(alias))\n"
     ]
    },
    {
     "name": "stdout",
     "output_type": "stream",
     "text": [
      "True Positives per class :  [ 118.  107. 2142.   96.]\n",
      "False Positives per class :  [90. 78. 80. 44.]\n",
      "False Negatives per class :  [ 32.  35. 196.  29.]\n",
      "Class happy : Precision : 0.578, Recall : 0.754, F1 : 0.654\n",
      "Class sad : Precision : 0.964, Recall : 0.916, F1 : 0.939\n",
      "Class angry : Precision : 0.686, Recall : 0.768, F1 : 0.725\n",
      "Ignoring the Others class, Macro Precision : 0.7427, Macro Recall : 0.8126, Macro F1 : 0.7761\n",
      "Ignoring the Others class, Micro TP : 2345, FP : 202, FN : 260\n",
      "Accuracy : 0.8940, Micro Precision : 0.9207, Micro Recall : 0.9002, Micro F1 : 0.9103\n",
      "| \u001b[95m 30      \u001b[0m | \u001b[95m 0.9103  \u001b[0m | \u001b[95m 0.9462  \u001b[0m | \u001b[95m 0.1074  \u001b[0m | \u001b[95m 0.07133 \u001b[0m | \u001b[95m 0.01078 \u001b[0m | \u001b[95m 5.022   \u001b[0m | \u001b[95m 6.271   \u001b[0m | \u001b[95m 0.02935 \u001b[0m | \u001b[95m 24.33   \u001b[0m |\n"
     ]
    },
    {
     "name": "stderr",
     "output_type": "stream",
     "text": [
      "C:\\Users\\Simeon\\Anaconda3\\envs\\First\\lib\\site-packages\\lightgbm\\engine.py:113: UserWarning: Found `num_iterations` in params. Will use it instead of argument\n",
      "  warnings.warn(\"Found `{}` in params. Will use it instead of argument\".format(alias))\n"
     ]
    },
    {
     "name": "stdout",
     "output_type": "stream",
     "text": [
      "True Positives per class :  [ 121.  106. 2141.   94.]\n",
      "False Positives per class :  [93. 76. 80. 44.]\n",
      "False Negatives per class :  [ 29.  36. 197.  31.]\n",
      "Class happy : Precision : 0.582, Recall : 0.746, F1 : 0.654\n",
      "Class sad : Precision : 0.964, Recall : 0.916, F1 : 0.939\n",
      "Class angry : Precision : 0.681, Recall : 0.752, F1 : 0.715\n",
      "Ignoring the Others class, Macro Precision : 0.7425, Macro Recall : 0.8047, Macro F1 : 0.7724\n",
      "Ignoring the Others class, Micro TP : 2341, FP : 200, FN : 264\n",
      "Accuracy : 0.8936, Micro Precision : 0.9213, Micro Recall : 0.8987, Micro F1 : 0.9098\n",
      "| \u001b[0m 31      \u001b[0m | \u001b[0m 0.9098  \u001b[0m | \u001b[0m 0.9979  \u001b[0m | \u001b[0m 0.1687  \u001b[0m | \u001b[0m 0.1621  \u001b[0m | \u001b[0m 2.992   \u001b[0m | \u001b[0m 7.163   \u001b[0m | \u001b[0m 5.689   \u001b[0m | \u001b[0m 0.06489 \u001b[0m | \u001b[0m 24.86   \u001b[0m |\n"
     ]
    },
    {
     "name": "stderr",
     "output_type": "stream",
     "text": [
      "C:\\Users\\Simeon\\Anaconda3\\envs\\First\\lib\\site-packages\\lightgbm\\engine.py:113: UserWarning: Found `num_iterations` in params. Will use it instead of argument\n",
      "  warnings.warn(\"Found `{}` in params. Will use it instead of argument\".format(alias))\n"
     ]
    },
    {
     "name": "stdout",
     "output_type": "stream",
     "text": [
      "True Positives per class :  [ 119.  105. 2156.   95.]\n",
      "False Positives per class :  [82. 72. 82. 44.]\n",
      "False Negatives per class :  [ 31.  37. 182.  30.]\n",
      "Class happy : Precision : 0.593, Recall : 0.739, F1 : 0.658\n",
      "Class sad : Precision : 0.963, Recall : 0.922, F1 : 0.942\n",
      "Class angry : Precision : 0.683, Recall : 0.760, F1 : 0.720\n",
      "Ignoring the Others class, Macro Precision : 0.7467, Macro Recall : 0.8072, Macro F1 : 0.7758\n",
      "Ignoring the Others class, Micro TP : 2356, FP : 198, FN : 249\n",
      "Accuracy : 0.8984, Micro Precision : 0.9225, Micro Recall : 0.9044, Micro F1 : 0.9134\n",
      "| \u001b[95m 32      \u001b[0m | \u001b[95m 0.9134  \u001b[0m | \u001b[95m 0.982   \u001b[0m | \u001b[95m 0.1678  \u001b[0m | \u001b[95m 0.5071  \u001b[0m | \u001b[95m 1.201   \u001b[0m | \u001b[95m 8.953   \u001b[0m | \u001b[95m 5.043   \u001b[0m | \u001b[95m 0.07363 \u001b[0m | \u001b[95m 34.2    \u001b[0m |\n"
     ]
    },
    {
     "name": "stderr",
     "output_type": "stream",
     "text": [
      "C:\\Users\\Simeon\\Anaconda3\\envs\\First\\lib\\site-packages\\lightgbm\\engine.py:113: UserWarning: Found `num_iterations` in params. Will use it instead of argument\n",
      "  warnings.warn(\"Found `{}` in params. Will use it instead of argument\".format(alias))\n"
     ]
    },
    {
     "name": "stdout",
     "output_type": "stream",
     "text": [
      "True Positives per class :  [ 117.  104. 2146.   93.]\n",
      "False Positives per class :  [90. 74. 87. 44.]\n",
      "False Negatives per class :  [ 33.  38. 192.  32.]\n",
      "Class happy : Precision : 0.584, Recall : 0.732, F1 : 0.650\n",
      "Class sad : Precision : 0.961, Recall : 0.918, F1 : 0.939\n",
      "Class angry : Precision : 0.679, Recall : 0.744, F1 : 0.710\n",
      "Ignoring the Others class, Macro Precision : 0.7414, Macro Recall : 0.7981, Macro F1 : 0.7687\n",
      "Ignoring the Others class, Micro TP : 2343, FP : 205, FN : 262\n",
      "Accuracy : 0.8929, Micro Precision : 0.9195, Micro Recall : 0.8994, Micro F1 : 0.9094\n",
      "| \u001b[0m 33      \u001b[0m | \u001b[0m 0.9094  \u001b[0m | \u001b[0m 0.8953  \u001b[0m | \u001b[0m 0.1684  \u001b[0m | \u001b[0m 0.04383 \u001b[0m | \u001b[0m 2.543   \u001b[0m | \u001b[0m 8.785   \u001b[0m | \u001b[0m 5.29    \u001b[0m | \u001b[0m 0.02818 \u001b[0m | \u001b[0m 36.53   \u001b[0m |\n"
     ]
    },
    {
     "name": "stderr",
     "output_type": "stream",
     "text": [
      "C:\\Users\\Simeon\\Anaconda3\\envs\\First\\lib\\site-packages\\lightgbm\\engine.py:113: UserWarning: Found `num_iterations` in params. Will use it instead of argument\n",
      "  warnings.warn(\"Found `{}` in params. Will use it instead of argument\".format(alias))\n"
     ]
    },
    {
     "name": "stdout",
     "output_type": "stream",
     "text": [
      "True Positives per class :  [ 119.  106. 2151.   93.]\n",
      "False Positives per class :  [85. 76. 81. 44.]\n",
      "False Negatives per class :  [ 31.  36. 187.  32.]\n",
      "Class happy : Precision : 0.582, Recall : 0.746, F1 : 0.654\n",
      "Class sad : Precision : 0.964, Recall : 0.920, F1 : 0.941\n",
      "Class angry : Precision : 0.679, Recall : 0.744, F1 : 0.710\n",
      "Ignoring the Others class, Macro Precision : 0.7417, Macro Recall : 0.8035, Macro F1 : 0.7713\n",
      "Ignoring the Others class, Micro TP : 2350, FP : 201, FN : 255\n",
      "Accuracy : 0.8962, Micro Precision : 0.9212, Micro Recall : 0.9021, Micro F1 : 0.9116\n",
      "| \u001b[0m 34      \u001b[0m | \u001b[0m 0.9116  \u001b[0m | \u001b[0m 0.947   \u001b[0m | \u001b[0m 0.1757  \u001b[0m | \u001b[0m 0.001301\u001b[0m | \u001b[0m 0.5739  \u001b[0m | \u001b[0m 8.671   \u001b[0m | \u001b[0m 5.006   \u001b[0m | \u001b[0m 0.07406 \u001b[0m | \u001b[0m 33.62   \u001b[0m |\n"
     ]
    },
    {
     "name": "stderr",
     "output_type": "stream",
     "text": [
      "C:\\Users\\Simeon\\Anaconda3\\envs\\First\\lib\\site-packages\\lightgbm\\engine.py:113: UserWarning: Found `num_iterations` in params. Will use it instead of argument\n",
      "  warnings.warn(\"Found `{}` in params. Will use it instead of argument\".format(alias))\n"
     ]
    },
    {
     "name": "stdout",
     "output_type": "stream",
     "text": [
      "True Positives per class :  [ 117.  102. 2151.   93.]\n",
      "False Positives per class :  [85. 77. 84. 46.]\n",
      "False Negatives per class :  [ 33.  40. 187.  32.]\n",
      "Class happy : Precision : 0.570, Recall : 0.718, F1 : 0.636\n",
      "Class sad : Precision : 0.962, Recall : 0.920, F1 : 0.941\n",
      "Class angry : Precision : 0.669, Recall : 0.744, F1 : 0.705\n",
      "Ignoring the Others class, Macro Precision : 0.7338, Macro Recall : 0.7941, Macro F1 : 0.7627\n",
      "Ignoring the Others class, Micro TP : 2346, FP : 207, FN : 259\n",
      "Accuracy : 0.8940, Micro Precision : 0.9189, Micro Recall : 0.9006, Micro F1 : 0.9097\n",
      "| \u001b[0m 35      \u001b[0m | \u001b[0m 0.9097  \u001b[0m | \u001b[0m 0.9584  \u001b[0m | \u001b[0m 0.1534  \u001b[0m | \u001b[0m 0.2778  \u001b[0m | \u001b[0m 0.002699\u001b[0m | \u001b[0m 8.783   \u001b[0m | \u001b[0m 5.183   \u001b[0m | \u001b[0m 0.0551  \u001b[0m | \u001b[0m 25.76   \u001b[0m |\n"
     ]
    },
    {
     "name": "stderr",
     "output_type": "stream",
     "text": [
      "C:\\Users\\Simeon\\Anaconda3\\envs\\First\\lib\\site-packages\\lightgbm\\engine.py:113: UserWarning: Found `num_iterations` in params. Will use it instead of argument\n",
      "  warnings.warn(\"Found `{}` in params. Will use it instead of argument\".format(alias))\n"
     ]
    },
    {
     "name": "stdout",
     "output_type": "stream",
     "text": [
      "True Positives per class :  [ 115.  106. 2146.   93.]\n",
      "False Positives per class :  [87. 78. 86. 44.]\n",
      "False Negatives per class :  [ 35.  36. 192.  32.]\n",
      "Class happy : Precision : 0.576, Recall : 0.746, F1 : 0.650\n",
      "Class sad : Precision : 0.961, Recall : 0.918, F1 : 0.939\n",
      "Class angry : Precision : 0.679, Recall : 0.744, F1 : 0.710\n",
      "Ignoring the Others class, Macro Precision : 0.7388, Macro Recall : 0.8028, Macro F1 : 0.7695\n",
      "Ignoring the Others class, Micro TP : 2345, FP : 208, FN : 260\n",
      "Accuracy : 0.8929, Micro Precision : 0.9185, Micro Recall : 0.9002, Micro F1 : 0.9093\n",
      "| \u001b[0m 36      \u001b[0m | \u001b[0m 0.9093  \u001b[0m | \u001b[0m 0.9795  \u001b[0m | \u001b[0m 0.1753  \u001b[0m | \u001b[0m 0.1012  \u001b[0m | \u001b[0m 0.1397  \u001b[0m | \u001b[0m 7.373   \u001b[0m | \u001b[0m 5.397   \u001b[0m | \u001b[0m 0.0717  \u001b[0m | \u001b[0m 31.94   \u001b[0m |\n"
     ]
    },
    {
     "name": "stderr",
     "output_type": "stream",
     "text": [
      "C:\\Users\\Simeon\\Anaconda3\\envs\\First\\lib\\site-packages\\lightgbm\\engine.py:113: UserWarning: Found `num_iterations` in params. Will use it instead of argument\n",
      "  warnings.warn(\"Found `{}` in params. Will use it instead of argument\".format(alias))\n"
     ]
    },
    {
     "name": "stdout",
     "output_type": "stream",
     "text": [
      "True Positives per class :  [ 121.  103. 2144.   93.]\n",
      "False Positives per class :  [92. 75. 82. 45.]\n",
      "False Negatives per class :  [ 29.  39. 194.  32.]\n",
      "Class happy : Precision : 0.579, Recall : 0.725, F1 : 0.644\n",
      "Class sad : Precision : 0.963, Recall : 0.917, F1 : 0.940\n",
      "Class angry : Precision : 0.674, Recall : 0.744, F1 : 0.707\n",
      "Ignoring the Others class, Macro Precision : 0.7386, Macro Recall : 0.7955, Macro F1 : 0.7660\n",
      "Ignoring the Others class, Micro TP : 2340, FP : 202, FN : 265\n",
      "Accuracy : 0.8933, Micro Precision : 0.9205, Micro Recall : 0.8983, Micro F1 : 0.9093\n",
      "| \u001b[0m 37      \u001b[0m | \u001b[0m 0.9093  \u001b[0m | \u001b[0m 0.9872  \u001b[0m | \u001b[0m 0.1195  \u001b[0m | \u001b[0m 0.1621  \u001b[0m | \u001b[0m 2.878   \u001b[0m | \u001b[0m 8.807   \u001b[0m | \u001b[0m 5.679   \u001b[0m | \u001b[0m 0.07435 \u001b[0m | \u001b[0m 28.18   \u001b[0m |\n"
     ]
    },
    {
     "name": "stderr",
     "output_type": "stream",
     "text": [
      "C:\\Users\\Simeon\\Anaconda3\\envs\\First\\lib\\site-packages\\lightgbm\\engine.py:113: UserWarning: Found `num_iterations` in params. Will use it instead of argument\n",
      "  warnings.warn(\"Found `{}` in params. Will use it instead of argument\".format(alias))\n"
     ]
    },
    {
     "name": "stdout",
     "output_type": "stream",
     "text": [
      "True Positives per class :  [ 119.  104. 2155.   94.]\n",
      "False Positives per class :  [84. 72. 84. 43.]\n",
      "False Negatives per class :  [ 31.  38. 183.  31.]\n",
      "Class happy : Precision : 0.591, Recall : 0.732, F1 : 0.654\n",
      "Class sad : Precision : 0.962, Recall : 0.922, F1 : 0.942\n",
      "Class angry : Precision : 0.686, Recall : 0.752, F1 : 0.718\n",
      "Ignoring the Others class, Macro Precision : 0.7465, Macro Recall : 0.8020, Macro F1 : 0.7733\n",
      "Ignoring the Others class, Micro TP : 2353, FP : 199, FN : 252\n",
      "Accuracy : 0.8973, Micro Precision : 0.9220, Micro Recall : 0.9033, Micro F1 : 0.9125\n",
      "| \u001b[0m 38      \u001b[0m | \u001b[0m 0.9125  \u001b[0m | \u001b[0m 0.8352  \u001b[0m | \u001b[0m 0.1007  \u001b[0m | \u001b[0m 0.422   \u001b[0m | \u001b[0m 0.5022  \u001b[0m | \u001b[0m 8.04    \u001b[0m | \u001b[0m 5.135   \u001b[0m | \u001b[0m 0.09711 \u001b[0m | \u001b[0m 35.15   \u001b[0m |\n"
     ]
    },
    {
     "name": "stderr",
     "output_type": "stream",
     "text": [
      "C:\\Users\\Simeon\\Anaconda3\\envs\\First\\lib\\site-packages\\lightgbm\\engine.py:113: UserWarning: Found `num_iterations` in params. Will use it instead of argument\n",
      "  warnings.warn(\"Found `{}` in params. Will use it instead of argument\".format(alias))\n"
     ]
    },
    {
     "name": "stdout",
     "output_type": "stream",
     "text": [
      "True Positives per class :  [ 119.  102. 2149.   92.]\n",
      "False Positives per class :  [90. 72. 86. 45.]\n",
      "False Negatives per class :  [ 31.  40. 189.  33.]\n",
      "Class happy : Precision : 0.586, Recall : 0.718, F1 : 0.646\n",
      "Class sad : Precision : 0.962, Recall : 0.919, F1 : 0.940\n",
      "Class angry : Precision : 0.672, Recall : 0.736, F1 : 0.702\n",
      "Ignoring the Others class, Macro Precision : 0.7398, Macro Recall : 0.7912, Macro F1 : 0.7646\n",
      "Ignoring the Others class, Micro TP : 2343, FP : 203, FN : 262\n",
      "Accuracy : 0.8936, Micro Precision : 0.9203, Micro Recall : 0.8994, Micro F1 : 0.9097\n",
      "| \u001b[0m 39      \u001b[0m | \u001b[0m 0.9097  \u001b[0m | \u001b[0m 0.9     \u001b[0m | \u001b[0m 0.1376  \u001b[0m | \u001b[0m 0.1454  \u001b[0m | \u001b[0m 0.3778  \u001b[0m | \u001b[0m 8.87    \u001b[0m | \u001b[0m 5.541   \u001b[0m | \u001b[0m 0.06727 \u001b[0m | \u001b[0m 37.61   \u001b[0m |\n"
     ]
    },
    {
     "name": "stderr",
     "output_type": "stream",
     "text": [
      "C:\\Users\\Simeon\\Anaconda3\\envs\\First\\lib\\site-packages\\lightgbm\\engine.py:113: UserWarning: Found `num_iterations` in params. Will use it instead of argument\n",
      "  warnings.warn(\"Found `{}` in params. Will use it instead of argument\".format(alias))\n"
     ]
    },
    {
     "name": "stdout",
     "output_type": "stream",
     "text": [
      "True Positives per class :  [ 119.  107. 2144.   97.]\n",
      "False Positives per class :  [92. 71. 80. 45.]\n",
      "False Negatives per class :  [ 31.  35. 194.  28.]\n",
      "Class happy : Precision : 0.601, Recall : 0.754, F1 : 0.669\n",
      "Class sad : Precision : 0.964, Recall : 0.917, F1 : 0.940\n",
      "Class angry : Precision : 0.683, Recall : 0.776, F1 : 0.727\n",
      "Ignoring the Others class, Macro Precision : 0.7494, Macro Recall : 0.8155, Macro F1 : 0.7811\n",
      "Ignoring the Others class, Micro TP : 2348, FP : 196, FN : 257\n",
      "Accuracy : 0.8955, Micro Precision : 0.9230, Micro Recall : 0.9013, Micro F1 : 0.9120\n",
      "| \u001b[0m 40      \u001b[0m | \u001b[0m 0.912   \u001b[0m | \u001b[0m 0.9089  \u001b[0m | \u001b[0m 0.1054  \u001b[0m | \u001b[0m 0.3718  \u001b[0m | \u001b[0m 1.373   \u001b[0m | \u001b[0m 5.438   \u001b[0m | \u001b[0m 5.005   \u001b[0m | \u001b[0m 0.09    \u001b[0m | \u001b[0m 31.66   \u001b[0m |\n"
     ]
    },
    {
     "name": "stderr",
     "output_type": "stream",
     "text": [
      "C:\\Users\\Simeon\\Anaconda3\\envs\\First\\lib\\site-packages\\lightgbm\\engine.py:113: UserWarning: Found `num_iterations` in params. Will use it instead of argument\n",
      "  warnings.warn(\"Found `{}` in params. Will use it instead of argument\".format(alias))\n"
     ]
    },
    {
     "name": "stdout",
     "output_type": "stream",
     "text": [
      "True Positives per class :  [ 120.  107. 2144.   93.]\n",
      "False Positives per class :  [89. 75. 83. 44.]\n",
      "False Negatives per class :  [ 30.  35. 194.  32.]\n",
      "Class happy : Precision : 0.588, Recall : 0.754, F1 : 0.660\n",
      "Class sad : Precision : 0.963, Recall : 0.917, F1 : 0.939\n",
      "Class angry : Precision : 0.679, Recall : 0.744, F1 : 0.710\n",
      "Ignoring the Others class, Macro Precision : 0.7432, Macro Recall : 0.8048, Macro F1 : 0.7728\n",
      "Ignoring the Others class, Micro TP : 2344, FP : 202, FN : 261\n",
      "Accuracy : 0.8944, Micro Precision : 0.9207, Micro Recall : 0.8998, Micro F1 : 0.9101\n",
      "| \u001b[0m 41      \u001b[0m | \u001b[0m 0.9101  \u001b[0m | \u001b[0m 0.8932  \u001b[0m | \u001b[0m 0.1179  \u001b[0m | \u001b[0m 0.2024  \u001b[0m | \u001b[0m 0.6122  \u001b[0m | \u001b[0m 5.513   \u001b[0m | \u001b[0m 5.107   \u001b[0m | \u001b[0m 0.0563  \u001b[0m | \u001b[0m 32.15   \u001b[0m |\n"
     ]
    },
    {
     "name": "stderr",
     "output_type": "stream",
     "text": [
      "C:\\Users\\Simeon\\Anaconda3\\envs\\First\\lib\\site-packages\\lightgbm\\engine.py:113: UserWarning: Found `num_iterations` in params. Will use it instead of argument\n",
      "  warnings.warn(\"Found `{}` in params. Will use it instead of argument\".format(alias))\n"
     ]
    },
    {
     "name": "stdout",
     "output_type": "stream",
     "text": [
      "True Positives per class :  [ 120.  105. 2147.   94.]\n",
      "False Positives per class :  [87. 76. 80. 46.]\n",
      "False Negatives per class :  [ 30.  37. 191.  31.]\n",
      "Class happy : Precision : 0.580, Recall : 0.739, F1 : 0.650\n",
      "Class sad : Precision : 0.964, Recall : 0.918, F1 : 0.941\n",
      "Class angry : Precision : 0.671, Recall : 0.752, F1 : 0.709\n",
      "Ignoring the Others class, Macro Precision : 0.7385, Macro Recall : 0.8032, Macro F1 : 0.7695\n",
      "Ignoring the Others class, Micro TP : 2346, FP : 202, FN : 259\n",
      "Accuracy : 0.8951, Micro Precision : 0.9207, Micro Recall : 0.9006, Micro F1 : 0.9105\n",
      "| \u001b[0m 42      \u001b[0m | \u001b[0m 0.9105  \u001b[0m | \u001b[0m 0.8065  \u001b[0m | \u001b[0m 0.1567  \u001b[0m | \u001b[0m 0.2133  \u001b[0m | \u001b[0m 0.2368  \u001b[0m | \u001b[0m 8.577   \u001b[0m | \u001b[0m 5.139   \u001b[0m | \u001b[0m 0.04871 \u001b[0m | \u001b[0m 32.64   \u001b[0m |\n"
     ]
    },
    {
     "name": "stderr",
     "output_type": "stream",
     "text": [
      "C:\\Users\\Simeon\\Anaconda3\\envs\\First\\lib\\site-packages\\lightgbm\\engine.py:113: UserWarning: Found `num_iterations` in params. Will use it instead of argument\n",
      "  warnings.warn(\"Found `{}` in params. Will use it instead of argument\".format(alias))\n"
     ]
    },
    {
     "name": "stdout",
     "output_type": "stream",
     "text": [
      "True Positives per class :  [ 119.  106. 2147.   91.]\n",
      "False Positives per class :  [93. 75. 83. 41.]\n",
      "False Negatives per class :  [ 31.  36. 191.  34.]\n",
      "Class happy : Precision : 0.586, Recall : 0.746, F1 : 0.656\n",
      "Class sad : Precision : 0.963, Recall : 0.918, F1 : 0.940\n",
      "Class angry : Precision : 0.689, Recall : 0.728, F1 : 0.708\n",
      "Ignoring the Others class, Macro Precision : 0.7459, Macro Recall : 0.7976, Macro F1 : 0.7709\n",
      "Ignoring the Others class, Micro TP : 2344, FP : 199, FN : 261\n",
      "Accuracy : 0.8940, Micro Precision : 0.9217, Micro Recall : 0.8998, Micro F1 : 0.9106\n",
      "| \u001b[0m 43      \u001b[0m | \u001b[0m 0.9106  \u001b[0m | \u001b[0m 0.9486  \u001b[0m | \u001b[0m 0.1008  \u001b[0m | \u001b[0m 0.2256  \u001b[0m | \u001b[0m 0.1073  \u001b[0m | \u001b[0m 6.461   \u001b[0m | \u001b[0m 5.379   \u001b[0m | \u001b[0m 0.01257 \u001b[0m | \u001b[0m 34.55   \u001b[0m |\n"
     ]
    },
    {
     "name": "stderr",
     "output_type": "stream",
     "text": [
      "C:\\Users\\Simeon\\Anaconda3\\envs\\First\\lib\\site-packages\\lightgbm\\engine.py:113: UserWarning: Found `num_iterations` in params. Will use it instead of argument\n",
      "  warnings.warn(\"Found `{}` in params. Will use it instead of argument\".format(alias))\n"
     ]
    },
    {
     "name": "stdout",
     "output_type": "stream",
     "text": [
      "True Positives per class :  [ 117.  105. 2144.   99.]\n",
      "False Positives per class :  [89. 77. 83. 41.]\n",
      "False Negatives per class :  [ 33.  37. 194.  26.]\n",
      "Class happy : Precision : 0.577, Recall : 0.739, F1 : 0.648\n",
      "Class sad : Precision : 0.963, Recall : 0.917, F1 : 0.939\n",
      "Class angry : Precision : 0.707, Recall : 0.792, F1 : 0.747\n",
      "Ignoring the Others class, Macro Precision : 0.7489, Macro Recall : 0.8162, Macro F1 : 0.7811\n",
      "Ignoring the Others class, Micro TP : 2348, FP : 201, FN : 257\n",
      "Accuracy : 0.8947, Micro Precision : 0.9211, Micro Recall : 0.9013, Micro F1 : 0.9111\n",
      "| \u001b[0m 44      \u001b[0m | \u001b[0m 0.9111  \u001b[0m | \u001b[0m 0.8137  \u001b[0m | \u001b[0m 0.273   \u001b[0m | \u001b[0m 0.3055  \u001b[0m | \u001b[0m 2.944   \u001b[0m | \u001b[0m 5.002   \u001b[0m | \u001b[0m 5.056   \u001b[0m | \u001b[0m 0.0986  \u001b[0m | \u001b[0m 39.33   \u001b[0m |\n"
     ]
    },
    {
     "name": "stderr",
     "output_type": "stream",
     "text": [
      "C:\\Users\\Simeon\\Anaconda3\\envs\\First\\lib\\site-packages\\lightgbm\\engine.py:113: UserWarning: Found `num_iterations` in params. Will use it instead of argument\n",
      "  warnings.warn(\"Found `{}` in params. Will use it instead of argument\".format(alias))\n"
     ]
    },
    {
     "name": "stdout",
     "output_type": "stream",
     "text": [
      "True Positives per class :  [ 121.  108. 2146.   95.]\n",
      "False Positives per class :  [86. 74. 79. 46.]\n",
      "False Negatives per class :  [ 29.  34. 192.  30.]\n",
      "Class happy : Precision : 0.593, Recall : 0.761, F1 : 0.667\n",
      "Class sad : Precision : 0.964, Recall : 0.918, F1 : 0.941\n",
      "Class angry : Precision : 0.674, Recall : 0.760, F1 : 0.714\n",
      "Ignoring the Others class, Macro Precision : 0.7439, Macro Recall : 0.8128, Macro F1 : 0.7768\n",
      "Ignoring the Others class, Micro TP : 2349, FP : 199, FN : 256\n",
      "Accuracy : 0.8966, Micro Precision : 0.9219, Micro Recall : 0.9017, Micro F1 : 0.9117\n",
      "| \u001b[0m 45      \u001b[0m | \u001b[0m 0.9117  \u001b[0m | \u001b[0m 0.9722  \u001b[0m | \u001b[0m 0.1616  \u001b[0m | \u001b[0m 0.05878 \u001b[0m | \u001b[0m 2.487   \u001b[0m | \u001b[0m 6.847   \u001b[0m | \u001b[0m 5.281   \u001b[0m | \u001b[0m 0.09488 \u001b[0m | \u001b[0m 32.11   \u001b[0m |\n"
     ]
    },
    {
     "name": "stderr",
     "output_type": "stream",
     "text": [
      "C:\\Users\\Simeon\\Anaconda3\\envs\\First\\lib\\site-packages\\lightgbm\\engine.py:113: UserWarning: Found `num_iterations` in params. Will use it instead of argument\n",
      "  warnings.warn(\"Found `{}` in params. Will use it instead of argument\".format(alias))\n"
     ]
    },
    {
     "name": "stdout",
     "output_type": "stream",
     "text": [
      "True Positives per class :  [ 120.  107. 2151.   92.]\n",
      "False Positives per class :  [80. 80. 81. 44.]\n",
      "False Negatives per class :  [ 30.  35. 187.  33.]\n",
      "Class happy : Precision : 0.572, Recall : 0.754, F1 : 0.650\n",
      "Class sad : Precision : 0.964, Recall : 0.920, F1 : 0.941\n",
      "Class angry : Precision : 0.676, Recall : 0.736, F1 : 0.705\n",
      "Ignoring the Others class, Macro Precision : 0.7375, Macro Recall : 0.8032, Macro F1 : 0.7689\n",
      "Ignoring the Others class, Micro TP : 2350, FP : 205, FN : 255\n",
      "Accuracy : 0.8966, Micro Precision : 0.9198, Micro Recall : 0.9021, Micro F1 : 0.9109\n",
      "| \u001b[0m 46      \u001b[0m | \u001b[0m 0.9109  \u001b[0m | \u001b[0m 0.9878  \u001b[0m | \u001b[0m 0.6121  \u001b[0m | \u001b[0m 0.05582 \u001b[0m | \u001b[0m 2.95    \u001b[0m | \u001b[0m 8.99    \u001b[0m | \u001b[0m 5.25    \u001b[0m | \u001b[0m 0.09529 \u001b[0m | \u001b[0m 38.03   \u001b[0m |\n"
     ]
    },
    {
     "name": "stderr",
     "output_type": "stream",
     "text": [
      "C:\\Users\\Simeon\\Anaconda3\\envs\\First\\lib\\site-packages\\lightgbm\\engine.py:113: UserWarning: Found `num_iterations` in params. Will use it instead of argument\n",
      "  warnings.warn(\"Found `{}` in params. Will use it instead of argument\".format(alias))\n"
     ]
    },
    {
     "name": "stdout",
     "output_type": "stream",
     "text": [
      "True Positives per class :  [ 119.  102. 2149.   94.]\n",
      "False Positives per class :  [89. 75. 85. 42.]\n",
      "False Negatives per class :  [ 31.  40. 189.  31.]\n",
      "Class happy : Precision : 0.576, Recall : 0.718, F1 : 0.639\n",
      "Class sad : Precision : 0.962, Recall : 0.919, F1 : 0.940\n",
      "Class angry : Precision : 0.691, Recall : 0.752, F1 : 0.720\n",
      "Ignoring the Others class, Macro Precision : 0.7431, Macro Recall : 0.7965, Macro F1 : 0.7689\n",
      "Ignoring the Others class, Micro TP : 2345, FP : 202, FN : 260\n",
      "Accuracy : 0.8944, Micro Precision : 0.9207, Micro Recall : 0.9002, Micro F1 : 0.9103\n",
      "| \u001b[0m 47      \u001b[0m | \u001b[0m 0.9103  \u001b[0m | \u001b[0m 0.9327  \u001b[0m | \u001b[0m 0.1059  \u001b[0m | \u001b[0m 0.4133  \u001b[0m | \u001b[0m 2.987   \u001b[0m | \u001b[0m 8.315   \u001b[0m | \u001b[0m 5.022   \u001b[0m | \u001b[0m 0.04269 \u001b[0m | \u001b[0m 35.59   \u001b[0m |\n"
     ]
    },
    {
     "name": "stderr",
     "output_type": "stream",
     "text": [
      "C:\\Users\\Simeon\\Anaconda3\\envs\\First\\lib\\site-packages\\lightgbm\\engine.py:113: UserWarning: Found `num_iterations` in params. Will use it instead of argument\n",
      "  warnings.warn(\"Found `{}` in params. Will use it instead of argument\".format(alias))\n"
     ]
    },
    {
     "name": "stdout",
     "output_type": "stream",
     "text": [
      "True Positives per class :  [ 119.  105. 2144.   96.]\n",
      "False Positives per class :  [86. 78. 82. 45.]\n",
      "False Negatives per class :  [ 31.  37. 194.  29.]\n",
      "Class happy : Precision : 0.574, Recall : 0.739, F1 : 0.646\n",
      "Class sad : Precision : 0.963, Recall : 0.917, F1 : 0.940\n",
      "Class angry : Precision : 0.681, Recall : 0.768, F1 : 0.722\n",
      "Ignoring the Others class, Macro Precision : 0.7393, Macro Recall : 0.8082, Macro F1 : 0.7722\n",
      "Ignoring the Others class, Micro TP : 2345, FP : 205, FN : 260\n",
      "Accuracy : 0.8944, Micro Precision : 0.9196, Micro Recall : 0.9002, Micro F1 : 0.9098\n",
      "| \u001b[0m 48      \u001b[0m | \u001b[0m 0.9098  \u001b[0m | \u001b[0m 0.8587  \u001b[0m | \u001b[0m 0.5318  \u001b[0m | \u001b[0m 0.322   \u001b[0m | \u001b[0m 2.917   \u001b[0m | \u001b[0m 5.042   \u001b[0m | \u001b[0m 5.074   \u001b[0m | \u001b[0m 0.0398  \u001b[0m | \u001b[0m 31.36   \u001b[0m |\n"
     ]
    },
    {
     "name": "stderr",
     "output_type": "stream",
     "text": [
      "C:\\Users\\Simeon\\Anaconda3\\envs\\First\\lib\\site-packages\\lightgbm\\engine.py:113: UserWarning: Found `num_iterations` in params. Will use it instead of argument\n",
      "  warnings.warn(\"Found `{}` in params. Will use it instead of argument\".format(alias))\n"
     ]
    },
    {
     "name": "stdout",
     "output_type": "stream",
     "text": [
      "True Positives per class :  [ 120.  106. 2147.   95.]\n",
      "False Positives per class :  [92. 73. 81. 41.]\n",
      "False Negatives per class :  [ 30.  36. 191.  30.]\n",
      "Class happy : Precision : 0.592, Recall : 0.746, F1 : 0.660\n",
      "Class sad : Precision : 0.964, Recall : 0.918, F1 : 0.940\n",
      "Class angry : Precision : 0.699, Recall : 0.760, F1 : 0.728\n",
      "Ignoring the Others class, Macro Precision : 0.7515, Macro Recall : 0.8083, Macro F1 : 0.7788\n",
      "Ignoring the Others class, Micro TP : 2348, FP : 195, FN : 257\n",
      "Accuracy : 0.8958, Micro Precision : 0.9233, Micro Recall : 0.9013, Micro F1 : 0.9122\n",
      "| \u001b[0m 49      \u001b[0m | \u001b[0m 0.9122  \u001b[0m | \u001b[0m 0.9708  \u001b[0m | \u001b[0m 0.1097  \u001b[0m | \u001b[0m 0.1576  \u001b[0m | \u001b[0m 1.651   \u001b[0m | \u001b[0m 5.74    \u001b[0m | \u001b[0m 5.512   \u001b[0m | \u001b[0m 0.09498 \u001b[0m | \u001b[0m 32.61   \u001b[0m |\n"
     ]
    },
    {
     "name": "stderr",
     "output_type": "stream",
     "text": [
      "C:\\Users\\Simeon\\Anaconda3\\envs\\First\\lib\\site-packages\\lightgbm\\engine.py:113: UserWarning: Found `num_iterations` in params. Will use it instead of argument\n",
      "  warnings.warn(\"Found `{}` in params. Will use it instead of argument\".format(alias))\n"
     ]
    },
    {
     "name": "stdout",
     "output_type": "stream",
     "text": [
      "True Positives per class :  [ 117.  106. 2143.   97.]\n",
      "False Positives per class :  [86. 78. 83. 45.]\n",
      "False Negatives per class :  [ 33.  36. 195.  28.]\n",
      "Class happy : Precision : 0.576, Recall : 0.746, F1 : 0.650\n",
      "Class sad : Precision : 0.963, Recall : 0.917, F1 : 0.939\n",
      "Class angry : Precision : 0.683, Recall : 0.776, F1 : 0.727\n",
      "Ignoring the Others class, Macro Precision : 0.7406, Macro Recall : 0.8130, Macro F1 : 0.7751\n",
      "Ignoring the Others class, Micro TP : 2346, FP : 206, FN : 259\n",
      "Accuracy : 0.8940, Micro Precision : 0.9193, Micro Recall : 0.9006, Micro F1 : 0.9098\n",
      "| \u001b[0m 50      \u001b[0m | \u001b[0m 0.9098  \u001b[0m | \u001b[0m 0.9785  \u001b[0m | \u001b[0m 0.1132  \u001b[0m | \u001b[0m 0.1794  \u001b[0m | \u001b[0m 1.315   \u001b[0m | \u001b[0m 5.176   \u001b[0m | \u001b[0m 5.116   \u001b[0m | \u001b[0m 0.08625 \u001b[0m | \u001b[0m 41.0    \u001b[0m |\n"
     ]
    },
    {
     "name": "stderr",
     "output_type": "stream",
     "text": [
      "C:\\Users\\Simeon\\Anaconda3\\envs\\First\\lib\\site-packages\\lightgbm\\engine.py:113: UserWarning: Found `num_iterations` in params. Will use it instead of argument\n",
      "  warnings.warn(\"Found `{}` in params. Will use it instead of argument\".format(alias))\n"
     ]
    },
    {
     "name": "stdout",
     "output_type": "stream",
     "text": [
      "True Positives per class :  [ 118.  105. 2141.   96.]\n",
      "False Positives per class :  [91. 76. 87. 41.]\n",
      "False Negatives per class :  [ 32.  37. 197.  29.]\n",
      "Class happy : Precision : 0.580, Recall : 0.739, F1 : 0.650\n",
      "Class sad : Precision : 0.961, Recall : 0.916, F1 : 0.938\n",
      "Class angry : Precision : 0.701, Recall : 0.768, F1 : 0.733\n",
      "Ignoring the Others class, Macro Precision : 0.7473, Macro Recall : 0.8077, Macro F1 : 0.7763\n",
      "Ignoring the Others class, Micro TP : 2342, FP : 204, FN : 263\n",
      "Accuracy : 0.8929, Micro Precision : 0.9199, Micro Recall : 0.8990, Micro F1 : 0.9093\n",
      "| \u001b[0m 51      \u001b[0m | \u001b[0m 0.9093  \u001b[0m | \u001b[0m 0.8751  \u001b[0m | \u001b[0m 0.1244  \u001b[0m | \u001b[0m 0.3208  \u001b[0m | \u001b[0m 1.202   \u001b[0m | \u001b[0m 5.106   \u001b[0m | \u001b[0m 5.401   \u001b[0m | \u001b[0m 0.09968 \u001b[0m | \u001b[0m 32.35   \u001b[0m |\n"
     ]
    },
    {
     "name": "stderr",
     "output_type": "stream",
     "text": [
      "C:\\Users\\Simeon\\Anaconda3\\envs\\First\\lib\\site-packages\\lightgbm\\engine.py:113: UserWarning: Found `num_iterations` in params. Will use it instead of argument\n",
      "  warnings.warn(\"Found `{}` in params. Will use it instead of argument\".format(alias))\n"
     ]
    },
    {
     "name": "stdout",
     "output_type": "stream",
     "text": [
      "True Positives per class :  [ 119.  104. 2149.   93.]\n",
      "False Positives per class :  [83. 78. 85. 44.]\n",
      "False Negatives per class :  [ 31.  38. 189.  32.]\n",
      "Class happy : Precision : 0.571, Recall : 0.732, F1 : 0.642\n",
      "Class sad : Precision : 0.962, Recall : 0.919, F1 : 0.940\n",
      "Class angry : Precision : 0.679, Recall : 0.744, F1 : 0.710\n",
      "Ignoring the Others class, Macro Precision : 0.7374, Macro Recall : 0.7985, Macro F1 : 0.7667\n",
      "Ignoring the Others class, Micro TP : 2346, FP : 207, FN : 259\n",
      "Accuracy : 0.8947, Micro Precision : 0.9189, Micro Recall : 0.9006, Micro F1 : 0.9097\n",
      "| \u001b[0m 52      \u001b[0m | \u001b[0m 0.9097  \u001b[0m | \u001b[0m 0.8432  \u001b[0m | \u001b[0m 0.1848  \u001b[0m | \u001b[0m 0.6586  \u001b[0m | \u001b[0m 2.853   \u001b[0m | \u001b[0m 8.649   \u001b[0m | \u001b[0m 5.05    \u001b[0m | \u001b[0m 0.08424 \u001b[0m | \u001b[0m 37.26   \u001b[0m |\n"
     ]
    },
    {
     "name": "stderr",
     "output_type": "stream",
     "text": [
      "C:\\Users\\Simeon\\Anaconda3\\envs\\First\\lib\\site-packages\\lightgbm\\engine.py:113: UserWarning: Found `num_iterations` in params. Will use it instead of argument\n",
      "  warnings.warn(\"Found `{}` in params. Will use it instead of argument\".format(alias))\n"
     ]
    },
    {
     "name": "stdout",
     "output_type": "stream",
     "text": [
      "True Positives per class :  [ 120.  106. 2145.   94.]\n",
      "False Positives per class :  [91. 73. 83. 43.]\n",
      "False Negatives per class :  [ 30.  36. 193.  31.]\n",
      "Class happy : Precision : 0.592, Recall : 0.746, F1 : 0.660\n",
      "Class sad : Precision : 0.963, Recall : 0.917, F1 : 0.940\n",
      "Class angry : Precision : 0.686, Recall : 0.752, F1 : 0.718\n",
      "Ignoring the Others class, Macro Precision : 0.7470, Macro Recall : 0.8053, Macro F1 : 0.7751\n",
      "Ignoring the Others class, Micro TP : 2345, FP : 199, FN : 260\n",
      "Accuracy : 0.8947, Micro Precision : 0.9218, Micro Recall : 0.9002, Micro F1 : 0.9109\n",
      "| \u001b[0m 53      \u001b[0m | \u001b[0m 0.9109  \u001b[0m | \u001b[0m 0.9772  \u001b[0m | \u001b[0m 0.1243  \u001b[0m | \u001b[0m 0.2648  \u001b[0m | \u001b[0m 2.664   \u001b[0m | \u001b[0m 6.441   \u001b[0m | \u001b[0m 5.174   \u001b[0m | \u001b[0m 0.09515 \u001b[0m | \u001b[0m 37.37   \u001b[0m |\n"
     ]
    },
    {
     "name": "stderr",
     "output_type": "stream",
     "text": [
      "C:\\Users\\Simeon\\Anaconda3\\envs\\First\\lib\\site-packages\\lightgbm\\engine.py:113: UserWarning: Found `num_iterations` in params. Will use it instead of argument\n",
      "  warnings.warn(\"Found `{}` in params. Will use it instead of argument\".format(alias))\n"
     ]
    },
    {
     "name": "stdout",
     "output_type": "stream",
     "text": [
      "True Positives per class :  [ 119.  108. 2143.   95.]\n",
      "False Positives per class :  [85. 79. 80. 46.]\n",
      "False Negatives per class :  [ 31.  34. 195.  30.]\n",
      "Class happy : Precision : 0.578, Recall : 0.761, F1 : 0.657\n",
      "Class sad : Precision : 0.964, Recall : 0.917, F1 : 0.940\n",
      "Class angry : Precision : 0.674, Recall : 0.760, F1 : 0.714\n",
      "Ignoring the Others class, Macro Precision : 0.7384, Macro Recall : 0.8124, Macro F1 : 0.7736\n",
      "Ignoring the Others class, Micro TP : 2346, FP : 205, FN : 259\n",
      "Accuracy : 0.8947, Micro Precision : 0.9196, Micro Recall : 0.9006, Micro F1 : 0.9100\n",
      "| \u001b[0m 54      \u001b[0m | \u001b[0m 0.91    \u001b[0m | \u001b[0m 0.9961  \u001b[0m | \u001b[0m 0.6554  \u001b[0m | \u001b[0m 0.6206  \u001b[0m | \u001b[0m 0.1551  \u001b[0m | \u001b[0m 5.058   \u001b[0m | \u001b[0m 5.029   \u001b[0m | \u001b[0m 0.08351 \u001b[0m | \u001b[0m 31.38   \u001b[0m |\n"
     ]
    },
    {
     "name": "stderr",
     "output_type": "stream",
     "text": [
      "C:\\Users\\Simeon\\Anaconda3\\envs\\First\\lib\\site-packages\\lightgbm\\engine.py:113: UserWarning: Found `num_iterations` in params. Will use it instead of argument\n",
      "  warnings.warn(\"Found `{}` in params. Will use it instead of argument\".format(alias))\n"
     ]
    },
    {
     "name": "stdout",
     "output_type": "stream",
     "text": [
      "True Positives per class :  [ 119.  103. 2135.   97.]\n",
      "False Positives per class :  [91. 79. 84. 47.]\n",
      "False Negatives per class :  [ 31.  39. 203.  28.]\n",
      "Class happy : Precision : 0.566, Recall : 0.725, F1 : 0.636\n",
      "Class sad : Precision : 0.962, Recall : 0.913, F1 : 0.937\n",
      "Class angry : Precision : 0.674, Recall : 0.776, F1 : 0.721\n",
      "Ignoring the Others class, Macro Precision : 0.7339, Macro Recall : 0.8048, Macro F1 : 0.7677\n",
      "Ignoring the Others class, Micro TP : 2335, FP : 210, FN : 270\n",
      "Accuracy : 0.8907, Micro Precision : 0.9175, Micro Recall : 0.8964, Micro F1 : 0.9068\n",
      "| \u001b[0m 55      \u001b[0m | \u001b[0m 0.9068  \u001b[0m | \u001b[0m 0.9749  \u001b[0m | \u001b[0m 0.1136  \u001b[0m | \u001b[0m 0.2998  \u001b[0m | \u001b[0m 2.801   \u001b[0m | \u001b[0m 5.335   \u001b[0m | \u001b[0m 6.556   \u001b[0m | \u001b[0m 0.08723 \u001b[0m | \u001b[0m 36.63   \u001b[0m |\n"
     ]
    },
    {
     "name": "stderr",
     "output_type": "stream",
     "text": [
      "C:\\Users\\Simeon\\Anaconda3\\envs\\First\\lib\\site-packages\\lightgbm\\engine.py:113: UserWarning: Found `num_iterations` in params. Will use it instead of argument\n",
      "  warnings.warn(\"Found `{}` in params. Will use it instead of argument\".format(alias))\n"
     ]
    },
    {
     "name": "stdout",
     "output_type": "stream",
     "text": [
      "True Positives per class :  [ 121.  104. 2155.   93.]\n",
      "False Positives per class :  [84. 73. 81. 44.]\n",
      "False Negatives per class :  [ 29.  38. 183.  32.]\n",
      "Class happy : Precision : 0.588, Recall : 0.732, F1 : 0.652\n",
      "Class sad : Precision : 0.964, Recall : 0.922, F1 : 0.942\n",
      "Class angry : Precision : 0.679, Recall : 0.744, F1 : 0.710\n",
      "Ignoring the Others class, Macro Precision : 0.7434, Macro Recall : 0.7994, Macro F1 : 0.7704\n",
      "Ignoring the Others class, Micro TP : 2352, FP : 198, FN : 253\n",
      "Accuracy : 0.8976, Micro Precision : 0.9224, Micro Recall : 0.9029, Micro F1 : 0.9125\n",
      "| \u001b[0m 56      \u001b[0m | \u001b[0m 0.9125  \u001b[0m | \u001b[0m 0.8766  \u001b[0m | \u001b[0m 0.1654  \u001b[0m | \u001b[0m 0.1166  \u001b[0m | \u001b[0m 0.7268  \u001b[0m | \u001b[0m 8.776   \u001b[0m | \u001b[0m 5.251   \u001b[0m | \u001b[0m 0.09762 \u001b[0m | \u001b[0m 28.42   \u001b[0m |\n"
     ]
    },
    {
     "name": "stderr",
     "output_type": "stream",
     "text": [
      "C:\\Users\\Simeon\\Anaconda3\\envs\\First\\lib\\site-packages\\lightgbm\\engine.py:113: UserWarning: Found `num_iterations` in params. Will use it instead of argument\n",
      "  warnings.warn(\"Found `{}` in params. Will use it instead of argument\".format(alias))\n"
     ]
    },
    {
     "name": "stdout",
     "output_type": "stream",
     "text": [
      "True Positives per class :  [ 117.  106. 2147.   96.]\n",
      "False Positives per class :  [87. 77. 81. 44.]\n",
      "False Negatives per class :  [ 33.  36. 191.  29.]\n",
      "Class happy : Precision : 0.579, Recall : 0.746, F1 : 0.652\n",
      "Class sad : Precision : 0.964, Recall : 0.918, F1 : 0.940\n",
      "Class angry : Precision : 0.686, Recall : 0.768, F1 : 0.725\n",
      "Ignoring the Others class, Macro Precision : 0.7429, Macro Recall : 0.8109, Macro F1 : 0.7754\n",
      "Ignoring the Others class, Micro TP : 2349, FP : 202, FN : 256\n",
      "Accuracy : 0.8951, Micro Precision : 0.9208, Micro Recall : 0.9017, Micro F1 : 0.9112\n",
      "| \u001b[0m 57      \u001b[0m | \u001b[0m 0.9112  \u001b[0m | \u001b[0m 0.8948  \u001b[0m | \u001b[0m 0.151   \u001b[0m | \u001b[0m 0.005926\u001b[0m | \u001b[0m 0.4117  \u001b[0m | \u001b[0m 7.341   \u001b[0m | \u001b[0m 5.015   \u001b[0m | \u001b[0m 0.06423 \u001b[0m | \u001b[0m 33.97   \u001b[0m |\n"
     ]
    },
    {
     "name": "stderr",
     "output_type": "stream",
     "text": [
      "C:\\Users\\Simeon\\Anaconda3\\envs\\First\\lib\\site-packages\\lightgbm\\engine.py:113: UserWarning: Found `num_iterations` in params. Will use it instead of argument\n",
      "  warnings.warn(\"Found `{}` in params. Will use it instead of argument\".format(alias))\n"
     ]
    },
    {
     "name": "stdout",
     "output_type": "stream",
     "text": [
      "True Positives per class :  [ 120.  104. 2152.   93.]\n",
      "False Positives per class :  [83. 75. 82. 46.]\n",
      "False Negatives per class :  [ 30.  38. 186.  32.]\n",
      "Class happy : Precision : 0.581, Recall : 0.732, F1 : 0.648\n",
      "Class sad : Precision : 0.963, Recall : 0.920, F1 : 0.941\n",
      "Class angry : Precision : 0.669, Recall : 0.744, F1 : 0.705\n",
      "Ignoring the Others class, Macro Precision : 0.7378, Macro Recall : 0.7989, Macro F1 : 0.7672\n",
      "Ignoring the Others class, Micro TP : 2349, FP : 203, FN : 256\n",
      "Accuracy : 0.8962, Micro Precision : 0.9205, Micro Recall : 0.9017, Micro F1 : 0.9110\n",
      "| \u001b[0m 58      \u001b[0m | \u001b[0m 0.911   \u001b[0m | \u001b[0m 0.808   \u001b[0m | \u001b[0m 0.1884  \u001b[0m | \u001b[0m 0.00801 \u001b[0m | \u001b[0m 0.4301  \u001b[0m | \u001b[0m 8.666   \u001b[0m | \u001b[0m 5.798   \u001b[0m | \u001b[0m 0.06368 \u001b[0m | \u001b[0m 39.3    \u001b[0m |\n"
     ]
    },
    {
     "name": "stderr",
     "output_type": "stream",
     "text": [
      "C:\\Users\\Simeon\\Anaconda3\\envs\\First\\lib\\site-packages\\lightgbm\\engine.py:113: UserWarning: Found `num_iterations` in params. Will use it instead of argument\n",
      "  warnings.warn(\"Found `{}` in params. Will use it instead of argument\".format(alias))\n"
     ]
    },
    {
     "name": "stdout",
     "output_type": "stream",
     "text": [
      "True Positives per class :  [ 120.  105. 2146.   96.]\n",
      "False Positives per class :  [89. 75. 81. 43.]\n",
      "False Negatives per class :  [ 30.  37. 192.  29.]\n",
      "Class happy : Precision : 0.583, Recall : 0.739, F1 : 0.652\n",
      "Class sad : Precision : 0.964, Recall : 0.918, F1 : 0.940\n",
      "Class angry : Precision : 0.691, Recall : 0.768, F1 : 0.727\n",
      "Ignoring the Others class, Macro Precision : 0.7459, Macro Recall : 0.8084, Macro F1 : 0.7759\n",
      "Ignoring the Others class, Micro TP : 2347, FP : 199, FN : 258\n",
      "Accuracy : 0.8955, Micro Precision : 0.9218, Micro Recall : 0.9010, Micro F1 : 0.9113\n",
      "| \u001b[0m 59      \u001b[0m | \u001b[0m 0.9113  \u001b[0m | \u001b[0m 0.8554  \u001b[0m | \u001b[0m 0.1405  \u001b[0m | \u001b[0m 0.06109 \u001b[0m | \u001b[0m 0.1031  \u001b[0m | \u001b[0m 7.18    \u001b[0m | \u001b[0m 5.243   \u001b[0m | \u001b[0m 0.09259 \u001b[0m | \u001b[0m 24.69   \u001b[0m |\n"
     ]
    },
    {
     "name": "stderr",
     "output_type": "stream",
     "text": [
      "C:\\Users\\Simeon\\Anaconda3\\envs\\First\\lib\\site-packages\\lightgbm\\engine.py:113: UserWarning: Found `num_iterations` in params. Will use it instead of argument\n",
      "  warnings.warn(\"Found `{}` in params. Will use it instead of argument\".format(alias))\n"
     ]
    },
    {
     "name": "stdout",
     "output_type": "stream",
     "text": [
      "True Positives per class :  [ 118.  102. 2153.   95.]\n",
      "False Positives per class :  [88. 72. 83. 44.]\n",
      "False Negatives per class :  [ 32.  40. 185.  30.]\n",
      "Class happy : Precision : 0.586, Recall : 0.718, F1 : 0.646\n",
      "Class sad : Precision : 0.963, Recall : 0.921, F1 : 0.941\n",
      "Class angry : Precision : 0.683, Recall : 0.760, F1 : 0.720\n",
      "Ignoring the Others class, Macro Precision : 0.7442, Macro Recall : 0.7997, Macro F1 : 0.7710\n",
      "Ignoring the Others class, Micro TP : 2350, FP : 199, FN : 255\n",
      "Accuracy : 0.8958, Micro Precision : 0.9219, Micro Recall : 0.9021, Micro F1 : 0.9119\n",
      "| \u001b[0m 60      \u001b[0m | \u001b[0m 0.9119  \u001b[0m | \u001b[0m 0.9855  \u001b[0m | \u001b[0m 0.1109  \u001b[0m | \u001b[0m 0.08916 \u001b[0m | \u001b[0m 0.295   \u001b[0m | \u001b[0m 7.8     \u001b[0m | \u001b[0m 5.12    \u001b[0m | \u001b[0m 0.05835 \u001b[0m | \u001b[0m 32.69   \u001b[0m |\n",
      "=========================================================================================================================\n"
     ]
    }
   ],
   "source": [
    "lgbBO = BayesianOptimization(lgb_eval, {'num_leaves': (24, 45),\n",
    "                                        'feature_fraction': (0.1, 0.9),\n",
    "                                        'bagging_fraction': (0.8, 1),\n",
    "                                        'max_depth': (5, 9),\n",
    "                                        'lambda_l1': (0, 5),\n",
    "                                        'lambda_l2': (0, 3),\n",
    "                                        'min_split_gain': (0.001, 0.1),\n",
    "                                        'min_child_weight': (5, 50)}, random_state=0)\n",
    "lgbBO.maximize(init_points=20, n_iter=40)"
   ]
  },
  {
   "cell_type": "code",
   "execution_count": 62,
   "metadata": {},
   "outputs": [],
   "source": [
    "target = -1\n",
    "max_params = {}\n",
    "for res in lgbBO.res:\n",
    "    if target < res['target']:\n",
    "        target = res['target']\n",
    "        max_params = res['params']"
   ]
  },
  {
   "cell_type": "code",
   "execution_count": 64,
   "metadata": {
    "scrolled": true
   },
   "outputs": [
    {
     "name": "stdout",
     "output_type": "stream",
     "text": [
      "0.9133553014150029\n"
     ]
    },
    {
     "data": {
      "text/plain": [
       "{'bagging_fraction': 0.9819566720743442,\n",
       " 'feature_fraction': 0.16775915680389533,\n",
       " 'lambda_l1': 0.5070887211533209,\n",
       " 'lambda_l2': 1.200993517318602,\n",
       " 'max_depth': 8.953397047989986,\n",
       " 'min_child_weight': 5.04261361744641,\n",
       " 'min_split_gain': 0.07362854888667725,\n",
       " 'num_leaves': 34.19768540650169}"
      ]
     },
     "execution_count": 64,
     "metadata": {},
     "output_type": "execute_result"
    }
   ],
   "source": [
    "print(target)\n",
    "max_params"
   ]
  },
  {
   "cell_type": "code",
   "execution_count": 65,
   "metadata": {
    "scrolled": true
   },
   "outputs": [
    {
     "name": "stderr",
     "output_type": "stream",
     "text": [
      "C:\\Users\\Simeon\\Anaconda3\\envs\\First\\lib\\site-packages\\lightgbm\\engine.py:113: UserWarning: Found `num_iterations` in params. Will use it instead of argument\n",
      "  warnings.warn(\"Found `{}` in params. Will use it instead of argument\".format(alias))\n"
     ]
    },
    {
     "name": "stdout",
     "output_type": "stream",
     "text": [
      "True Positives per class :  [ 119.  105. 2156.   95.]\n",
      "False Positives per class :  [82. 72. 82. 44.]\n",
      "False Negatives per class :  [ 31.  37. 182.  30.]\n",
      "Class happy : Precision : 0.593, Recall : 0.739, F1 : 0.658\n",
      "Class sad : Precision : 0.963, Recall : 0.922, F1 : 0.942\n",
      "Class angry : Precision : 0.683, Recall : 0.760, F1 : 0.720\n",
      "Ignoring the Others class, Macro Precision : 0.7467, Macro Recall : 0.8072, Macro F1 : 0.7758\n",
      "Ignoring the Others class, Micro TP : 2356, FP : 198, FN : 249\n",
      "Accuracy : 0.8984, Micro Precision : 0.9225, Micro Recall : 0.9044, Micro F1 : 0.9134\n"
     ]
    },
    {
     "data": {
      "text/plain": [
       "0.9133553014150029"
      ]
     },
     "execution_count": 65,
     "metadata": {},
     "output_type": "execute_result"
    }
   ],
   "source": [
    "lightGbmEval(X_log_select_train, y, X_log_select_dev, y_dev)(**max_params)"
   ]
  },
  {
   "cell_type": "code",
   "execution_count": 70,
   "metadata": {},
   "outputs": [],
   "source": [
    "def lightgbmClassifier(num_leaves, feature_fraction, bagging_fraction,\n",
    "                 max_depth, lambda_l1, lambda_l2, min_split_gain, min_child_weight):\n",
    "        params = {'application':'multiclass',\n",
    "                  'num_iterations':4000, 'learning_rate':0.05,\n",
    "                 # 'early_stopping_round':100, \n",
    "                  'metric':'multi_logloss'}\n",
    "        params[\"num_leaves\"] = int(round(num_leaves))\n",
    "        params['feature_fraction'] = max(min(feature_fraction, 1), 0)\n",
    "        params['bagging_fraction'] = max(min(bagging_fraction, 1), 0)\n",
    "        params['max_depth'] = int(round(max_depth))\n",
    "        params['lambda_l1'] = max(lambda_l1, 0)\n",
    "        params['lambda_l2'] = max(lambda_l2, 0)\n",
    "        params['min_split_gain'] = min_split_gain\n",
    "        params['min_child_weight'] = min_child_weight\n",
    "        return lightgbm.LGBMClassifier(**params, random_state=42)"
   ]
  },
  {
   "cell_type": "code",
   "execution_count": 71,
   "metadata": {},
   "outputs": [
    {
     "name": "stderr",
     "output_type": "stream",
     "text": [
      "C:\\Users\\Simeon\\Anaconda3\\envs\\First\\lib\\site-packages\\lightgbm\\engine.py:113: UserWarning: Found `num_iterations` in params. Will use it instead of argument\n",
      "  warnings.warn(\"Found `{}` in params. Will use it instead of argument\".format(alias))\n"
     ]
    },
    {
     "data": {
      "text/plain": [
       "LGBMClassifier(application='multiclass', bagging_fraction=0.9819566720743442,\n",
       "        boosting_type='gbdt', class_weight=None, colsample_bytree=1.0,\n",
       "        feature_fraction=0.16775915680389533, importance_type='split',\n",
       "        lambda_l1=0.5070887211533209, lambda_l2=1.200993517318602,\n",
       "        learning_rate=0.05, max_depth=9, metric='multi_logloss',\n",
       "        min_child_samples=20, min_child_weight=5.04261361744641,\n",
       "        min_split_gain=0.07362854888667725, n_estimators=100, n_jobs=-1,\n",
       "        num_iterations=4000, num_leaves=34, objective=None,\n",
       "        random_state=42, reg_alpha=0.0, reg_lambda=0.0, silent=True,\n",
       "        subsample=1.0, subsample_for_bin=200000, subsample_freq=0)"
      ]
     },
     "execution_count": 71,
     "metadata": {},
     "output_type": "execute_result"
    }
   ],
   "source": [
    "clf = lightgbmClassifier(**max_params)\n",
    "clf.fit(X_log_select_train, y)"
   ]
  },
  {
   "cell_type": "code",
   "execution_count": 72,
   "metadata": {},
   "outputs": [],
   "source": [
    "test_pred = clf.predict(X_log_select_test)"
   ]
  },
  {
   "cell_type": "code",
   "execution_count": 74,
   "metadata": {},
   "outputs": [],
   "source": [
    "def save_test_set(test_pred):\n",
    "    test_labels = le.inverse_transform(test_pred)\n",
    "    solutionPath = 'D:\\\\Machine Learning\\\\Datasets\\\\EmoContext\\\\test.txt'\n",
    "    testDataPath = 'D:\\\\Machine Learning\\\\Datasets\\\\EmoContext\\\\testwithoutlabels.txt'\n",
    "    with io.open(solutionPath, \"w\", encoding=\"utf8\") as fout:\n",
    "            fout.write('\\t'.join([\"id\", \"turn1\", \"turn2\", \"turn3\", \"label\"]) + '\\n')        \n",
    "            with io.open(testDataPath, encoding=\"utf8\") as fin:\n",
    "                fin.readline()\n",
    "                for lineNum, line in enumerate(fin):\n",
    "                    fout.write('\\t'.join(line.strip().split('\\t')[:4]) + '\\t')\n",
    "                    fout.write(test_labels[lineNum] + '\\n')"
   ]
  },
  {
   "cell_type": "code",
   "execution_count": 75,
   "metadata": {},
   "outputs": [],
   "source": [
    "save_test_set(test_pred)"
   ]
  },
  {
   "cell_type": "code",
   "execution_count": 76,
   "metadata": {},
   "outputs": [
    {
     "name": "stderr",
     "output_type": "stream",
     "text": [
      "C:\\Users\\Simeon\\Anaconda3\\envs\\First\\lib\\site-packages\\lightgbm\\engine.py:113: UserWarning: Found `num_iterations` in params. Will use it instead of argument\n",
      "  warnings.warn(\"Found `{}` in params. Will use it instead of argument\".format(alias))\n"
     ]
    },
    {
     "data": {
      "text/plain": [
       "LGBMClassifier(application='multiclass', bagging_fraction=0.9819566720743442,\n",
       "        boosting_type='gbdt', class_weight=None, colsample_bytree=1.0,\n",
       "        feature_fraction=0.16775915680389533, importance_type='split',\n",
       "        lambda_l1=0.5070887211533209, lambda_l2=1.200993517318602,\n",
       "        learning_rate=0.05, max_depth=9, metric='multi_logloss',\n",
       "        min_child_samples=20, min_child_weight=5.04261361744641,\n",
       "        min_split_gain=0.07362854888667725, n_estimators=100, n_jobs=-1,\n",
       "        num_iterations=4000, num_leaves=34, objective=None,\n",
       "        random_state=42, reg_alpha=0.0, reg_lambda=0.0, silent=True,\n",
       "        subsample=1.0, subsample_for_bin=200000, subsample_freq=0)"
      ]
     },
     "execution_count": 76,
     "metadata": {},
     "output_type": "execute_result"
    }
   ],
   "source": [
    "clf = lightgbmClassifier(**max_params)\n",
    "clf.fit(X_lgbm_feats_train, y)"
   ]
  },
  {
   "cell_type": "code",
   "execution_count": 77,
   "metadata": {},
   "outputs": [
    {
     "name": "stderr",
     "output_type": "stream",
     "text": [
      "C:\\Users\\Simeon\\Anaconda3\\envs\\First\\lib\\site-packages\\lightgbm\\basic.py:452: UserWarning: Converting data to scipy sparse matrix.\n",
      "  warnings.warn('Converting data to scipy sparse matrix.')\n"
     ]
    }
   ],
   "source": [
    "test_pred = clf.predict(X_lgbm_feats_test)\n",
    "save_test_set(test_pred)"
   ]
  },
  {
   "cell_type": "code",
   "execution_count": 78,
   "metadata": {},
   "outputs": [
    {
     "name": "stdout",
     "output_type": "stream",
     "text": [
      "|   iter    |  target   | baggin... | featur... | lambda_l1 | lambda_l2 | max_depth | min_ch... | min_sp... | num_le... |\n",
      "-------------------------------------------------------------------------------------------------------------------------\n"
     ]
    },
    {
     "name": "stderr",
     "output_type": "stream",
     "text": [
      "C:\\Users\\Simeon\\Anaconda3\\envs\\First\\lib\\site-packages\\lightgbm\\engine.py:113: UserWarning: Found `num_iterations` in params. Will use it instead of argument\n",
      "  warnings.warn(\"Found `{}` in params. Will use it instead of argument\".format(alias))\n",
      "C:\\Users\\Simeon\\Anaconda3\\envs\\First\\lib\\site-packages\\lightgbm\\basic.py:452: UserWarning: Converting data to scipy sparse matrix.\n",
      "  warnings.warn('Converting data to scipy sparse matrix.')\n"
     ]
    },
    {
     "name": "stdout",
     "output_type": "stream",
     "text": [
      "True Positives per class :  [ 114.  103. 2117.   89.]\n",
      "False Positives per class :  [93. 77. 95. 67.]\n",
      "False Negatives per class :  [ 36.  39. 221.  36.]\n",
      "Class happy : Precision : 0.572, Recall : 0.725, F1 : 0.640\n",
      "Class sad : Precision : 0.957, Recall : 0.905, F1 : 0.931\n",
      "Class angry : Precision : 0.571, Recall : 0.712, F1 : 0.633\n",
      "Ignoring the Others class, Macro Precision : 0.6999, Macro Recall : 0.7809, Macro F1 : 0.7382\n",
      "Ignoring the Others class, Micro TP : 2309, FP : 239, FN : 296\n",
      "Accuracy : 0.8795, Micro Precision : 0.9062, Micro Recall : 0.8864, Micro F1 : 0.8962\n",
      "| \u001b[0m 1       \u001b[0m | \u001b[0m 0.8962  \u001b[0m | \u001b[0m 0.9098  \u001b[0m | \u001b[0m 0.6722  \u001b[0m | \u001b[0m 3.014   \u001b[0m | \u001b[0m 1.635   \u001b[0m | \u001b[0m 6.695   \u001b[0m | \u001b[0m 34.07   \u001b[0m | \u001b[0m 0.04432 \u001b[0m | \u001b[0m 42.73   \u001b[0m |\n"
     ]
    },
    {
     "name": "stderr",
     "output_type": "stream",
     "text": [
      "C:\\Users\\Simeon\\Anaconda3\\envs\\First\\lib\\site-packages\\lightgbm\\engine.py:113: UserWarning: Found `num_iterations` in params. Will use it instead of argument\n",
      "  warnings.warn(\"Found `{}` in params. Will use it instead of argument\".format(alias))\n",
      "C:\\Users\\Simeon\\Anaconda3\\envs\\First\\lib\\site-packages\\lightgbm\\basic.py:452: UserWarning: Converting data to scipy sparse matrix.\n",
      "  warnings.warn('Converting data to scipy sparse matrix.')\n"
     ]
    },
    {
     "name": "stdout",
     "output_type": "stream",
     "text": [
      "True Positives per class :  [ 112.  100. 2114.   88.]\n",
      "False Positives per class :  [105.  78.  98.  60.]\n",
      "False Negatives per class :  [ 38.  42. 224.  37.]\n",
      "Class happy : Precision : 0.562, Recall : 0.704, F1 : 0.625\n",
      "Class sad : Precision : 0.956, Recall : 0.904, F1 : 0.929\n",
      "Class angry : Precision : 0.595, Recall : 0.704, F1 : 0.645\n",
      "Ignoring the Others class, Macro Precision : 0.7040, Macro Recall : 0.7708, Macro F1 : 0.7359\n",
      "Ignoring the Others class, Micro TP : 2302, FP : 236, FN : 303\n",
      "Accuracy : 0.8762, Micro Precision : 0.9070, Micro Recall : 0.8837, Micro F1 : 0.8952\n",
      "| \u001b[0m 2       \u001b[0m | \u001b[0m 0.8952  \u001b[0m | \u001b[0m 0.9927  \u001b[0m | \u001b[0m 0.4068  \u001b[0m | \u001b[0m 3.959   \u001b[0m | \u001b[0m 1.587   \u001b[0m | \u001b[0m 7.272   \u001b[0m | \u001b[0m 46.65   \u001b[0m | \u001b[0m 0.008033\u001b[0m | \u001b[0m 25.83   \u001b[0m |\n"
     ]
    },
    {
     "name": "stderr",
     "output_type": "stream",
     "text": [
      "C:\\Users\\Simeon\\Anaconda3\\envs\\First\\lib\\site-packages\\lightgbm\\engine.py:113: UserWarning: Found `num_iterations` in params. Will use it instead of argument\n",
      "  warnings.warn(\"Found `{}` in params. Will use it instead of argument\".format(alias))\n",
      "C:\\Users\\Simeon\\Anaconda3\\envs\\First\\lib\\site-packages\\lightgbm\\basic.py:452: UserWarning: Converting data to scipy sparse matrix.\n",
      "  warnings.warn('Converting data to scipy sparse matrix.')\n"
     ]
    },
    {
     "name": "stdout",
     "output_type": "stream",
     "text": [
      "True Positives per class :  [ 113.  100. 2110.   87.]\n",
      "False Positives per class :  [104.  81.  98.  62.]\n",
      "False Negatives per class :  [ 37.  42. 228.  38.]\n",
      "Class happy : Precision : 0.552, Recall : 0.704, F1 : 0.619\n",
      "Class sad : Precision : 0.956, Recall : 0.902, F1 : 0.928\n",
      "Class angry : Precision : 0.584, Recall : 0.696, F1 : 0.635\n",
      "Ignoring the Others class, Macro Precision : 0.6973, Macro Recall : 0.7676, Macro F1 : 0.7308\n",
      "Ignoring the Others class, Micro TP : 2297, FP : 241, FN : 308\n",
      "Accuracy : 0.8748, Micro Precision : 0.9050, Micro Recall : 0.8818, Micro F1 : 0.8933\n",
      "| \u001b[0m 3       \u001b[0m | \u001b[0m 0.8933  \u001b[0m | \u001b[0m 0.804   \u001b[0m | \u001b[0m 0.7661  \u001b[0m | \u001b[0m 3.891   \u001b[0m | \u001b[0m 2.61    \u001b[0m | \u001b[0m 8.914   \u001b[0m | \u001b[0m 40.96   \u001b[0m | \u001b[0m 0.04669 \u001b[0m | \u001b[0m 40.39   \u001b[0m |\n"
     ]
    },
    {
     "name": "stderr",
     "output_type": "stream",
     "text": [
      "C:\\Users\\Simeon\\Anaconda3\\envs\\First\\lib\\site-packages\\lightgbm\\engine.py:113: UserWarning: Found `num_iterations` in params. Will use it instead of argument\n",
      "  warnings.warn(\"Found `{}` in params. Will use it instead of argument\".format(alias))\n",
      "C:\\Users\\Simeon\\Anaconda3\\envs\\First\\lib\\site-packages\\lightgbm\\basic.py:452: UserWarning: Converting data to scipy sparse matrix.\n",
      "  warnings.warn('Converting data to scipy sparse matrix.')\n"
     ]
    },
    {
     "name": "stdout",
     "output_type": "stream",
     "text": [
      "True Positives per class :  [ 115.  103. 2121.   93.]\n",
      "False Positives per class :  [94. 80. 90. 59.]\n",
      "False Negatives per class :  [ 35.  39. 217.  32.]\n",
      "Class happy : Precision : 0.563, Recall : 0.725, F1 : 0.634\n",
      "Class sad : Precision : 0.959, Recall : 0.907, F1 : 0.933\n",
      "Class angry : Precision : 0.612, Recall : 0.744, F1 : 0.671\n",
      "Ignoring the Others class, Macro Precision : 0.7113, Macro Recall : 0.7922, Macro F1 : 0.7496\n",
      "Ignoring the Others class, Micro TP : 2317, FP : 229, FN : 288\n",
      "Accuracy : 0.8828, Micro Precision : 0.9101, Micro Recall : 0.8894, Micro F1 : 0.8996\n",
      "| \u001b[95m 4       \u001b[0m | \u001b[95m 0.8996  \u001b[0m | \u001b[95m 0.8237  \u001b[0m | \u001b[95m 0.6119  \u001b[0m | \u001b[95m 0.7168  \u001b[0m | \u001b[95m 2.834   \u001b[0m | \u001b[95m 7.087   \u001b[0m | \u001b[95m 23.66   \u001b[0m | \u001b[95m 0.02719 \u001b[0m | \u001b[95m 40.26   \u001b[0m |\n"
     ]
    },
    {
     "name": "stderr",
     "output_type": "stream",
     "text": [
      "C:\\Users\\Simeon\\Anaconda3\\envs\\First\\lib\\site-packages\\lightgbm\\engine.py:113: UserWarning: Found `num_iterations` in params. Will use it instead of argument\n",
      "  warnings.warn(\"Found `{}` in params. Will use it instead of argument\".format(alias))\n",
      "C:\\Users\\Simeon\\Anaconda3\\envs\\First\\lib\\site-packages\\lightgbm\\basic.py:452: UserWarning: Converting data to scipy sparse matrix.\n",
      "  warnings.warn('Converting data to scipy sparse matrix.')\n"
     ]
    },
    {
     "name": "stdout",
     "output_type": "stream",
     "text": [
      "True Positives per class :  [ 116.  102. 2119.   91.]\n",
      "False Positives per class :  [94. 77. 95. 61.]\n",
      "False Negatives per class :  [ 34.  40. 219.  34.]\n",
      "Class happy : Precision : 0.570, Recall : 0.718, F1 : 0.636\n",
      "Class sad : Precision : 0.957, Recall : 0.906, F1 : 0.931\n",
      "Class angry : Precision : 0.599, Recall : 0.728, F1 : 0.657\n",
      "Ignoring the Others class, Macro Precision : 0.7085, Macro Recall : 0.7842, Macro F1 : 0.7445\n",
      "Ignoring the Others class, Micro TP : 2312, FP : 233, FN : 293\n",
      "Accuracy : 0.8813, Micro Precision : 0.9084, Micro Recall : 0.8875, Micro F1 : 0.8979\n",
      "| \u001b[0m 5       \u001b[0m | \u001b[0m 0.8979  \u001b[0m | \u001b[0m 0.8912  \u001b[0m | \u001b[0m 0.5547  \u001b[0m | \u001b[0m 0.09395 \u001b[0m | \u001b[0m 1.853   \u001b[0m | \u001b[0m 7.448   \u001b[0m | \u001b[0m 32.76   \u001b[0m | \u001b[0m 0.09443 \u001b[0m | \u001b[0m 38.32   \u001b[0m |\n"
     ]
    },
    {
     "name": "stderr",
     "output_type": "stream",
     "text": [
      "C:\\Users\\Simeon\\Anaconda3\\envs\\First\\lib\\site-packages\\lightgbm\\engine.py:113: UserWarning: Found `num_iterations` in params. Will use it instead of argument\n",
      "  warnings.warn(\"Found `{}` in params. Will use it instead of argument\".format(alias))\n",
      "C:\\Users\\Simeon\\Anaconda3\\envs\\First\\lib\\site-packages\\lightgbm\\basic.py:452: UserWarning: Converting data to scipy sparse matrix.\n",
      "  warnings.warn('Converting data to scipy sparse matrix.')\n"
     ]
    },
    {
     "name": "stdout",
     "output_type": "stream",
     "text": [
      "True Positives per class :  [ 114.  100. 2114.   91.]\n",
      "False Positives per class :  [97. 79. 94. 66.]\n",
      "False Negatives per class :  [ 36.  42. 224.  34.]\n",
      "Class happy : Precision : 0.559, Recall : 0.704, F1 : 0.623\n",
      "Class sad : Precision : 0.957, Recall : 0.904, F1 : 0.930\n",
      "Class angry : Precision : 0.580, Recall : 0.728, F1 : 0.645\n",
      "Ignoring the Others class, Macro Precision : 0.6986, Macro Recall : 0.7788, Macro F1 : 0.7365\n",
      "Ignoring the Others class, Micro TP : 2305, FP : 239, FN : 300\n",
      "Accuracy : 0.8780, Micro Precision : 0.9061, Micro Recall : 0.8848, Micro F1 : 0.8953\n",
      "| \u001b[0m 6       \u001b[0m | \u001b[0m 0.8953  \u001b[0m | \u001b[0m 0.8719  \u001b[0m | \u001b[0m 0.4496  \u001b[0m | \u001b[0m 3.488   \u001b[0m | \u001b[0m 0.1807  \u001b[0m | \u001b[0m 7.667   \u001b[0m | \u001b[0m 35.18   \u001b[0m | \u001b[0m 0.02183 \u001b[0m | \u001b[0m 26.71   \u001b[0m |\n"
     ]
    },
    {
     "name": "stderr",
     "output_type": "stream",
     "text": [
      "C:\\Users\\Simeon\\Anaconda3\\envs\\First\\lib\\site-packages\\lightgbm\\engine.py:113: UserWarning: Found `num_iterations` in params. Will use it instead of argument\n",
      "  warnings.warn(\"Found `{}` in params. Will use it instead of argument\".format(alias))\n",
      "C:\\Users\\Simeon\\Anaconda3\\envs\\First\\lib\\site-packages\\lightgbm\\basic.py:452: UserWarning: Converting data to scipy sparse matrix.\n",
      "  warnings.warn('Converting data to scipy sparse matrix.')\n"
     ]
    },
    {
     "name": "stdout",
     "output_type": "stream",
     "text": [
      "True Positives per class :  [ 118.  101. 2137.   91.]\n",
      "False Positives per class :  [92. 78. 90. 48.]\n",
      "False Negatives per class :  [ 32.  41. 201.  34.]\n",
      "Class happy : Precision : 0.564, Recall : 0.711, F1 : 0.629\n",
      "Class sad : Precision : 0.960, Recall : 0.914, F1 : 0.936\n",
      "Class angry : Precision : 0.655, Recall : 0.728, F1 : 0.689\n",
      "Ignoring the Others class, Macro Precision : 0.7262, Macro Recall : 0.7844, Macro F1 : 0.7542\n",
      "Ignoring the Others class, Micro TP : 2329, FP : 216, FN : 276\n",
      "Accuracy : 0.8882, Micro Precision : 0.9151, Micro Recall : 0.8940, Micro F1 : 0.9045\n",
      "| \u001b[95m 7       \u001b[0m | \u001b[95m 0.9045  \u001b[0m | \u001b[95m 0.8631  \u001b[0m | \u001b[95m 0.391   \u001b[0m | \u001b[95m 2.851   \u001b[0m | \u001b[95m 1.316   \u001b[0m | \u001b[95m 8.953   \u001b[0m | \u001b[95m 9.592   \u001b[0m | \u001b[95m 0.02168 \u001b[0m | \u001b[95m 27.39   \u001b[0m |\n"
     ]
    },
    {
     "name": "stderr",
     "output_type": "stream",
     "text": [
      "C:\\Users\\Simeon\\Anaconda3\\envs\\First\\lib\\site-packages\\lightgbm\\engine.py:113: UserWarning: Found `num_iterations` in params. Will use it instead of argument\n",
      "  warnings.warn(\"Found `{}` in params. Will use it instead of argument\".format(alias))\n",
      "C:\\Users\\Simeon\\Anaconda3\\envs\\First\\lib\\site-packages\\lightgbm\\basic.py:452: UserWarning: Converting data to scipy sparse matrix.\n",
      "  warnings.warn('Converting data to scipy sparse matrix.')\n"
     ]
    },
    {
     "name": "stdout",
     "output_type": "stream",
     "text": [
      "True Positives per class :  [ 118.  104. 2136.   91.]\n",
      "False Positives per class :  [93. 77. 90. 46.]\n",
      "False Negatives per class :  [ 32.  38. 202.  34.]\n",
      "Class happy : Precision : 0.575, Recall : 0.732, F1 : 0.644\n",
      "Class sad : Precision : 0.960, Recall : 0.914, F1 : 0.936\n",
      "Class angry : Precision : 0.664, Recall : 0.728, F1 : 0.695\n",
      "Ignoring the Others class, Macro Precision : 0.7328, Macro Recall : 0.7913, Macro F1 : 0.7609\n",
      "Ignoring the Others class, Micro TP : 2331, FP : 213, FN : 274\n",
      "Accuracy : 0.8889, Micro Precision : 0.9163, Micro Recall : 0.8948, Micro F1 : 0.9054\n",
      "| \u001b[95m 8       \u001b[0m | \u001b[95m 0.9054  \u001b[0m | \u001b[95m 0.9306  \u001b[0m | \u001b[95m 0.3026  \u001b[0m | \u001b[95m 2.332   \u001b[0m | \u001b[95m 0.7333  \u001b[0m | \u001b[95m 5.636   \u001b[0m | \u001b[95m 9.967   \u001b[0m | \u001b[95m 0.06598 \u001b[0m | \u001b[95m 26.9    \u001b[0m |\n"
     ]
    },
    {
     "name": "stderr",
     "output_type": "stream",
     "text": [
      "C:\\Users\\Simeon\\Anaconda3\\envs\\First\\lib\\site-packages\\lightgbm\\engine.py:113: UserWarning: Found `num_iterations` in params. Will use it instead of argument\n",
      "  warnings.warn(\"Found `{}` in params. Will use it instead of argument\".format(alias))\n",
      "C:\\Users\\Simeon\\Anaconda3\\envs\\First\\lib\\site-packages\\lightgbm\\basic.py:452: UserWarning: Converting data to scipy sparse matrix.\n",
      "  warnings.warn('Converting data to scipy sparse matrix.')\n"
     ]
    },
    {
     "name": "stdout",
     "output_type": "stream",
     "text": [
      "True Positives per class :  [ 119.  104. 2136.   89.]\n",
      "False Positives per class :  [89. 77. 90. 51.]\n",
      "False Negatives per class :  [ 31.  38. 202.  36.]\n",
      "Class happy : Precision : 0.575, Recall : 0.732, F1 : 0.644\n",
      "Class sad : Precision : 0.960, Recall : 0.914, F1 : 0.936\n",
      "Class angry : Precision : 0.636, Recall : 0.712, F1 : 0.672\n",
      "Ignoring the Others class, Macro Precision : 0.7233, Macro Recall : 0.7860, Macro F1 : 0.7533\n",
      "Ignoring the Others class, Micro TP : 2329, FP : 218, FN : 276\n",
      "Accuracy : 0.8886, Micro Precision : 0.9144, Micro Recall : 0.8940, Micro F1 : 0.9041\n",
      "| \u001b[0m 9       \u001b[0m | \u001b[0m 0.9041  \u001b[0m | \u001b[0m 0.8393  \u001b[0m | \u001b[0m 0.395   \u001b[0m | \u001b[0m 4.105   \u001b[0m | \u001b[0m 0.2913  \u001b[0m | \u001b[0m 8.352   \u001b[0m | \u001b[0m 9.324   \u001b[0m | \u001b[0m 0.09767 \u001b[0m | \u001b[0m 33.84   \u001b[0m |\n"
     ]
    },
    {
     "name": "stderr",
     "output_type": "stream",
     "text": [
      "C:\\Users\\Simeon\\Anaconda3\\envs\\First\\lib\\site-packages\\lightgbm\\engine.py:113: UserWarning: Found `num_iterations` in params. Will use it instead of argument\n",
      "  warnings.warn(\"Found `{}` in params. Will use it instead of argument\".format(alias))\n",
      "C:\\Users\\Simeon\\Anaconda3\\envs\\First\\lib\\site-packages\\lightgbm\\basic.py:452: UserWarning: Converting data to scipy sparse matrix.\n",
      "  warnings.warn('Converting data to scipy sparse matrix.')\n"
     ]
    },
    {
     "name": "stdout",
     "output_type": "stream",
     "text": [
      "True Positives per class :  [ 121.  101. 2143.   92.]\n",
      "False Positives per class :  [93. 73. 84. 48.]\n",
      "False Negatives per class :  [ 29.  41. 195.  33.]\n",
      "Class happy : Precision : 0.580, Recall : 0.711, F1 : 0.639\n",
      "Class sad : Precision : 0.962, Recall : 0.917, F1 : 0.939\n",
      "Class angry : Precision : 0.657, Recall : 0.736, F1 : 0.694\n",
      "Ignoring the Others class, Macro Precision : 0.7333, Macro Recall : 0.7880, Macro F1 : 0.7596\n",
      "Ignoring the Others class, Micro TP : 2336, FP : 205, FN : 269\n",
      "Accuracy : 0.8918, Micro Precision : 0.9193, Micro Recall : 0.8967, Micro F1 : 0.9079\n",
      "| \u001b[95m 10      \u001b[0m | \u001b[95m 0.9079  \u001b[0m | \u001b[95m 0.9954  \u001b[0m | \u001b[95m 0.5839  \u001b[0m | \u001b[95m 3.696   \u001b[0m | \u001b[95m 0.1176  \u001b[0m | \u001b[95m 6.131   \u001b[0m | \u001b[95m 10.41   \u001b[0m | \u001b[95m 0.03032 \u001b[0m | \u001b[95m 26.49   \u001b[0m |\n"
     ]
    },
    {
     "name": "stderr",
     "output_type": "stream",
     "text": [
      "C:\\Users\\Simeon\\Anaconda3\\envs\\First\\lib\\site-packages\\lightgbm\\engine.py:113: UserWarning: Found `num_iterations` in params. Will use it instead of argument\n",
      "  warnings.warn(\"Found `{}` in params. Will use it instead of argument\".format(alias))\n",
      "C:\\Users\\Simeon\\Anaconda3\\envs\\First\\lib\\site-packages\\lightgbm\\basic.py:452: UserWarning: Converting data to scipy sparse matrix.\n",
      "  warnings.warn('Converting data to scipy sparse matrix.')\n"
     ]
    },
    {
     "name": "stdout",
     "output_type": "stream",
     "text": [
      "True Positives per class :  [ 115.  102. 2123.   95.]\n",
      "False Positives per class :  [93. 83. 90. 54.]\n",
      "False Negatives per class :  [ 35.  40. 215.  30.]\n",
      "Class happy : Precision : 0.551, Recall : 0.718, F1 : 0.624\n",
      "Class sad : Precision : 0.959, Recall : 0.908, F1 : 0.933\n",
      "Class angry : Precision : 0.638, Recall : 0.760, F1 : 0.693\n",
      "Ignoring the Others class, Macro Precision : 0.7161, Macro Recall : 0.7955, Macro F1 : 0.7537\n",
      "Ignoring the Others class, Micro TP : 2320, FP : 227, FN : 285\n",
      "Accuracy : 0.8838, Micro Precision : 0.9109, Micro Recall : 0.8906, Micro F1 : 0.9006\n",
      "| \u001b[0m 11      \u001b[0m | \u001b[0m 0.9006  \u001b[0m | \u001b[0m 0.8636  \u001b[0m | \u001b[0m 0.4314  \u001b[0m | \u001b[0m 0.3207  \u001b[0m | \u001b[0m 2.077   \u001b[0m | \u001b[0m 7.266   \u001b[0m | \u001b[0m 16.94   \u001b[0m | \u001b[0m 0.0528  \u001b[0m | \u001b[0m 25.97   \u001b[0m |\n"
     ]
    },
    {
     "name": "stderr",
     "output_type": "stream",
     "text": [
      "C:\\Users\\Simeon\\Anaconda3\\envs\\First\\lib\\site-packages\\lightgbm\\engine.py:113: UserWarning: Found `num_iterations` in params. Will use it instead of argument\n",
      "  warnings.warn(\"Found `{}` in params. Will use it instead of argument\".format(alias))\n",
      "C:\\Users\\Simeon\\Anaconda3\\envs\\First\\lib\\site-packages\\lightgbm\\basic.py:452: UserWarning: Converting data to scipy sparse matrix.\n",
      "  warnings.warn('Converting data to scipy sparse matrix.')\n"
     ]
    },
    {
     "name": "stdout",
     "output_type": "stream",
     "text": [
      "True Positives per class :  [ 113.  100. 2109.   89.]\n",
      "False Positives per class :  [96. 84. 95. 69.]\n",
      "False Negatives per class :  [ 37.  42. 229.  36.]\n",
      "Class happy : Precision : 0.543, Recall : 0.704, F1 : 0.613\n",
      "Class sad : Precision : 0.957, Recall : 0.902, F1 : 0.929\n",
      "Class angry : Precision : 0.563, Recall : 0.712, F1 : 0.629\n",
      "Ignoring the Others class, Macro Precision : 0.6879, Macro Recall : 0.7728, Macro F1 : 0.7279\n",
      "Ignoring the Others class, Micro TP : 2298, FP : 248, FN : 307\n",
      "Accuracy : 0.8751, Micro Precision : 0.9026, Micro Recall : 0.8821, Micro F1 : 0.8923\n",
      "| \u001b[0m 12      \u001b[0m | \u001b[0m 0.8923  \u001b[0m | \u001b[0m 0.9152  \u001b[0m | \u001b[0m 0.8434  \u001b[0m | \u001b[0m 1.593   \u001b[0m | \u001b[0m 2.002   \u001b[0m | \u001b[0m 5.527   \u001b[0m | \u001b[0m 37.23   \u001b[0m | \u001b[0m 0.02965 \u001b[0m | \u001b[0m 27.85   \u001b[0m |\n"
     ]
    },
    {
     "name": "stderr",
     "output_type": "stream",
     "text": [
      "C:\\Users\\Simeon\\Anaconda3\\envs\\First\\lib\\site-packages\\lightgbm\\engine.py:113: UserWarning: Found `num_iterations` in params. Will use it instead of argument\n",
      "  warnings.warn(\"Found `{}` in params. Will use it instead of argument\".format(alias))\n",
      "C:\\Users\\Simeon\\Anaconda3\\envs\\First\\lib\\site-packages\\lightgbm\\basic.py:452: UserWarning: Converting data to scipy sparse matrix.\n",
      "  warnings.warn('Converting data to scipy sparse matrix.')\n"
     ]
    },
    {
     "name": "stdout",
     "output_type": "stream",
     "text": [
      "True Positives per class :  [ 117.  102. 2143.   93.]\n",
      "False Positives per class :  [86. 77. 91. 46.]\n",
      "False Negatives per class :  [ 33.  40. 195.  32.]\n",
      "Class happy : Precision : 0.570, Recall : 0.718, F1 : 0.636\n",
      "Class sad : Precision : 0.959, Recall : 0.917, F1 : 0.937\n",
      "Class angry : Precision : 0.669, Recall : 0.744, F1 : 0.705\n",
      "Ignoring the Others class, Macro Precision : 0.7327, Macro Recall : 0.7930, Macro F1 : 0.7617\n",
      "Ignoring the Others class, Micro TP : 2338, FP : 214, FN : 267\n",
      "Accuracy : 0.8911, Micro Precision : 0.9161, Micro Recall : 0.8975, Micro F1 : 0.9067\n",
      "| \u001b[0m 13      \u001b[0m | \u001b[0m 0.9067  \u001b[0m | \u001b[0m 0.9173  \u001b[0m | \u001b[0m 0.1161  \u001b[0m | \u001b[0m 4.145   \u001b[0m | \u001b[0m 0.01409 \u001b[0m | \u001b[0m 7.711   \u001b[0m | \u001b[0m 17.15   \u001b[0m | \u001b[0m 0.07378 \u001b[0m | \u001b[0m 44.21   \u001b[0m |\n"
     ]
    },
    {
     "name": "stderr",
     "output_type": "stream",
     "text": [
      "C:\\Users\\Simeon\\Anaconda3\\envs\\First\\lib\\site-packages\\lightgbm\\engine.py:113: UserWarning: Found `num_iterations` in params. Will use it instead of argument\n",
      "  warnings.warn(\"Found `{}` in params. Will use it instead of argument\".format(alias))\n",
      "C:\\Users\\Simeon\\Anaconda3\\envs\\First\\lib\\site-packages\\lightgbm\\basic.py:452: UserWarning: Converting data to scipy sparse matrix.\n",
      "  warnings.warn('Converting data to scipy sparse matrix.')\n"
     ]
    },
    {
     "name": "stdout",
     "output_type": "stream",
     "text": [
      "True Positives per class :  [ 114.  102. 2106.   87.]\n",
      "False Positives per class :  [106.  78.  97.  65.]\n",
      "False Negatives per class :  [ 36.  40. 232.  38.]\n",
      "Class happy : Precision : 0.567, Recall : 0.718, F1 : 0.634\n",
      "Class sad : Precision : 0.956, Recall : 0.901, F1 : 0.928\n",
      "Class angry : Precision : 0.572, Recall : 0.696, F1 : 0.628\n",
      "Ignoring the Others class, Macro Precision : 0.6983, Macro Recall : 0.7717, Macro F1 : 0.7332\n",
      "Ignoring the Others class, Micro TP : 2295, FP : 240, FN : 310\n",
      "Accuracy : 0.8744, Micro Precision : 0.9053, Micro Recall : 0.8810, Micro F1 : 0.8930\n",
      "| \u001b[0m 14      \u001b[0m | \u001b[0m 0.893   \u001b[0m | \u001b[0m 0.8498  \u001b[0m | \u001b[0m 0.5609  \u001b[0m | \u001b[0m 2.96    \u001b[0m | \u001b[0m 1.717   \u001b[0m | \u001b[0m 5.892   \u001b[0m | \u001b[0m 47.87   \u001b[0m | \u001b[0m 0.04527 \u001b[0m | \u001b[0m 41.77   \u001b[0m |\n"
     ]
    },
    {
     "name": "stderr",
     "output_type": "stream",
     "text": [
      "C:\\Users\\Simeon\\Anaconda3\\envs\\First\\lib\\site-packages\\lightgbm\\engine.py:113: UserWarning: Found `num_iterations` in params. Will use it instead of argument\n",
      "  warnings.warn(\"Found `{}` in params. Will use it instead of argument\".format(alias))\n",
      "C:\\Users\\Simeon\\Anaconda3\\envs\\First\\lib\\site-packages\\lightgbm\\basic.py:452: UserWarning: Converting data to scipy sparse matrix.\n",
      "  warnings.warn('Converting data to scipy sparse matrix.')\n"
     ]
    },
    {
     "name": "stdout",
     "output_type": "stream",
     "text": [
      "True Positives per class :  [ 116.  103. 2130.   90.]\n",
      "False Positives per class :  [90. 80. 91. 55.]\n",
      "False Negatives per class :  [ 34.  39. 208.  35.]\n",
      "Class happy : Precision : 0.563, Recall : 0.725, F1 : 0.634\n",
      "Class sad : Precision : 0.959, Recall : 0.911, F1 : 0.934\n",
      "Class angry : Precision : 0.621, Recall : 0.720, F1 : 0.667\n",
      "Ignoring the Others class, Macro Precision : 0.7142, Macro Recall : 0.7855, Macro F1 : 0.7481\n",
      "Ignoring the Others class, Micro TP : 2323, FP : 226, FN : 282\n",
      "Accuracy : 0.8853, Micro Precision : 0.9113, Micro Recall : 0.8917, Micro F1 : 0.9014\n",
      "| \u001b[0m 15      \u001b[0m | \u001b[0m 0.9014  \u001b[0m | \u001b[0m 0.9399  \u001b[0m | \u001b[0m 0.3379  \u001b[0m | \u001b[0m 4.069   \u001b[0m | \u001b[0m 1.19    \u001b[0m | \u001b[0m 8.524   \u001b[0m | \u001b[0m 31.16   \u001b[0m | \u001b[0m 0.08829 \u001b[0m | \u001b[0m 38.54   \u001b[0m |\n"
     ]
    },
    {
     "name": "stderr",
     "output_type": "stream",
     "text": [
      "C:\\Users\\Simeon\\Anaconda3\\envs\\First\\lib\\site-packages\\lightgbm\\engine.py:113: UserWarning: Found `num_iterations` in params. Will use it instead of argument\n",
      "  warnings.warn(\"Found `{}` in params. Will use it instead of argument\".format(alias))\n",
      "C:\\Users\\Simeon\\Anaconda3\\envs\\First\\lib\\site-packages\\lightgbm\\basic.py:452: UserWarning: Converting data to scipy sparse matrix.\n",
      "  warnings.warn('Converting data to scipy sparse matrix.')\n"
     ]
    },
    {
     "name": "stdout",
     "output_type": "stream",
     "text": [
      "True Positives per class :  [ 113.  102. 2110.   90.]\n",
      "False Positives per class :  [99. 81. 93. 67.]\n",
      "False Negatives per class :  [ 37.  40. 228.  35.]\n",
      "Class happy : Precision : 0.557, Recall : 0.718, F1 : 0.628\n",
      "Class sad : Precision : 0.958, Recall : 0.902, F1 : 0.929\n",
      "Class angry : Precision : 0.573, Recall : 0.720, F1 : 0.638\n",
      "Ignoring the Others class, Macro Precision : 0.6961, Macro Recall : 0.7803, Macro F1 : 0.7358\n",
      "Ignoring the Others class, Micro TP : 2302, FP : 241, FN : 303\n",
      "Accuracy : 0.8766, Micro Precision : 0.9052, Micro Recall : 0.8837, Micro F1 : 0.8943\n",
      "| \u001b[0m 16      \u001b[0m | \u001b[0m 0.8943  \u001b[0m | \u001b[0m 0.9451  \u001b[0m | \u001b[0m 0.5011  \u001b[0m | \u001b[0m 4.78    \u001b[0m | \u001b[0m 1.932   \u001b[0m | \u001b[0m 6.695   \u001b[0m | \u001b[0m 32.29   \u001b[0m | \u001b[0m 0.0029  \u001b[0m | \u001b[0m 30.33   \u001b[0m |\n"
     ]
    },
    {
     "name": "stderr",
     "output_type": "stream",
     "text": [
      "C:\\Users\\Simeon\\Anaconda3\\envs\\First\\lib\\site-packages\\lightgbm\\engine.py:113: UserWarning: Found `num_iterations` in params. Will use it instead of argument\n",
      "  warnings.warn(\"Found `{}` in params. Will use it instead of argument\".format(alias))\n",
      "C:\\Users\\Simeon\\Anaconda3\\envs\\First\\lib\\site-packages\\lightgbm\\basic.py:452: UserWarning: Converting data to scipy sparse matrix.\n",
      "  warnings.warn('Converting data to scipy sparse matrix.')\n"
     ]
    },
    {
     "name": "stdout",
     "output_type": "stream",
     "text": [
      "True Positives per class :  [ 117.  103. 2139.   94.]\n",
      "False Positives per class :  [90. 74. 86. 52.]\n",
      "False Negatives per class :  [ 33.  39. 199.  31.]\n",
      "Class happy : Precision : 0.582, Recall : 0.725, F1 : 0.646\n",
      "Class sad : Precision : 0.961, Recall : 0.915, F1 : 0.938\n",
      "Class angry : Precision : 0.644, Recall : 0.752, F1 : 0.694\n",
      "Ignoring the Others class, Macro Precision : 0.7290, Macro Recall : 0.7974, Macro F1 : 0.7617\n",
      "Ignoring the Others class, Micro TP : 2336, FP : 212, FN : 269\n",
      "Accuracy : 0.8904, Micro Precision : 0.9168, Micro Recall : 0.8967, Micro F1 : 0.9067\n",
      "| \u001b[0m 17      \u001b[0m | \u001b[0m 0.9067  \u001b[0m | \u001b[0m 0.932   \u001b[0m | \u001b[0m 0.3321  \u001b[0m | \u001b[0m 3.09    \u001b[0m | \u001b[0m 1.286   \u001b[0m | \u001b[0m 5.542   \u001b[0m | \u001b[0m 18.42   \u001b[0m | \u001b[0m 0.05743 \u001b[0m | \u001b[0m 36.41   \u001b[0m |\n"
     ]
    },
    {
     "name": "stderr",
     "output_type": "stream",
     "text": [
      "C:\\Users\\Simeon\\Anaconda3\\envs\\First\\lib\\site-packages\\lightgbm\\engine.py:113: UserWarning: Found `num_iterations` in params. Will use it instead of argument\n",
      "  warnings.warn(\"Found `{}` in params. Will use it instead of argument\".format(alias))\n",
      "C:\\Users\\Simeon\\Anaconda3\\envs\\First\\lib\\site-packages\\lightgbm\\basic.py:452: UserWarning: Converting data to scipy sparse matrix.\n",
      "  warnings.warn('Converting data to scipy sparse matrix.')\n"
     ]
    },
    {
     "name": "stdout",
     "output_type": "stream",
     "text": [
      "True Positives per class :  [ 116.  102. 2131.   93.]\n",
      "False Positives per class :  [92. 75. 91. 55.]\n",
      "False Negatives per class :  [ 34.  40. 207.  32.]\n",
      "Class happy : Precision : 0.576, Recall : 0.718, F1 : 0.639\n",
      "Class sad : Precision : 0.959, Recall : 0.911, F1 : 0.935\n",
      "Class angry : Precision : 0.628, Recall : 0.744, F1 : 0.681\n",
      "Ignoring the Others class, Macro Precision : 0.7212, Macro Recall : 0.7913, Macro F1 : 0.7546\n",
      "Ignoring the Others class, Micro TP : 2326, FP : 221, FN : 279\n",
      "Accuracy : 0.8864, Micro Precision : 0.9132, Micro Recall : 0.8929, Micro F1 : 0.9030\n",
      "| \u001b[0m 18      \u001b[0m | \u001b[0m 0.903   \u001b[0m | \u001b[0m 0.9149  \u001b[0m | \u001b[0m 0.6226  \u001b[0m | \u001b[0m 3.261   \u001b[0m | \u001b[0m 1.294   \u001b[0m | \u001b[0m 8.586   \u001b[0m | \u001b[0m 21.54   \u001b[0m | \u001b[0m 0.04415 \u001b[0m | \u001b[0m 42.73   \u001b[0m |\n"
     ]
    },
    {
     "name": "stderr",
     "output_type": "stream",
     "text": [
      "C:\\Users\\Simeon\\Anaconda3\\envs\\First\\lib\\site-packages\\lightgbm\\engine.py:113: UserWarning: Found `num_iterations` in params. Will use it instead of argument\n",
      "  warnings.warn(\"Found `{}` in params. Will use it instead of argument\".format(alias))\n",
      "C:\\Users\\Simeon\\Anaconda3\\envs\\First\\lib\\site-packages\\lightgbm\\basic.py:452: UserWarning: Converting data to scipy sparse matrix.\n",
      "  warnings.warn('Converting data to scipy sparse matrix.')\n"
     ]
    },
    {
     "name": "stdout",
     "output_type": "stream",
     "text": [
      "True Positives per class :  [ 110.  101. 2092.   88.]\n",
      "False Positives per class :  [101.  86.  94.  83.]\n",
      "False Negatives per class :  [ 40.  41. 246.  37.]\n",
      "Class happy : Precision : 0.540, Recall : 0.711, F1 : 0.614\n",
      "Class sad : Precision : 0.957, Recall : 0.895, F1 : 0.925\n",
      "Class angry : Precision : 0.515, Recall : 0.704, F1 : 0.595\n",
      "Ignoring the Others class, Macro Precision : 0.6706, Macro Recall : 0.7700, Macro F1 : 0.7169\n",
      "Ignoring the Others class, Micro TP : 2281, FP : 263, FN : 324\n",
      "Accuracy : 0.8679, Micro Precision : 0.8966, Micro Recall : 0.8756, Micro F1 : 0.8860\n",
      "| \u001b[0m 19      \u001b[0m | \u001b[0m 0.886   \u001b[0m | \u001b[0m 0.9612  \u001b[0m | \u001b[0m 0.6631  \u001b[0m | \u001b[0m 0.5011  \u001b[0m | \u001b[0m 2.758   \u001b[0m | \u001b[0m 7.857   \u001b[0m | \u001b[0m 49.95   \u001b[0m | \u001b[0m 0.0158  \u001b[0m | \u001b[0m 42.23   \u001b[0m |\n"
     ]
    },
    {
     "name": "stderr",
     "output_type": "stream",
     "text": [
      "C:\\Users\\Simeon\\Anaconda3\\envs\\First\\lib\\site-packages\\lightgbm\\engine.py:113: UserWarning: Found `num_iterations` in params. Will use it instead of argument\n",
      "  warnings.warn(\"Found `{}` in params. Will use it instead of argument\".format(alias))\n",
      "C:\\Users\\Simeon\\Anaconda3\\envs\\First\\lib\\site-packages\\lightgbm\\basic.py:452: UserWarning: Converting data to scipy sparse matrix.\n",
      "  warnings.warn('Converting data to scipy sparse matrix.')\n"
     ]
    },
    {
     "name": "stdout",
     "output_type": "stream",
     "text": [
      "True Positives per class :  [ 117.  102. 2118.   91.]\n",
      "False Positives per class :  [94. 79. 90. 64.]\n",
      "False Negatives per class :  [ 33.  40. 220.  34.]\n",
      "Class happy : Precision : 0.564, Recall : 0.718, F1 : 0.632\n",
      "Class sad : Precision : 0.959, Recall : 0.906, F1 : 0.932\n",
      "Class angry : Precision : 0.587, Recall : 0.728, F1 : 0.650\n",
      "Ignoring the Others class, Macro Precision : 0.7033, Macro Recall : 0.7841, Macro F1 : 0.7415\n",
      "Ignoring the Others class, Micro TP : 2311, FP : 233, FN : 294\n",
      "Accuracy : 0.8813, Micro Precision : 0.9084, Micro Recall : 0.8871, Micro F1 : 0.8977\n",
      "| \u001b[0m 20      \u001b[0m | \u001b[0m 0.8977  \u001b[0m | \u001b[0m 0.8325  \u001b[0m | \u001b[0m 0.5924  \u001b[0m | \u001b[0m 0.6191  \u001b[0m | \u001b[0m 2.544   \u001b[0m | \u001b[0m 8.229   \u001b[0m | \u001b[0m 30.61   \u001b[0m | \u001b[0m 0.04131 \u001b[0m | \u001b[0m 25.45   \u001b[0m |\n"
     ]
    },
    {
     "name": "stderr",
     "output_type": "stream",
     "text": [
      "C:\\Users\\Simeon\\Anaconda3\\envs\\First\\lib\\site-packages\\lightgbm\\engine.py:113: UserWarning: Found `num_iterations` in params. Will use it instead of argument\n",
      "  warnings.warn(\"Found `{}` in params. Will use it instead of argument\".format(alias))\n",
      "C:\\Users\\Simeon\\Anaconda3\\envs\\First\\lib\\site-packages\\lightgbm\\basic.py:452: UserWarning: Converting data to scipy sparse matrix.\n",
      "  warnings.warn('Converting data to scipy sparse matrix.')\n"
     ]
    },
    {
     "name": "stdout",
     "output_type": "stream",
     "text": [
      "True Positives per class :  [ 118.  100. 2134.   92.]\n",
      "False Positives per class :  [94. 75. 91. 51.]\n",
      "False Negatives per class :  [ 32.  42. 204.  33.]\n",
      "Class happy : Precision : 0.571, Recall : 0.704, F1 : 0.631\n",
      "Class sad : Precision : 0.959, Recall : 0.913, F1 : 0.935\n",
      "Class angry : Precision : 0.643, Recall : 0.736, F1 : 0.687\n",
      "Ignoring the Others class, Macro Precision : 0.7246, Macro Recall : 0.7843, Macro F1 : 0.7533\n",
      "Ignoring the Others class, Micro TP : 2326, FP : 217, FN : 279\n",
      "Accuracy : 0.8871, Micro Precision : 0.9147, Micro Recall : 0.8929, Micro F1 : 0.9037\n",
      "| \u001b[0m 21      \u001b[0m | \u001b[0m 0.9037  \u001b[0m | \u001b[0m 0.8337  \u001b[0m | \u001b[0m 0.8029  \u001b[0m | \u001b[0m 4.644   \u001b[0m | \u001b[0m 1.914   \u001b[0m | \u001b[0m 5.026   \u001b[0m | \u001b[0m 5.946   \u001b[0m | \u001b[0m 0.002599\u001b[0m | \u001b[0m 44.58   \u001b[0m |\n"
     ]
    },
    {
     "name": "stderr",
     "output_type": "stream",
     "text": [
      "C:\\Users\\Simeon\\Anaconda3\\envs\\First\\lib\\site-packages\\lightgbm\\engine.py:113: UserWarning: Found `num_iterations` in params. Will use it instead of argument\n",
      "  warnings.warn(\"Found `{}` in params. Will use it instead of argument\".format(alias))\n",
      "C:\\Users\\Simeon\\Anaconda3\\envs\\First\\lib\\site-packages\\lightgbm\\basic.py:452: UserWarning: Converting data to scipy sparse matrix.\n",
      "  warnings.warn('Converting data to scipy sparse matrix.')\n"
     ]
    },
    {
     "name": "stdout",
     "output_type": "stream",
     "text": [
      "True Positives per class :  [ 118.   99. 2146.   90.]\n",
      "False Positives per class :  [89. 70. 95. 48.]\n",
      "False Negatives per class :  [ 32.  43. 192.  35.]\n",
      "Class happy : Precision : 0.586, Recall : 0.697, F1 : 0.637\n",
      "Class sad : Precision : 0.958, Recall : 0.918, F1 : 0.937\n",
      "Class angry : Precision : 0.652, Recall : 0.720, F1 : 0.684\n",
      "Ignoring the Others class, Macro Precision : 0.7319, Macro Recall : 0.7784, Macro F1 : 0.7544\n",
      "Ignoring the Others class, Micro TP : 2335, FP : 213, FN : 270\n",
      "Accuracy : 0.8904, Micro Precision : 0.9164, Micro Recall : 0.8964, Micro F1 : 0.9063\n",
      "| \u001b[0m 22      \u001b[0m | \u001b[0m 0.9063  \u001b[0m | \u001b[0m 0.8857  \u001b[0m | \u001b[0m 0.2318  \u001b[0m | \u001b[0m 4.987   \u001b[0m | \u001b[0m 2.946   \u001b[0m | \u001b[0m 5.183   \u001b[0m | \u001b[0m 5.897   \u001b[0m | \u001b[0m 0.06954 \u001b[0m | \u001b[0m 25.99   \u001b[0m |\n"
     ]
    },
    {
     "name": "stderr",
     "output_type": "stream",
     "text": [
      "C:\\Users\\Simeon\\Anaconda3\\envs\\First\\lib\\site-packages\\lightgbm\\engine.py:113: UserWarning: Found `num_iterations` in params. Will use it instead of argument\n",
      "  warnings.warn(\"Found `{}` in params. Will use it instead of argument\".format(alias))\n",
      "C:\\Users\\Simeon\\Anaconda3\\envs\\First\\lib\\site-packages\\lightgbm\\basic.py:452: UserWarning: Converting data to scipy sparse matrix.\n",
      "  warnings.warn('Converting data to scipy sparse matrix.')\n"
     ]
    },
    {
     "name": "stdout",
     "output_type": "stream",
     "text": [
      "True Positives per class :  [ 117.  104. 2144.   96.]\n",
      "False Positives per class :  [89. 76. 86. 43.]\n",
      "False Negatives per class :  [ 33.  38. 194.  29.]\n",
      "Class happy : Precision : 0.578, Recall : 0.732, F1 : 0.646\n",
      "Class sad : Precision : 0.961, Recall : 0.917, F1 : 0.939\n",
      "Class angry : Precision : 0.691, Recall : 0.768, F1 : 0.727\n",
      "Ignoring the Others class, Macro Precision : 0.7433, Macro Recall : 0.8058, Macro F1 : 0.7733\n",
      "Ignoring the Others class, Micro TP : 2344, FP : 205, FN : 261\n",
      "Accuracy : 0.8933, Micro Precision : 0.9196, Micro Recall : 0.8998, Micro F1 : 0.9096\n",
      "| \u001b[95m 23      \u001b[0m | \u001b[95m 0.9096  \u001b[0m | \u001b[95m 0.9721  \u001b[0m | \u001b[95m 0.6383  \u001b[0m | \u001b[95m 0.09735 \u001b[0m | \u001b[95m 0.416   \u001b[0m | \u001b[95m 5.344   \u001b[0m | \u001b[95m 5.06    \u001b[0m | \u001b[95m 0.05997 \u001b[0m | \u001b[95m 24.02   \u001b[0m |\n"
     ]
    },
    {
     "name": "stderr",
     "output_type": "stream",
     "text": [
      "C:\\Users\\Simeon\\Anaconda3\\envs\\First\\lib\\site-packages\\lightgbm\\engine.py:113: UserWarning: Found `num_iterations` in params. Will use it instead of argument\n",
      "  warnings.warn(\"Found `{}` in params. Will use it instead of argument\".format(alias))\n",
      "C:\\Users\\Simeon\\Anaconda3\\envs\\First\\lib\\site-packages\\lightgbm\\basic.py:452: UserWarning: Converting data to scipy sparse matrix.\n",
      "  warnings.warn('Converting data to scipy sparse matrix.')\n"
     ]
    },
    {
     "name": "stdout",
     "output_type": "stream",
     "text": [
      "True Positives per class :  [ 120.  102. 2144.   92.]\n",
      "False Positives per class :  [87. 76. 89. 45.]\n",
      "False Negatives per class :  [ 30.  40. 194.  33.]\n",
      "Class happy : Precision : 0.573, Recall : 0.718, F1 : 0.637\n",
      "Class sad : Precision : 0.960, Recall : 0.917, F1 : 0.938\n",
      "Class angry : Precision : 0.672, Recall : 0.736, F1 : 0.702\n",
      "Ignoring the Others class, Macro Precision : 0.7349, Macro Recall : 0.7904, Macro F1 : 0.7617\n",
      "Ignoring the Others class, Micro TP : 2338, FP : 210, FN : 267\n",
      "Accuracy : 0.8922, Micro Precision : 0.9176, Micro Recall : 0.8975, Micro F1 : 0.9074\n",
      "| \u001b[0m 24      \u001b[0m | \u001b[0m 0.9074  \u001b[0m | \u001b[0m 0.9531  \u001b[0m | \u001b[0m 0.1141  \u001b[0m | \u001b[0m 4.801   \u001b[0m | \u001b[0m 0.1796  \u001b[0m | \u001b[0m 5.178   \u001b[0m | \u001b[0m 5.322   \u001b[0m | \u001b[0m 0.07225 \u001b[0m | \u001b[0m 24.49   \u001b[0m |\n"
     ]
    },
    {
     "name": "stderr",
     "output_type": "stream",
     "text": [
      "C:\\Users\\Simeon\\Anaconda3\\envs\\First\\lib\\site-packages\\lightgbm\\engine.py:113: UserWarning: Found `num_iterations` in params. Will use it instead of argument\n",
      "  warnings.warn(\"Found `{}` in params. Will use it instead of argument\".format(alias))\n",
      "C:\\Users\\Simeon\\Anaconda3\\envs\\First\\lib\\site-packages\\lightgbm\\basic.py:452: UserWarning: Converting data to scipy sparse matrix.\n",
      "  warnings.warn('Converting data to scipy sparse matrix.')\n"
     ]
    },
    {
     "name": "stdout",
     "output_type": "stream",
     "text": [
      "True Positives per class :  [ 120.  103. 2132.   99.]\n",
      "False Positives per class :  [96. 78. 80. 47.]\n",
      "False Negatives per class :  [ 30.  39. 206.  26.]\n",
      "Class happy : Precision : 0.569, Recall : 0.725, F1 : 0.638\n",
      "Class sad : Precision : 0.964, Recall : 0.912, F1 : 0.937\n",
      "Class angry : Precision : 0.678, Recall : 0.792, F1 : 0.731\n",
      "Ignoring the Others class, Macro Precision : 0.7370, Macro Recall : 0.8097, Macro F1 : 0.7717\n",
      "Ignoring the Others class, Micro TP : 2334, FP : 205, FN : 271\n",
      "Accuracy : 0.8907, Micro Precision : 0.9193, Micro Recall : 0.8960, Micro F1 : 0.9075\n",
      "| \u001b[0m 25      \u001b[0m | \u001b[0m 0.9075  \u001b[0m | \u001b[0m 0.8557  \u001b[0m | \u001b[0m 0.1009  \u001b[0m | \u001b[0m 0.001311\u001b[0m | \u001b[0m 0.1368  \u001b[0m | \u001b[0m 5.255   \u001b[0m | \u001b[0m 9.606   \u001b[0m | \u001b[0m 0.0439  \u001b[0m | \u001b[0m 44.56   \u001b[0m |\n"
     ]
    },
    {
     "name": "stderr",
     "output_type": "stream",
     "text": [
      "C:\\Users\\Simeon\\Anaconda3\\envs\\First\\lib\\site-packages\\lightgbm\\engine.py:113: UserWarning: Found `num_iterations` in params. Will use it instead of argument\n",
      "  warnings.warn(\"Found `{}` in params. Will use it instead of argument\".format(alias))\n",
      "C:\\Users\\Simeon\\Anaconda3\\envs\\First\\lib\\site-packages\\lightgbm\\basic.py:452: UserWarning: Converting data to scipy sparse matrix.\n",
      "  warnings.warn('Converting data to scipy sparse matrix.')\n"
     ]
    },
    {
     "name": "stdout",
     "output_type": "stream",
     "text": [
      "True Positives per class :  [ 122.  104. 2139.   94.]\n",
      "False Positives per class :  [91. 80. 83. 42.]\n",
      "False Negatives per class :  [ 28.  38. 199.  31.]\n",
      "Class happy : Precision : 0.565, Recall : 0.732, F1 : 0.638\n",
      "Class sad : Precision : 0.963, Recall : 0.915, F1 : 0.938\n",
      "Class angry : Precision : 0.691, Recall : 0.752, F1 : 0.720\n",
      "Ignoring the Others class, Macro Precision : 0.7397, Macro Recall : 0.7998, Macro F1 : 0.7685\n",
      "Ignoring the Others class, Micro TP : 2337, FP : 205, FN : 268\n",
      "Accuracy : 0.8926, Micro Precision : 0.9194, Micro Recall : 0.8971, Micro F1 : 0.9081\n",
      "| \u001b[0m 26      \u001b[0m | \u001b[0m 0.9081  \u001b[0m | \u001b[0m 0.9391  \u001b[0m | \u001b[0m 0.1182  \u001b[0m | \u001b[0m 0.08238 \u001b[0m | \u001b[0m 0.08646 \u001b[0m | \u001b[0m 5.032   \u001b[0m | \u001b[0m 5.678   \u001b[0m | \u001b[0m 0.06694 \u001b[0m | \u001b[0m 36.72   \u001b[0m |\n"
     ]
    },
    {
     "name": "stderr",
     "output_type": "stream",
     "text": [
      "C:\\Users\\Simeon\\Anaconda3\\envs\\First\\lib\\site-packages\\lightgbm\\engine.py:113: UserWarning: Found `num_iterations` in params. Will use it instead of argument\n",
      "  warnings.warn(\"Found `{}` in params. Will use it instead of argument\".format(alias))\n",
      "C:\\Users\\Simeon\\Anaconda3\\envs\\First\\lib\\site-packages\\lightgbm\\basic.py:452: UserWarning: Converting data to scipy sparse matrix.\n",
      "  warnings.warn('Converting data to scipy sparse matrix.')\n"
     ]
    },
    {
     "name": "stdout",
     "output_type": "stream",
     "text": [
      "True Positives per class :  [ 118.  103. 2135.   90.]\n",
      "False Positives per class :  [91. 74. 90. 54.]\n",
      "False Negatives per class :  [ 32.  39. 203.  35.]\n",
      "Class happy : Precision : 0.582, Recall : 0.725, F1 : 0.646\n",
      "Class sad : Precision : 0.960, Recall : 0.913, F1 : 0.936\n",
      "Class angry : Precision : 0.625, Recall : 0.720, F1 : 0.669\n",
      "Ignoring the Others class, Macro Precision : 0.7222, Macro Recall : 0.7862, Macro F1 : 0.7528\n",
      "Ignoring the Others class, Micro TP : 2328, FP : 218, FN : 277\n",
      "Accuracy : 0.8878, Micro Precision : 0.9144, Micro Recall : 0.8937, Micro F1 : 0.9039\n",
      "| \u001b[0m 27      \u001b[0m | \u001b[0m 0.9039  \u001b[0m | \u001b[0m 0.9912  \u001b[0m | \u001b[0m 0.8681  \u001b[0m | \u001b[0m 4.475   \u001b[0m | \u001b[0m 0.05989 \u001b[0m | \u001b[0m 5.111   \u001b[0m | \u001b[0m 17.73   \u001b[0m | \u001b[0m 0.08063 \u001b[0m | \u001b[0m 44.94   \u001b[0m |\n"
     ]
    },
    {
     "name": "stderr",
     "output_type": "stream",
     "text": [
      "C:\\Users\\Simeon\\Anaconda3\\envs\\First\\lib\\site-packages\\lightgbm\\engine.py:113: UserWarning: Found `num_iterations` in params. Will use it instead of argument\n",
      "  warnings.warn(\"Found `{}` in params. Will use it instead of argument\".format(alias))\n",
      "C:\\Users\\Simeon\\Anaconda3\\envs\\First\\lib\\site-packages\\lightgbm\\basic.py:452: UserWarning: Converting data to scipy sparse matrix.\n",
      "  warnings.warn('Converting data to scipy sparse matrix.')\n"
     ]
    },
    {
     "name": "stdout",
     "output_type": "stream",
     "text": [
      "True Positives per class :  [ 117.  106. 2139.   97.]\n",
      "False Positives per class :  [93. 73. 82. 48.]\n",
      "False Negatives per class :  [ 33.  36. 199.  28.]\n",
      "Class happy : Precision : 0.592, Recall : 0.746, F1 : 0.660\n",
      "Class sad : Precision : 0.963, Recall : 0.915, F1 : 0.938\n",
      "Class angry : Precision : 0.669, Recall : 0.776, F1 : 0.719\n",
      "Ignoring the Others class, Macro Precision : 0.7414, Macro Recall : 0.8125, Macro F1 : 0.7753\n",
      "Ignoring the Others class, Micro TP : 2342, FP : 203, FN : 263\n",
      "Accuracy : 0.8926, Micro Precision : 0.9202, Micro Recall : 0.8990, Micro F1 : 0.9095\n",
      "| \u001b[0m 28      \u001b[0m | \u001b[0m 0.9095  \u001b[0m | \u001b[0m 0.8375  \u001b[0m | \u001b[0m 0.1166  \u001b[0m | \u001b[0m 0.2571  \u001b[0m | \u001b[0m 0.06428 \u001b[0m | \u001b[0m 5.655   \u001b[0m | \u001b[0m 5.563   \u001b[0m | \u001b[0m 0.05906 \u001b[0m | \u001b[0m 24.65   \u001b[0m |\n"
     ]
    },
    {
     "name": "stderr",
     "output_type": "stream",
     "text": [
      "C:\\Users\\Simeon\\Anaconda3\\envs\\First\\lib\\site-packages\\lightgbm\\engine.py:113: UserWarning: Found `num_iterations` in params. Will use it instead of argument\n",
      "  warnings.warn(\"Found `{}` in params. Will use it instead of argument\".format(alias))\n",
      "C:\\Users\\Simeon\\Anaconda3\\envs\\First\\lib\\site-packages\\lightgbm\\basic.py:452: UserWarning: Converting data to scipy sparse matrix.\n",
      "  warnings.warn('Converting data to scipy sparse matrix.')\n"
     ]
    },
    {
     "name": "stdout",
     "output_type": "stream",
     "text": [
      "True Positives per class :  [ 116.  107. 2137.   94.]\n",
      "False Positives per class :  [91. 84. 84. 42.]\n",
      "False Negatives per class :  [ 34.  35. 201.  31.]\n",
      "Class happy : Precision : 0.560, Recall : 0.754, F1 : 0.643\n",
      "Class sad : Precision : 0.962, Recall : 0.914, F1 : 0.937\n",
      "Class angry : Precision : 0.691, Recall : 0.752, F1 : 0.720\n",
      "Ignoring the Others class, Macro Precision : 0.7379, Macro Recall : 0.8065, Macro F1 : 0.7707\n",
      "Ignoring the Others class, Micro TP : 2338, FP : 210, FN : 267\n",
      "Accuracy : 0.8907, Micro Precision : 0.9176, Micro Recall : 0.8975, Micro F1 : 0.9074\n",
      "| \u001b[0m 29      \u001b[0m | \u001b[0m 0.9074  \u001b[0m | \u001b[0m 0.8147  \u001b[0m | \u001b[0m 0.3127  \u001b[0m | \u001b[0m 0.04521 \u001b[0m | \u001b[0m 0.2869  \u001b[0m | \u001b[0m 5.426   \u001b[0m | \u001b[0m 5.128   \u001b[0m | \u001b[0m 0.009759\u001b[0m | \u001b[0m 24.32   \u001b[0m |\n"
     ]
    },
    {
     "name": "stderr",
     "output_type": "stream",
     "text": [
      "C:\\Users\\Simeon\\Anaconda3\\envs\\First\\lib\\site-packages\\lightgbm\\engine.py:113: UserWarning: Found `num_iterations` in params. Will use it instead of argument\n",
      "  warnings.warn(\"Found `{}` in params. Will use it instead of argument\".format(alias))\n",
      "C:\\Users\\Simeon\\Anaconda3\\envs\\First\\lib\\site-packages\\lightgbm\\basic.py:452: UserWarning: Converting data to scipy sparse matrix.\n",
      "  warnings.warn('Converting data to scipy sparse matrix.')\n"
     ]
    },
    {
     "name": "stdout",
     "output_type": "stream",
     "text": [
      "True Positives per class :  [ 116.  105. 2142.   96.]\n",
      "False Positives per class :  [92. 75. 85. 44.]\n",
      "False Negatives per class :  [ 34.  37. 196.  29.]\n",
      "Class happy : Precision : 0.583, Recall : 0.739, F1 : 0.652\n",
      "Class sad : Precision : 0.962, Recall : 0.916, F1 : 0.938\n",
      "Class angry : Precision : 0.686, Recall : 0.768, F1 : 0.725\n",
      "Ignoring the Others class, Macro Precision : 0.7436, Macro Recall : 0.8079, Macro F1 : 0.7744\n",
      "Ignoring the Others class, Micro TP : 2343, FP : 204, FN : 262\n",
      "Accuracy : 0.8926, Micro Precision : 0.9199, Micro Recall : 0.8994, Micro F1 : 0.9095\n",
      "| \u001b[0m 30      \u001b[0m | \u001b[0m 0.9095  \u001b[0m | \u001b[0m 0.9462  \u001b[0m | \u001b[0m 0.1074  \u001b[0m | \u001b[0m 0.07133 \u001b[0m | \u001b[0m 0.01078 \u001b[0m | \u001b[0m 5.022   \u001b[0m | \u001b[0m 6.271   \u001b[0m | \u001b[0m 0.02935 \u001b[0m | \u001b[0m 24.33   \u001b[0m |\n"
     ]
    },
    {
     "name": "stderr",
     "output_type": "stream",
     "text": [
      "C:\\Users\\Simeon\\Anaconda3\\envs\\First\\lib\\site-packages\\lightgbm\\engine.py:113: UserWarning: Found `num_iterations` in params. Will use it instead of argument\n",
      "  warnings.warn(\"Found `{}` in params. Will use it instead of argument\".format(alias))\n",
      "C:\\Users\\Simeon\\Anaconda3\\envs\\First\\lib\\site-packages\\lightgbm\\basic.py:452: UserWarning: Converting data to scipy sparse matrix.\n",
      "  warnings.warn('Converting data to scipy sparse matrix.')\n"
     ]
    },
    {
     "name": "stdout",
     "output_type": "stream",
     "text": [
      "True Positives per class :  [ 120.  104. 2146.   97.]\n",
      "False Positives per class :  [92. 70. 82. 44.]\n",
      "False Negatives per class :  [ 30.  38. 192.  28.]\n",
      "Class happy : Precision : 0.598, Recall : 0.732, F1 : 0.658\n",
      "Class sad : Precision : 0.963, Recall : 0.918, F1 : 0.940\n",
      "Class angry : Precision : 0.688, Recall : 0.776, F1 : 0.729\n",
      "Ignoring the Others class, Macro Precision : 0.7496, Macro Recall : 0.8088, Macro F1 : 0.7781\n",
      "Ignoring the Others class, Micro TP : 2347, FP : 196, FN : 258\n",
      "Accuracy : 0.8955, Micro Precision : 0.9229, Micro Recall : 0.9010, Micro F1 : 0.9118\n",
      "| \u001b[95m 31      \u001b[0m | \u001b[95m 0.9118  \u001b[0m | \u001b[95m 0.9979  \u001b[0m | \u001b[95m 0.1687  \u001b[0m | \u001b[95m 0.1621  \u001b[0m | \u001b[95m 2.992   \u001b[0m | \u001b[95m 7.163   \u001b[0m | \u001b[95m 5.689   \u001b[0m | \u001b[95m 0.06489 \u001b[0m | \u001b[95m 24.86   \u001b[0m |\n"
     ]
    },
    {
     "name": "stderr",
     "output_type": "stream",
     "text": [
      "C:\\Users\\Simeon\\Anaconda3\\envs\\First\\lib\\site-packages\\lightgbm\\engine.py:113: UserWarning: Found `num_iterations` in params. Will use it instead of argument\n",
      "  warnings.warn(\"Found `{}` in params. Will use it instead of argument\".format(alias))\n",
      "C:\\Users\\Simeon\\Anaconda3\\envs\\First\\lib\\site-packages\\lightgbm\\basic.py:452: UserWarning: Converting data to scipy sparse matrix.\n",
      "  warnings.warn('Converting data to scipy sparse matrix.')\n"
     ]
    },
    {
     "name": "stdout",
     "output_type": "stream",
     "text": [
      "True Positives per class :  [ 121.  106. 2147.   93.]\n",
      "False Positives per class :  [88. 73. 83. 44.]\n",
      "False Negatives per class :  [ 29.  36. 191.  32.]\n",
      "Class happy : Precision : 0.592, Recall : 0.746, F1 : 0.660\n",
      "Class sad : Precision : 0.963, Recall : 0.918, F1 : 0.940\n",
      "Class angry : Precision : 0.679, Recall : 0.744, F1 : 0.710\n",
      "Ignoring the Others class, Macro Precision : 0.7446, Macro Recall : 0.8029, Macro F1 : 0.7727\n",
      "Ignoring the Others class, Micro TP : 2346, FP : 200, FN : 259\n",
      "Accuracy : 0.8955, Micro Precision : 0.9214, Micro Recall : 0.9006, Micro F1 : 0.9109\n",
      "| \u001b[0m 32      \u001b[0m | \u001b[0m 0.9109  \u001b[0m | \u001b[0m 0.975   \u001b[0m | \u001b[0m 0.2157  \u001b[0m | \u001b[0m 0.381   \u001b[0m | \u001b[0m 2.083   \u001b[0m | \u001b[0m 8.885   \u001b[0m | \u001b[0m 5.175   \u001b[0m | \u001b[0m 0.0722  \u001b[0m | \u001b[0m 29.83   \u001b[0m |\n"
     ]
    },
    {
     "name": "stderr",
     "output_type": "stream",
     "text": [
      "C:\\Users\\Simeon\\Anaconda3\\envs\\First\\lib\\site-packages\\lightgbm\\engine.py:113: UserWarning: Found `num_iterations` in params. Will use it instead of argument\n",
      "  warnings.warn(\"Found `{}` in params. Will use it instead of argument\".format(alias))\n",
      "C:\\Users\\Simeon\\Anaconda3\\envs\\First\\lib\\site-packages\\lightgbm\\basic.py:452: UserWarning: Converting data to scipy sparse matrix.\n",
      "  warnings.warn('Converting data to scipy sparse matrix.')\n"
     ]
    },
    {
     "name": "stdout",
     "output_type": "stream",
     "text": [
      "True Positives per class :  [ 116.  104. 2148.   95.]\n",
      "False Positives per class :  [89. 74. 83. 46.]\n",
      "False Negatives per class :  [ 34.  38. 190.  30.]\n",
      "Class happy : Precision : 0.584, Recall : 0.732, F1 : 0.650\n",
      "Class sad : Precision : 0.963, Recall : 0.919, F1 : 0.940\n",
      "Class angry : Precision : 0.674, Recall : 0.760, F1 : 0.714\n",
      "Ignoring the Others class, Macro Precision : 0.7403, Macro Recall : 0.8037, Macro F1 : 0.7707\n",
      "Ignoring the Others class, Micro TP : 2347, FP : 203, FN : 258\n",
      "Accuracy : 0.8940, Micro Precision : 0.9204, Micro Recall : 0.9010, Micro F1 : 0.9106\n",
      "| \u001b[0m 33      \u001b[0m | \u001b[0m 0.9106  \u001b[0m | \u001b[0m 0.9724  \u001b[0m | \u001b[0m 0.1968  \u001b[0m | \u001b[0m 0.01205 \u001b[0m | \u001b[0m 0.4336  \u001b[0m | \u001b[0m 8.825   \u001b[0m | \u001b[0m 6.465   \u001b[0m | \u001b[0m 0.03816 \u001b[0m | \u001b[0m 24.14   \u001b[0m |\n"
     ]
    },
    {
     "name": "stderr",
     "output_type": "stream",
     "text": [
      "C:\\Users\\Simeon\\Anaconda3\\envs\\First\\lib\\site-packages\\lightgbm\\engine.py:113: UserWarning: Found `num_iterations` in params. Will use it instead of argument\n",
      "  warnings.warn(\"Found `{}` in params. Will use it instead of argument\".format(alias))\n",
      "C:\\Users\\Simeon\\Anaconda3\\envs\\First\\lib\\site-packages\\lightgbm\\basic.py:452: UserWarning: Converting data to scipy sparse matrix.\n",
      "  warnings.warn('Converting data to scipy sparse matrix.')\n"
     ]
    },
    {
     "name": "stdout",
     "output_type": "stream",
     "text": [
      "True Positives per class :  [ 120.  105. 2154.   93.]\n",
      "False Positives per class :  [85. 73. 82. 43.]\n",
      "False Negatives per class :  [ 30.  37. 184.  32.]\n",
      "Class happy : Precision : 0.590, Recall : 0.739, F1 : 0.656\n",
      "Class sad : Precision : 0.963, Recall : 0.921, F1 : 0.942\n",
      "Class angry : Precision : 0.684, Recall : 0.744, F1 : 0.713\n",
      "Ignoring the Others class, Macro Precision : 0.7457, Macro Recall : 0.8016, Macro F1 : 0.7726\n",
      "Ignoring the Others class, Micro TP : 2352, FP : 198, FN : 253\n",
      "Accuracy : 0.8973, Micro Precision : 0.9224, Micro Recall : 0.9029, Micro F1 : 0.9125\n",
      "| \u001b[95m 34      \u001b[0m | \u001b[95m 0.9125  \u001b[0m | \u001b[95m 0.9979  \u001b[0m | \u001b[95m 0.2458  \u001b[0m | \u001b[95m 0.8817  \u001b[0m | \u001b[95m 2.541   \u001b[0m | \u001b[95m 8.997   \u001b[0m | \u001b[95m 5.103   \u001b[0m | \u001b[95m 0.08707 \u001b[0m | \u001b[95m 44.0    \u001b[0m |\n"
     ]
    },
    {
     "name": "stderr",
     "output_type": "stream",
     "text": [
      "C:\\Users\\Simeon\\Anaconda3\\envs\\First\\lib\\site-packages\\lightgbm\\engine.py:113: UserWarning: Found `num_iterations` in params. Will use it instead of argument\n",
      "  warnings.warn(\"Found `{}` in params. Will use it instead of argument\".format(alias))\n",
      "C:\\Users\\Simeon\\Anaconda3\\envs\\First\\lib\\site-packages\\lightgbm\\basic.py:452: UserWarning: Converting data to scipy sparse matrix.\n",
      "  warnings.warn('Converting data to scipy sparse matrix.')\n"
     ]
    },
    {
     "name": "stdout",
     "output_type": "stream",
     "text": [
      "True Positives per class :  [ 118.  102. 2154.   92.]\n",
      "False Positives per class :  [83. 72. 90. 44.]\n",
      "False Negatives per class :  [ 32.  40. 184.  33.]\n",
      "Class happy : Precision : 0.586, Recall : 0.718, F1 : 0.646\n",
      "Class sad : Precision : 0.960, Recall : 0.921, F1 : 0.940\n",
      "Class angry : Precision : 0.676, Recall : 0.736, F1 : 0.705\n",
      "Ignoring the Others class, Macro Precision : 0.7409, Macro Recall : 0.7919, Macro F1 : 0.7655\n",
      "Ignoring the Others class, Micro TP : 2348, FP : 206, FN : 257\n",
      "Accuracy : 0.8951, Micro Precision : 0.9193, Micro Recall : 0.9013, Micro F1 : 0.9103\n",
      "| \u001b[0m 35      \u001b[0m | \u001b[0m 0.9103  \u001b[0m | \u001b[0m 0.9626  \u001b[0m | \u001b[0m 0.1504  \u001b[0m | \u001b[0m 1.117   \u001b[0m | \u001b[0m 0.2148  \u001b[0m | \u001b[0m 8.814   \u001b[0m | \u001b[0m 5.117   \u001b[0m | \u001b[0m 0.05079 \u001b[0m | \u001b[0m 44.15   \u001b[0m |\n"
     ]
    },
    {
     "name": "stderr",
     "output_type": "stream",
     "text": [
      "C:\\Users\\Simeon\\Anaconda3\\envs\\First\\lib\\site-packages\\lightgbm\\engine.py:113: UserWarning: Found `num_iterations` in params. Will use it instead of argument\n",
      "  warnings.warn(\"Found `{}` in params. Will use it instead of argument\".format(alias))\n",
      "C:\\Users\\Simeon\\Anaconda3\\envs\\First\\lib\\site-packages\\lightgbm\\basic.py:452: UserWarning: Converting data to scipy sparse matrix.\n",
      "  warnings.warn('Converting data to scipy sparse matrix.')\n"
     ]
    },
    {
     "name": "stdout",
     "output_type": "stream",
     "text": [
      "True Positives per class :  [ 119.  103. 2148.   91.]\n",
      "False Positives per class :  [84. 75. 88. 47.]\n",
      "False Negatives per class :  [ 31.  39. 190.  34.]\n",
      "Class happy : Precision : 0.579, Recall : 0.725, F1 : 0.644\n",
      "Class sad : Precision : 0.961, Recall : 0.919, F1 : 0.939\n",
      "Class angry : Precision : 0.659, Recall : 0.728, F1 : 0.692\n",
      "Ignoring the Others class, Macro Precision : 0.7329, Macro Recall : 0.7907, Macro F1 : 0.7607\n",
      "Ignoring the Others class, Micro TP : 2342, FP : 210, FN : 263\n",
      "Accuracy : 0.8933, Micro Precision : 0.9177, Micro Recall : 0.8990, Micro F1 : 0.9083\n",
      "| \u001b[0m 36      \u001b[0m | \u001b[0m 0.9083  \u001b[0m | \u001b[0m 0.9731  \u001b[0m | \u001b[0m 0.1808  \u001b[0m | \u001b[0m 1.197   \u001b[0m | \u001b[0m 2.829   \u001b[0m | \u001b[0m 8.302   \u001b[0m | \u001b[0m 6.175   \u001b[0m | \u001b[0m 0.0608  \u001b[0m | \u001b[0m 44.79   \u001b[0m |\n"
     ]
    },
    {
     "name": "stderr",
     "output_type": "stream",
     "text": [
      "C:\\Users\\Simeon\\Anaconda3\\envs\\First\\lib\\site-packages\\lightgbm\\engine.py:113: UserWarning: Found `num_iterations` in params. Will use it instead of argument\n",
      "  warnings.warn(\"Found `{}` in params. Will use it instead of argument\".format(alias))\n",
      "C:\\Users\\Simeon\\Anaconda3\\envs\\First\\lib\\site-packages\\lightgbm\\basic.py:452: UserWarning: Converting data to scipy sparse matrix.\n",
      "  warnings.warn('Converting data to scipy sparse matrix.')\n"
     ]
    },
    {
     "name": "stdout",
     "output_type": "stream",
     "text": [
      "True Positives per class :  [ 121.  101. 2146.   93.]\n",
      "False Positives per class :  [89. 74. 86. 45.]\n",
      "False Negatives per class :  [ 29.  41. 192.  32.]\n",
      "Class happy : Precision : 0.577, Recall : 0.711, F1 : 0.637\n",
      "Class sad : Precision : 0.961, Recall : 0.918, F1 : 0.939\n",
      "Class angry : Precision : 0.674, Recall : 0.744, F1 : 0.707\n",
      "Ignoring the Others class, Macro Precision : 0.7375, Macro Recall : 0.7910, Macro F1 : 0.7633\n",
      "Ignoring the Others class, Micro TP : 2340, FP : 205, FN : 265\n",
      "Accuracy : 0.8933, Micro Precision : 0.9194, Micro Recall : 0.8983, Micro F1 : 0.9087\n",
      "| \u001b[0m 37      \u001b[0m | \u001b[0m 0.9087  \u001b[0m | \u001b[0m 0.9872  \u001b[0m | \u001b[0m 0.1195  \u001b[0m | \u001b[0m 0.1621  \u001b[0m | \u001b[0m 2.878   \u001b[0m | \u001b[0m 8.807   \u001b[0m | \u001b[0m 5.679   \u001b[0m | \u001b[0m 0.07435 \u001b[0m | \u001b[0m 28.18   \u001b[0m |\n"
     ]
    },
    {
     "name": "stderr",
     "output_type": "stream",
     "text": [
      "C:\\Users\\Simeon\\Anaconda3\\envs\\First\\lib\\site-packages\\lightgbm\\engine.py:113: UserWarning: Found `num_iterations` in params. Will use it instead of argument\n",
      "  warnings.warn(\"Found `{}` in params. Will use it instead of argument\".format(alias))\n",
      "C:\\Users\\Simeon\\Anaconda3\\envs\\First\\lib\\site-packages\\lightgbm\\basic.py:452: UserWarning: Converting data to scipy sparse matrix.\n",
      "  warnings.warn('Converting data to scipy sparse matrix.')\n"
     ]
    },
    {
     "name": "stdout",
     "output_type": "stream",
     "text": [
      "True Positives per class :  [ 117.  104. 2155.   91.]\n",
      "False Positives per class :  [87. 71. 90. 40.]\n",
      "False Negatives per class :  [ 33.  38. 183.  34.]\n",
      "Class happy : Precision : 0.594, Recall : 0.732, F1 : 0.656\n",
      "Class sad : Precision : 0.960, Recall : 0.922, F1 : 0.940\n",
      "Class angry : Precision : 0.695, Recall : 0.728, F1 : 0.711\n",
      "Ignoring the Others class, Macro Precision : 0.7496, Macro Recall : 0.7940, Macro F1 : 0.7712\n",
      "Ignoring the Others class, Micro TP : 2350, FP : 201, FN : 255\n",
      "Accuracy : 0.8955, Micro Precision : 0.9212, Micro Recall : 0.9021, Micro F1 : 0.9116\n",
      "| \u001b[0m 38      \u001b[0m | \u001b[0m 0.9116  \u001b[0m | \u001b[0m 0.971   \u001b[0m | \u001b[0m 0.1479  \u001b[0m | \u001b[0m 0.1214  \u001b[0m | \u001b[0m 0.04365 \u001b[0m | \u001b[0m 7.643   \u001b[0m | \u001b[0m 5.107   \u001b[0m | \u001b[0m 0.06451 \u001b[0m | \u001b[0m 43.38   \u001b[0m |\n"
     ]
    },
    {
     "name": "stderr",
     "output_type": "stream",
     "text": [
      "C:\\Users\\Simeon\\Anaconda3\\envs\\First\\lib\\site-packages\\lightgbm\\engine.py:113: UserWarning: Found `num_iterations` in params. Will use it instead of argument\n",
      "  warnings.warn(\"Found `{}` in params. Will use it instead of argument\".format(alias))\n",
      "C:\\Users\\Simeon\\Anaconda3\\envs\\First\\lib\\site-packages\\lightgbm\\basic.py:452: UserWarning: Converting data to scipy sparse matrix.\n",
      "  warnings.warn('Converting data to scipy sparse matrix.')\n"
     ]
    },
    {
     "name": "stdout",
     "output_type": "stream",
     "text": [
      "True Positives per class :  [ 119.  102. 2151.   94.]\n",
      "False Positives per class :  [85. 74. 87. 43.]\n",
      "False Negatives per class :  [ 31.  40. 187.  31.]\n",
      "Class happy : Precision : 0.580, Recall : 0.718, F1 : 0.642\n",
      "Class sad : Precision : 0.961, Recall : 0.920, F1 : 0.940\n",
      "Class angry : Precision : 0.686, Recall : 0.752, F1 : 0.718\n",
      "Ignoring the Others class, Macro Precision : 0.7423, Macro Recall : 0.7968, Macro F1 : 0.7686\n",
      "Ignoring the Others class, Micro TP : 2347, FP : 204, FN : 258\n",
      "Accuracy : 0.8951, Micro Precision : 0.9200, Micro Recall : 0.9010, Micro F1 : 0.9104\n",
      "| \u001b[0m 39      \u001b[0m | \u001b[0m 0.9104  \u001b[0m | \u001b[0m 0.9468  \u001b[0m | \u001b[0m 0.1577  \u001b[0m | \u001b[0m 0.2122  \u001b[0m | \u001b[0m 0.2119  \u001b[0m | \u001b[0m 8.4     \u001b[0m | \u001b[0m 5.22    \u001b[0m | \u001b[0m 0.09621 \u001b[0m | \u001b[0m 43.95   \u001b[0m |\n"
     ]
    },
    {
     "name": "stderr",
     "output_type": "stream",
     "text": [
      "C:\\Users\\Simeon\\Anaconda3\\envs\\First\\lib\\site-packages\\lightgbm\\engine.py:113: UserWarning: Found `num_iterations` in params. Will use it instead of argument\n",
      "  warnings.warn(\"Found `{}` in params. Will use it instead of argument\".format(alias))\n",
      "C:\\Users\\Simeon\\Anaconda3\\envs\\First\\lib\\site-packages\\lightgbm\\basic.py:452: UserWarning: Converting data to scipy sparse matrix.\n",
      "  warnings.warn('Converting data to scipy sparse matrix.')\n"
     ]
    },
    {
     "name": "stdout",
     "output_type": "stream",
     "text": [
      "True Positives per class :  [ 119.  104. 2156.   94.]\n",
      "False Positives per class :  [89. 68. 82. 43.]\n",
      "False Negatives per class :  [ 31.  38. 182.  31.]\n",
      "Class happy : Precision : 0.605, Recall : 0.732, F1 : 0.662\n",
      "Class sad : Precision : 0.963, Recall : 0.922, F1 : 0.942\n",
      "Class angry : Precision : 0.686, Recall : 0.752, F1 : 0.718\n",
      "Ignoring the Others class, Macro Precision : 0.7514, Macro Recall : 0.8022, Macro F1 : 0.7760\n",
      "Ignoring the Others class, Micro TP : 2354, FP : 193, FN : 251\n",
      "Accuracy : 0.8976, Micro Precision : 0.9242, Micro Recall : 0.9036, Micro F1 : 0.9138\n",
      "| \u001b[95m 40      \u001b[0m | \u001b[95m 0.9138  \u001b[0m | \u001b[95m 0.9903  \u001b[0m | \u001b[95m 0.1108  \u001b[0m | \u001b[95m 0.3991  \u001b[0m | \u001b[95m 0.6927  \u001b[0m | \u001b[95m 8.952   \u001b[0m | \u001b[95m 5.687   \u001b[0m | \u001b[95m 0.06837 \u001b[0m | \u001b[95m 30.55   \u001b[0m |\n"
     ]
    },
    {
     "name": "stderr",
     "output_type": "stream",
     "text": [
      "C:\\Users\\Simeon\\Anaconda3\\envs\\First\\lib\\site-packages\\lightgbm\\engine.py:113: UserWarning: Found `num_iterations` in params. Will use it instead of argument\n",
      "  warnings.warn(\"Found `{}` in params. Will use it instead of argument\".format(alias))\n",
      "C:\\Users\\Simeon\\Anaconda3\\envs\\First\\lib\\site-packages\\lightgbm\\basic.py:452: UserWarning: Converting data to scipy sparse matrix.\n",
      "  warnings.warn('Converting data to scipy sparse matrix.')\n"
     ]
    },
    {
     "name": "stdout",
     "output_type": "stream",
     "text": [
      "True Positives per class :  [ 118.  103. 2155.   95.]\n",
      "False Positives per class :  [81. 72. 87. 44.]\n",
      "False Negatives per class :  [ 32.  39. 183.  30.]\n",
      "Class happy : Precision : 0.589, Recall : 0.725, F1 : 0.650\n",
      "Class sad : Precision : 0.961, Recall : 0.922, F1 : 0.941\n",
      "Class angry : Precision : 0.683, Recall : 0.760, F1 : 0.720\n",
      "Ignoring the Others class, Macro Precision : 0.7444, Macro Recall : 0.8024, Macro F1 : 0.7723\n",
      "Ignoring the Others class, Micro TP : 2353, FP : 203, FN : 252\n",
      "Accuracy : 0.8969, Micro Precision : 0.9206, Micro Recall : 0.9033, Micro F1 : 0.9118\n",
      "| \u001b[0m 41      \u001b[0m | \u001b[0m 0.9118  \u001b[0m | \u001b[0m 0.9574  \u001b[0m | \u001b[0m 0.1095  \u001b[0m | \u001b[0m 0.6624  \u001b[0m | \u001b[0m 0.1044  \u001b[0m | \u001b[0m 8.584   \u001b[0m | \u001b[0m 5.212   \u001b[0m | \u001b[0m 0.02735 \u001b[0m | \u001b[0m 33.85   \u001b[0m |\n"
     ]
    },
    {
     "name": "stderr",
     "output_type": "stream",
     "text": [
      "C:\\Users\\Simeon\\Anaconda3\\envs\\First\\lib\\site-packages\\lightgbm\\engine.py:113: UserWarning: Found `num_iterations` in params. Will use it instead of argument\n",
      "  warnings.warn(\"Found `{}` in params. Will use it instead of argument\".format(alias))\n",
      "C:\\Users\\Simeon\\Anaconda3\\envs\\First\\lib\\site-packages\\lightgbm\\basic.py:452: UserWarning: Converting data to scipy sparse matrix.\n",
      "  warnings.warn('Converting data to scipy sparse matrix.')\n"
     ]
    },
    {
     "name": "stdout",
     "output_type": "stream",
     "text": [
      "True Positives per class :  [ 119.  102. 2155.   92.]\n",
      "False Positives per class :  [83. 71. 89. 44.]\n",
      "False Negatives per class :  [ 31.  40. 183.  33.]\n",
      "Class happy : Precision : 0.590, Recall : 0.718, F1 : 0.648\n",
      "Class sad : Precision : 0.960, Recall : 0.922, F1 : 0.941\n",
      "Class angry : Precision : 0.676, Recall : 0.736, F1 : 0.705\n",
      "Ignoring the Others class, Macro Precision : 0.7421, Macro Recall : 0.7920, Macro F1 : 0.7663\n",
      "Ignoring the Others class, Micro TP : 2349, FP : 204, FN : 256\n",
      "Accuracy : 0.8958, Micro Precision : 0.9201, Micro Recall : 0.9017, Micro F1 : 0.9108\n",
      "| \u001b[0m 42      \u001b[0m | \u001b[0m 0.9108  \u001b[0m | \u001b[0m 0.9845  \u001b[0m | \u001b[0m 0.1577  \u001b[0m | \u001b[0m 0.5164  \u001b[0m | \u001b[0m 0.6259  \u001b[0m | \u001b[0m 8.918   \u001b[0m | \u001b[0m 5.193   \u001b[0m | \u001b[0m 0.07738 \u001b[0m | \u001b[0m 37.26   \u001b[0m |\n"
     ]
    },
    {
     "name": "stderr",
     "output_type": "stream",
     "text": [
      "C:\\Users\\Simeon\\Anaconda3\\envs\\First\\lib\\site-packages\\lightgbm\\engine.py:113: UserWarning: Found `num_iterations` in params. Will use it instead of argument\n",
      "  warnings.warn(\"Found `{}` in params. Will use it instead of argument\".format(alias))\n",
      "C:\\Users\\Simeon\\Anaconda3\\envs\\First\\lib\\site-packages\\lightgbm\\basic.py:452: UserWarning: Converting data to scipy sparse matrix.\n",
      "  warnings.warn('Converting data to scipy sparse matrix.')\n"
     ]
    },
    {
     "name": "stdout",
     "output_type": "stream",
     "text": [
      "True Positives per class :  [ 124.  102. 2149.   93.]\n",
      "False Positives per class :  [87. 74. 84. 42.]\n",
      "False Negatives per class :  [ 26.  40. 189.  32.]\n",
      "Class happy : Precision : 0.580, Recall : 0.718, F1 : 0.642\n",
      "Class sad : Precision : 0.962, Recall : 0.919, F1 : 0.940\n",
      "Class angry : Precision : 0.689, Recall : 0.744, F1 : 0.715\n",
      "Ignoring the Others class, Macro Precision : 0.7436, Macro Recall : 0.7938, Macro F1 : 0.7679\n",
      "Ignoring the Others class, Micro TP : 2344, FP : 200, FN : 261\n",
      "Accuracy : 0.8958, Micro Precision : 0.9214, Micro Recall : 0.8998, Micro F1 : 0.9105\n",
      "| \u001b[0m 43      \u001b[0m | \u001b[0m 0.9105  \u001b[0m | \u001b[0m 0.9113  \u001b[0m | \u001b[0m 0.1467  \u001b[0m | \u001b[0m 0.3502  \u001b[0m | \u001b[0m 0.05909 \u001b[0m | \u001b[0m 8.803   \u001b[0m | \u001b[0m 5.8     \u001b[0m | \u001b[0m 0.07332 \u001b[0m | \u001b[0m 24.57   \u001b[0m |\n"
     ]
    },
    {
     "name": "stderr",
     "output_type": "stream",
     "text": [
      "C:\\Users\\Simeon\\Anaconda3\\envs\\First\\lib\\site-packages\\lightgbm\\engine.py:113: UserWarning: Found `num_iterations` in params. Will use it instead of argument\n",
      "  warnings.warn(\"Found `{}` in params. Will use it instead of argument\".format(alias))\n",
      "C:\\Users\\Simeon\\Anaconda3\\envs\\First\\lib\\site-packages\\lightgbm\\basic.py:452: UserWarning: Converting data to scipy sparse matrix.\n",
      "  warnings.warn('Converting data to scipy sparse matrix.')\n"
     ]
    },
    {
     "name": "stdout",
     "output_type": "stream",
     "text": [
      "True Positives per class :  [ 121.  104. 2141.   92.]\n",
      "False Positives per class :  [91. 77. 85. 44.]\n",
      "False Negatives per class :  [ 29.  38. 197.  33.]\n",
      "Class happy : Precision : 0.575, Recall : 0.732, F1 : 0.644\n",
      "Class sad : Precision : 0.962, Recall : 0.916, F1 : 0.938\n",
      "Class angry : Precision : 0.676, Recall : 0.736, F1 : 0.705\n",
      "Ignoring the Others class, Macro Precision : 0.7376, Macro Recall : 0.7947, Macro F1 : 0.7651\n",
      "Ignoring the Others class, Micro TP : 2337, FP : 206, FN : 268\n",
      "Accuracy : 0.8922, Micro Precision : 0.9190, Micro Recall : 0.8971, Micro F1 : 0.9079\n",
      "| \u001b[0m 44      \u001b[0m | \u001b[0m 0.9079  \u001b[0m | \u001b[0m 0.9997  \u001b[0m | \u001b[0m 0.1605  \u001b[0m | \u001b[0m 0.4127  \u001b[0m | \u001b[0m 2.455   \u001b[0m | \u001b[0m 8.992   \u001b[0m | \u001b[0m 5.791   \u001b[0m | \u001b[0m 0.06553 \u001b[0m | \u001b[0m 26.19   \u001b[0m |\n"
     ]
    },
    {
     "name": "stderr",
     "output_type": "stream",
     "text": [
      "C:\\Users\\Simeon\\Anaconda3\\envs\\First\\lib\\site-packages\\lightgbm\\engine.py:113: UserWarning: Found `num_iterations` in params. Will use it instead of argument\n",
      "  warnings.warn(\"Found `{}` in params. Will use it instead of argument\".format(alias))\n",
      "C:\\Users\\Simeon\\Anaconda3\\envs\\First\\lib\\site-packages\\lightgbm\\basic.py:452: UserWarning: Converting data to scipy sparse matrix.\n",
      "  warnings.warn('Converting data to scipy sparse matrix.')\n"
     ]
    },
    {
     "name": "stdout",
     "output_type": "stream",
     "text": [
      "True Positives per class :  [ 118.  103. 2148.   92.]\n",
      "False Positives per class :  [87. 77. 88. 42.]\n",
      "False Negatives per class :  [ 32.  39. 190.  33.]\n",
      "Class happy : Precision : 0.572, Recall : 0.725, F1 : 0.640\n",
      "Class sad : Precision : 0.961, Recall : 0.919, F1 : 0.939\n",
      "Class angry : Precision : 0.687, Recall : 0.736, F1 : 0.710\n",
      "Ignoring the Others class, Macro Precision : 0.7398, Macro Recall : 0.7934, Macro F1 : 0.7657\n",
      "Ignoring the Others class, Micro TP : 2343, FP : 207, FN : 262\n",
      "Accuracy : 0.8933, Micro Precision : 0.9188, Micro Recall : 0.8994, Micro F1 : 0.9090\n",
      "| \u001b[0m 45      \u001b[0m | \u001b[0m 0.909   \u001b[0m | \u001b[0m 0.9982  \u001b[0m | \u001b[0m 0.3797  \u001b[0m | \u001b[0m 0.3344  \u001b[0m | \u001b[0m 0.3853  \u001b[0m | \u001b[0m 8.993   \u001b[0m | \u001b[0m 5.083   \u001b[0m | \u001b[0m 0.0179  \u001b[0m | \u001b[0m 44.78   \u001b[0m |\n"
     ]
    },
    {
     "name": "stderr",
     "output_type": "stream",
     "text": [
      "C:\\Users\\Simeon\\Anaconda3\\envs\\First\\lib\\site-packages\\lightgbm\\engine.py:113: UserWarning: Found `num_iterations` in params. Will use it instead of argument\n",
      "  warnings.warn(\"Found `{}` in params. Will use it instead of argument\".format(alias))\n",
      "C:\\Users\\Simeon\\Anaconda3\\envs\\First\\lib\\site-packages\\lightgbm\\basic.py:452: UserWarning: Converting data to scipy sparse matrix.\n",
      "  warnings.warn('Converting data to scipy sparse matrix.')\n"
     ]
    },
    {
     "name": "stdout",
     "output_type": "stream",
     "text": [
      "True Positives per class :  [ 119.  103. 2160.   92.]\n",
      "False Positives per class :  [80. 72. 89. 40.]\n",
      "False Negatives per class :  [ 31.  39. 178.  33.]\n",
      "Class happy : Precision : 0.589, Recall : 0.725, F1 : 0.650\n",
      "Class sad : Precision : 0.960, Recall : 0.924, F1 : 0.942\n",
      "Class angry : Precision : 0.697, Recall : 0.736, F1 : 0.716\n",
      "Ignoring the Others class, Macro Precision : 0.7487, Macro Recall : 0.7951, Macro F1 : 0.7712\n",
      "Ignoring the Others class, Micro TP : 2355, FP : 201, FN : 250\n",
      "Accuracy : 0.8980, Micro Precision : 0.9214, Micro Recall : 0.9040, Micro F1 : 0.9126\n",
      "| \u001b[0m 46      \u001b[0m | \u001b[0m 0.9126  \u001b[0m | \u001b[0m 0.9891  \u001b[0m | \u001b[0m 0.1551  \u001b[0m | \u001b[0m 0.5509  \u001b[0m | \u001b[0m 0.1519  \u001b[0m | \u001b[0m 8.961   \u001b[0m | \u001b[0m 5.199   \u001b[0m | \u001b[0m 0.07709 \u001b[0m | \u001b[0m 38.9    \u001b[0m |\n"
     ]
    },
    {
     "name": "stderr",
     "output_type": "stream",
     "text": [
      "C:\\Users\\Simeon\\Anaconda3\\envs\\First\\lib\\site-packages\\lightgbm\\engine.py:113: UserWarning: Found `num_iterations` in params. Will use it instead of argument\n",
      "  warnings.warn(\"Found `{}` in params. Will use it instead of argument\".format(alias))\n",
      "C:\\Users\\Simeon\\Anaconda3\\envs\\First\\lib\\site-packages\\lightgbm\\basic.py:452: UserWarning: Converting data to scipy sparse matrix.\n",
      "  warnings.warn('Converting data to scipy sparse matrix.')\n"
     ]
    },
    {
     "name": "stdout",
     "output_type": "stream",
     "text": [
      "True Positives per class :  [ 121.  104. 2157.   95.]\n",
      "False Positives per class :  [81. 73. 83. 41.]\n",
      "False Negatives per class :  [ 29.  38. 181.  30.]\n",
      "Class happy : Precision : 0.588, Recall : 0.732, F1 : 0.652\n",
      "Class sad : Precision : 0.963, Recall : 0.923, F1 : 0.942\n",
      "Class angry : Precision : 0.699, Recall : 0.760, F1 : 0.728\n",
      "Ignoring the Others class, Macro Precision : 0.7497, Macro Recall : 0.8050, Macro F1 : 0.7764\n",
      "Ignoring the Others class, Micro TP : 2356, FP : 197, FN : 249\n",
      "Accuracy : 0.8991, Micro Precision : 0.9228, Micro Recall : 0.9044, Micro F1 : 0.9135\n",
      "| \u001b[0m 47      \u001b[0m | \u001b[0m 0.9135  \u001b[0m | \u001b[0m 0.9848  \u001b[0m | \u001b[0m 0.124   \u001b[0m | \u001b[0m 0.3834  \u001b[0m | \u001b[0m 0.9575  \u001b[0m | \u001b[0m 8.994   \u001b[0m | \u001b[0m 5.677   \u001b[0m | \u001b[0m 0.09792 \u001b[0m | \u001b[0m 37.63   \u001b[0m |\n"
     ]
    },
    {
     "name": "stderr",
     "output_type": "stream",
     "text": [
      "C:\\Users\\Simeon\\Anaconda3\\envs\\First\\lib\\site-packages\\lightgbm\\engine.py:113: UserWarning: Found `num_iterations` in params. Will use it instead of argument\n",
      "  warnings.warn(\"Found `{}` in params. Will use it instead of argument\".format(alias))\n",
      "C:\\Users\\Simeon\\Anaconda3\\envs\\First\\lib\\site-packages\\lightgbm\\basic.py:452: UserWarning: Converting data to scipy sparse matrix.\n",
      "  warnings.warn('Converting data to scipy sparse matrix.')\n"
     ]
    },
    {
     "name": "stdout",
     "output_type": "stream",
     "text": [
      "True Positives per class :  [ 115.  102. 2151.   94.]\n",
      "False Positives per class :  [85. 73. 88. 47.]\n",
      "False Negatives per class :  [ 35.  40. 187.  31.]\n",
      "Class happy : Precision : 0.583, Recall : 0.718, F1 : 0.644\n",
      "Class sad : Precision : 0.961, Recall : 0.920, F1 : 0.940\n",
      "Class angry : Precision : 0.667, Recall : 0.752, F1 : 0.707\n",
      "Ignoring the Others class, Macro Precision : 0.7367, Macro Recall : 0.7968, Macro F1 : 0.7656\n",
      "Ignoring the Others class, Micro TP : 2347, FP : 208, FN : 258\n",
      "Accuracy : 0.8936, Micro Precision : 0.9186, Micro Recall : 0.9010, Micro F1 : 0.9097\n",
      "| \u001b[0m 48      \u001b[0m | \u001b[0m 0.9097  \u001b[0m | \u001b[0m 0.9774  \u001b[0m | \u001b[0m 0.1229  \u001b[0m | \u001b[0m 0.7432  \u001b[0m | \u001b[0m 0.5713  \u001b[0m | \u001b[0m 8.963   \u001b[0m | \u001b[0m 5.141   \u001b[0m | \u001b[0m 0.003163\u001b[0m | \u001b[0m 35.74   \u001b[0m |\n"
     ]
    },
    {
     "name": "stderr",
     "output_type": "stream",
     "text": [
      "C:\\Users\\Simeon\\Anaconda3\\envs\\First\\lib\\site-packages\\lightgbm\\engine.py:113: UserWarning: Found `num_iterations` in params. Will use it instead of argument\n",
      "  warnings.warn(\"Found `{}` in params. Will use it instead of argument\".format(alias))\n",
      "C:\\Users\\Simeon\\Anaconda3\\envs\\First\\lib\\site-packages\\lightgbm\\basic.py:452: UserWarning: Converting data to scipy sparse matrix.\n",
      "  warnings.warn('Converting data to scipy sparse matrix.')\n"
     ]
    },
    {
     "name": "stdout",
     "output_type": "stream",
     "text": [
      "True Positives per class :  [ 120.  105. 2143.   96.]\n",
      "False Positives per class :  [93. 73. 82. 43.]\n",
      "False Negatives per class :  [ 30.  37. 195.  29.]\n",
      "Class happy : Precision : 0.590, Recall : 0.739, F1 : 0.656\n",
      "Class sad : Precision : 0.963, Recall : 0.917, F1 : 0.939\n",
      "Class angry : Precision : 0.691, Recall : 0.768, F1 : 0.727\n",
      "Ignoring the Others class, Macro Precision : 0.7479, Macro Recall : 0.8080, Macro F1 : 0.7768\n",
      "Ignoring the Others class, Micro TP : 2344, FP : 198, FN : 261\n",
      "Accuracy : 0.8944, Micro Precision : 0.9221, Micro Recall : 0.8998, Micro F1 : 0.9108\n",
      "| \u001b[0m 49      \u001b[0m | \u001b[0m 0.9108  \u001b[0m | \u001b[0m 0.9708  \u001b[0m | \u001b[0m 0.1097  \u001b[0m | \u001b[0m 0.1576  \u001b[0m | \u001b[0m 1.651   \u001b[0m | \u001b[0m 5.74    \u001b[0m | \u001b[0m 5.512   \u001b[0m | \u001b[0m 0.09498 \u001b[0m | \u001b[0m 32.61   \u001b[0m |\n"
     ]
    },
    {
     "name": "stderr",
     "output_type": "stream",
     "text": [
      "C:\\Users\\Simeon\\Anaconda3\\envs\\First\\lib\\site-packages\\lightgbm\\engine.py:113: UserWarning: Found `num_iterations` in params. Will use it instead of argument\n",
      "  warnings.warn(\"Found `{}` in params. Will use it instead of argument\".format(alias))\n",
      "C:\\Users\\Simeon\\Anaconda3\\envs\\First\\lib\\site-packages\\lightgbm\\basic.py:452: UserWarning: Converting data to scipy sparse matrix.\n",
      "  warnings.warn('Converting data to scipy sparse matrix.')\n"
     ]
    },
    {
     "name": "stdout",
     "output_type": "stream",
     "text": [
      "True Positives per class :  [ 119.  104. 2146.   94.]\n",
      "False Positives per class :  [90. 74. 84. 44.]\n",
      "False Negatives per class :  [ 31.  38. 192.  31.]\n",
      "Class happy : Precision : 0.584, Recall : 0.732, F1 : 0.650\n",
      "Class sad : Precision : 0.962, Recall : 0.918, F1 : 0.940\n",
      "Class angry : Precision : 0.681, Recall : 0.752, F1 : 0.715\n",
      "Ignoring the Others class, Macro Precision : 0.7426, Macro Recall : 0.8008, Macro F1 : 0.7706\n",
      "Ignoring the Others class, Micro TP : 2344, FP : 202, FN : 261\n",
      "Accuracy : 0.8940, Micro Precision : 0.9207, Micro Recall : 0.8998, Micro F1 : 0.9101\n",
      "| \u001b[0m 50      \u001b[0m | \u001b[0m 0.9101  \u001b[0m | \u001b[0m 0.996   \u001b[0m | \u001b[0m 0.1253  \u001b[0m | \u001b[0m 0.2994  \u001b[0m | \u001b[0m 0.5112  \u001b[0m | \u001b[0m 8.179   \u001b[0m | \u001b[0m 5.534   \u001b[0m | \u001b[0m 0.01672 \u001b[0m | \u001b[0m 37.91   \u001b[0m |\n"
     ]
    },
    {
     "name": "stderr",
     "output_type": "stream",
     "text": [
      "C:\\Users\\Simeon\\Anaconda3\\envs\\First\\lib\\site-packages\\lightgbm\\engine.py:113: UserWarning: Found `num_iterations` in params. Will use it instead of argument\n",
      "  warnings.warn(\"Found `{}` in params. Will use it instead of argument\".format(alias))\n",
      "C:\\Users\\Simeon\\Anaconda3\\envs\\First\\lib\\site-packages\\lightgbm\\basic.py:452: UserWarning: Converting data to scipy sparse matrix.\n",
      "  warnings.warn('Converting data to scipy sparse matrix.')\n"
     ]
    },
    {
     "name": "stdout",
     "output_type": "stream",
     "text": [
      "True Positives per class :  [ 120.  103. 2156.   94.]\n",
      "False Positives per class :  [88. 69. 87. 38.]\n",
      "False Negatives per class :  [ 30.  39. 182.  31.]\n",
      "Class happy : Precision : 0.599, Recall : 0.725, F1 : 0.656\n",
      "Class sad : Precision : 0.961, Recall : 0.922, F1 : 0.941\n",
      "Class angry : Precision : 0.712, Recall : 0.752, F1 : 0.732\n",
      "Ignoring the Others class, Macro Precision : 0.7574, Macro Recall : 0.7998, Macro F1 : 0.7780\n",
      "Ignoring the Others class, Micro TP : 2353, FP : 194, FN : 252\n",
      "Accuracy : 0.8976, Micro Precision : 0.9238, Micro Recall : 0.9033, Micro F1 : 0.9134\n",
      "| \u001b[0m 51      \u001b[0m | \u001b[0m 0.9134  \u001b[0m | \u001b[0m 0.8582  \u001b[0m | \u001b[0m 0.1391  \u001b[0m | \u001b[0m 0.09366 \u001b[0m | \u001b[0m 0.361   \u001b[0m | \u001b[0m 8.69    \u001b[0m | \u001b[0m 5.718   \u001b[0m | \u001b[0m 0.09614 \u001b[0m | \u001b[0m 34.99   \u001b[0m |\n"
     ]
    },
    {
     "name": "stderr",
     "output_type": "stream",
     "text": [
      "C:\\Users\\Simeon\\Anaconda3\\envs\\First\\lib\\site-packages\\lightgbm\\engine.py:113: UserWarning: Found `num_iterations` in params. Will use it instead of argument\n",
      "  warnings.warn(\"Found `{}` in params. Will use it instead of argument\".format(alias))\n",
      "C:\\Users\\Simeon\\Anaconda3\\envs\\First\\lib\\site-packages\\lightgbm\\basic.py:452: UserWarning: Converting data to scipy sparse matrix.\n",
      "  warnings.warn('Converting data to scipy sparse matrix.')\n"
     ]
    },
    {
     "name": "stdout",
     "output_type": "stream",
     "text": [
      "True Positives per class :  [ 121.  103. 2154.   94.]\n",
      "False Positives per class :  [86. 74. 84. 39.]\n",
      "False Negatives per class :  [ 29.  39. 184.  31.]\n",
      "Class happy : Precision : 0.582, Recall : 0.725, F1 : 0.646\n",
      "Class sad : Precision : 0.962, Recall : 0.921, F1 : 0.941\n",
      "Class angry : Precision : 0.707, Recall : 0.752, F1 : 0.729\n",
      "Ignoring the Others class, Macro Precision : 0.7504, Macro Recall : 0.7996, Macro F1 : 0.7742\n",
      "Ignoring the Others class, Micro TP : 2351, FP : 197, FN : 254\n",
      "Accuracy : 0.8973, Micro Precision : 0.9227, Micro Recall : 0.9025, Micro F1 : 0.9125\n",
      "| \u001b[0m 52      \u001b[0m | \u001b[0m 0.9125  \u001b[0m | \u001b[0m 0.9904  \u001b[0m | \u001b[0m 0.104   \u001b[0m | \u001b[0m 0.1389  \u001b[0m | \u001b[0m 0.1048  \u001b[0m | \u001b[0m 6.925   \u001b[0m | \u001b[0m 5.634   \u001b[0m | \u001b[0m 0.07727 \u001b[0m | \u001b[0m 37.62   \u001b[0m |\n"
     ]
    },
    {
     "name": "stderr",
     "output_type": "stream",
     "text": [
      "C:\\Users\\Simeon\\Anaconda3\\envs\\First\\lib\\site-packages\\lightgbm\\engine.py:113: UserWarning: Found `num_iterations` in params. Will use it instead of argument\n",
      "  warnings.warn(\"Found `{}` in params. Will use it instead of argument\".format(alias))\n",
      "C:\\Users\\Simeon\\Anaconda3\\envs\\First\\lib\\site-packages\\lightgbm\\basic.py:452: UserWarning: Converting data to scipy sparse matrix.\n",
      "  warnings.warn('Converting data to scipy sparse matrix.')\n"
     ]
    },
    {
     "name": "stdout",
     "output_type": "stream",
     "text": [
      "True Positives per class :  [ 119.  105. 2141.   97.]\n",
      "False Positives per class :  [87. 73. 85. 48.]\n",
      "False Negatives per class :  [ 31.  37. 197.  28.]\n",
      "Class happy : Precision : 0.590, Recall : 0.739, F1 : 0.656\n",
      "Class sad : Precision : 0.962, Recall : 0.916, F1 : 0.938\n",
      "Class angry : Precision : 0.669, Recall : 0.776, F1 : 0.719\n",
      "Ignoring the Others class, Macro Precision : 0.7402, Macro Recall : 0.8104, Macro F1 : 0.7737\n",
      "Ignoring the Others class, Micro TP : 2343, FP : 206, FN : 262\n",
      "Accuracy : 0.8936, Micro Precision : 0.9192, Micro Recall : 0.8994, Micro F1 : 0.9092\n",
      "| \u001b[0m 53      \u001b[0m | \u001b[0m 0.9092  \u001b[0m | \u001b[0m 0.9894  \u001b[0m | \u001b[0m 0.187   \u001b[0m | \u001b[0m 0.03558 \u001b[0m | \u001b[0m 0.8161  \u001b[0m | \u001b[0m 6.412   \u001b[0m | \u001b[0m 5.176   \u001b[0m | \u001b[0m 0.09141 \u001b[0m | \u001b[0m 37.15   \u001b[0m |\n"
     ]
    },
    {
     "name": "stderr",
     "output_type": "stream",
     "text": [
      "C:\\Users\\Simeon\\Anaconda3\\envs\\First\\lib\\site-packages\\lightgbm\\engine.py:113: UserWarning: Found `num_iterations` in params. Will use it instead of argument\n",
      "  warnings.warn(\"Found `{}` in params. Will use it instead of argument\".format(alias))\n",
      "C:\\Users\\Simeon\\Anaconda3\\envs\\First\\lib\\site-packages\\lightgbm\\basic.py:452: UserWarning: Converting data to scipy sparse matrix.\n",
      "  warnings.warn('Converting data to scipy sparse matrix.')\n"
     ]
    },
    {
     "name": "stdout",
     "output_type": "stream",
     "text": [
      "True Positives per class :  [ 117.  102. 2146.   93.]\n",
      "False Positives per class :  [88. 77. 88. 44.]\n",
      "False Negatives per class :  [ 33.  40. 192.  32.]\n",
      "Class happy : Precision : 0.570, Recall : 0.718, F1 : 0.636\n",
      "Class sad : Precision : 0.961, Recall : 0.918, F1 : 0.939\n",
      "Class angry : Precision : 0.679, Recall : 0.744, F1 : 0.710\n",
      "Ignoring the Others class, Macro Precision : 0.7364, Macro Recall : 0.7934, Macro F1 : 0.7638\n",
      "Ignoring the Others class, Micro TP : 2341, FP : 209, FN : 264\n",
      "Accuracy : 0.8922, Micro Precision : 0.9180, Micro Recall : 0.8987, Micro F1 : 0.9082\n",
      "| \u001b[0m 54      \u001b[0m | \u001b[0m 0.9082  \u001b[0m | \u001b[0m 0.8996  \u001b[0m | \u001b[0m 0.1442  \u001b[0m | \u001b[0m 0.0247  \u001b[0m | \u001b[0m 0.2902  \u001b[0m | \u001b[0m 8.621   \u001b[0m | \u001b[0m 5.352   \u001b[0m | \u001b[0m 0.06308 \u001b[0m | \u001b[0m 33.55   \u001b[0m |\n"
     ]
    },
    {
     "name": "stderr",
     "output_type": "stream",
     "text": [
      "C:\\Users\\Simeon\\Anaconda3\\envs\\First\\lib\\site-packages\\lightgbm\\engine.py:113: UserWarning: Found `num_iterations` in params. Will use it instead of argument\n",
      "  warnings.warn(\"Found `{}` in params. Will use it instead of argument\".format(alias))\n",
      "C:\\Users\\Simeon\\Anaconda3\\envs\\First\\lib\\site-packages\\lightgbm\\basic.py:452: UserWarning: Converting data to scipy sparse matrix.\n",
      "  warnings.warn('Converting data to scipy sparse matrix.')\n"
     ]
    },
    {
     "name": "stdout",
     "output_type": "stream",
     "text": [
      "True Positives per class :  [ 117.  104. 2154.   96.]\n",
      "False Positives per class :  [88. 70. 83. 43.]\n",
      "False Negatives per class :  [ 33.  38. 184.  29.]\n",
      "Class happy : Precision : 0.598, Recall : 0.732, F1 : 0.658\n",
      "Class sad : Precision : 0.963, Recall : 0.921, F1 : 0.942\n",
      "Class angry : Precision : 0.691, Recall : 0.768, F1 : 0.727\n",
      "Ignoring the Others class, Macro Precision : 0.7504, Macro Recall : 0.8072, Macro F1 : 0.7778\n",
      "Ignoring the Others class, Micro TP : 2354, FP : 196, FN : 251\n",
      "Accuracy : 0.8969, Micro Precision : 0.9231, Micro Recall : 0.9036, Micro F1 : 0.9133\n",
      "| \u001b[0m 55      \u001b[0m | \u001b[0m 0.9133  \u001b[0m | \u001b[0m 0.9997  \u001b[0m | \u001b[0m 0.1124  \u001b[0m | \u001b[0m 0.5272  \u001b[0m | \u001b[0m 0.183   \u001b[0m | \u001b[0m 8.193   \u001b[0m | \u001b[0m 5.599   \u001b[0m | \u001b[0m 0.04464 \u001b[0m | \u001b[0m 35.73   \u001b[0m |\n"
     ]
    },
    {
     "name": "stderr",
     "output_type": "stream",
     "text": [
      "C:\\Users\\Simeon\\Anaconda3\\envs\\First\\lib\\site-packages\\lightgbm\\engine.py:113: UserWarning: Found `num_iterations` in params. Will use it instead of argument\n",
      "  warnings.warn(\"Found `{}` in params. Will use it instead of argument\".format(alias))\n",
      "C:\\Users\\Simeon\\Anaconda3\\envs\\First\\lib\\site-packages\\lightgbm\\basic.py:452: UserWarning: Converting data to scipy sparse matrix.\n",
      "  warnings.warn('Converting data to scipy sparse matrix.')\n"
     ]
    },
    {
     "name": "stdout",
     "output_type": "stream",
     "text": [
      "True Positives per class :  [ 117.  103. 2162.   95.]\n",
      "False Positives per class :  [80. 70. 86. 42.]\n",
      "False Negatives per class :  [ 33.  39. 176.  30.]\n",
      "Class happy : Precision : 0.595, Recall : 0.725, F1 : 0.654\n",
      "Class sad : Precision : 0.962, Recall : 0.925, F1 : 0.943\n",
      "Class angry : Precision : 0.693, Recall : 0.760, F1 : 0.725\n",
      "Ignoring the Others class, Macro Precision : 0.7502, Macro Recall : 0.8034, Macro F1 : 0.7759\n",
      "Ignoring the Others class, Micro TP : 2360, FP : 198, FN : 245\n",
      "Accuracy : 0.8991, Micro Precision : 0.9226, Micro Recall : 0.9060, Micro F1 : 0.9142\n",
      "| \u001b[95m 56      \u001b[0m | \u001b[95m 0.9142  \u001b[0m | \u001b[95m 0.9868  \u001b[0m | \u001b[95m 0.1087  \u001b[0m | \u001b[95m 0.21    \u001b[0m | \u001b[95m 1.608   \u001b[0m | \u001b[95m 8.709   \u001b[0m | \u001b[95m 6.411   \u001b[0m | \u001b[95m 0.09949 \u001b[0m | \u001b[95m 38.75   \u001b[0m |\n"
     ]
    },
    {
     "name": "stderr",
     "output_type": "stream",
     "text": [
      "C:\\Users\\Simeon\\Anaconda3\\envs\\First\\lib\\site-packages\\lightgbm\\engine.py:113: UserWarning: Found `num_iterations` in params. Will use it instead of argument\n",
      "  warnings.warn(\"Found `{}` in params. Will use it instead of argument\".format(alias))\n",
      "C:\\Users\\Simeon\\Anaconda3\\envs\\First\\lib\\site-packages\\lightgbm\\basic.py:452: UserWarning: Converting data to scipy sparse matrix.\n",
      "  warnings.warn('Converting data to scipy sparse matrix.')\n"
     ]
    },
    {
     "name": "stdout",
     "output_type": "stream",
     "text": [
      "True Positives per class :  [ 118.  105. 2157.   93.]\n",
      "False Positives per class :  [84. 71. 86. 41.]\n",
      "False Negatives per class :  [ 32.  37. 181.  32.]\n",
      "Class happy : Precision : 0.597, Recall : 0.739, F1 : 0.660\n",
      "Class sad : Precision : 0.962, Recall : 0.923, F1 : 0.942\n",
      "Class angry : Precision : 0.694, Recall : 0.744, F1 : 0.718\n",
      "Ignoring the Others class, Macro Precision : 0.7508, Macro Recall : 0.8020, Macro F1 : 0.7755\n",
      "Ignoring the Others class, Micro TP : 2355, FP : 198, FN : 250\n",
      "Accuracy : 0.8976, Micro Precision : 0.9224, Micro Recall : 0.9040, Micro F1 : 0.9131\n",
      "| \u001b[0m 57      \u001b[0m | \u001b[0m 0.9131  \u001b[0m | \u001b[0m 0.998   \u001b[0m | \u001b[0m 0.1894  \u001b[0m | \u001b[0m 1.163   \u001b[0m | \u001b[0m 0.6348  \u001b[0m | \u001b[0m 8.752   \u001b[0m | \u001b[0m 5.645   \u001b[0m | \u001b[0m 0.09764 \u001b[0m | \u001b[0m 38.96   \u001b[0m |\n"
     ]
    },
    {
     "name": "stderr",
     "output_type": "stream",
     "text": [
      "C:\\Users\\Simeon\\Anaconda3\\envs\\First\\lib\\site-packages\\lightgbm\\engine.py:113: UserWarning: Found `num_iterations` in params. Will use it instead of argument\n",
      "  warnings.warn(\"Found `{}` in params. Will use it instead of argument\".format(alias))\n",
      "C:\\Users\\Simeon\\Anaconda3\\envs\\First\\lib\\site-packages\\lightgbm\\basic.py:452: UserWarning: Converting data to scipy sparse matrix.\n",
      "  warnings.warn('Converting data to scipy sparse matrix.')\n"
     ]
    },
    {
     "name": "stdout",
     "output_type": "stream",
     "text": [
      "True Positives per class :  [ 116.   99. 2149.   92.]\n",
      "False Positives per class :  [86. 72. 95. 46.]\n",
      "False Negatives per class :  [ 34.  43. 189.  33.]\n",
      "Class happy : Precision : 0.579, Recall : 0.697, F1 : 0.633\n",
      "Class sad : Precision : 0.958, Recall : 0.919, F1 : 0.938\n",
      "Class angry : Precision : 0.667, Recall : 0.736, F1 : 0.700\n",
      "Ignoring the Others class, Macro Precision : 0.7344, Macro Recall : 0.7841, Macro F1 : 0.7585\n",
      "Ignoring the Others class, Micro TP : 2340, FP : 213, FN : 265\n",
      "Accuracy : 0.8915, Micro Precision : 0.9166, Micro Recall : 0.8983, Micro F1 : 0.9073\n",
      "| \u001b[0m 58      \u001b[0m | \u001b[0m 0.9073  \u001b[0m | \u001b[0m 0.9965  \u001b[0m | \u001b[0m 0.1311  \u001b[0m | \u001b[0m 3.574   \u001b[0m | \u001b[0m 0.1798  \u001b[0m | \u001b[0m 8.857   \u001b[0m | \u001b[0m 5.283   \u001b[0m | \u001b[0m 0.07913 \u001b[0m | \u001b[0m 40.77   \u001b[0m |\n"
     ]
    },
    {
     "name": "stderr",
     "output_type": "stream",
     "text": [
      "C:\\Users\\Simeon\\Anaconda3\\envs\\First\\lib\\site-packages\\lightgbm\\engine.py:113: UserWarning: Found `num_iterations` in params. Will use it instead of argument\n",
      "  warnings.warn(\"Found `{}` in params. Will use it instead of argument\".format(alias))\n",
      "C:\\Users\\Simeon\\Anaconda3\\envs\\First\\lib\\site-packages\\lightgbm\\basic.py:452: UserWarning: Converting data to scipy sparse matrix.\n",
      "  warnings.warn('Converting data to scipy sparse matrix.')\n"
     ]
    },
    {
     "name": "stdout",
     "output_type": "stream",
     "text": [
      "True Positives per class :  [ 118.  101. 2153.   92.]\n",
      "False Positives per class :  [85. 72. 91. 43.]\n",
      "False Negatives per class :  [ 32.  41. 185.  33.]\n",
      "Class happy : Precision : 0.584, Recall : 0.711, F1 : 0.641\n",
      "Class sad : Precision : 0.959, Recall : 0.921, F1 : 0.940\n",
      "Class angry : Precision : 0.681, Recall : 0.736, F1 : 0.708\n",
      "Ignoring the Others class, Macro Precision : 0.7416, Macro Recall : 0.7894, Macro F1 : 0.7647\n",
      "Ignoring the Others class, Micro TP : 2346, FP : 206, FN : 259\n",
      "Accuracy : 0.8944, Micro Precision : 0.9193, Micro Recall : 0.9006, Micro F1 : 0.9098\n",
      "| \u001b[0m 59      \u001b[0m | \u001b[0m 0.9098  \u001b[0m | \u001b[0m 0.9898  \u001b[0m | \u001b[0m 0.121   \u001b[0m | \u001b[0m 0.5539  \u001b[0m | \u001b[0m 0.5947  \u001b[0m | \u001b[0m 8.836   \u001b[0m | \u001b[0m 12.18   \u001b[0m | \u001b[0m 0.08969 \u001b[0m | \u001b[0m 42.49   \u001b[0m |\n"
     ]
    },
    {
     "name": "stderr",
     "output_type": "stream",
     "text": [
      "C:\\Users\\Simeon\\Anaconda3\\envs\\First\\lib\\site-packages\\lightgbm\\engine.py:113: UserWarning: Found `num_iterations` in params. Will use it instead of argument\n",
      "  warnings.warn(\"Found `{}` in params. Will use it instead of argument\".format(alias))\n",
      "C:\\Users\\Simeon\\Anaconda3\\envs\\First\\lib\\site-packages\\lightgbm\\basic.py:452: UserWarning: Converting data to scipy sparse matrix.\n",
      "  warnings.warn('Converting data to scipy sparse matrix.')\n"
     ]
    },
    {
     "name": "stdout",
     "output_type": "stream",
     "text": [
      "True Positives per class :  [ 116.  102. 2142.   97.]\n",
      "False Positives per class :  [91. 75. 86. 46.]\n",
      "False Negatives per class :  [ 34.  40. 196.  28.]\n",
      "Class happy : Precision : 0.576, Recall : 0.718, F1 : 0.639\n",
      "Class sad : Precision : 0.961, Recall : 0.916, F1 : 0.938\n",
      "Class angry : Precision : 0.678, Recall : 0.776, F1 : 0.724\n",
      "Ignoring the Others class, Macro Precision : 0.7387, Macro Recall : 0.8035, Macro F1 : 0.7697\n",
      "Ignoring the Others class, Micro TP : 2341, FP : 207, FN : 264\n",
      "Accuracy : 0.8918, Micro Precision : 0.9188, Micro Recall : 0.8987, Micro F1 : 0.9086\n",
      "| \u001b[0m 60      \u001b[0m | \u001b[0m 0.9086  \u001b[0m | \u001b[0m 0.9941  \u001b[0m | \u001b[0m 0.117   \u001b[0m | \u001b[0m 0.03446 \u001b[0m | \u001b[0m 1.266   \u001b[0m | \u001b[0m 8.847   \u001b[0m | \u001b[0m 6.855   \u001b[0m | \u001b[0m 0.004214\u001b[0m | \u001b[0m 39.45   \u001b[0m |\n",
      "=========================================================================================================================\n"
     ]
    }
   ],
   "source": [
    "lgb_eval = lightGbmEval(X_lgbm_feats_train, y, X_lgbm_feats_dev, y_dev)\n",
    "lgbBO_lgbm = BayesianOptimization(lgb_eval, {'num_leaves': (24, 45),\n",
    "                                        'feature_fraction': (0.1, 0.9),\n",
    "                                        'bagging_fraction': (0.8, 1),\n",
    "                                        'max_depth': (5, 9),\n",
    "                                        'lambda_l1': (0, 5),\n",
    "                                        'lambda_l2': (0, 3),\n",
    "                                        'min_split_gain': (0.001, 0.1),\n",
    "                                        'min_child_weight': (5, 50)}, random_state=0)\n",
    "lgbBO_lgbm.maximize(init_points=20, n_iter=40)"
   ]
  },
  {
   "cell_type": "code",
   "execution_count": 79,
   "metadata": {},
   "outputs": [],
   "source": [
    "target = -1\n",
    "max_params_lgbm = {}\n",
    "for res in lgbBO_lgbm.res:\n",
    "    if target < res['target']:\n",
    "        target = res['target']\n",
    "        max_params_lgbm = res['params']"
   ]
  },
  {
   "cell_type": "code",
   "execution_count": 81,
   "metadata": {},
   "outputs": [
    {
     "data": {
      "text/plain": [
       "0.9141971721867131"
      ]
     },
     "execution_count": 81,
     "metadata": {},
     "output_type": "execute_result"
    }
   ],
   "source": [
    "target"
   ]
  },
  {
   "cell_type": "code",
   "execution_count": 80,
   "metadata": {},
   "outputs": [
    {
     "data": {
      "text/plain": [
       "{'bagging_fraction': 0.9868468179754804,\n",
       " 'feature_fraction': 0.1087286871299523,\n",
       " 'lambda_l1': 0.21001373440221238,\n",
       " 'lambda_l2': 1.6076127185605533,\n",
       " 'max_depth': 8.709472188506037,\n",
       " 'min_child_weight': 6.411112138659305,\n",
       " 'min_split_gain': 0.09949353868448442,\n",
       " 'num_leaves': 38.75237749966753}"
      ]
     },
     "execution_count": 80,
     "metadata": {},
     "output_type": "execute_result"
    }
   ],
   "source": [
    "max_params_lgbm"
   ]
  },
  {
   "cell_type": "code",
   "execution_count": 89,
   "metadata": {},
   "outputs": [
    {
     "data": {
      "text/plain": [
       "(2755,)"
      ]
     },
     "execution_count": 89,
     "metadata": {},
     "output_type": "execute_result"
    }
   ],
   "source": [
    "y_dev.shape"
   ]
  },
  {
   "cell_type": "code",
   "execution_count": 98,
   "metadata": {},
   "outputs": [
    {
     "data": {
      "text/plain": [
       "(32915,)"
      ]
     },
     "execution_count": 98,
     "metadata": {},
     "output_type": "execute_result"
    }
   ],
   "source": []
  },
  {
   "cell_type": "code",
   "execution_count": 114,
   "metadata": {},
   "outputs": [
    {
     "name": "stderr",
     "output_type": "stream",
     "text": [
      "C:\\Users\\Simeon\\Anaconda3\\envs\\First\\lib\\site-packages\\lightgbm\\engine.py:113: UserWarning: Found `num_iterations` in params. Will use it instead of argument\n",
      "  warnings.warn(\"Found `{}` in params. Will use it instead of argument\".format(alias))\n"
     ]
    },
    {
     "data": {
      "text/plain": [
       "LGBMClassifier(application='multiclass', bagging_fraction=0.9868468179754804,\n",
       "        boosting_type='gbdt', class_weight=None, colsample_bytree=1.0,\n",
       "        feature_fraction=0.1087286871299523, importance_type='split',\n",
       "        lambda_l1=0.21001373440221238, lambda_l2=1.6076127185605533,\n",
       "        learning_rate=0.05, max_depth=9, metric='multi_logloss',\n",
       "        min_child_samples=20, min_child_weight=6.411112138659305,\n",
       "        min_split_gain=0.09949353868448442, n_estimators=100, n_jobs=-1,\n",
       "        num_iterations=4000, num_leaves=39, objective=None,\n",
       "        random_state=42, reg_alpha=0.0, reg_lambda=0.0, silent=True,\n",
       "        subsample=1.0, subsample_for_bin=200000, subsample_freq=0)"
      ]
     },
     "execution_count": 114,
     "metadata": {},
     "output_type": "execute_result"
    }
   ],
   "source": [
    "clf_lgbm = lightgbmClassifier(**max_params_lgbm)\n",
    "clf_lgbm.fit(vstack([X_lgbm_feats_train,X_lgbm_feats_dev]), np.hstack([y, y_dev]))"
   ]
  },
  {
   "cell_type": "code",
   "execution_count": 103,
   "metadata": {},
   "outputs": [
    {
     "name": "stderr",
     "output_type": "stream",
     "text": [
      "C:\\Users\\Simeon\\Anaconda3\\envs\\First\\lib\\site-packages\\lightgbm\\basic.py:452: UserWarning: Converting data to scipy sparse matrix.\n",
      "  warnings.warn('Converting data to scipy sparse matrix.')\n"
     ]
    }
   ],
   "source": [
    "test_pred = clf_lgbm.predict(X_lgbm_feats_test)\n",
    "save_test_set(test_pred)"
   ]
  },
  {
   "cell_type": "code",
   "execution_count": 115,
   "metadata": {},
   "outputs": [
    {
     "name": "stderr",
     "output_type": "stream",
     "text": [
      "C:\\Users\\Simeon\\Anaconda3\\envs\\First\\lib\\site-packages\\lightgbm\\basic.py:452: UserWarning: Converting data to scipy sparse matrix.\n",
      "  warnings.warn('Converting data to scipy sparse matrix.')\n"
     ]
    }
   ],
   "source": [
    "tr_dev_pred_lgbm = clf_lgbm.predict_proba(vstack([X_lgbm_feats_train,X_lgbm_feats_dev]))\n",
    "test_pred_lgbm = clf_lgbm.predict_proba(X_lgbm_feats_test)"
   ]
  },
  {
   "cell_type": "code",
   "execution_count": 106,
   "metadata": {},
   "outputs": [
    {
     "name": "stderr",
     "output_type": "stream",
     "text": [
      "C:\\Users\\Simeon\\Anaconda3\\envs\\First\\lib\\site-packages\\lightgbm\\engine.py:113: UserWarning: Found `num_iterations` in params. Will use it instead of argument\n",
      "  warnings.warn(\"Found `{}` in params. Will use it instead of argument\".format(alias))\n"
     ]
    },
    {
     "data": {
      "text/plain": [
       "LGBMClassifier(application='multiclass', bagging_fraction=0.9819566720743442,\n",
       "        boosting_type='gbdt', class_weight=None, colsample_bytree=1.0,\n",
       "        feature_fraction=0.16775915680389533, importance_type='split',\n",
       "        lambda_l1=0.5070887211533209, lambda_l2=1.200993517318602,\n",
       "        learning_rate=0.05, max_depth=9, metric='multi_logloss',\n",
       "        min_child_samples=20, min_child_weight=5.04261361744641,\n",
       "        min_split_gain=0.07362854888667725, n_estimators=100, n_jobs=-1,\n",
       "        num_iterations=4000, num_leaves=34, objective=None,\n",
       "        random_state=42, reg_alpha=0.0, reg_lambda=0.0, silent=True,\n",
       "        subsample=1.0, subsample_for_bin=200000, subsample_freq=0)"
      ]
     },
     "execution_count": 106,
     "metadata": {},
     "output_type": "execute_result"
    }
   ],
   "source": [
    "clf = lightgbmClassifier(**max_params)\n",
    "clf.fit(vstack([X_log_select_train,X_log_select_dev]), np.hstack([y, y_dev]))"
   ]
  },
  {
   "cell_type": "code",
   "execution_count": 116,
   "metadata": {},
   "outputs": [],
   "source": [
    "tr_dev_pred_log = clf.predict_proba(vstack([X_log_select_train,X_log_select_dev]))\n",
    "test_pred_log = clf.predict_proba(X_log_select_test)"
   ]
  },
  {
   "cell_type": "code",
   "execution_count": 123,
   "metadata": {},
   "outputs": [
    {
     "data": {
      "text/plain": [
       "LGBMClassifier(application='multiclass', bagging_fraction=0.9819566720743442,\n",
       "        boosting_type='gbdt', class_weight=None, colsample_bytree=1.0,\n",
       "        feature_fraction=0.16775915680389533, importance_type='split',\n",
       "        lambda_l1=0.5070887211533209, lambda_l2=1.200993517318602,\n",
       "        learning_rate=0.05, max_depth=9, metric='multi_logloss',\n",
       "        min_child_samples=20, min_child_weight=5.04261361744641,\n",
       "        min_split_gain=0.07362854888667725, n_estimators=100, n_jobs=-1,\n",
       "        num_iterations=4000, num_leaves=34, objective=None,\n",
       "        random_state=42, reg_alpha=0.0, reg_lambda=0.0, silent=True,\n",
       "        subsample=1.0, subsample_for_bin=200000, subsample_freq=0)"
      ]
     },
     "execution_count": 123,
     "metadata": {},
     "output_type": "execute_result"
    }
   ],
   "source": [
    "clf_chi = lightgbmClassifier(**max_params)\n",
    "clf_chi.fit(vstack([X_chi2_train,X_chi2_dev]), np.hstack([y, y_dev]))"
   ]
  },
  {
   "cell_type": "code",
   "execution_count": 119,
   "metadata": {},
   "outputs": [
    {
     "name": "stderr",
     "output_type": "stream",
     "text": [
      "C:\\Users\\Simeon\\Anaconda3\\envs\\First\\lib\\site-packages\\lightgbm\\basic.py:452: UserWarning: Converting data to scipy sparse matrix.\n",
      "  warnings.warn('Converting data to scipy sparse matrix.')\n"
     ]
    }
   ],
   "source": [
    "tr_dev_pred_chi = clf_chi.predict_proba(vstack([X_chi2_train,X_chi2_dev]))\n",
    "test_pred_chi = clf_chi.predict_proba(X_chi2_test)"
   ]
  },
  {
   "cell_type": "code",
   "execution_count": 121,
   "metadata": {},
   "outputs": [
    {
     "data": {
      "text/plain": [
       "(32915, 12)"
      ]
     },
     "execution_count": 121,
     "metadata": {},
     "output_type": "execute_result"
    }
   ],
   "source": [
    "np.hstack([tr_dev_pred_lgbm,tr_dev_pred_log,tr_dev_pred_chi]).shape"
   ]
  },
  {
   "cell_type": "code",
   "execution_count": 126,
   "metadata": {},
   "outputs": [
    {
     "data": {
      "text/plain": [
       "LGBMClassifier(boosting_type='gbdt', class_weight=None, colsample_bytree=1.0,\n",
       "        importance_type='split', learning_rate=0.1, max_depth=-1,\n",
       "        min_child_samples=20, min_child_weight=0.001, min_split_gain=0.0,\n",
       "        n_estimators=100, n_jobs=-1, num_leaves=31, objective=None,\n",
       "        random_state=None, reg_alpha=0.0, reg_lambda=0.0, silent=True,\n",
       "        subsample=1.0, subsample_for_bin=200000, subsample_freq=0)"
      ]
     },
     "execution_count": 126,
     "metadata": {},
     "output_type": "execute_result"
    }
   ],
   "source": [
    "clf_stack1 = lightgbm.LGBMClassifier()\n",
    "clf_stack1.fit(np.hstack([tr_dev_pred_lgbm,tr_dev_pred_log,tr_dev_pred_chi]), np.hstack([y, y_dev]))"
   ]
  },
  {
   "cell_type": "code",
   "execution_count": 127,
   "metadata": {},
   "outputs": [],
   "source": [
    "test_pred_stack = clf_stack1.predict(np.hstack([test_pred_lgbm,test_pred_log,test_pred_chi]))\n",
    "save_test_set(test_pred_stack)"
   ]
  },
  {
   "cell_type": "code",
   "execution_count": null,
   "metadata": {},
   "outputs": [],
   "source": []
  }
 ],
 "metadata": {
  "kernelspec": {
   "display_name": "Python 3",
   "language": "python",
   "name": "python3"
  },
  "language_info": {
   "codemirror_mode": {
    "name": "ipython",
    "version": 3
   },
   "file_extension": ".py",
   "mimetype": "text/x-python",
   "name": "python",
   "nbconvert_exporter": "python",
   "pygments_lexer": "ipython3",
   "version": "3.6.6"
  }
 },
 "nbformat": 4,
 "nbformat_minor": 2
}
