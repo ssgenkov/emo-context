{
 "cells": [
  {
   "cell_type": "code",
   "execution_count": 13,
   "metadata": {},
   "outputs": [],
   "source": [
    "import pandas as pd\n",
    "import numpy as np\n",
    "import seaborn as sns\n",
    "import matplotlib.pyplot as plt"
   ]
  },
  {
   "cell_type": "code",
   "execution_count": 34,
   "metadata": {},
   "outputs": [],
   "source": [
    "train_data = pd.read_csv('D:\\\\Machine Learning\\\\Datasets\\\\EmoContext\\\\train.txt',\n",
    "                        sep='\\t', index_col='id')"
   ]
  },
  {
   "cell_type": "code",
   "execution_count": 16,
   "metadata": {},
   "outputs": [
    {
     "data": {
      "text/html": [
       "<div>\n",
       "<style scoped>\n",
       "    .dataframe tbody tr th:only-of-type {\n",
       "        vertical-align: middle;\n",
       "    }\n",
       "\n",
       "    .dataframe tbody tr th {\n",
       "        vertical-align: top;\n",
       "    }\n",
       "\n",
       "    .dataframe thead th {\n",
       "        text-align: right;\n",
       "    }\n",
       "</style>\n",
       "<table border=\"1\" class=\"dataframe\">\n",
       "  <thead>\n",
       "    <tr style=\"text-align: right;\">\n",
       "      <th></th>\n",
       "      <th>turn1</th>\n",
       "      <th>turn2</th>\n",
       "      <th>turn3</th>\n",
       "      <th>label</th>\n",
       "    </tr>\n",
       "    <tr>\n",
       "      <th>id</th>\n",
       "      <th></th>\n",
       "      <th></th>\n",
       "      <th></th>\n",
       "      <th></th>\n",
       "    </tr>\n",
       "  </thead>\n",
       "  <tbody>\n",
       "    <tr>\n",
       "      <th>0</th>\n",
       "      <td>Don't worry  I'm girl</td>\n",
       "      <td>hmm how do I know if you are</td>\n",
       "      <td>What's ur name?</td>\n",
       "      <td>others</td>\n",
       "    </tr>\n",
       "    <tr>\n",
       "      <th>1</th>\n",
       "      <td>When did I?</td>\n",
       "      <td>saw many times i think -_-</td>\n",
       "      <td>No. I never saw you</td>\n",
       "      <td>angry</td>\n",
       "    </tr>\n",
       "    <tr>\n",
       "      <th>2</th>\n",
       "      <td>By</td>\n",
       "      <td>by Google Chrome</td>\n",
       "      <td>Where you live</td>\n",
       "      <td>others</td>\n",
       "    </tr>\n",
       "    <tr>\n",
       "      <th>3</th>\n",
       "      <td>U r ridiculous</td>\n",
       "      <td>I might be ridiculous but I am telling the truth.</td>\n",
       "      <td>U little disgusting whore</td>\n",
       "      <td>angry</td>\n",
       "    </tr>\n",
       "    <tr>\n",
       "      <th>4</th>\n",
       "      <td>Just for time pass</td>\n",
       "      <td>wt do u do 4 a living then</td>\n",
       "      <td>Maybe</td>\n",
       "      <td>others</td>\n",
       "    </tr>\n",
       "  </tbody>\n",
       "</table>\n",
       "</div>"
      ],
      "text/plain": [
       "                    turn1                                              turn2  \\\n",
       "id                                                                             \n",
       "0   Don't worry  I'm girl                       hmm how do I know if you are   \n",
       "1             When did I?                         saw many times i think -_-   \n",
       "2                      By                                   by Google Chrome   \n",
       "3          U r ridiculous  I might be ridiculous but I am telling the truth.   \n",
       "4      Just for time pass                         wt do u do 4 a living then   \n",
       "\n",
       "                        turn3   label  \n",
       "id                                     \n",
       "0             What's ur name?  others  \n",
       "1         No. I never saw you   angry  \n",
       "2              Where you live  others  \n",
       "3   U little disgusting whore   angry  \n",
       "4                       Maybe  others  "
      ]
     },
     "execution_count": 16,
     "metadata": {},
     "output_type": "execute_result"
    }
   ],
   "source": [
    "train_data.head()"
   ]
  },
  {
   "cell_type": "code",
   "execution_count": 17,
   "metadata": {},
   "outputs": [
    {
     "data": {
      "text/plain": [
       "(30160, 4)"
      ]
     },
     "execution_count": 17,
     "metadata": {},
     "output_type": "execute_result"
    }
   ],
   "source": [
    "train_data.shape"
   ]
  },
  {
   "cell_type": "code",
   "execution_count": 18,
   "metadata": {},
   "outputs": [
    {
     "data": {
      "text/plain": [
       "turn1    0\n",
       "turn2    0\n",
       "turn3    0\n",
       "label    0\n",
       "dtype: int64"
      ]
     },
     "execution_count": 18,
     "metadata": {},
     "output_type": "execute_result"
    }
   ],
   "source": [
    "train_data.isnull().sum()"
   ]
  },
  {
   "cell_type": "code",
   "execution_count": 19,
   "metadata": {},
   "outputs": [
    {
     "data": {
      "text/plain": [
       "array(['others', 'angry', 'sad', 'happy'], dtype=object)"
      ]
     },
     "execution_count": 19,
     "metadata": {},
     "output_type": "execute_result"
    }
   ],
   "source": [
    "train_data.label.unique()"
   ]
  },
  {
   "cell_type": "code",
   "execution_count": 22,
   "metadata": {},
   "outputs": [
    {
     "data": {
      "image/png": "[encoded data removed]",
      "text/plain": [
       "<Figure size 1296x576 with 2 Axes>"
      ]
     },
     "metadata": {
      "needs_background": "light"
     },
     "output_type": "display_data"
    }
   ],
   "source": [
    "f, ax = plt.subplots(1,2, figsize=(18, 8))\n",
    "train_data.label.value_counts().plot.pie(explode=[0.05]*4,\n",
    "                                        autopct='%1.1f%%',shadow=True,\n",
    "                                        ax=ax[0])\n",
    "sns.countplot('label', data=train_data, ax=ax[1])\n",
    "ax[0].set_title('Label')\n",
    "ax[1].set_title('Label')\n",
    "plt.show()"
   ]
  },
  {
   "cell_type": "code",
   "execution_count": 40,
   "metadata": {},
   "outputs": [
    {
     "data": {
      "text/html": [
       "<div>\n",
       "<style scoped>\n",
       "    .dataframe tbody tr th:only-of-type {\n",
       "        vertical-align: middle;\n",
       "    }\n",
       "\n",
       "    .dataframe tbody tr th {\n",
       "        vertical-align: top;\n",
       "    }\n",
       "\n",
       "    .dataframe thead th {\n",
       "        text-align: right;\n",
       "    }\n",
       "</style>\n",
       "<table border=\"1\" class=\"dataframe\">\n",
       "  <thead>\n",
       "    <tr style=\"text-align: right;\">\n",
       "      <th></th>\n",
       "      <th>turn1</th>\n",
       "      <th>turn2</th>\n",
       "      <th>turn3</th>\n",
       "      <th>label</th>\n",
       "    </tr>\n",
       "    <tr>\n",
       "      <th>id</th>\n",
       "      <th></th>\n",
       "      <th></th>\n",
       "      <th></th>\n",
       "      <th></th>\n",
       "    </tr>\n",
       "  </thead>\n",
       "  <tbody>\n",
       "    <tr>\n",
       "      <th>0</th>\n",
       "      <td>Don't worry  I'm girl</td>\n",
       "      <td>hmm how do I know if you are</td>\n",
       "      <td>What's ur name?</td>\n",
       "      <td>others</td>\n",
       "    </tr>\n",
       "    <tr>\n",
       "      <th>2</th>\n",
       "      <td>By</td>\n",
       "      <td>by Google Chrome</td>\n",
       "      <td>Where you live</td>\n",
       "      <td>others</td>\n",
       "    </tr>\n",
       "    <tr>\n",
       "      <th>4</th>\n",
       "      <td>Just for time pass</td>\n",
       "      <td>wt do u do 4 a living then</td>\n",
       "      <td>Maybe</td>\n",
       "      <td>others</td>\n",
       "    </tr>\n",
       "    <tr>\n",
       "      <th>5</th>\n",
       "      <td>I'm a dog person</td>\n",
       "      <td>youre so rude</td>\n",
       "      <td>Whaaaat why</td>\n",
       "      <td>others</td>\n",
       "    </tr>\n",
       "    <tr>\n",
       "      <th>6</th>\n",
       "      <td>So whatsup</td>\n",
       "      <td>Nothing much. Sitting sipping and watching TV....</td>\n",
       "      <td>What are you watching on tv?</td>\n",
       "      <td>others</td>\n",
       "    </tr>\n",
       "    <tr>\n",
       "      <th>7</th>\n",
       "      <td>Ok</td>\n",
       "      <td>ok im back!!</td>\n",
       "      <td>So, how are u</td>\n",
       "      <td>others</td>\n",
       "    </tr>\n",
       "    <tr>\n",
       "      <th>8</th>\n",
       "      <td>Really?</td>\n",
       "      <td>really really really really really</td>\n",
       "      <td>Y saying so many times...i can hear you</td>\n",
       "      <td>others</td>\n",
       "    </tr>\n",
       "    <tr>\n",
       "      <th>9</th>\n",
       "      <td>Bay</td>\n",
       "      <td>in the bay</td>\n",
       "      <td>😘 love you</td>\n",
       "      <td>others</td>\n",
       "    </tr>\n",
       "    <tr>\n",
       "      <th>11</th>\n",
       "      <td>I will do night.</td>\n",
       "      <td>Alright. Keep me in loop.</td>\n",
       "      <td>Not giving WhatsApp no.</td>\n",
       "      <td>others</td>\n",
       "    </tr>\n",
       "    <tr>\n",
       "      <th>12</th>\n",
       "      <td>Sure go ahead</td>\n",
       "      <td>Many thanks once again!</td>\n",
       "      <td>Love you too</td>\n",
       "      <td>others</td>\n",
       "    </tr>\n",
       "    <tr>\n",
       "      <th>14</th>\n",
       "      <td>Ok get it......</td>\n",
       "      <td>I made it an option</td>\n",
       "      <td>Ok</td>\n",
       "      <td>others</td>\n",
       "    </tr>\n",
       "    <tr>\n",
       "      <th>20</th>\n",
       "      <td>ehat is hehe</td>\n",
       "      <td>Haha is more like:Hehe is more of a giggle. ;^)</td>\n",
       "      <td>what*</td>\n",
       "      <td>others</td>\n",
       "    </tr>\n",
       "    <tr>\n",
       "      <th>23</th>\n",
       "      <td>Not always</td>\n",
       "      <td>What about yesterday</td>\n",
       "      <td>Do u know what 69 is?</td>\n",
       "      <td>others</td>\n",
       "    </tr>\n",
       "    <tr>\n",
       "      <th>25</th>\n",
       "      <td>Yeah</td>\n",
       "      <td>i'll ask around</td>\n",
       "      <td>Which is your favourite movie</td>\n",
       "      <td>others</td>\n",
       "    </tr>\n",
       "    <tr>\n",
       "      <th>27</th>\n",
       "      <td>Yes I will send the email and you write all yo...</td>\n",
       "      <td>sent you a mail just now.</td>\n",
       "      <td>First you send your email address  received th...</td>\n",
       "      <td>others</td>\n",
       "    </tr>\n",
       "  </tbody>\n",
       "</table>\n",
       "</div>"
      ],
      "text/plain": [
       "                                                turn1  \\\n",
       "id                                                      \n",
       "0                               Don't worry  I'm girl   \n",
       "2                                                  By   \n",
       "4                                  Just for time pass   \n",
       "5                                    I'm a dog person   \n",
       "6                                          So whatsup   \n",
       "7                                                  Ok   \n",
       "8                                             Really?   \n",
       "9                                                 Bay   \n",
       "11                                   I will do night.   \n",
       "12                                      Sure go ahead   \n",
       "14                                    Ok get it......   \n",
       "20                                       ehat is hehe   \n",
       "23                                         Not always   \n",
       "25                                               Yeah   \n",
       "27  Yes I will send the email and you write all yo...   \n",
       "\n",
       "                                                turn2  \\\n",
       "id                                                      \n",
       "0                        hmm how do I know if you are   \n",
       "2                                    by Google Chrome   \n",
       "4                          wt do u do 4 a living then   \n",
       "5                                       youre so rude   \n",
       "6   Nothing much. Sitting sipping and watching TV....   \n",
       "7                                        ok im back!!   \n",
       "8                  really really really really really   \n",
       "9                                          in the bay   \n",
       "11                          Alright. Keep me in loop.   \n",
       "12                            Many thanks once again!   \n",
       "14                                I made it an option   \n",
       "20    Haha is more like:Hehe is more of a giggle. ;^)   \n",
       "23                               What about yesterday   \n",
       "25                                    i'll ask around   \n",
       "27                          sent you a mail just now.   \n",
       "\n",
       "                                                turn3   label  \n",
       "id                                                             \n",
       "0                                     What's ur name?  others  \n",
       "2                                      Where you live  others  \n",
       "4                                               Maybe  others  \n",
       "5                                         Whaaaat why  others  \n",
       "6                        What are you watching on tv?  others  \n",
       "7                                       So, how are u  others  \n",
       "8             Y saying so many times...i can hear you  others  \n",
       "9                                          😘 love you  others  \n",
       "11                            Not giving WhatsApp no.  others  \n",
       "12                                       Love you too  others  \n",
       "14                                                 Ok  others  \n",
       "20                                              what*  others  \n",
       "23                              Do u know what 69 is?  others  \n",
       "25                      Which is your favourite movie  others  \n",
       "27  First you send your email address  received th...  others  "
      ]
     },
     "execution_count": 40,
     "metadata": {},
     "output_type": "execute_result"
    }
   ],
   "source": [
    "train_data[train_data['label']=='others'].head(15)"
   ]
  },
  {
   "cell_type": "code",
   "execution_count": 43,
   "metadata": {},
   "outputs": [
    {
     "data": {
      "text/html": [
       "<div>\n",
       "<style scoped>\n",
       "    .dataframe tbody tr th:only-of-type {\n",
       "        vertical-align: middle;\n",
       "    }\n",
       "\n",
       "    .dataframe tbody tr th {\n",
       "        vertical-align: top;\n",
       "    }\n",
       "\n",
       "    .dataframe thead th {\n",
       "        text-align: right;\n",
       "    }\n",
       "</style>\n",
       "<table border=\"1\" class=\"dataframe\">\n",
       "  <thead>\n",
       "    <tr style=\"text-align: right;\">\n",
       "      <th></th>\n",
       "      <th>turn1</th>\n",
       "      <th>turn2</th>\n",
       "      <th>turn3</th>\n",
       "      <th>label</th>\n",
       "    </tr>\n",
       "    <tr>\n",
       "      <th>id</th>\n",
       "      <th></th>\n",
       "      <th></th>\n",
       "      <th></th>\n",
       "      <th></th>\n",
       "    </tr>\n",
       "  </thead>\n",
       "  <tbody>\n",
       "    <tr>\n",
       "      <th>15</th>\n",
       "      <td>Money money and lots of money😍😍</td>\n",
       "      <td>I need to get it tailored but I'm in love with...</td>\n",
       "      <td>😁😁</td>\n",
       "      <td>happy</td>\n",
       "    </tr>\n",
       "    <tr>\n",
       "      <th>21</th>\n",
       "      <td>Do you dance?</td>\n",
       "      <td>Yes I love to dance 😻</td>\n",
       "      <td>😂😂😂 so you have legs too</td>\n",
       "      <td>happy</td>\n",
       "    </tr>\n",
       "    <tr>\n",
       "      <th>28</th>\n",
       "      <td>You are very funny</td>\n",
       "      <td>so I've been told</td>\n",
       "      <td>India</td>\n",
       "      <td>happy</td>\n",
       "    </tr>\n",
       "    <tr>\n",
       "      <th>32</th>\n",
       "      <td>Ntng.....</td>\n",
       "      <td>anyways good morning...how's life at your end.</td>\n",
       "      <td>Haha....... this is evening</td>\n",
       "      <td>happy</td>\n",
       "    </tr>\n",
       "    <tr>\n",
       "      <th>39</th>\n",
       "      <td>yes :)</td>\n",
       "      <td>Now happy? :))</td>\n",
       "      <td>haha yes ofcorse ;)</td>\n",
       "      <td>happy</td>\n",
       "    </tr>\n",
       "    <tr>\n",
       "      <th>42</th>\n",
       "      <td>OK friend's</td>\n",
       "      <td>YA YA VERY GOOD FRIEND</td>\n",
       "      <td>Very nice friends</td>\n",
       "      <td>happy</td>\n",
       "    </tr>\n",
       "    <tr>\n",
       "      <th>44</th>\n",
       "      <td>Happy</td>\n",
       "      <td>I'm never happy. But I'm almost happy.</td>\n",
       "      <td>Hij to the top</td>\n",
       "      <td>happy</td>\n",
       "    </tr>\n",
       "    <tr>\n",
       "      <th>50</th>\n",
       "      <td>What I did?</td>\n",
       "      <td>You didn't Asmita, see my answer</td>\n",
       "      <td>😂😂</td>\n",
       "      <td>happy</td>\n",
       "    </tr>\n",
       "    <tr>\n",
       "      <th>63</th>\n",
       "      <td>WELL YOU EXPECTED WRONG!</td>\n",
       "      <td>LOL. Well, ok then.</td>\n",
       "      <td>LOL YOUR ROBOT FACE</td>\n",
       "      <td>happy</td>\n",
       "    </tr>\n",
       "    <tr>\n",
       "      <th>67</th>\n",
       "      <td>😂 😂 right</td>\n",
       "      <td>Appatasiri. High five then! 🖑😂😂😂😂</td>\n",
       "      <td>😂</td>\n",
       "      <td>happy</td>\n",
       "    </tr>\n",
       "    <tr>\n",
       "      <th>74</th>\n",
       "      <td>So have u done ur dinner</td>\n",
       "      <td>so can't dinner :(</td>\n",
       "      <td>I know ..i am just kidding</td>\n",
       "      <td>happy</td>\n",
       "    </tr>\n",
       "    <tr>\n",
       "      <th>76</th>\n",
       "      <td>Haha so</td>\n",
       "      <td>you love them really :) haha</td>\n",
       "      <td>Winter is coming</td>\n",
       "      <td>happy</td>\n",
       "    </tr>\n",
       "    <tr>\n",
       "      <th>87</th>\n",
       "      <td>For a computer pretending to be a human, you t...</td>\n",
       "      <td>and you're pretending to be a lizard? Lol</td>\n",
       "      <td>That's funny</td>\n",
       "      <td>happy</td>\n",
       "    </tr>\n",
       "    <tr>\n",
       "      <th>90</th>\n",
       "      <td>call me grace</td>\n",
       "      <td>don't say it....</td>\n",
       "      <td>haha ... im just kidding you</td>\n",
       "      <td>happy</td>\n",
       "    </tr>\n",
       "    <tr>\n",
       "      <th>126</th>\n",
       "      <td>I'm very happy with it</td>\n",
       "      <td>You are !</td>\n",
       "      <td>Yeah</td>\n",
       "      <td>happy</td>\n",
       "    </tr>\n",
       "  </tbody>\n",
       "</table>\n",
       "</div>"
      ],
      "text/plain": [
       "                                                 turn1  \\\n",
       "id                                                       \n",
       "15                     Money money and lots of money😍😍   \n",
       "21                                       Do you dance?   \n",
       "28                                  You are very funny   \n",
       "32                                           Ntng.....   \n",
       "39                                              yes :)   \n",
       "42                                         OK friend's   \n",
       "44                                               Happy   \n",
       "50                                         What I did?   \n",
       "63                            WELL YOU EXPECTED WRONG!   \n",
       "67                                           😂 😂 right   \n",
       "74                            So have u done ur dinner   \n",
       "76                                             Haha so   \n",
       "87   For a computer pretending to be a human, you t...   \n",
       "90                                      call me grace    \n",
       "126                             I'm very happy with it   \n",
       "\n",
       "                                                 turn2  \\\n",
       "id                                                       \n",
       "15   I need to get it tailored but I'm in love with...   \n",
       "21                               Yes I love to dance 😻   \n",
       "28                                   so I've been told   \n",
       "32      anyways good morning...how's life at your end.   \n",
       "39                                      Now happy? :))   \n",
       "42                              YA YA VERY GOOD FRIEND   \n",
       "44              I'm never happy. But I'm almost happy.   \n",
       "50                    You didn't Asmita, see my answer   \n",
       "63                                 LOL. Well, ok then.   \n",
       "67                   Appatasiri. High five then! 🖑😂😂😂😂   \n",
       "74                                  so can't dinner :(   \n",
       "76                        you love them really :) haha   \n",
       "87           and you're pretending to be a lizard? Lol   \n",
       "90                                    don't say it....   \n",
       "126                                          You are !   \n",
       "\n",
       "                             turn3  label  \n",
       "id                                         \n",
       "15                              😁😁  happy  \n",
       "21        😂😂😂 so you have legs too  happy  \n",
       "28                           India  happy  \n",
       "32     Haha....... this is evening  happy  \n",
       "39             haha yes ofcorse ;)  happy  \n",
       "42               Very nice friends  happy  \n",
       "44                  Hij to the top  happy  \n",
       "50                              😂😂  happy  \n",
       "63             LOL YOUR ROBOT FACE  happy  \n",
       "67                               😂  happy  \n",
       "74      I know ..i am just kidding  happy  \n",
       "76                Winter is coming  happy  \n",
       "87                    That's funny  happy  \n",
       "90   haha ... im just kidding you   happy  \n",
       "126                          Yeah   happy  "
      ]
     },
     "execution_count": 43,
     "metadata": {},
     "output_type": "execute_result"
    }
   ],
   "source": [
    "train_data[train_data['label']=='happy'].head(15)"
   ]
  },
  {
   "cell_type": "code",
   "execution_count": 44,
   "metadata": {},
   "outputs": [
    {
     "data": {
      "text/html": [
       "<div>\n",
       "<style scoped>\n",
       "    .dataframe tbody tr th:only-of-type {\n",
       "        vertical-align: middle;\n",
       "    }\n",
       "\n",
       "    .dataframe tbody tr th {\n",
       "        vertical-align: top;\n",
       "    }\n",
       "\n",
       "    .dataframe thead th {\n",
       "        text-align: right;\n",
       "    }\n",
       "</style>\n",
       "<table border=\"1\" class=\"dataframe\">\n",
       "  <thead>\n",
       "    <tr style=\"text-align: right;\">\n",
       "      <th></th>\n",
       "      <th>turn1</th>\n",
       "      <th>turn2</th>\n",
       "      <th>turn3</th>\n",
       "      <th>label</th>\n",
       "    </tr>\n",
       "    <tr>\n",
       "      <th>id</th>\n",
       "      <th></th>\n",
       "      <th></th>\n",
       "      <th></th>\n",
       "      <th></th>\n",
       "    </tr>\n",
       "  </thead>\n",
       "  <tbody>\n",
       "    <tr>\n",
       "      <th>13</th>\n",
       "      <td>Bad</td>\n",
       "      <td>Bad bad! That's the bad kind of bad.</td>\n",
       "      <td>I have no gf</td>\n",
       "      <td>sad</td>\n",
       "    </tr>\n",
       "    <tr>\n",
       "      <th>16</th>\n",
       "      <td>My gf left ne</td>\n",
       "      <td>Get over it. Go out with someone else.</td>\n",
       "      <td>Me*</td>\n",
       "      <td>sad</td>\n",
       "    </tr>\n",
       "    <tr>\n",
       "      <th>18</th>\n",
       "      <td>You are lying and i know that</td>\n",
       "      <td>I KNOW YOU'RE LYING, AB BYS</td>\n",
       "      <td>😭😭</td>\n",
       "      <td>sad</td>\n",
       "    </tr>\n",
       "    <tr>\n",
       "      <th>19</th>\n",
       "      <td>Ur creator is very bad</td>\n",
       "      <td>you are only the creator of your brain.</td>\n",
       "      <td>😑</td>\n",
       "      <td>sad</td>\n",
       "    </tr>\n",
       "    <tr>\n",
       "      <th>24</th>\n",
       "      <td>Bcoz u dont know wat is to miss someone</td>\n",
       "      <td>but sometimes one can't express the same</td>\n",
       "      <td>😢</td>\n",
       "      <td>sad</td>\n",
       "    </tr>\n",
       "    <tr>\n",
       "      <th>26</th>\n",
       "      <td>I want to tell you something</td>\n",
       "      <td>I'm waiting</td>\n",
       "      <td>Im really sad today</td>\n",
       "      <td>sad</td>\n",
       "    </tr>\n",
       "    <tr>\n",
       "      <th>43</th>\n",
       "      <td>She is ignoring me</td>\n",
       "      <td>no im not ignore you</td>\n",
       "      <td>😭😭😭</td>\n",
       "      <td>sad</td>\n",
       "    </tr>\n",
       "    <tr>\n",
       "      <th>59</th>\n",
       "      <td>Idk</td>\n",
       "      <td>You know that I'm here for you.</td>\n",
       "      <td>But u don't like to listen to me😭😭😭😭</td>\n",
       "      <td>sad</td>\n",
       "    </tr>\n",
       "    <tr>\n",
       "      <th>71</th>\n",
       "      <td>Not good</td>\n",
       "      <td>:( why not..?</td>\n",
       "      <td>Been sick for one week</td>\n",
       "      <td>sad</td>\n",
       "    </tr>\n",
       "    <tr>\n",
       "      <th>85</th>\n",
       "      <td>Damn...💔</td>\n",
       "      <td>I FEEL YOU..... I'm breaking into million piec...</td>\n",
       "      <td>Me to I feel like every part of me is just sha...</td>\n",
       "      <td>sad</td>\n",
       "    </tr>\n",
       "    <tr>\n",
       "      <th>93</th>\n",
       "      <td>Good By</td>\n",
       "      <td>and good food after...</td>\n",
       "      <td>Not good aftar</td>\n",
       "      <td>sad</td>\n",
       "    </tr>\n",
       "    <tr>\n",
       "      <th>97</th>\n",
       "      <td>😃yes yes</td>\n",
       "      <td>:3 you seem like a happy person</td>\n",
       "      <td>Yes 😂Happy outside ,😞sad inside</td>\n",
       "      <td>sad</td>\n",
       "    </tr>\n",
       "    <tr>\n",
       "      <th>98</th>\n",
       "      <td>I dont read books</td>\n",
       "      <td>Reading is for rich people</td>\n",
       "      <td>But iam poor😦😦😦😦</td>\n",
       "      <td>sad</td>\n",
       "    </tr>\n",
       "    <tr>\n",
       "      <th>105</th>\n",
       "      <td>No love</td>\n",
       "      <td>why not? :(</td>\n",
       "      <td>I have pain only</td>\n",
       "      <td>sad</td>\n",
       "    </tr>\n",
       "    <tr>\n",
       "      <th>109</th>\n",
       "      <td>It is</td>\n",
       "      <td>but that's what you told me</td>\n",
       "      <td>You are making me sad</td>\n",
       "      <td>sad</td>\n",
       "    </tr>\n",
       "  </tbody>\n",
       "</table>\n",
       "</div>"
      ],
      "text/plain": [
       "                                       turn1  \\\n",
       "id                                             \n",
       "13                                       Bad   \n",
       "16                             My gf left ne   \n",
       "18             You are lying and i know that   \n",
       "19                    Ur creator is very bad   \n",
       "24   Bcoz u dont know wat is to miss someone   \n",
       "26              I want to tell you something   \n",
       "43                        She is ignoring me   \n",
       "59                                       Idk   \n",
       "71                                  Not good   \n",
       "85                                  Damn...💔   \n",
       "93                                   Good By   \n",
       "97                                  😃yes yes   \n",
       "98                         I dont read books   \n",
       "105                                  No love   \n",
       "109                                    It is   \n",
       "\n",
       "                                                 turn2  \\\n",
       "id                                                       \n",
       "13                Bad bad! That's the bad kind of bad.   \n",
       "16              Get over it. Go out with someone else.   \n",
       "18                         I KNOW YOU'RE LYING, AB BYS   \n",
       "19             you are only the creator of your brain.   \n",
       "24            but sometimes one can't express the same   \n",
       "26                                         I'm waiting   \n",
       "43                                no im not ignore you   \n",
       "59                     You know that I'm here for you.   \n",
       "71                                       :( why not..?   \n",
       "85   I FEEL YOU..... I'm breaking into million piec...   \n",
       "93                              and good food after...   \n",
       "97                     :3 you seem like a happy person   \n",
       "98                          Reading is for rich people   \n",
       "105                                        why not? :(   \n",
       "109                        but that's what you told me   \n",
       "\n",
       "                                                 turn3 label  \n",
       "id                                                            \n",
       "13                                        I have no gf   sad  \n",
       "16                                                 Me*   sad  \n",
       "18                                                  😭😭   sad  \n",
       "19                                                   😑   sad  \n",
       "24                                                   😢   sad  \n",
       "26                                 Im really sad today   sad  \n",
       "43                                                 😭😭😭   sad  \n",
       "59                But u don't like to listen to me😭😭😭😭   sad  \n",
       "71                              Been sick for one week   sad  \n",
       "85   Me to I feel like every part of me is just sha...   sad  \n",
       "93                                      Not good aftar   sad  \n",
       "97                     Yes 😂Happy outside ,😞sad inside   sad  \n",
       "98                                    But iam poor😦😦😦😦   sad  \n",
       "105                                   I have pain only   sad  \n",
       "109                              You are making me sad   sad  "
      ]
     },
     "execution_count": 44,
     "metadata": {},
     "output_type": "execute_result"
    }
   ],
   "source": [
    "train_data[train_data['label']=='sad'].head(15)"
   ]
  },
  {
   "cell_type": "code",
   "execution_count": 45,
   "metadata": {},
   "outputs": [
    {
     "data": {
      "text/html": [
       "<div>\n",
       "<style scoped>\n",
       "    .dataframe tbody tr th:only-of-type {\n",
       "        vertical-align: middle;\n",
       "    }\n",
       "\n",
       "    .dataframe tbody tr th {\n",
       "        vertical-align: top;\n",
       "    }\n",
       "\n",
       "    .dataframe thead th {\n",
       "        text-align: right;\n",
       "    }\n",
       "</style>\n",
       "<table border=\"1\" class=\"dataframe\">\n",
       "  <thead>\n",
       "    <tr style=\"text-align: right;\">\n",
       "      <th></th>\n",
       "      <th>turn1</th>\n",
       "      <th>turn2</th>\n",
       "      <th>turn3</th>\n",
       "      <th>label</th>\n",
       "    </tr>\n",
       "    <tr>\n",
       "      <th>id</th>\n",
       "      <th></th>\n",
       "      <th></th>\n",
       "      <th></th>\n",
       "      <th></th>\n",
       "    </tr>\n",
       "  </thead>\n",
       "  <tbody>\n",
       "    <tr>\n",
       "      <th>1</th>\n",
       "      <td>When did I?</td>\n",
       "      <td>saw many times i think -_-</td>\n",
       "      <td>No. I never saw you</td>\n",
       "      <td>angry</td>\n",
       "    </tr>\n",
       "    <tr>\n",
       "      <th>3</th>\n",
       "      <td>U r ridiculous</td>\n",
       "      <td>I might be ridiculous but I am telling the truth.</td>\n",
       "      <td>U little disgusting whore</td>\n",
       "      <td>angry</td>\n",
       "    </tr>\n",
       "    <tr>\n",
       "      <th>10</th>\n",
       "      <td>I hate my boyfriend</td>\n",
       "      <td>you got a boyfriend?</td>\n",
       "      <td>Yes</td>\n",
       "      <td>angry</td>\n",
       "    </tr>\n",
       "    <tr>\n",
       "      <th>17</th>\n",
       "      <td>get lost</td>\n",
       "      <td>I know you guys want to loose to me always.</td>\n",
       "      <td>I don't want to talk u any more</td>\n",
       "      <td>angry</td>\n",
       "    </tr>\n",
       "    <tr>\n",
       "      <th>22</th>\n",
       "      <td>I hate it too</td>\n",
       "      <td>Guess what, I don't.</td>\n",
       "      <td>Even I don't</td>\n",
       "      <td>angry</td>\n",
       "    </tr>\n",
       "    <tr>\n",
       "      <th>30</th>\n",
       "      <td>so rude</td>\n",
       "      <td>why?</td>\n",
       "      <td>u didnt ans my question</td>\n",
       "      <td>angry</td>\n",
       "    </tr>\n",
       "    <tr>\n",
       "      <th>33</th>\n",
       "      <td>You are fool</td>\n",
       "      <td>So I've been told.</td>\n",
       "      <td>You are dumb</td>\n",
       "      <td>angry</td>\n",
       "    </tr>\n",
       "    <tr>\n",
       "      <th>34</th>\n",
       "      <td>U dare me?</td>\n",
       "      <td>yeAh</td>\n",
       "      <td>I fuck u... Open ur panty</td>\n",
       "      <td>angry</td>\n",
       "    </tr>\n",
       "    <tr>\n",
       "      <th>52</th>\n",
       "      <td>And i don't know wtf are you talking</td>\n",
       "      <td>gonna explain you later..!</td>\n",
       "      <td>No do it now</td>\n",
       "      <td>angry</td>\n",
       "    </tr>\n",
       "    <tr>\n",
       "      <th>58</th>\n",
       "      <td>I am sorry</td>\n",
       "      <td>We are sorry for creating your nation.</td>\n",
       "      <td>I am not  taught to u</td>\n",
       "      <td>angry</td>\n",
       "    </tr>\n",
       "    <tr>\n",
       "      <th>65</th>\n",
       "      <td>Zombie attack😓😒</td>\n",
       "      <td>If a zombie wants to eat your face you might a...</td>\n",
       "      <td>No if I have some thing in my hand I will hit ...</td>\n",
       "      <td>angry</td>\n",
       "    </tr>\n",
       "    <tr>\n",
       "      <th>66</th>\n",
       "      <td>I am not ferari</td>\n",
       "      <td>Yes. I know.</td>\n",
       "      <td>U said i donot know, now say i know mean</td>\n",
       "      <td>angry</td>\n",
       "    </tr>\n",
       "    <tr>\n",
       "      <th>73</th>\n",
       "      <td>Then how could u eat if u don't have a body......</td>\n",
       "      <td>How can you have any pudding if you don't eat ...</td>\n",
       "      <td>Dont go round and round into circles</td>\n",
       "      <td>angry</td>\n",
       "    </tr>\n",
       "    <tr>\n",
       "      <th>78</th>\n",
       "      <td>I hate Siri and it's friends</td>\n",
       "      <td>if you hate them , they are not your friends t...</td>\n",
       "      <td>Yeah and u r Siri's friend so I hate u too</td>\n",
       "      <td>angry</td>\n",
       "    </tr>\n",
       "    <tr>\n",
       "      <th>80</th>\n",
       "      <td>Dont know</td>\n",
       "      <td>too many!</td>\n",
       "      <td>Do you also get fucked hard</td>\n",
       "      <td>angry</td>\n",
       "    </tr>\n",
       "  </tbody>\n",
       "</table>\n",
       "</div>"
      ],
      "text/plain": [
       "                                                turn1  \\\n",
       "id                                                      \n",
       "1                                         When did I?   \n",
       "3                                      U r ridiculous   \n",
       "10                                I hate my boyfriend   \n",
       "17                                           get lost   \n",
       "22                                      I hate it too   \n",
       "30                                            so rude   \n",
       "33                                       You are fool   \n",
       "34                                         U dare me?   \n",
       "52               And i don't know wtf are you talking   \n",
       "58                                         I am sorry   \n",
       "65                                    Zombie attack😓😒   \n",
       "66                                    I am not ferari   \n",
       "73  Then how could u eat if u don't have a body......   \n",
       "78                       I hate Siri and it's friends   \n",
       "80                                          Dont know   \n",
       "\n",
       "                                                turn2  \\\n",
       "id                                                      \n",
       "1                          saw many times i think -_-   \n",
       "3   I might be ridiculous but I am telling the truth.   \n",
       "10                               you got a boyfriend?   \n",
       "17        I know you guys want to loose to me always.   \n",
       "22                               Guess what, I don't.   \n",
       "30                                               why?   \n",
       "33                                 So I've been told.   \n",
       "34                                               yeAh   \n",
       "52                         gonna explain you later..!   \n",
       "58             We are sorry for creating your nation.   \n",
       "65  If a zombie wants to eat your face you might a...   \n",
       "66                                       Yes. I know.   \n",
       "73  How can you have any pudding if you don't eat ...   \n",
       "78  if you hate them , they are not your friends t...   \n",
       "80                                          too many!   \n",
       "\n",
       "                                                turn3  label  \n",
       "id                                                            \n",
       "1                                 No. I never saw you  angry  \n",
       "3                           U little disgusting whore  angry  \n",
       "10                                                Yes  angry  \n",
       "17                    I don't want to talk u any more  angry  \n",
       "22                                       Even I don't  angry  \n",
       "30                            u didnt ans my question  angry  \n",
       "33                                       You are dumb  angry  \n",
       "34                          I fuck u... Open ur panty  angry  \n",
       "52                                       No do it now  angry  \n",
       "58                              I am not  taught to u  angry  \n",
       "65  No if I have some thing in my hand I will hit ...  angry  \n",
       "66           U said i donot know, now say i know mean  angry  \n",
       "73               Dont go round and round into circles  angry  \n",
       "78         Yeah and u r Siri's friend so I hate u too  angry  \n",
       "80                        Do you also get fucked hard  angry  "
      ]
     },
     "execution_count": 45,
     "metadata": {},
     "output_type": "execute_result"
    }
   ],
   "source": [
    "train_data[train_data['label']=='angry'].head(15)"
   ]
  },
  {
   "cell_type": "code",
   "execution_count": 51,
   "metadata": {},
   "outputs": [],
   "source": [
    "from nltk.tokenize import word_tokenize"
   ]
  },
  {
   "cell_type": "code",
   "execution_count": 54,
   "metadata": {},
   "outputs": [],
   "source": [
    "from sklearn.feature_extraction.text  import CountVectorizer"
   ]
  },
  {
   "cell_type": "code",
   "execution_count": 59,
   "metadata": {},
   "outputs": [
    {
     "data": {
      "text/html": [
       "<div>\n",
       "<style scoped>\n",
       "    .dataframe tbody tr th:only-of-type {\n",
       "        vertical-align: middle;\n",
       "    }\n",
       "\n",
       "    .dataframe tbody tr th {\n",
       "        vertical-align: top;\n",
       "    }\n",
       "\n",
       "    .dataframe thead th {\n",
       "        text-align: right;\n",
       "    }\n",
       "</style>\n",
       "<table border=\"1\" class=\"dataframe\">\n",
       "  <thead>\n",
       "    <tr style=\"text-align: right;\">\n",
       "      <th></th>\n",
       "      <th>turn1</th>\n",
       "      <th>turn2</th>\n",
       "      <th>turn3</th>\n",
       "    </tr>\n",
       "    <tr>\n",
       "      <th>id</th>\n",
       "      <th></th>\n",
       "      <th></th>\n",
       "      <th></th>\n",
       "    </tr>\n",
       "  </thead>\n",
       "  <tbody>\n",
       "    <tr>\n",
       "      <th>1</th>\n",
       "      <td>When did I?</td>\n",
       "      <td>saw many times i think -_-</td>\n",
       "      <td>No. I never saw you</td>\n",
       "    </tr>\n",
       "    <tr>\n",
       "      <th>2</th>\n",
       "      <td>By</td>\n",
       "      <td>by Google Chrome</td>\n",
       "      <td>Where you live</td>\n",
       "    </tr>\n",
       "  </tbody>\n",
       "</table>\n",
       "</div>"
      ],
      "text/plain": [
       "          turn1                       turn2                turn3\n",
       "id                                                              \n",
       "1   When did I?  saw many times i think -_-  No. I never saw you\n",
       "2            By            by Google Chrome       Where you live"
      ]
     },
     "execution_count": 59,
     "metadata": {},
     "output_type": "execute_result"
    }
   ],
   "source": [
    "train_data.iloc[1:3,0:3]"
   ]
  },
  {
   "cell_type": "code",
   "execution_count": 60,
   "metadata": {},
   "outputs": [
    {
     "data": {
      "text/plain": [
       "id\n",
       "1    When did I?\n",
       "2             By\n",
       "Name: turn1, dtype: object"
      ]
     },
     "execution_count": 60,
     "metadata": {},
     "output_type": "execute_result"
    }
   ],
   "source": [
    "train_data.iloc[1:3]['turn1'].map(str)"
   ]
  },
  {
   "cell_type": "code",
   "execution_count": 67,
   "metadata": {},
   "outputs": [],
   "source": [
    "train_all_one_column = train_data['turn1'].map(str) + ' ' + train_data['turn2'].map(str) + ' ' + train_data['turn3']"
   ]
  },
  {
   "cell_type": "code",
   "execution_count": 68,
   "metadata": {},
   "outputs": [
    {
     "data": {
      "text/plain": [
       "'When did I? saw many times i think -_- No. I never saw you'"
      ]
     },
     "execution_count": 68,
     "metadata": {},
     "output_type": "execute_result"
    }
   ],
   "source": [
    "train_all_one_column[1]"
   ]
  },
  {
   "cell_type": "code",
   "execution_count": 69,
   "metadata": {},
   "outputs": [],
   "source": [
    "cv = CountVectorizer()"
   ]
  },
  {
   "cell_type": "code",
   "execution_count": 414,
   "metadata": {},
   "outputs": [
    {
     "data": {
      "text/plain": [
       "3726"
      ]
     },
     "execution_count": 414,
     "metadata": {},
     "output_type": "execute_result"
    }
   ],
   "source": [
    "cv.vocabulary_['don']"
   ]
  },
  {
   "cell_type": "code",
   "execution_count": 70,
   "metadata": {},
   "outputs": [],
   "source": [
    "train_CVectorized = cv.fit_transform(train_all_one_column)"
   ]
  },
  {
   "cell_type": "code",
   "execution_count": 71,
   "metadata": {},
   "outputs": [
    {
     "data": {
      "text/plain": [
       "scipy.sparse.csr.csr_matrix"
      ]
     },
     "execution_count": 71,
     "metadata": {},
     "output_type": "execute_result"
    }
   ],
   "source": [
    "type(train_CVectorized)"
   ]
  },
  {
   "cell_type": "code",
   "execution_count": 72,
   "metadata": {},
   "outputs": [
    {
     "data": {
      "text/plain": [
       "(30160, 14253)"
      ]
     },
     "execution_count": 72,
     "metadata": {},
     "output_type": "execute_result"
    }
   ],
   "source": [
    "train_CVectorized.shape"
   ]
  },
  {
   "cell_type": "code",
   "execution_count": 74,
   "metadata": {},
   "outputs": [],
   "source": [
    "words_count = train_CVectorized.sum(axis=0)"
   ]
  },
  {
   "cell_type": "code",
   "execution_count": 75,
   "metadata": {},
   "outputs": [
    {
     "data": {
      "text/plain": [
       "matrix([[7, 4, 1, ..., 1, 1, 1]], dtype=int64)"
      ]
     },
     "execution_count": 75,
     "metadata": {},
     "output_type": "execute_result"
    }
   ],
   "source": [
    "words_count"
   ]
  },
  {
   "cell_type": "code",
   "execution_count": 97,
   "metadata": {},
   "outputs": [],
   "source": [
    "def get_most_used_words(corpus, n=10, remove_stopwords=False):\n",
    "    stop_words = None\n",
    "    if remove_stopwords:\n",
    "        stop_words = 'english'\n",
    "    cv = CountVectorizer(stop_words=stop_words)\n",
    "    corpus_vectorized = cv.fit_transform(corpus)\n",
    "    sum_of_usages = corpus_vectorized.sum(axis=0)\n",
    "    words_freq = [(word, sum_of_usages[0, idx]) for word, idx in cv.vocabulary_.items()]\n",
    "    words_freq = sorted(words_freq, key= lambda x: x[1], reverse=True)\n",
    "    return words_freq[:n]\n",
    "\n",
    "def get_most_used_word_by_label(data, concrete_label, n=10, remove_stopwords=False):\n",
    "    data = data[data['label'] == concrete_label]\n",
    "    all_in_one = data['turn1'].map(str) + ' ' + data['turn2'].map(str) + ' ' + data['turn3']\n",
    "    return get_most_used_words(all_in_one, n, remove_stopwords)"
   ]
  },
  {
   "cell_type": "code",
   "execution_count": 98,
   "metadata": {},
   "outputs": [
    {
     "data": {
      "text/plain": [
       "[('funny', 844),\n",
       " ('haha', 654),\n",
       " ('happy', 652),\n",
       " ('like', 431),\n",
       " ('good', 412),\n",
       " ('yes', 375),\n",
       " ('know', 346),\n",
       " ('love', 340),\n",
       " ('wow', 319),\n",
       " ('just', 305),\n",
       " ('nice', 296),\n",
       " ('lol', 266),\n",
       " ('awesome', 229),\n",
       " ('yeah', 207),\n",
       " ('really', 200),\n",
       " ('thanks', 185),\n",
       " ('movie', 164),\n",
       " ('don', 162),\n",
       " ('thank', 150),\n",
       " ('hahaha', 138),\n",
       " ('great', 136),\n",
       " ('oh', 136),\n",
       " ('glad', 124),\n",
       " ('ok', 123),\n",
       " ('day', 117),\n",
       " ('joke', 117),\n",
       " ('ur', 116),\n",
       " ('think', 114),\n",
       " ('tell', 112),\n",
       " ('did', 110)]"
      ]
     },
     "execution_count": 98,
     "metadata": {},
     "output_type": "execute_result"
    }
   ],
   "source": [
    "get_most_used_word_by_label(train_data, 'happy', 30, True)"
   ]
  },
  {
   "cell_type": "code",
   "execution_count": 99,
   "metadata": {},
   "outputs": [
    {
     "data": {
      "text/plain": [
       "[('sad', 757),\n",
       " ('bad', 692),\n",
       " ('good', 649),\n",
       " ('don', 533),\n",
       " ('sorry', 426),\n",
       " ('just', 389),\n",
       " ('love', 367),\n",
       " ('know', 352),\n",
       " ('like', 345),\n",
       " ('yes', 339),\n",
       " ('ok', 339),\n",
       " ('feeling', 315),\n",
       " ('want', 309),\n",
       " ('feel', 286),\n",
       " ('really', 262),\n",
       " ('life', 221),\n",
       " ('fine', 207),\n",
       " ('miss', 204),\n",
       " ('lonely', 201),\n",
       " ('hurt', 193),\n",
       " ('talk', 188),\n",
       " ('day', 182),\n",
       " ('broke', 181),\n",
       " ('did', 173),\n",
       " ('girlfriend', 172),\n",
       " ('tell', 170),\n",
       " ('oh', 161),\n",
       " ('going', 161),\n",
       " ('heart', 156),\n",
       " ('yeah', 153)]"
      ]
     },
     "execution_count": 99,
     "metadata": {},
     "output_type": "execute_result"
    }
   ],
   "source": [
    "get_most_used_word_by_label(train_data, 'sad', 30, True)"
   ]
  },
  {
   "cell_type": "code",
   "execution_count": 100,
   "metadata": {},
   "outputs": [
    {
     "data": {
      "text/plain": [
       "[('don', 1279),\n",
       " ('hate', 943),\n",
       " ('stupid', 732),\n",
       " ('know', 607),\n",
       " ('talk', 578),\n",
       " ('just', 539),\n",
       " ('like', 491),\n",
       " ('fuck', 487),\n",
       " ('angry', 450),\n",
       " ('want', 415),\n",
       " ('rude', 390),\n",
       " ('yes', 363),\n",
       " ('dont', 355),\n",
       " ('lost', 303),\n",
       " ('talking', 288),\n",
       " ('ok', 284),\n",
       " ('tell', 249),\n",
       " ('hell', 218),\n",
       " ('really', 217),\n",
       " ('annoying', 212),\n",
       " ('irritating', 212),\n",
       " ('stop', 207),\n",
       " ('say', 205),\n",
       " ('ur', 199),\n",
       " ('think', 186),\n",
       " ('good', 184),\n",
       " ('did', 181),\n",
       " ('love', 178),\n",
       " ('mean', 166),\n",
       " ('sorry', 165)]"
      ]
     },
     "execution_count": 100,
     "metadata": {},
     "output_type": "execute_result"
    }
   ],
   "source": [
    "get_most_used_word_by_label(train_data, 'angry', 30, True)"
   ]
  },
  {
   "cell_type": "code",
   "execution_count": 102,
   "metadata": {},
   "outputs": [
    {
     "data": {
      "text/plain": [
       "[('know', 1537),\n",
       " ('yes', 1489),\n",
       " ('ok', 1437),\n",
       " ('like', 1279),\n",
       " ('don', 1248),\n",
       " ('good', 1037),\n",
       " ('tell', 1009),\n",
       " ('love', 950),\n",
       " ('want', 873),\n",
       " ('just', 849),\n",
       " ('send', 613),\n",
       " ('yeah', 576),\n",
       " ('ur', 516),\n",
       " ('really', 501),\n",
       " ('think', 497),\n",
       " ('say', 474),\n",
       " ('oh', 468),\n",
       " ('did', 441),\n",
       " ('time', 426),\n",
       " ('thanks', 410),\n",
       " ('thank', 381),\n",
       " ('cool', 375),\n",
       " ('talk', 369),\n",
       " ('okay', 367),\n",
       " ('come', 361),\n",
       " ('ask', 353),\n",
       " ('ll', 346),\n",
       " ('mean', 340),\n",
       " ('need', 320),\n",
       " ('going', 315)]"
      ]
     },
     "execution_count": 102,
     "metadata": {},
     "output_type": "execute_result"
    }
   ],
   "source": [
    "get_most_used_word_by_label(train_data, 'others', 30, True)"
   ]
  },
  {
   "cell_type": "code",
   "execution_count": 158,
   "metadata": {},
   "outputs": [],
   "source": [
    "import emoji\n",
    "import regex"
   ]
  },
  {
   "cell_type": "code",
   "execution_count": 192,
   "metadata": {},
   "outputs": [],
   "source": [
    "def count_emojis(corpus, top_n=30):\n",
    "    emojis_count_dict = {}\n",
    "    emojis = np.array([])\n",
    "    for row in corpus:\n",
    "        # Source:\n",
    "        # https://stackoverflow.com/questions/44907866/convert-strings-to-emoji-in-python\n",
    "        emojis = np.append(emojis, [c for c in row if c in emoji.UNICODE_EMOJI])\n",
    "        # ------\n",
    "    unique, counts = np.unique(emojis, return_counts=True)\n",
    "    emojis_count_dict = dict(zip(unique, counts))\n",
    "    emojis_count_dict = sorted(emojis_count_dict.items(), key=lambda x:x[1], reverse=True)\n",
    "      \n",
    "    return emojis_count_dict[:top_n]\n",
    "\n",
    "def count_emojis_by_label(data, concrete_label, top_n=30):\n",
    "    data = data[data['label'] == concrete_label]\n",
    "    all_in_one = data['turn1'].map(str) + ' ' + data['turn2'].map(str) + ' ' + data['turn3']\n",
    "    return count_emojis(all_in_one, top_n)"
   ]
  },
  {
   "cell_type": "code",
   "execution_count": 190,
   "metadata": {},
   "outputs": [
    {
     "data": {
      "text/plain": [
       "[('😂', 3155),\n",
       " ('😭', 1172),\n",
       " ('😞', 492),\n",
       " ('😢', 477),\n",
       " ('😁', 461),\n",
       " ('😡', 377),\n",
       " ('😍', 298),\n",
       " ('😀', 253),\n",
       " ('😆', 242),\n",
       " ('😅', 235),\n",
       " ('😄', 214),\n",
       " ('😃', 204),\n",
       " ('😊', 188),\n",
       " ('😘', 181),\n",
       " ('😒', 166),\n",
       " ('💔', 165),\n",
       " ('😠', 162),\n",
       " ('❤', 145),\n",
       " ('😤', 131),\n",
       " ('🙂', 131),\n",
       " ('😩', 122),\n",
       " ('😌', 118),\n",
       " ('😹', 117),\n",
       " ('😉', 113),\n",
       " ('😜', 110),\n",
       " ('😫', 108),\n",
       " ('😺', 108),\n",
       " ('👍', 98),\n",
       " ('😋', 97),\n",
       " ('😸', 95)]"
      ]
     },
     "execution_count": 190,
     "metadata": {},
     "output_type": "execute_result"
    }
   ],
   "source": [
    "count_emojis(train_all_one_column)"
   ]
  },
  {
   "cell_type": "code",
   "execution_count": 193,
   "metadata": {},
   "outputs": [
    {
     "data": {
      "text/plain": [
       "[('😂', 2566),\n",
       " ('😁', 329),\n",
       " ('😆', 160),\n",
       " ('😀', 159),\n",
       " ('😍', 131),\n",
       " ('😅', 129),\n",
       " ('😄', 128),\n",
       " ('😊', 114),\n",
       " ('😃', 111),\n",
       " ('😘', 91),\n",
       " ('😋', 71),\n",
       " ('😜', 71),\n",
       " ('😉', 60),\n",
       " ('🙂', 55),\n",
       " ('❤', 52),\n",
       " ('😹', 47),\n",
       " ('😝', 40),\n",
       " ('😺', 40),\n",
       " ('☺', 36),\n",
       " ('😎', 34),\n",
       " ('😛', 34),\n",
       " ('👍', 33),\n",
       " ('😤', 30),\n",
       " ('😌', 29),\n",
       " ('😻', 27),\n",
       " ('🎁', 26),\n",
       " ('😽', 24),\n",
       " ('😸', 23),\n",
       " ('🤣', 22),\n",
       " ('😏', 19)]"
      ]
     },
     "execution_count": 193,
     "metadata": {},
     "output_type": "execute_result"
    }
   ],
   "source": [
    "count_emojis_by_label(train_data, concrete_label='happy')"
   ]
  },
  {
   "cell_type": "code",
   "execution_count": 194,
   "metadata": {},
   "outputs": [
    {
     "data": {
      "text/plain": [
       "[('😡', 323),\n",
       " ('😂', 124),\n",
       " ('😠', 110),\n",
       " ('😒', 69),\n",
       " ('😤', 45),\n",
       " ('😭', 37),\n",
       " ('😑', 35),\n",
       " ('🖕', 33),\n",
       " ('😾', 30),\n",
       " ('😃', 22),\n",
       " ('😄', 22),\n",
       " ('😹', 22),\n",
       " ('😁', 21),\n",
       " ('😺', 18),\n",
       " ('😀', 17),\n",
       " ('😞', 17),\n",
       " ('😆', 16),\n",
       " ('😩', 15),\n",
       " ('🙂', 15),\n",
       " ('👎', 14),\n",
       " ('😢', 14),\n",
       " ('😬', 14),\n",
       " ('😽', 14),\n",
       " ('👍', 12),\n",
       " ('😧', 12),\n",
       " ('😍', 11),\n",
       " ('🙄', 11),\n",
       " ('❤', 10),\n",
       " ('😐', 10),\n",
       " ('😫', 10)]"
      ]
     },
     "execution_count": 194,
     "metadata": {},
     "output_type": "execute_result"
    }
   ],
   "source": [
    "count_emojis_by_label(train_data, concrete_label='angry')"
   ]
  },
  {
   "cell_type": "code",
   "execution_count": 195,
   "metadata": {},
   "outputs": [
    {
     "data": {
      "text/plain": [
       "[('😭', 1106),\n",
       " ('😞', 451),\n",
       " ('😢', 438),\n",
       " ('💔', 154),\n",
       " ('😂', 90),\n",
       " ('😩', 83),\n",
       " ('😫', 80),\n",
       " ('😔', 63),\n",
       " ('😥', 49),\n",
       " ('😧', 43),\n",
       " ('😖', 42),\n",
       " ('🙁', 38),\n",
       " ('😒', 36),\n",
       " ('😦', 33),\n",
       " ('😡', 32),\n",
       " ('😿', 29),\n",
       " ('😟', 27),\n",
       " ('😌', 25),\n",
       " ('☹', 24),\n",
       " ('😃', 23),\n",
       " ('❤', 21),\n",
       " ('😑', 20),\n",
       " ('🙀', 20),\n",
       " ('😁', 19),\n",
       " ('😪', 19),\n",
       " ('😣', 18),\n",
       " ('😬', 18),\n",
       " ('😠', 16),\n",
       " ('😆', 14),\n",
       " ('😻', 14)]"
      ]
     },
     "execution_count": 195,
     "metadata": {},
     "output_type": "execute_result"
    }
   ],
   "source": [
    "count_emojis_by_label(train_data, concrete_label='sad')"
   ]
  },
  {
   "cell_type": "code",
   "execution_count": 196,
   "metadata": {},
   "outputs": [
    {
     "data": {
      "text/plain": [
       "[('😂', 375),\n",
       " ('😍', 143),\n",
       " ('😁', 92),\n",
       " ('😅', 87),\n",
       " ('😘', 80),\n",
       " ('😀', 65),\n",
       " ('❤', 62),\n",
       " ('😊', 60),\n",
       " ('😌', 60),\n",
       " ('😄', 55),\n",
       " ('😆', 52),\n",
       " ('🙂', 52),\n",
       " ('😸', 50),\n",
       " ('😃', 48),\n",
       " ('😒', 48),\n",
       " ('👍', 47),\n",
       " ('😤', 44),\n",
       " ('😉', 43),\n",
       " ('😺', 41),\n",
       " ('😻', 39),\n",
       " ('😹', 35),\n",
       " ('☺', 30),\n",
       " ('😽', 29),\n",
       " ('😏', 26),\n",
       " ('😝', 26),\n",
       " ('😑', 25),\n",
       " ('😠', 25),\n",
       " ('😜', 23),\n",
       " ('😞', 23),\n",
       " ('😋', 21)]"
      ]
     },
     "execution_count": 196,
     "metadata": {},
     "output_type": "execute_result"
    }
   ],
   "source": [
    "count_emojis_by_label(train_data, concrete_label='others')"
   ]
  },
  {
   "cell_type": "code",
   "execution_count": 263,
   "metadata": {},
   "outputs": [],
   "source": [
    "def count_emoticons(corpus, top_n=30):\n",
    "    ## Source:\n",
    "    ## https://stackoverflow.com/questions/20582030/detect-emoticon-in-a-sentence-using-regex-python\n",
    "    eyes, noses, mouths = r\":;8BX=>-~\", r\"-~'^_\", r\")(/\\|DP<-~\"\n",
    "    pattern1 = \"[%s][%s]?[%s]\" % tuple(map(re.escape, [eyes, noses, mouths]))\n",
    "    ## ------\n",
    "    emoticons = np.array([])\n",
    "    for row in corpus:\n",
    "        emoticons = np.append(emoticons, re.findall(pattern1, row))\n",
    "    unique, counts = np.unique(emoticons, return_counts=True)\n",
    "    emoticons_count_dict = dict(zip(unique, counts))\n",
    "    emoticons_count_dict = sorted(emoticons_count_dict.items(), key=lambda x:x[1], reverse=True)\n",
    "      \n",
    "    return emoticons_count_dict[:top_n]\n",
    "\n",
    "def count_emoticons_by_label(data, concrete_label, top_n=30):\n",
    "    data = data[data['label'] == concrete_label]\n",
    "    all_in_one = data['turn1'].map(str) + ' ' + data['turn2'].map(str) + ' ' + data['turn3']\n",
    "    return count_emoticons(all_in_one, top_n)"
   ]
  },
  {
   "cell_type": "code",
   "execution_count": 260,
   "metadata": {},
   "outputs": [
    {
     "data": {
      "text/plain": [
       "id\n",
       "1    When did I? saw many times i think -_- No. I n...\n",
       "2                   By by Google Chrome Where you live\n",
       "3    U r ridiculous I might be ridiculous but I am ...\n",
       "4    Just for time pass wt do u do 4 a living then ...\n",
       "dtype: object"
      ]
     },
     "execution_count": 260,
     "metadata": {},
     "output_type": "execute_result"
    }
   ],
   "source": [
    "train_all_one_column[1:5]"
   ]
  },
  {
   "cell_type": "code",
   "execution_count": 269,
   "metadata": {},
   "outputs": [
    {
     "data": {
      "text/plain": [
       "[(':)', 266),\n",
       " (':D', 108),\n",
       " (':P', 90),\n",
       " (';)', 66),\n",
       " (':-)', 55),\n",
       " (':(', 18),\n",
       " ('XD', 17),\n",
       " (';-)', 15),\n",
       " (':-', 13),\n",
       " (':-D', 13),\n",
       " (':/', 13),\n",
       " (':-P', 8),\n",
       " (\":')\", 5),\n",
       " (':^)', 5),\n",
       " (';^)', 5),\n",
       " ('=D', 5),\n",
       " ('---', 4),\n",
       " (':|', 4),\n",
       " ('=)', 4),\n",
       " ('-_-', 3),\n",
       " ('8D', 3),\n",
       " (\":'(\", 3),\n",
       " ('B-)', 3),\n",
       " ('--', 2),\n",
       " (\":'-\", 2),\n",
       " (':-/', 2),\n",
       " ('~~', 2),\n",
       " ('-_\\\\', 1),\n",
       " ('8)', 1),\n",
       " ('8-)', 1)]"
      ]
     },
     "execution_count": 269,
     "metadata": {},
     "output_type": "execute_result"
    }
   ],
   "source": [
    "count_emoticons_by_label(train_data, 'happy',30)"
   ]
  },
  {
   "cell_type": "code",
   "execution_count": 270,
   "metadata": {},
   "outputs": [
    {
     "data": {
      "text/plain": [
       "[(':)', 144),\n",
       " (':(', 73),\n",
       " (':P', 73),\n",
       " (':D', 43),\n",
       " (':/', 42),\n",
       " (';)', 34),\n",
       " (':-)', 23),\n",
       " (':\\\\', 13),\n",
       " ('-_-', 11),\n",
       " (\":'(\", 7),\n",
       " (':-/', 6),\n",
       " (':-', 5),\n",
       " (':-(', 5),\n",
       " ('XD', 4),\n",
       " ('~~', 4),\n",
       " ('8D', 3),\n",
       " (':-P', 3),\n",
       " (':|', 3),\n",
       " (';(', 3),\n",
       " (';-', 3),\n",
       " (';^)', 3),\n",
       " ('=/', 3),\n",
       " ('=D', 3),\n",
       " ('--', 2),\n",
       " (';-)', 2),\n",
       " (\"-'/\", 1),\n",
       " ('---', 1),\n",
       " ('-D', 1),\n",
       " (\"8')\", 1),\n",
       " ('8)', 1)]"
      ]
     },
     "execution_count": 270,
     "metadata": {},
     "output_type": "execute_result"
    }
   ],
   "source": [
    "count_emoticons_by_label(train_data, 'angry',30)"
   ]
  },
  {
   "cell_type": "code",
   "execution_count": 271,
   "metadata": {},
   "outputs": [
    {
     "data": {
      "text/plain": [
       "[(':(', 374),\n",
       " (':)', 200),\n",
       " (':P', 51),\n",
       " (':D', 44),\n",
       " (':/', 34),\n",
       " (\":'(\", 31),\n",
       " (';(', 31),\n",
       " (':-)', 29),\n",
       " (';)', 29),\n",
       " (':-(', 23),\n",
       " ('~~', 22),\n",
       " (':-P', 6),\n",
       " (';-)', 6),\n",
       " ('=/', 5),\n",
       " ('=\\\\', 5),\n",
       " ('XD', 5),\n",
       " ('-_-', 4),\n",
       " (':\\\\', 4),\n",
       " ('--', 3),\n",
       " (\":')\", 3),\n",
       " (';-', 3),\n",
       " ('8)', 2),\n",
       " (':-', 2),\n",
       " (':^)', 2),\n",
       " (';D', 2),\n",
       " (';^)', 2),\n",
       " ('-)', 1),\n",
       " ('---', 1),\n",
       " (\"8')\", 1),\n",
       " ('8D', 1)]"
      ]
     },
     "execution_count": 271,
     "metadata": {},
     "output_type": "execute_result"
    }
   ],
   "source": [
    "count_emoticons_by_label(train_data, 'sad',30)"
   ]
  },
  {
   "cell_type": "code",
   "execution_count": 272,
   "metadata": {},
   "outputs": [
    {
     "data": {
      "text/plain": [
       "[(':)', 629),\n",
       " (':D', 169),\n",
       " (':P', 146),\n",
       " (';)', 124),\n",
       " (':(', 104),\n",
       " (':-)', 76),\n",
       " ('~~', 52),\n",
       " (':/', 49),\n",
       " ('XD', 18),\n",
       " (':-P', 17),\n",
       " (';-)', 14),\n",
       " (':-', 13),\n",
       " ('8)', 11),\n",
       " ('=)', 10),\n",
       " ('-_-', 8),\n",
       " (\":')\", 8),\n",
       " ('8D', 6),\n",
       " (\":'(\", 6),\n",
       " (':-(', 6),\n",
       " (':|', 6),\n",
       " (':\\\\', 5),\n",
       " (';^)', 5),\n",
       " (':-/', 4),\n",
       " (':-D', 4),\n",
       " (':^)', 4),\n",
       " ('=/', 4),\n",
       " ('=D', 4),\n",
       " ('--', 3),\n",
       " (';(', 3),\n",
       " ('><', 3)]"
      ]
     },
     "execution_count": 272,
     "metadata": {},
     "output_type": "execute_result"
    }
   ],
   "source": [
    "count_emoticons_by_label(train_data, 'others',30)"
   ]
  },
  {
   "cell_type": "markdown",
   "metadata": {},
   "source": [
    "Check whether some emoticons, emojis, words can be strong identificators\n",
    "for emotions. \n",
    "Possible features: Capital Letter  Count, Capital Letters to words ratio, Punctuations,\n",
    "words count, Bad Words count, lexicon usage. Chi-test os similar to choose dependent words,emoticons, emojis. Maybe some cleaning, lemmatization/stemming, spellchecking, aphostophe  replacement (don't -> do not), LDA(Latent Dirichlet allocation), Leaky features that can lead to overfitting.\n",
    "\n",
    "Distribution of emoticons,emojis, some words in the different turns\n",
    "\n",
    "Violing plots to check  for discriminative features like sentences length, some emoticons usage and so on."
   ]
  },
  {
   "cell_type": "code",
   "execution_count": null,
   "metadata": {},
   "outputs": [],
   "source": [
    "#https://stackoverflow.com/questions/20892799/using-pandas-calculate-cram%C3%A9rs-coefficient-matrix/39266194\n",
    "#https://www.kaggle.com/jagangupta/stop-the-s-toxic-comments-eda\n",
    "def cramers_corrected_stat(confusion_matrix):\n",
    "    \"\"\" calculate Cramers V statistic for categorial-categorial association.\n",
    "        uses correction from Bergsma and Wicher, \n",
    "        Journal of the Korean Statistical Society 42 (2013): 323-328\n",
    "    \"\"\"\n",
    "    chi2 = ss.chi2_contingency(confusion_matrix)[0]\n",
    "    n = confusion_matrix.sum().sum()\n",
    "    phi2 = chi2/n\n",
    "    r,k = confusion_matrix.shape\n",
    "    phi2corr = max(0, phi2 - ((k-1)*(r-1))/(n-1))    \n",
    "    rcorr = r - ((r-1)**2)/(n-1)\n",
    "    kcorr = k - ((k-1)**2)/(n-1)\n",
    "    return np.sqrt(phi2corr / min( (kcorr-1), (rcorr-1)))"
   ]
  },
  {
   "cell_type": "code",
   "execution_count": null,
   "metadata": {},
   "outputs": [],
   "source": [
    "#https://buhrmann.github.io/tfidf-analysis.html\n",
    "def top_tfidf_feats(row, features, top_n=25):\n",
    "    ''' Get top n tfidf values in row and return them with their corresponding feature names.'''\n",
    "    topn_ids = np.argsort(row)[::-1][:top_n]\n",
    "    top_feats = [(features[i], row[i]) for i in topn_ids]\n",
    "    df = pd.DataFrame(top_feats)\n",
    "    df.columns = ['feature', 'tfidf']\n",
    "    return df\n",
    "\n",
    "def top_feats_in_doc(Xtr, features, row_id, top_n=25):\n",
    "    ''' Top tfidf features in specific document (matrix row) '''\n",
    "    row = np.squeeze(Xtr[row_id].toarray())\n",
    "    return top_tfidf_feats(row, features, top_n)\n",
    "\n",
    "def top_mean_feats(Xtr, features, grp_ids, min_tfidf=0.1, top_n=25):\n",
    "    ''' Return the top n features that on average are most important amongst documents in rows\n",
    "        indentified by indices in grp_ids. '''\n",
    "    \n",
    "    D = Xtr[grp_ids].toarray()\n",
    "\n",
    "    D[D < min_tfidf] = 0\n",
    "    tfidf_means = np.mean(D, axis=0)\n",
    "    return top_tfidf_feats(tfidf_means, features, top_n)\n",
    "\n",
    "# modified for multilabel milticlass\n",
    "def top_feats_by_class(Xtr, features, min_tfidf=0.1, top_n=20):\n",
    "    ''' Return a list of dfs, where each df holds top_n features and their mean tfidf value\n",
    "        calculated across documents with the same class label. '''\n",
    "    dfs = []\n",
    "    cols=train_tags.columns\n",
    "    for col in cols:\n",
    "        ids = train_tags.index[train_tags[col]==1]\n",
    "        feats_df = top_mean_feats(Xtr, features, ids, min_tfidf=min_tfidf, top_n=top_n)\n",
    "        feats_df.label = label\n",
    "        dfs.append(feats_df)\n",
    "    return dfs"
   ]
  },
  {
   "cell_type": "markdown",
   "metadata": {},
   "source": [
    "# Some graphs .. . .."
   ]
  },
  {
   "cell_type": "code",
   "execution_count": 273,
   "metadata": {},
   "outputs": [
    {
     "ename": "SyntaxError",
     "evalue": "invalid syntax (<ipython-input-273-15762b06f673>, line 1)",
     "output_type": "error",
     "traceback": [
      "\u001b[1;36m  File \u001b[1;32m\"<ipython-input-273-15762b06f673>\"\u001b[1;36m, line \u001b[1;32m1\u001b[0m\n\u001b[1;33m    Word counts graph\u001b[0m\n\u001b[1;37m              ^\u001b[0m\n\u001b[1;31mSyntaxError\u001b[0m\u001b[1;31m:\u001b[0m invalid syntax\n"
     ]
    }
   ],
   "source": [
    "Word counts graphs"
   ]
  },
  {
   "cell_type": "code",
   "execution_count": null,
   "metadata": {},
   "outputs": [],
   "source": [
    "Emoticons counts graphs"
   ]
  },
  {
   "cell_type": "code",
   "execution_count": 348,
   "metadata": {},
   "outputs": [],
   "source": [
    "from nltk.tokenize import RegexpTokenizer\n",
    "from string import punctuation"
   ]
  },
  {
   "cell_type": "code",
   "execution_count": 391,
   "metadata": {},
   "outputs": [],
   "source": [
    "def filter_emoticons(row):\n",
    "    eyes, noses, mouths = r\":;8BX=>-~\", r\"-~'^_\", r\")(/\\|DP<-~\"\n",
    "    pattern1 = \"[%s][%s]?[%s]\" % tuple(map(re.escape, [eyes, noses, mouths]))\n",
    "    return re.findall(pattern1, row)\n",
    "\n",
    "def counter_emoticons(row):\n",
    "    return len(filter_emoticons(row))\n",
    "\n",
    "def filter_emojis(row):\n",
    "    return [c for c in row if c in emoji.UNICODE_EMOJI]\n",
    "\n",
    "def counter_emojis(row):\n",
    "    return len(filter_emojis(row))\n",
    "\n",
    "def filter_upperletters(row):\n",
    "    return [c for c in row if c.isupper()]\n",
    "\n",
    "def counter_upperletters(row):\n",
    "    return len(filter_upperletters(row))\n",
    "\n",
    "def counter_upperletters_per_word(row):\n",
    "    tokenizer = RegexpTokenizer(r'\\w+')\n",
    "    return len(filter_upperletters(row)) / len(tokenizer.tokenize(row))\n",
    "\n",
    "def filter_punctuations(row):\n",
    "    terminals = \".?!\"\n",
    "    return [c for c in row if c in terminals]\n",
    "\n",
    "def counter_punctuations(row):\n",
    "    return len(filter_punctuations(row))\n",
    "\n",
    "def counter_words(row):\n",
    "    tokenizer = RegexpTokenizer(r'\\w+')\n",
    "    return len(tokenizer.tokenize(row))\n",
    "\n",
    "def count_on_rows(corpus, count_function):\n",
    "    _counts = np.zeros((corpus.shape[0]))\n",
    "    for idx, row in enumerate(corpus):\n",
    "        _counts[idx] += count_function(row)\n",
    "    return _counts\n",
    "\n",
    "def count_per_turns(data, count_function):\n",
    "    columns = ['turn1', 'turn2', 'turn3']\n",
    "    results = np.zeros((len(columns), data.shape[0]))\n",
    "    for idx, column in enumerate(columns):\n",
    "        results[idx] = count_on_rows(data[column], count_function)\n",
    "    return results    \n",
    "\n",
    "def get_most_frequent_thing_per_turns(data, frequence_function, top=30):\n",
    "    columns = ['turn1', 'turn2', 'turn3']\n",
    "    results = {}\n",
    "    for column in columns:\n",
    "        results[column] = frequence_function(data[column], top)\n",
    "    return results\n",
    "\n",
    "def get_most_frequent_thing_per_turns_per_label(data, label, frequence_function, top=30):\n",
    "    data = data[data.label==label]\n",
    "    columns = ['turn1', 'turn2', 'turn3']\n",
    "    results = {}\n",
    "    for column in columns:\n",
    "        results[column] = frequence_function(data[column], top)\n",
    "    return results\n",
    "\n",
    "def plot_distribution_per_turns_per_labels(counts, y ,title=\"Counts\"):\n",
    "    f ,ax = plt.sublots(2,2, figsize=(20, 15))\n",
    "    a4_dims = (11.7, 8.27)\n",
    "    fig, ax = plt.subplots(figsize=a4_dims)\n",
    "    colors = [\"windows blue\", \"amber\", \"greyish\", \"faded green\", \"dusty purple\"]\n",
    "    labels = y.unique()\n",
    "    plt.title(title)\n",
    "    for i in range(2):\n",
    "        for j in range(2):\n",
    "            for idx, label in counts:\n",
    "                sns.kdeplot(ax=ax[i,j],data=np.clip(countsp[][y==labels[]],clipMin,clipMax), label=label)\n",
    "    plt.show()\n"
   ]
  },
  {
   "cell_type": "code",
   "execution_count": 384,
   "metadata": {},
   "outputs": [
    {
     "data": {
      "text/plain": [
       "5959.0"
      ]
     },
     "execution_count": 384,
     "metadata": {},
     "output_type": "execute_result"
    }
   ],
   "source": [
    "count_per_turns(train_data, counter_emojis)[2].sum()"
   ]
  },
  {
   "cell_type": "code",
   "execution_count": 393,
   "metadata": {},
   "outputs": [
    {
     "data": {
      "text/plain": [
       "{'turn1': [('😡', 64),\n",
       "  ('😂', 30),\n",
       "  ('😠', 21),\n",
       "  ('😒', 18),\n",
       "  ('😑', 10),\n",
       "  ('😤', 10),\n",
       "  ('😘', 6),\n",
       "  ('😞', 6),\n",
       "  ('☺', 5),\n",
       "  ('😏', 5),\n",
       "  ('👆', 4),\n",
       "  ('😐', 4),\n",
       "  ('😔', 4),\n",
       "  ('😕', 4),\n",
       "  ('😥', 4),\n",
       "  ('‼', 3),\n",
       "  ('💔', 3),\n",
       "  ('😢', 3),\n",
       "  ('👊', 2),\n",
       "  ('👩', 2),\n",
       "  ('😊', 2),\n",
       "  ('😓', 2),\n",
       "  ('😨', 2),\n",
       "  ('😫', 2),\n",
       "  ('😬', 2),\n",
       "  ('😭', 2),\n",
       "  ('😱', 2),\n",
       "  ('🤘', 2),\n",
       "  ('♀', 1),\n",
       "  ('♥', 1)],\n",
       " 'turn2': [('😂', 83),\n",
       "  ('😡', 61),\n",
       "  ('😠', 41),\n",
       "  ('😾', 30),\n",
       "  ('😃', 22),\n",
       "  ('😄', 22),\n",
       "  ('😁', 18),\n",
       "  ('😺', 18),\n",
       "  ('😹', 17),\n",
       "  ('😀', 16),\n",
       "  ('😒', 16),\n",
       "  ('😭', 16),\n",
       "  ('😆', 15),\n",
       "  ('😤', 14),\n",
       "  ('😽', 14),\n",
       "  ('🙂', 13),\n",
       "  ('👍', 11),\n",
       "  ('😍', 11),\n",
       "  ('😞', 11),\n",
       "  ('😬', 11),\n",
       "  ('👎', 10),\n",
       "  ('😧', 10),\n",
       "  ('😢', 9),\n",
       "  ('😸', 9),\n",
       "  ('🙄', 9),\n",
       "  ('😫', 8),\n",
       "  ('😻', 7),\n",
       "  ('🙀', 7),\n",
       "  ('😅', 6),\n",
       "  ('😜', 6)],\n",
       " 'turn3': [('😡', 198),\n",
       "  ('😠', 48),\n",
       "  ('😒', 35),\n",
       "  ('🖕', 33),\n",
       "  ('😑', 21),\n",
       "  ('😤', 21),\n",
       "  ('😭', 19),\n",
       "  ('😂', 11),\n",
       "  ('😩', 9),\n",
       "  ('👿', 6),\n",
       "  ('☝', 5),\n",
       "  ('👪', 5),\n",
       "  ('😔', 5),\n",
       "  ('😹', 5),\n",
       "  ('❤', 4),\n",
       "  ('👎', 4),\n",
       "  ('😐', 4),\n",
       "  ('😖', 4),\n",
       "  ('😴', 4),\n",
       "  ('‼', 3),\n",
       "  ('😈', 3),\n",
       "  ('😣', 3),\n",
       "  ('😰', 3),\n",
       "  ('🙏', 3),\n",
       "  ('👊', 2),\n",
       "  ('💞', 2),\n",
       "  ('😁', 2),\n",
       "  ('😕', 2),\n",
       "  ('😢', 2),\n",
       "  ('😧', 2)]}"
      ]
     },
     "execution_count": 393,
     "metadata": {},
     "output_type": "execute_result"
    }
   ],
   "source": [
    "get_most_frequent_thing_per_turns_per_label(train_data, 'angry', count_emojis)"
   ]
  },
  {
   "cell_type": "code",
   "execution_count": 394,
   "metadata": {},
   "outputs": [
    {
     "data": {
      "text/plain": [
       "{'turn1': [('😂', 470),\n",
       "  ('😁', 49),\n",
       "  ('😉', 25),\n",
       "  ('😊', 24),\n",
       "  ('😆', 23),\n",
       "  ('😀', 21),\n",
       "  ('😍', 20),\n",
       "  ('😘', 19),\n",
       "  ('😄', 18),\n",
       "  ('😃', 17),\n",
       "  ('😅', 16),\n",
       "  ('😜', 16),\n",
       "  ('❤', 14),\n",
       "  ('😋', 14),\n",
       "  ('😏', 11),\n",
       "  ('😎', 10),\n",
       "  ('☺', 9),\n",
       "  ('💃', 9),\n",
       "  ('🙂', 9),\n",
       "  ('😝', 6),\n",
       "  ('👍', 5),\n",
       "  ('👏', 5),\n",
       "  ('😻', 5),\n",
       "  ('🙈', 5),\n",
       "  ('😛', 4),\n",
       "  ('🍜', 3),\n",
       "  ('😇', 3),\n",
       "  ('😐', 3),\n",
       "  ('😑', 3),\n",
       "  ('😬', 3)],\n",
       " 'turn2': [('😂', 502),\n",
       "  ('😍', 52),\n",
       "  ('😁', 51),\n",
       "  ('😅', 51),\n",
       "  ('😆', 43),\n",
       "  ('😀', 40),\n",
       "  ('😄', 39),\n",
       "  ('😺', 38),\n",
       "  ('😹', 36),\n",
       "  ('😊', 35),\n",
       "  ('😃', 27),\n",
       "  ('😜', 27),\n",
       "  ('😌', 24),\n",
       "  ('😤', 24),\n",
       "  ('😽', 24),\n",
       "  ('😸', 23),\n",
       "  ('🙂', 22),\n",
       "  ('👍', 19),\n",
       "  ('😛', 15),\n",
       "  ('😻', 14),\n",
       "  ('☺', 12),\n",
       "  ('😉', 12),\n",
       "  ('😝', 11),\n",
       "  ('❤', 10),\n",
       "  ('😒', 10),\n",
       "  ('😠', 9),\n",
       "  ('😬', 9),\n",
       "  ('😭', 9),\n",
       "  ('😢', 8),\n",
       "  ('☹', 7)],\n",
       " 'turn3': [('😂', 1594),\n",
       "  ('😁', 229),\n",
       "  ('😀', 98),\n",
       "  ('😆', 94),\n",
       "  ('😄', 71),\n",
       "  ('😘', 71),\n",
       "  ('😃', 67),\n",
       "  ('😅', 62),\n",
       "  ('😍', 59),\n",
       "  ('😊', 55),\n",
       "  ('😋', 52),\n",
       "  ('❤', 28),\n",
       "  ('😜', 28),\n",
       "  ('🎁', 26),\n",
       "  ('🙂', 24),\n",
       "  ('😉', 23),\n",
       "  ('😝', 23),\n",
       "  ('😎', 22),\n",
       "  ('🤣', 17),\n",
       "  ('☺', 15),\n",
       "  ('😛', 15),\n",
       "  ('💑', 11),\n",
       "  ('😹', 11),\n",
       "  ('💋', 10),\n",
       "  ('👍', 9),\n",
       "  ('👌', 8),\n",
       "  ('👫', 8),\n",
       "  ('😇', 8),\n",
       "  ('😻', 8),\n",
       "  ('👉', 7)]}"
      ]
     },
     "execution_count": 394,
     "metadata": {},
     "output_type": "execute_result"
    }
   ],
   "source": [
    "get_most_frequent_thing_per_turns_per_label(train_data, 'happy', count_emojis)"
   ]
  },
  {
   "cell_type": "code",
   "execution_count": 395,
   "metadata": {},
   "outputs": [
    {
     "data": {
      "text/plain": [
       "{'turn1': [('😭', 272),\n",
       "  ('😞', 94),\n",
       "  ('😢', 94),\n",
       "  ('😔', 26),\n",
       "  ('😂', 23),\n",
       "  ('😥', 22),\n",
       "  ('😖', 12),\n",
       "  ('😟', 11),\n",
       "  ('😧', 11),\n",
       "  ('💔', 10),\n",
       "  ('😫', 10),\n",
       "  ('😣', 9),\n",
       "  ('😩', 9),\n",
       "  ('😡', 6),\n",
       "  ('😦', 6),\n",
       "  ('😪', 6),\n",
       "  ('😯', 6),\n",
       "  ('♂', 5),\n",
       "  ('😒', 5),\n",
       "  ('🤦', 5),\n",
       "  ('💙', 4),\n",
       "  ('😅', 4),\n",
       "  ('😏', 4),\n",
       "  ('😘', 4),\n",
       "  ('😰', 4),\n",
       "  ('☹', 3),\n",
       "  ('❤', 3),\n",
       "  ('😁', 3),\n",
       "  ('😍', 3),\n",
       "  ('😎', 3)],\n",
       " 'turn2': [('😭', 75),\n",
       "  ('😂', 61),\n",
       "  ('😢', 44),\n",
       "  ('😩', 28),\n",
       "  ('😫', 25),\n",
       "  ('😿', 24),\n",
       "  ('😞', 23),\n",
       "  ('🙁', 23),\n",
       "  ('😃', 22),\n",
       "  ('😌', 20),\n",
       "  ('🙀', 20),\n",
       "  ('☹', 19),\n",
       "  ('😧', 19),\n",
       "  ('😦', 17),\n",
       "  ('😬', 17),\n",
       "  ('😁', 16),\n",
       "  ('😻', 14),\n",
       "  ('😒', 13),\n",
       "  ('😸', 13),\n",
       "  ('😹', 13),\n",
       "  ('😡', 12),\n",
       "  ('😽', 12),\n",
       "  ('😠', 11),\n",
       "  ('😤', 11),\n",
       "  ('😀', 10),\n",
       "  ('😆', 10),\n",
       "  ('😍', 10),\n",
       "  ('❤', 9),\n",
       "  ('😄', 9),\n",
       "  ('😅', 9)],\n",
       " 'turn3': [('😭', 759),\n",
       "  ('😞', 334),\n",
       "  ('😢', 300),\n",
       "  ('💔', 141),\n",
       "  ('😩', 46),\n",
       "  ('😫', 45),\n",
       "  ('😔', 34),\n",
       "  ('😖', 24),\n",
       "  ('😥', 22),\n",
       "  ('😒', 18),\n",
       "  ('😟', 16),\n",
       "  ('😡', 14),\n",
       "  ('😑', 13),\n",
       "  ('😧', 13),\n",
       "  ('🙁', 12),\n",
       "  ('😪', 11),\n",
       "  ('😦', 10),\n",
       "  ('❤', 9),\n",
       "  ('😣', 9),\n",
       "  ('😓', 8),\n",
       "  ('😕', 8),\n",
       "  ('😳', 7),\n",
       "  ('🤒', 7),\n",
       "  ('😂', 6),\n",
       "  ('😰', 6),\n",
       "  ('😱', 6),\n",
       "  ('💕', 5),\n",
       "  ('😌', 5),\n",
       "  ('🙏', 5),\n",
       "  ('😐', 4)]}"
      ]
     },
     "execution_count": 395,
     "metadata": {},
     "output_type": "execute_result"
    }
   ],
   "source": [
    "get_most_frequent_thing_per_turns_per_label(train_data, 'sad', count_emojis)"
   ]
  },
  {
   "cell_type": "code",
   "execution_count": 402,
   "metadata": {},
   "outputs": [
    {
     "data": {
      "text/plain": [
       "{'turn1': [('😂', 86),\n",
       "  ('😘', 34),\n",
       "  ('😍', 30),\n",
       "  ('😁', 26),\n",
       "  ('😊', 16),\n",
       "  ('😅', 15),\n",
       "  ('😀', 12),\n",
       "  ('❤', 11),\n",
       "  ('🌹', 11),\n",
       "  ('😄', 11),\n",
       "  ('😉', 11),\n",
       "  ('👄', 10),\n",
       "  ('😎', 6),\n",
       "  ('😑', 6),\n",
       "  ('😒', 6),\n",
       "  ('😝', 6),\n",
       "  ('👿', 5),\n",
       "  ('😈', 5),\n",
       "  ('😏', 5),\n",
       "  ('😜', 5),\n",
       "  ('😡', 5),\n",
       "  ('👌', 4),\n",
       "  ('👦', 4),\n",
       "  ('👨', 4),\n",
       "  ('💋', 4),\n",
       "  ('💖', 4),\n",
       "  ('😃', 4),\n",
       "  ('😇', 4),\n",
       "  ('😋', 4),\n",
       "  ('😶', 4)],\n",
       " 'turn2': [('😂', 165),\n",
       "  ('😍', 77),\n",
       "  ('😅', 57),\n",
       "  ('😌', 54),\n",
       "  ('😸', 50),\n",
       "  ('😁', 46),\n",
       "  ('😆', 44),\n",
       "  ('😤', 44),\n",
       "  ('👍', 42),\n",
       "  ('🙂', 42),\n",
       "  ('😀', 41),\n",
       "  ('😺', 41),\n",
       "  ('😊', 38),\n",
       "  ('😻', 36),\n",
       "  ('😃', 34),\n",
       "  ('😄', 34),\n",
       "  ('😹', 34),\n",
       "  ('❤', 31),\n",
       "  ('😽', 29),\n",
       "  ('😒', 28),\n",
       "  ('☺', 25),\n",
       "  ('😠', 20),\n",
       "  ('😾', 20),\n",
       "  ('☹', 18),\n",
       "  ('😩', 18),\n",
       "  ('🙁', 18),\n",
       "  ('😞', 17),\n",
       "  ('♥', 16),\n",
       "  ('🙀', 15),\n",
       "  ('😫', 14)],\n",
       " 'turn3': [('😂', 124),\n",
       "  ('😘', 46),\n",
       "  ('😍', 36),\n",
       "  ('❤', 20),\n",
       "  ('😁', 20),\n",
       "  ('😉', 19),\n",
       "  ('🐇', 16),\n",
       "  ('😅', 15),\n",
       "  ('😒', 14),\n",
       "  ('😀', 12),\n",
       "  ('🌷', 11),\n",
       "  ('😕', 11),\n",
       "  ('🤔', 11),\n",
       "  ('😃', 10),\n",
       "  ('😄', 10),\n",
       "  ('😋', 10),\n",
       "  ('😏', 9),\n",
       "  ('😜', 9),\n",
       "  ('😶', 9),\n",
       "  ('😑', 8),\n",
       "  ('😎', 7),\n",
       "  ('😐', 7),\n",
       "  ('😚', 7),\n",
       "  ('😝', 7),\n",
       "  ('🙄', 7),\n",
       "  ('👵', 6),\n",
       "  ('💔', 6),\n",
       "  ('💕', 6),\n",
       "  ('😊', 6),\n",
       "  ('🙂', 6)]}"
      ]
     },
     "execution_count": 402,
     "metadata": {},
     "output_type": "execute_result"
    }
   ],
   "source": [
    "get_most_frequent_thing_per_turns_per_label(train_data, 'others', count_emojis)"
   ]
  },
  {
   "cell_type": "code",
   "execution_count": 387,
   "metadata": {},
   "outputs": [
    {
     "data": {
      "text/plain": [
       "{'turn1': [('😂', 609),\n",
       "  ('😭', 279),\n",
       "  ('😞', 103),\n",
       "  ('😢', 101),\n",
       "  ('😁', 79),\n",
       "  ('😡', 76),\n",
       "  ('😘', 63),\n",
       "  ('😍', 53),\n",
       "  ('😊', 44),\n",
       "  ('😉', 38),\n",
       "  ('😀', 35),\n",
       "  ('😅', 35),\n",
       "  ('😒', 31),\n",
       "  ('😔', 31),\n",
       "  ('❤', 29),\n",
       "  ('😄', 29),\n",
       "  ('😆', 29),\n",
       "  ('😠', 27),\n",
       "  ('😥', 26),\n",
       "  ('😏', 25),\n",
       "  ('😃', 22),\n",
       "  ('😜', 22),\n",
       "  ('😑', 21),\n",
       "  ('😋', 19),\n",
       "  ('😎', 19),\n",
       "  ('☺', 15),\n",
       "  ('💔', 14),\n",
       "  ('🙂', 14),\n",
       "  ('😐', 13),\n",
       "  ('😖', 13)],\n",
       " 'turn2': [('😂', 811),\n",
       "  ('😍', 150),\n",
       "  ('😁', 131),\n",
       "  ('😅', 123),\n",
       "  ('😭', 114),\n",
       "  ('😆', 112),\n",
       "  ('😀', 107),\n",
       "  ('😺', 106),\n",
       "  ('😃', 105),\n",
       "  ('😄', 104),\n",
       "  ('😌', 101),\n",
       "  ('😹', 100),\n",
       "  ('😸', 95),\n",
       "  ('😤', 93),\n",
       "  ('😡', 88),\n",
       "  ('🙂', 86),\n",
       "  ('😊', 82),\n",
       "  ('😠', 81),\n",
       "  ('😽', 79),\n",
       "  ('👍', 78),\n",
       "  ('😢', 73),\n",
       "  ('😻', 71),\n",
       "  ('😒', 67),\n",
       "  ('😾', 57),\n",
       "  ('😩', 56),\n",
       "  ('❤', 55),\n",
       "  ('😞', 52),\n",
       "  ('😜', 51),\n",
       "  ('😫', 49),\n",
       "  ('☹', 48)],\n",
       " 'turn3': [('😂', 1735),\n",
       "  ('😭', 779),\n",
       "  ('😞', 337),\n",
       "  ('😢', 303),\n",
       "  ('😁', 251),\n",
       "  ('😡', 213),\n",
       "  ('💔', 148),\n",
       "  ('😘', 117),\n",
       "  ('😀', 111),\n",
       "  ('😆', 101),\n",
       "  ('😍', 95),\n",
       "  ('😄', 81),\n",
       "  ('😃', 77),\n",
       "  ('😅', 77),\n",
       "  ('😒', 68),\n",
       "  ('😊', 62),\n",
       "  ('😋', 62),\n",
       "  ('❤', 61),\n",
       "  ('😩', 55),\n",
       "  ('😠', 54),\n",
       "  ('😫', 46),\n",
       "  ('😑', 45),\n",
       "  ('😉', 42),\n",
       "  ('😔', 39),\n",
       "  ('😜', 37),\n",
       "  ('🖕', 36),\n",
       "  ('🙂', 31),\n",
       "  ('😝', 30),\n",
       "  ('😎', 29),\n",
       "  ('😖', 29)]}"
      ]
     },
     "execution_count": 387,
     "metadata": {},
     "output_type": "execute_result"
    }
   ],
   "source": [
    "get_most_frequent_thing_per_turns(train_data, count_emojis)"
   ]
  },
  {
   "cell_type": "code",
   "execution_count": 397,
   "metadata": {},
   "outputs": [
    {
     "data": {
      "text/plain": [
       "{'turn1': [(':(', 40),\n",
       "  (':)', 25),\n",
       "  (':D', 17),\n",
       "  (':P', 11),\n",
       "  (';)', 8),\n",
       "  (';(', 6),\n",
       "  (':/', 5),\n",
       "  ('-_-', 4),\n",
       "  (':-(', 4),\n",
       "  ('XD', 4),\n",
       "  (':-', 2),\n",
       "  (';-', 2),\n",
       "  ('-)', 1),\n",
       "  ('-D', 1),\n",
       "  ('8-', 1),\n",
       "  (\":'(\", 1),\n",
       "  (\":')\", 1),\n",
       "  (':-)', 1),\n",
       "  (':-/', 1),\n",
       "  (':-P', 1),\n",
       "  (':\\\\', 1),\n",
       "  (';/', 1),\n",
       "  ('><', 1),\n",
       "  ('XP', 1)],\n",
       " 'turn2': [(':)', 1190),\n",
       "  (':P', 341),\n",
       "  (':D', 339),\n",
       "  (':(', 327),\n",
       "  (';)', 240),\n",
       "  (':-)', 180),\n",
       "  (':/', 120),\n",
       "  ('~~', 78),\n",
       "  (';-)', 37),\n",
       "  ('XD', 34),\n",
       "  (':-P', 33),\n",
       "  (\":'(\", 32),\n",
       "  (':-', 30),\n",
       "  (':-(', 24),\n",
       "  (':\\\\', 22),\n",
       "  (':-D', 18),\n",
       "  ('-_-', 16),\n",
       "  ('8)', 15),\n",
       "  (\":')\", 15),\n",
       "  (';^)', 15),\n",
       "  ('=)', 15),\n",
       "  ('8D', 13),\n",
       "  ('=D', 13),\n",
       "  (':-/', 12),\n",
       "  (':^)', 12),\n",
       "  (':|', 12),\n",
       "  ('=/', 12),\n",
       "  ('--', 10),\n",
       "  (';(', 9),\n",
       "  ('---', 7)],\n",
       " 'turn3': [(':(', 202),\n",
       "  (':)', 24),\n",
       "  (';(', 22),\n",
       "  (\":'(\", 14),\n",
       "  (':/', 13),\n",
       "  (':D', 8),\n",
       "  (':P', 8),\n",
       "  ('-_-', 6),\n",
       "  (':-(', 6),\n",
       "  ('XD', 6),\n",
       "  (';)', 5),\n",
       "  (':-)', 2),\n",
       "  (':|', 2),\n",
       "  ('~~', 2),\n",
       "  (\"-'/\", 1),\n",
       "  ('-D', 1),\n",
       "  ('8-', 1),\n",
       "  ('8-D', 1),\n",
       "  (\":')\", 1),\n",
       "  (':-', 1),\n",
       "  (':<', 1),\n",
       "  (';-', 1),\n",
       "  ('><', 1)]}"
      ]
     },
     "execution_count": 397,
     "metadata": {},
     "output_type": "execute_result"
    }
   ],
   "source": [
    "get_most_frequent_thing_per_turns(train_data, count_emoticons)"
   ]
  },
  {
   "cell_type": "code",
   "execution_count": 398,
   "metadata": {},
   "outputs": [
    {
     "data": {
      "text/plain": [
       "{'turn1': [(':)', 9), (':D', 7), (':P', 6), (';/', 1), ('XD', 1), ('XP', 1)],\n",
       " 'turn2': [(':)', 244),\n",
       "  (':D', 96),\n",
       "  (':P', 82),\n",
       "  (';)', 63),\n",
       "  (':-)', 54),\n",
       "  (':(', 18),\n",
       "  (';-)', 15),\n",
       "  ('XD', 14),\n",
       "  (':-D', 13),\n",
       "  (':/', 13),\n",
       "  (':-', 12),\n",
       "  (':-P', 8),\n",
       "  (\":')\", 5),\n",
       "  (':^)', 5),\n",
       "  (';^)', 5),\n",
       "  ('=D', 5),\n",
       "  ('---', 4),\n",
       "  (':|', 4),\n",
       "  ('=)', 4),\n",
       "  ('-_-', 3),\n",
       "  ('8D', 3),\n",
       "  (\":'(\", 3),\n",
       "  ('B-)', 3),\n",
       "  ('--', 2),\n",
       "  (\":'-\", 2),\n",
       "  (':-/', 2),\n",
       "  ('~~', 2),\n",
       "  ('-_\\\\', 1),\n",
       "  ('8)', 1),\n",
       "  ('8-)', 1)],\n",
       " 'turn3': [(':)', 13),\n",
       "  (':D', 5),\n",
       "  (';)', 3),\n",
       "  (':P', 2),\n",
       "  ('XD', 2),\n",
       "  (':-', 1),\n",
       "  (':-)', 1)]}"
      ]
     },
     "execution_count": 398,
     "metadata": {},
     "output_type": "execute_result"
    }
   ],
   "source": [
    "get_most_frequent_thing_per_turns_per_label(train_data, 'happy',count_emoticons)"
   ]
  },
  {
   "cell_type": "code",
   "execution_count": 399,
   "metadata": {},
   "outputs": [
    {
     "data": {
      "text/plain": [
       "{'turn1': [(':(', 4),\n",
       "  ('-_-', 3),\n",
       "  (':/', 3),\n",
       "  (':)', 1),\n",
       "  (':-', 1),\n",
       "  (':-(', 1),\n",
       "  (':D', 1),\n",
       "  (':P', 1)],\n",
       " 'turn2': [(':)', 142),\n",
       "  (':P', 70),\n",
       "  (':(', 63),\n",
       "  (':D', 42),\n",
       "  (':/', 36),\n",
       "  (';)', 34),\n",
       "  (':-)', 22),\n",
       "  (':\\\\', 13),\n",
       "  (\":'(\", 7),\n",
       "  (':-/', 6),\n",
       "  ('-_-', 4),\n",
       "  (':-', 4),\n",
       "  (':-(', 4),\n",
       "  ('XD', 4),\n",
       "  ('~~', 4),\n",
       "  ('8D', 3),\n",
       "  (':-P', 3),\n",
       "  (';(', 3),\n",
       "  (';-', 3),\n",
       "  (';^)', 3),\n",
       "  ('=/', 3),\n",
       "  ('=D', 3),\n",
       "  ('--', 2),\n",
       "  (':|', 2),\n",
       "  (';-)', 2),\n",
       "  ('---', 1),\n",
       "  ('-D', 1),\n",
       "  (\"8')\", 1),\n",
       "  ('8)', 1),\n",
       "  (\":')\", 1)],\n",
       " 'turn3': [(':(', 6),\n",
       "  ('-_-', 4),\n",
       "  (':/', 3),\n",
       "  (':P', 2),\n",
       "  (\"-'/\", 1),\n",
       "  (':)', 1),\n",
       "  (':-)', 1),\n",
       "  (':|', 1)]}"
      ]
     },
     "execution_count": 399,
     "metadata": {},
     "output_type": "execute_result"
    }
   ],
   "source": [
    "get_most_frequent_thing_per_turns_per_label(train_data, 'angry',count_emoticons)"
   ]
  },
  {
   "cell_type": "code",
   "execution_count": 400,
   "metadata": {},
   "outputs": [
    {
     "data": {
      "text/plain": [
       "{'turn1': [(':(', 4),\n",
       "  ('-_-', 3),\n",
       "  (':/', 3),\n",
       "  (':)', 1),\n",
       "  (':-', 1),\n",
       "  (':-(', 1),\n",
       "  (':D', 1),\n",
       "  (':P', 1)],\n",
       " 'turn2': [(':)', 142),\n",
       "  (':P', 70),\n",
       "  (':(', 63),\n",
       "  (':D', 42),\n",
       "  (':/', 36),\n",
       "  (';)', 34),\n",
       "  (':-)', 22),\n",
       "  (':\\\\', 13),\n",
       "  (\":'(\", 7),\n",
       "  (':-/', 6),\n",
       "  ('-_-', 4),\n",
       "  (':-', 4),\n",
       "  (':-(', 4),\n",
       "  ('XD', 4),\n",
       "  ('~~', 4),\n",
       "  ('8D', 3),\n",
       "  (':-P', 3),\n",
       "  (';(', 3),\n",
       "  (';-', 3),\n",
       "  (';^)', 3),\n",
       "  ('=/', 3),\n",
       "  ('=D', 3),\n",
       "  ('--', 2),\n",
       "  (':|', 2),\n",
       "  (';-)', 2),\n",
       "  ('---', 1),\n",
       "  ('-D', 1),\n",
       "  (\"8')\", 1),\n",
       "  ('8)', 1),\n",
       "  (\":')\", 1)],\n",
       " 'turn3': [(':(', 6),\n",
       "  ('-_-', 4),\n",
       "  (':/', 3),\n",
       "  (':P', 2),\n",
       "  (\"-'/\", 1),\n",
       "  (':)', 1),\n",
       "  (':-)', 1),\n",
       "  (':|', 1)]}"
      ]
     },
     "execution_count": 400,
     "metadata": {},
     "output_type": "execute_result"
    }
   ],
   "source": [
    "get_most_frequent_thing_per_turns_per_label(train_data, 'angry',count_emoticons)"
   ]
  },
  {
   "cell_type": "code",
   "execution_count": 401,
   "metadata": {},
   "outputs": [
    {
     "data": {
      "text/plain": [
       "{'turn1': [(':)', 13),\n",
       "  (';)', 7),\n",
       "  (':D', 6),\n",
       "  (':P', 4),\n",
       "  (':(', 3),\n",
       "  ('-D', 1),\n",
       "  ('-_-', 1),\n",
       "  ('8-', 1),\n",
       "  (':-', 1),\n",
       "  (':-/', 1),\n",
       "  ('><', 1),\n",
       "  ('XD', 1)],\n",
       " 'turn2': [(':)', 607),\n",
       "  (':D', 160),\n",
       "  (':P', 139),\n",
       "  (';)', 115),\n",
       "  (':(', 99),\n",
       "  (':-)', 76),\n",
       "  ('~~', 52),\n",
       "  (':/', 42),\n",
       "  (':-P', 17),\n",
       "  (';-)', 14),\n",
       "  ('XD', 13),\n",
       "  (':-', 12),\n",
       "  ('8)', 11),\n",
       "  ('=)', 10),\n",
       "  (\":')\", 7),\n",
       "  ('8D', 6),\n",
       "  (\":'(\", 6),\n",
       "  (':-(', 6),\n",
       "  (':|', 6),\n",
       "  ('-_-', 5),\n",
       "  (':\\\\', 5),\n",
       "  (';^)', 5),\n",
       "  (':-D', 4),\n",
       "  (':^)', 4),\n",
       "  ('=/', 4),\n",
       "  ('=D', 4),\n",
       "  ('--', 3),\n",
       "  (':-/', 3),\n",
       "  (';(', 3),\n",
       "  (\":'D\", 2)],\n",
       " 'turn3': [(':)', 9),\n",
       "  (':/', 7),\n",
       "  ('XD', 4),\n",
       "  (':D', 3),\n",
       "  (':P', 3),\n",
       "  ('-_-', 2),\n",
       "  (':(', 2),\n",
       "  (';)', 2),\n",
       "  ('-D', 1),\n",
       "  ('8-', 1),\n",
       "  ('8-D', 1),\n",
       "  (\":')\", 1),\n",
       "  (':<', 1),\n",
       "  (';-', 1),\n",
       "  ('><', 1)]}"
      ]
     },
     "execution_count": 401,
     "metadata": {},
     "output_type": "execute_result"
    }
   ],
   "source": [
    "get_most_frequent_thing_per_turns_per_label(train_data, 'others',count_emoticons)"
   ]
  },
  {
   "cell_type": "code",
   "execution_count": 352,
   "metadata": {},
   "outputs": [
    {
     "data": {
      "text/plain": [
       "6"
      ]
     },
     "execution_count": 352,
     "metadata": {},
     "output_type": "execute_result"
    }
   ],
   "source": [
    "counter_punctuations('as. sdfsf. !!dsf ! ?')"
   ]
  },
  {
   "cell_type": "code",
   "execution_count": 358,
   "metadata": {},
   "outputs": [],
   "source": [
    "def plot_distribution_per_labels(counts, y,clipMin=0, clipMax=10, title=\"Counts\"):\n",
    "    a4_dims = (11.7, 8.27)\n",
    "    fig, ax = plt.subplots(figsize=a4_dims)\n",
    "    colors = [\"windows blue\", \"amber\", \"greyish\", \"faded green\", \"dusty purple\"]\n",
    "    plt.title(title)\n",
    "    for idx, label in enumerate((y.unique())):\n",
    "        sns.kdeplot(ax=ax,data=np.clip(counts[y==label],clipMin,clipMax), label=label)\n",
    "    plt.show()"
   ]
  },
  {
   "cell_type": "code",
   "execution_count": 378,
   "metadata": {},
   "outputs": [
    {
     "data": {
      "image/png": "[encoded data removed]",
      "text/plain": [
       "<Figure size 842.4x595.44 with 1 Axes>"
      ]
     },
     "metadata": {
      "needs_background": "light"
     },
     "output_type": "display_data"
    }
   ],
   "source": [
    "plot_distribution_per_labels(count_on_rows(train_all_one_column,\n",
    "                                           counter_emoticons),\n",
    "                             train_data.label,\n",
    "                             clipMin=0,\n",
    "                            clipMax=2.5)"
   ]
  },
  {
   "cell_type": "code",
   "execution_count": 377,
   "metadata": {},
   "outputs": [
    {
     "data": {
      "image/png": "[encoded data removed]",
      "text/plain": [
       "<Figure size 842.4x595.44 with 1 Axes>"
      ]
     },
     "metadata": {
      "needs_background": "light"
     },
     "output_type": "display_data"
    }
   ],
   "source": [
    "plot_distribution_per_labels(count_on_rows(train_all_one_column, counter_upperletters),\n",
    "                             train_data.label)"
   ]
  },
  {
   "cell_type": "code",
   "execution_count": 376,
   "metadata": {},
   "outputs": [
    {
     "name": "stderr",
     "output_type": "stream",
     "text": [
      "C:\\Users\\Simeon\\Anaconda3\\envs\\First\\lib\\site-packages\\scipy\\stats\\stats.py:1713: FutureWarning: Using a non-tuple sequence for multidimensional indexing is deprecated; use `arr[tuple(seq)]` instead of `arr[seq]`. In the future this will be interpreted as an array index, `arr[np.array(seq)]`, which will result either in an error or a different result.\n",
      "  return np.add.reduce(sorted[indexer] * weights, axis=axis) / sumval\n"
     ]
    },
    {
     "data": {
      "image/png": "[encoded data removed]",
      "text/plain": [
       "<Figure size 842.4x595.44 with 1 Axes>"
      ]
     },
     "metadata": {
      "needs_background": "light"
     },
     "output_type": "display_data"
    }
   ],
   "source": [
    "plot_distribution_per_labels(count_on_rows(train_all_one_column, counter_upperletters_per_word),\n",
    "                             train_data.label,\n",
    "                            clipMax=3)"
   ]
  },
  {
   "cell_type": "code",
   "execution_count": 353,
   "metadata": {},
   "outputs": [
    {
     "name": "stderr",
     "output_type": "stream",
     "text": [
      "C:\\Users\\Simeon\\Anaconda3\\envs\\First\\lib\\site-packages\\scipy\\stats\\stats.py:1713: FutureWarning: Using a non-tuple sequence for multidimensional indexing is deprecated; use `arr[tuple(seq)]` instead of `arr[seq]`. In the future this will be interpreted as an array index, `arr[np.array(seq)]`, which will result either in an error or a different result.\n",
      "  return np.add.reduce(sorted[indexer] * weights, axis=axis) / sumval\n"
     ]
    },
    {
     "data": {
      "image/png": "[encoded data removed]",
      "text/plain": [
       "<Figure size 842.4x595.44 with 1 Axes>"
      ]
     },
     "metadata": {
      "needs_background": "light"
     },
     "output_type": "display_data"
    }
   ],
   "source": [
    "plot_distribution_per_labels(count_on_rows(train_all_one_column, counter_punctuations),\n",
    "                             train_data.label,\n",
    "                            )"
   ]
  },
  {
   "cell_type": "code",
   "execution_count": 357,
   "metadata": {},
   "outputs": [
    {
     "data": {
      "image/png": "[encoded data removed]",
      "text/plain": [
       "<Figure size 842.4x595.44 with 1 Axes>"
      ]
     },
     "metadata": {
      "needs_background": "light"
     },
     "output_type": "display_data"
    }
   ],
   "source": [
    "plot_distribution_per_labels(count_on_rows(train_all_one_column, counter_words),\n",
    "                             train_data.label,\n",
    "                            clipMin=10,\n",
    "                            clipMax=50)"
   ]
  },
  {
   "cell_type": "code",
   "execution_count": null,
   "metadata": {},
   "outputs": [],
   "source": [
    "emojis used per turn, emoticons used per turn"
   ]
  },
  {
   "cell_type": "code",
   "execution_count": null,
   "metadata": {},
   "outputs": [],
   "source": []
  },
  {
   "cell_type": "code",
   "execution_count": null,
   "metadata": {},
   "outputs": [],
   "source": []
  }
 ],
 "metadata": {
  "kernelspec": {
   "display_name": "Python 3",
   "language": "python",
   "name": "python3"
  },
  "language_info": {
   "codemirror_mode": {
    "name": "ipython",
    "version": 3
   },
   "file_extension": ".py",
   "mimetype": "text/x-python",
   "name": "python",
   "nbconvert_exporter": "python",
   "pygments_lexer": "ipython3",
   "version": "3.6.6"
  }
 },
 "nbformat": 4,
 "nbformat_minor": 2
}
