{
 "cells": [
  {
   "cell_type": "code",
   "execution_count": 51,
   "metadata": {},
   "outputs": [],
   "source": [
    "import numpy as np\n",
    "import pandas as pd\n",
    "import tensorflow as tf\n",
    "import keras as ks\n",
    "from nltk.tokenize import TweetTokenizer\n",
    "import matplotlib.pyplot as plt\n",
    "import seaborn as sns\n",
    "from keras.preprocessing.text import Tokenizer\n",
    "from keras.preprocessing.sequence import pad_sequences\n",
    "from keras.models import Sequential\n",
    "from keras.layers import Embedding, Flatten, Dense\n",
    "from keras import layers\n",
    "import os\n",
    "import io\n",
    "from keras.callbacks import Callback\n",
    "from sklearn.metrics import confusion_matrix, f1_score, precision_score, recall_score\n",
    "from keras.utils import to_categorical\n",
    "from sklearn.preprocessing import LabelEncoder\n",
    "from sklearn.preprocessing import LabelBinarizer\n",
    "from keras.optimizers import RMSprop\n",
    "import gc"
   ]
  },
  {
   "cell_type": "code",
   "execution_count": 2,
   "metadata": {},
   "outputs": [],
   "source": [
    "class MetricsMicro(Callback):\n",
    "    \n",
    "    def set_model(self, model):\n",
    "        self.model = model\n",
    "        self.val_f1s  = []\n",
    "        self.val_recalls = []\n",
    "        self.val_preceisions = []\n",
    "        \n",
    "    def on_epoch_end(self, epoch, logs={}):\n",
    "        val_predict = (np.asarray(\n",
    "            self.model.predict(self.validation_data[0]))).round()\n",
    "        val_targ = self.validation_data[1]\n",
    "        _val_f1 = f1_score(val_targ, val_predict, average='micro')\n",
    "        _val_recall = recall_score(val_targ, val_predict, average='micro')\n",
    "        _val_precision = precision_score(val_targ, val_predict, average='micro')\n",
    "        self.val_f1s.append(_val_f1)\n",
    "        self.val_recalls.append(_val_recall)\n",
    "        self.val_preceisions.append(_val_precision)\n",
    "        print(' val_f1_micro: %f | val_precision_micro: %f | val_recall_micro: %f'%\n",
    "             (_val_f1, _val_precision, _val_recall))"
   ]
  },
  {
   "cell_type": "code",
   "execution_count": 3,
   "metadata": {},
   "outputs": [],
   "source": [
    "##https://drive.google.com/file/d/0B1yuv8YaUVlZZ1RzMFJmc1ZsQmM/view\n",
    "APPO = {\n",
    "\"aren't\" : \"are not\",\n",
    "\"can't\" : \"cannot\",\n",
    "\"couldn't\" : \"could not\",\n",
    "\"didn't\" : \"did not\",\n",
    "\"doesn't\" : \"does not\",\n",
    "\"don't\" : \"do not\",\n",
    "\"hadn't\" : \"had not\",\n",
    "\"hasn't\" : \"has not\",\n",
    "\"haven't\" : \"have not\",\n",
    "\"he'd\" : \"he would\",\n",
    "\"he'll\" : \"he will\",\n",
    "\"he's\" : \"he is\",\n",
    "\"i'd\" : \"I would\",\n",
    "\"i'd\" : \"I had\",\n",
    "\"i'll\" : \"I will\",\n",
    "\"i'm\" : \"I am\",\n",
    "\"isn't\" : \"is not\",\n",
    "\"it's\" : \"it is\",\n",
    "\"it'll\":\"it will\",\n",
    "\"i've\" : \"I have\",\n",
    "\"let's\" : \"let us\",\n",
    "\"mightn't\" : \"might not\",\n",
    "\"mustn't\" : \"must not\",\n",
    "\"shan't\" : \"shall not\",\n",
    "\"she'd\" : \"she would\",\n",
    "\"she'll\" : \"she will\",\n",
    "\"she's\" : \"she is\",\n",
    "\"shouldn't\" : \"should not\",\n",
    "\"that's\" : \"that is\",\n",
    "\"there's\" : \"there is\",\n",
    "\"they'd\" : \"they would\",\n",
    "\"they'll\" : \"they will\",\n",
    "\"they're\" : \"they are\",\n",
    "\"they've\" : \"they have\",\n",
    "\"we'd\" : \"we would\",\n",
    "\"we're\" : \"we are\",\n",
    "\"weren't\" : \"were not\",\n",
    "\"we've\" : \"we have\",\n",
    "\"what'll\" : \"what will\",\n",
    "\"what're\" : \"what are\",\n",
    "\"what's\" : \"what is\",\n",
    "\"what've\" : \"what have\",\n",
    "\"where's\" : \"where is\",\n",
    "\"who'd\" : \"who would\",\n",
    "\"who'll\" : \"who will\",\n",
    "\"who're\" : \"who are\",\n",
    "\"who's\" : \"who is\",\n",
    "\"who've\" : \"who have\",\n",
    "\"won't\" : \"will not\",\n",
    "\"wouldn't\" : \"would not\",\n",
    "\"you'd\" : \"you would\",\n",
    "\"you'll\" : \"you will\",\n",
    "\"you're\" : \"you are\",\n",
    "\"you've\" : \"you have\",\n",
    "\"'re\": \" are\",\n",
    "\"wasn't\": \"was not\",\n",
    "\"we'll\":\" will\",\n",
    "\"didn't\": \"did not\",\n",
    "\"tryin'\":\"trying\",   \n",
    "}"
   ]
  },
  {
   "cell_type": "code",
   "execution_count": 4,
   "metadata": {},
   "outputs": [],
   "source": [
    "replaces = APPO.copy()\n",
    "replaces['ur'] = 'you are'\n",
    "replaces['u'] = 'you'\n",
    "replaces['r'] = 'are'\n",
    "replaces['yr'] = 'your'"
   ]
  },
  {
   "cell_type": "code",
   "execution_count": 5,
   "metadata": {},
   "outputs": [],
   "source": [
    "class TokenReplacer():\n",
    "    def __init__(self, replaces,tokenizer=TweetTokenizer()):\n",
    "        self.tokenizer= tokenizer\n",
    "        self.replaces = replaces\n",
    "    \n",
    "    def word_replacer(self, word):\n",
    "        if word in self.replaces:\n",
    "            return self.replaces[word]\n",
    "        else:\n",
    "            return word\n",
    "    \n",
    "    def row_rep(self, row):\n",
    "        tokens = self.tokenizer.tokenize(row)\n",
    "        return ' '.join([self.word_replacer(token.lower()) for token in tokens])\n",
    "    \n",
    "    def turn_rep(self, turn):\n",
    "        return turn.apply(lambda row : self.row_rep(row))\n",
    "    \n",
    "    def replace_data(self, data):\n",
    "        data_cpy = data.copy()\n",
    "        for column in data.columns:\n",
    "            data_cpy[column] = self.turn_rep(data[column])\n",
    "        return data_cpy"
   ]
  },
  {
   "cell_type": "code",
   "execution_count": 8,
   "metadata": {},
   "outputs": [],
   "source": [
    "train_data = pd.read_csv('D:\\\\Machine Learning\\\\Datasets\\\\EmoContext\\\\train.txt',\n",
    "                        sep='\\t', index_col='id')\n",
    "X_train_org = train_data.iloc[:,:-1]\n",
    "y_train = train_data.iloc[:,-1]\n",
    "le = LabelEncoder()\n",
    "y_train = le.fit_transform(y_train)"
   ]
  },
  {
   "cell_type": "code",
   "execution_count": 9,
   "metadata": {},
   "outputs": [],
   "source": [
    "dev_data = pd.read_csv('D:\\\\Machine Learning\\\\Datasets\\\\EmoContext\\\\dev.txt',\n",
    "                        sep='\\t', index_col='id')\n",
    "X_dev_org = dev_data.iloc[:,:-1]\n",
    "y_dev = dev_data.iloc[:,-1]\n",
    "y_dev = le.transform(y_dev)"
   ]
  },
  {
   "cell_type": "code",
   "execution_count": 10,
   "metadata": {},
   "outputs": [],
   "source": [
    "X_test_org = pd.read_csv('D:\\\\Machine Learning\\\\Datasets\\\\EmoContext\\\\testwithoutlabels.txt',\n",
    "                        sep='\\t', index_col='id')"
   ]
  },
  {
   "cell_type": "code",
   "execution_count": 11,
   "metadata": {},
   "outputs": [],
   "source": [
    "tr = TokenReplacer(replaces)"
   ]
  },
  {
   "cell_type": "code",
   "execution_count": 13,
   "metadata": {},
   "outputs": [],
   "source": [
    "X_train = tr.replace_data(X_train_org)\n",
    "X_dev = tr.replace_data(X_dev_org)\n",
    "X_test = tr.replace_data(X_test_org)"
   ]
  },
  {
   "cell_type": "code",
   "execution_count": 23,
   "metadata": {},
   "outputs": [],
   "source": [
    "full_conv_train = X_train[['turn1', 'turn2', 'turn3']].apply(lambda x: ' '.join(x).lower(), axis=1)\n",
    "full_conv_dev = X_dev[['turn1', 'turn2', 'turn3']].apply(lambda x: ' '.join(x).lower(), axis=1)\n",
    "full_conv_test = X_test[['turn1', 'turn2', 'turn3']].apply(lambda x: ' '.join(x).lower(), axis=1)"
   ]
  },
  {
   "cell_type": "code",
   "execution_count": 24,
   "metadata": {},
   "outputs": [
    {
     "name": "stdout",
     "output_type": "stream",
     "text": [
      "word mean  15.55\n",
      "word std  6.734142264475674\n"
     ]
    },
    {
     "data": {
      "image/png": "[encoded data removed]",
      "text/plain": [
       "<Figure size 432x288 with 1 Axes>"
      ]
     },
     "metadata": {
      "needs_background": "light"
     },
     "output_type": "display_data"
    }
   ],
   "source": [
    "tokenizer = TweetTokenizer()\n",
    "word_counts = full_conv_train.apply(lambda row: len(tokenizer.tokenize(row)))\n",
    "print('word mean ', word_counts.mean())\n",
    "print('word std ', word_counts.std())\n",
    "sns.distplot(word_counts, hist=True, kde=True, \n",
    "             bins=int(180/5), color = 'darkblue', \n",
    "             hist_kws={'edgecolor':'black'},\n",
    "             kde_kws={'linewidth': 4})\n",
    "plt.show()"
   ]
  },
  {
   "cell_type": "code",
   "execution_count": 25,
   "metadata": {},
   "outputs": [
    {
     "data": {
      "text/plain": [
       "15106"
      ]
     },
     "execution_count": 25,
     "metadata": {},
     "output_type": "execute_result"
    }
   ],
   "source": [
    "unique_tokens = set()\n",
    "full_conv_train.apply(lambda x: unique_tokens.update(tokenizer.tokenize(x)))\n",
    "len(unique_tokens)"
   ]
  },
  {
   "cell_type": "code",
   "execution_count": 27,
   "metadata": {},
   "outputs": [],
   "source": [
    "maxlen = 30\n",
    "max_words = 15000\n",
    "\n",
    "tokenizer = Tokenizer(num_words=max_words)\n",
    "tokenizer.fit_on_texts(full_conv_train)\n",
    "train_seq = tokenizer.texts_to_sequences(full_conv_train)\n",
    "dev_seq = tokenizer.texts_to_sequences(full_conv_dev)\n",
    "test_seq = tokenizer.texts_to_sequences(full_conv_test)"
   ]
  },
  {
   "cell_type": "code",
   "execution_count": 28,
   "metadata": {},
   "outputs": [],
   "source": [
    "x_train = pad_sequences(train_seq, maxlen=maxlen)\n",
    "x_dev = pad_sequences(dev_seq, maxlen=maxlen)\n",
    "x_test = pad_sequences(test_seq, maxlen=maxlen)"
   ]
  },
  {
   "cell_type": "code",
   "execution_count": 29,
   "metadata": {},
   "outputs": [
    {
     "name": "stdout",
     "output_type": "stream",
     "text": [
      "Found 1193514 word vectors.\n"
     ]
    }
   ],
   "source": [
    "glove_dir = r'D:\\Machine Learning\\Embeddings\\glove.twitter.27B'\n",
    "\n",
    "embeddings_index = {}\n",
    "f = open(os.path.join(glove_dir, 'glove.twitter.27B.200d.txt'), encoding='utf-8')\n",
    "for line in f:\n",
    "    values = line.split()\n",
    "    word = values[0]\n",
    "    coefs = np.asarray(values[1:], dtype='float32')\n",
    "    embeddings_index[word] = coefs\n",
    "f.close()\n",
    "print('Found %s word vectors.' % len(embeddings_index))"
   ]
  },
  {
   "cell_type": "code",
   "execution_count": 30,
   "metadata": {},
   "outputs": [],
   "source": [
    "embedding_dim = 200\n",
    "\n",
    "word_index = tokenizer.word_index\n",
    "embedding_matrix = np.zeros((max_words, embedding_dim))\n",
    "for word, i in word_index.items():\n",
    "    if i < max_words:\n",
    "        embedding_vector = embeddings_index.get(word)\n",
    "        if embedding_vector is not None:\n",
    "            embedding_matrix[i] = embedding_vector"
   ]
  },
  {
   "cell_type": "code",
   "execution_count": 36,
   "metadata": {},
   "outputs": [],
   "source": [
    "encoder = LabelBinarizer()\n",
    "y_train_vec  = encoder.fit_transform(y_train)\n",
    "y_dev_vec  = encoder.fit_transform(y_dev)"
   ]
  },
  {
   "cell_type": "code",
   "execution_count": 37,
   "metadata": {},
   "outputs": [
    {
     "name": "stdout",
     "output_type": "stream",
     "text": [
      "Train on 30160 samples, validate on 2755 samples\n",
      "Epoch 1/45\n",
      "30160/30160 [==============================] - 24s 800us/step - loss: 0.9133 - acc: 0.6435 - val_loss: 0.4671 - val_acc: 0.8403\n",
      " val_f1_micro: 0.829446 | val_precision_micro: 0.876364 | val_recall_micro: 0.787296\n",
      "Epoch 2/45\n",
      "30160/30160 [==============================] - 16s 528us/step - loss: 0.6605 - acc: 0.7533 - val_loss: 0.4372 - val_acc: 0.8432\n",
      " val_f1_micro: 0.832613 | val_precision_micro: 0.862928 | val_recall_micro: 0.804356\n",
      "Epoch 3/45\n",
      "30160/30160 [==============================] - 17s 548us/step - loss: 0.5962 - acc: 0.7794 - val_loss: 0.4162 - val_acc: 0.8370\n",
      " val_f1_micro: 0.831835 | val_precision_micro: 0.859188 | val_recall_micro: 0.806171\n",
      "Epoch 4/45\n",
      "30160/30160 [==============================] - 21s 686us/step - loss: 0.5579 - acc: 0.7954 - val_loss: 0.4231 - val_acc: 0.8312\n",
      " val_f1_micro: 0.829835 | val_precision_micro: 0.857807 | val_recall_micro: 0.803630\n",
      "Epoch 5/45\n",
      "30160/30160 [==============================] - 21s 688us/step - loss: 0.5342 - acc: 0.8044 - val_loss: 0.4042 - val_acc: 0.8446\n",
      " val_f1_micro: 0.840795 | val_precision_micro: 0.861111 | val_recall_micro: 0.821416\n",
      "Epoch 6/45\n",
      "30160/30160 [==============================] - 18s 598us/step - loss: 0.5151 - acc: 0.8129 - val_loss: 0.4082 - val_acc: 0.8377\n",
      " val_f1_micro: 0.833798 | val_precision_micro: 0.853612 | val_recall_micro: 0.814882\n",
      "Epoch 7/45\n",
      "30160/30160 [==============================] - 18s 581us/step - loss: 0.4968 - acc: 0.8234 - val_loss: 0.4193 - val_acc: 0.8309\n",
      " val_f1_micro: 0.829459 | val_precision_micro: 0.850496 | val_recall_micro: 0.809437\n",
      "Epoch 8/45\n",
      "30160/30160 [==============================] - 12s 407us/step - loss: 0.4878 - acc: 0.8248 - val_loss: 0.3646 - val_acc: 0.8552\n",
      " val_f1_micro: 0.857883 | val_precision_micro: 0.875047 | val_recall_micro: 0.841379\n",
      "Epoch 9/45\n",
      "30160/30160 [==============================] - 13s 445us/step - loss: 0.4737 - acc: 0.8290 - val_loss: 0.4003 - val_acc: 0.8399\n",
      " val_f1_micro: 0.838877 | val_precision_micro: 0.854347 | val_recall_micro: 0.823956\n",
      "Epoch 10/45\n",
      "30160/30160 [==============================] - 17s 553us/step - loss: 0.4658 - acc: 0.8326 - val_loss: 0.4034 - val_acc: 0.8396\n",
      " val_f1_micro: 0.836053 | val_precision_micro: 0.854759 | val_recall_micro: 0.818149\n",
      "Epoch 11/45\n",
      "30160/30160 [==============================] - 17s 561us/step - loss: 0.4532 - acc: 0.8385 - val_loss: 0.3971 - val_acc: 0.8421\n",
      " val_f1_micro: 0.841441 | val_precision_micro: 0.861269 | val_recall_micro: 0.822505\n",
      "Epoch 12/45\n",
      "30160/30160 [==============================] - 17s 558us/step - loss: 0.4485 - acc: 0.8366 - val_loss: 0.3884 - val_acc: 0.8443\n",
      " val_f1_micro: 0.844716 | val_precision_micro: 0.861782 | val_recall_micro: 0.828312\n",
      "Epoch 13/45\n",
      "30160/30160 [==============================] - 17s 552us/step - loss: 0.4450 - acc: 0.8410 - val_loss: 0.3871 - val_acc: 0.8432\n",
      " val_f1_micro: 0.843293 | val_precision_micro: 0.860000 | val_recall_micro: 0.827223\n",
      "Epoch 14/45\n",
      "30160/30160 [==============================] - 15s 490us/step - loss: 0.4389 - acc: 0.8412 - val_loss: 0.3946 - val_acc: 0.8465\n",
      " val_f1_micro: 0.847207 | val_precision_micro: 0.863825 | val_recall_micro: 0.831216\n",
      "Epoch 15/45\n",
      "30160/30160 [==============================] - 14s 455us/step - loss: 0.4348 - acc: 0.8428 - val_loss: 0.3877 - val_acc: 0.8450\n",
      " val_f1_micro: 0.845399 | val_precision_micro: 0.862812 | val_recall_micro: 0.828675\n",
      "Epoch 16/45\n",
      "30160/30160 [==============================] - 28s 934us/step - loss: 0.4318 - acc: 0.8451 - val_loss: 0.3940 - val_acc: 0.8468\n",
      " val_f1_micro: 0.845003 | val_precision_micro: 0.860421 | val_recall_micro: 0.830127\n",
      "Epoch 17/45\n",
      "30160/30160 [==============================] - 26s 857us/step - loss: 0.4252 - acc: 0.8473 - val_loss: 0.3813 - val_acc: 0.8552\n",
      " val_f1_micro: 0.854619 | val_precision_micro: 0.866741 | val_recall_micro: 0.842831\n",
      "Epoch 18/45\n",
      "30160/30160 [==============================] - 24s 788us/step - loss: 0.4192 - acc: 0.8492 - val_loss: 0.3789 - val_acc: 0.8530\n",
      " val_f1_micro: 0.853299 | val_precision_micro: 0.866717 | val_recall_micro: 0.840290\n",
      "Epoch 19/45\n",
      "30160/30160 [==============================] - 26s 857us/step - loss: 0.4201 - acc: 0.8476 - val_loss: 0.3570 - val_acc: 0.8610\n",
      " val_f1_micro: 0.860247 | val_precision_micro: 0.872945 | val_recall_micro: 0.847913\n",
      "Epoch 20/45\n",
      "30160/30160 [==============================] - 26s 847us/step - loss: 0.4158 - acc: 0.8501 - val_loss: 0.3593 - val_acc: 0.8599415\n",
      " val_f1_micro: 0.859717 | val_precision_micro: 0.871088 | val_recall_micro: 0.848639\n",
      "Epoch 21/45\n",
      "30160/30160 [==============================] - 19s 645us/step - loss: 0.4073 - acc: 0.8512 - val_loss: 0.3790 - val_acc: 0.8512\n",
      " val_f1_micro: 0.852882 | val_precision_micro: 0.865471 | val_recall_micro: 0.840653\n",
      "Epoch 22/45\n",
      "30160/30160 [==============================] - 18s 598us/step - loss: 0.4090 - acc: 0.8497 - val_loss: 0.3619 - val_acc: 0.8559\n",
      " val_f1_micro: 0.857721 | val_precision_micro: 0.868901 | val_recall_micro: 0.846824\n",
      "Epoch 23/45\n",
      "30160/30160 [==============================] - 27s 906us/step - loss: 0.4042 - acc: 0.8524 - val_loss: 0.3733 - val_acc: 0.8559\n",
      " val_f1_micro: 0.858088 | val_precision_micro: 0.869274 | val_recall_micro: 0.847187\n",
      "Epoch 24/45\n",
      "30160/30160 [==============================] - 31s 1ms/step - loss: 0.4015 - acc: 0.8550 - val_loss: 0.3978 - val_acc: 0.8396\n",
      " val_f1_micro: 0.839720 | val_precision_micro: 0.852600 | val_recall_micro: 0.827223\n",
      "Epoch 25/45\n",
      "30160/30160 [==============================] - 25s 845us/step - loss: 0.3989 - acc: 0.8577 - val_loss: 0.3921 - val_acc: 0.8446\n",
      " val_f1_micro: 0.843231 | val_precision_micro: 0.857143 | val_recall_micro: 0.829764\n",
      "Epoch 26/45\n",
      "30160/30160 [==============================] - 21s 685us/step - loss: 0.3991 - acc: 0.8572 - val_loss: 0.3910 - val_acc: 0.8465\n",
      " val_f1_micro: 0.846479 | val_precision_micro: 0.857675 | val_recall_micro: 0.835572\n",
      "Epoch 27/45\n",
      "30160/30160 [==============================] - 21s 683us/step - loss: 0.3971 - acc: 0.8560 - val_loss: 0.3800 - val_acc: 0.8486\n",
      " val_f1_micro: 0.847782 | val_precision_micro: 0.859970 | val_recall_micro: 0.835935\n",
      "Epoch 28/45\n",
      "30160/30160 [==============================] - 13s 421us/step - loss: 0.3900 - acc: 0.8592 - val_loss: 0.3550 - val_acc: 0.8653\n",
      " val_f1_micro: 0.865820 | val_precision_micro: 0.878267 | val_recall_micro: 0.853721\n",
      "Epoch 29/45\n",
      "30160/30160 [==============================] - 19s 638us/step - loss: 0.3900 - acc: 0.8605 - val_loss: 0.3502 - val_acc: 0.8642\n",
      " val_f1_micro: 0.866006 | val_precision_micro: 0.875975 | val_recall_micro: 0.856261\n",
      "Epoch 30/45\n",
      "30160/30160 [==============================] - 16s 546us/step - loss: 0.3920 - acc: 0.8593 - val_loss: 0.3696 - val_acc: 0.8555\n",
      " val_f1_micro: 0.853569 | val_precision_micro: 0.865349 | val_recall_micro: 0.842105\n",
      "Epoch 31/45\n",
      "30160/30160 [==============================] - 16s 541us/step - loss: 0.3898 - acc: 0.8585 - val_loss: 0.3883 - val_acc: 0.8446\n",
      " val_f1_micro: 0.845190 | val_precision_micro: 0.858480 | val_recall_micro: 0.832305\n",
      "Epoch 32/45\n",
      "30160/30160 [==============================] - 16s 539us/step - loss: 0.3848 - acc: 0.8607 - val_loss: 0.4019 - val_acc: 0.8439\n",
      " val_f1_micro: 0.843848 | val_precision_micro: 0.855332 | val_recall_micro: 0.832668\n",
      "Epoch 33/45\n",
      "30160/30160 [==============================] - 17s 572us/step - loss: 0.3831 - acc: 0.8607 - val_loss: 0.3898 - val_acc: 0.8465\n",
      " val_f1_micro: 0.845956 | val_precision_micro: 0.856983 | val_recall_micro: 0.835209\n",
      "Epoch 34/45\n",
      "30160/30160 [==============================] - 12s 382us/step - loss: 0.3856 - acc: 0.8604 - val_loss: 0.3755 - val_acc: 0.8537\n",
      " val_f1_micro: 0.854939 | val_precision_micro: 0.865106 | val_recall_micro: 0.845009\n",
      "Epoch 35/45\n",
      "30160/30160 [==============================] - 11s 381us/step - loss: 0.3792 - acc: 0.8643 - val_loss: 0.3622 - val_acc: 0.8566\n",
      " val_f1_micro: 0.858981 | val_precision_micro: 0.870343 | val_recall_micro: 0.847913\n",
      "Epoch 36/45\n",
      "30160/30160 [==============================] - 12s 381us/step - loss: 0.3782 - acc: 0.8630 - val_loss: 0.3764 - val_acc: 0.8559\n",
      " val_f1_micro: 0.855727 | val_precision_micro: 0.865577 | val_recall_micro: 0.846098\n",
      "Epoch 37/45\n"
     ]
    },
    {
     "name": "stdout",
     "output_type": "stream",
     "text": [
      "30160/30160 [==============================] - 11s 378us/step - loss: 0.3785 - acc: 0.8629 - val_loss: 0.3918 - val_acc: 0.8461\n",
      " val_f1_micro: 0.846436 | val_precision_micro: 0.856824 | val_recall_micro: 0.836298\n",
      "Epoch 38/45\n",
      "30160/30160 [==============================] - 11s 380us/step - loss: 0.3743 - acc: 0.8648 - val_loss: 0.3536 - val_acc: 0.8639\n",
      " val_f1_micro: 0.865004 | val_precision_micro: 0.874305 | val_recall_micro: 0.855898\n",
      "Epoch 39/45\n",
      "30160/30160 [==============================] - 11s 376us/step - loss: 0.3709 - acc: 0.8656 - val_loss: 0.3554 - val_acc: 0.8679\n",
      " val_f1_micro: 0.867572 | val_precision_micro: 0.876900 | val_recall_micro: 0.858439\n",
      "Epoch 40/45\n",
      "30160/30160 [==============================] - 11s 380us/step - loss: 0.3730 - acc: 0.8652 - val_loss: 0.3821 - val_acc: 0.8512\n",
      " val_f1_micro: 0.852730 | val_precision_micro: 0.864009 | val_recall_micro: 0.841742\n",
      "Epoch 41/45\n",
      "30160/30160 [==============================] - 11s 381us/step - loss: 0.3754 - acc: 0.8655 - val_loss: 0.3877 - val_acc: 0.8530\n",
      " val_f1_micro: 0.854942 | val_precision_micro: 0.863973 | val_recall_micro: 0.846098\n",
      "Epoch 42/45\n",
      "30160/30160 [==============================] - 11s 377us/step - loss: 0.3763 - acc: 0.8634 - val_loss: 0.3892 - val_acc: 0.8494\n",
      " val_f1_micro: 0.852056 | val_precision_micro: 0.861864 | val_recall_micro: 0.842468\n",
      "Epoch 43/45\n",
      "30160/30160 [==============================] - 11s 377us/step - loss: 0.3686 - acc: 0.8666 - val_loss: 0.3827 - val_acc: 0.8537\n",
      " val_f1_micro: 0.855200 | val_precision_micro: 0.866022 | val_recall_micro: 0.844646\n",
      "Epoch 44/45\n",
      "30160/30160 [==============================] - 11s 380us/step - loss: 0.3689 - acc: 0.8675 - val_loss: 0.3583 - val_acc: 0.8708\n",
      " val_f1_micro: 0.872894 | val_precision_micro: 0.880961 | val_recall_micro: 0.864973\n",
      "Epoch 45/45\n",
      "30160/30160 [==============================] - 11s 379us/step - loss: 0.3703 - acc: 0.8657 - val_loss: 0.3783 - val_acc: 0.8544\n",
      " val_f1_micro: 0.855780 | val_precision_micro: 0.865306 | val_recall_micro: 0.846461\n"
     ]
    }
   ],
   "source": [
    "model = Sequential()\n",
    "model.add(layers.Embedding(max_words, embedding_dim, input_length=maxlen))\n",
    "model.add(layers.GRU(32, dropout=0.3, recurrent_dropout=0.3))\n",
    "model.add(layers.Dense(32, activation='relu'))\n",
    "model.add(layers.Dropout(rate=0.3))\n",
    "model.add(layers.Dense(4, activation='softmax'))\n",
    "model.layers[0].set_weights([embedding_matrix])\n",
    "model.layers[0].trainable = False\n",
    "model.compile(optimizer='rmsprop',\n",
    "             loss='categorical_crossentropy',\n",
    "             metrics=['acc'])\n",
    "\n",
    "callbacks = [MetricsMicro()]\n",
    "\n",
    "history = model.fit(x_train, y_train_vec,\n",
    "                    epochs=45,\n",
    "                    batch_size=128,\n",
    "                    validation_data=(x_dev, y_dev_vec),\n",
    "                    callbacks=callbacks)"
   ]
  },
  {
   "cell_type": "code",
   "execution_count": 38,
   "metadata": {},
   "outputs": [
    {
     "data": {
      "image/png": "[encoded data removed]",
      "text/plain": [
       "<Figure size 432x288 with 1 Axes>"
      ]
     },
     "metadata": {
      "needs_background": "light"
     },
     "output_type": "display_data"
    }
   ],
   "source": [
    "loss = history.history['loss']\n",
    "val_loss = history.history['val_loss']\n",
    "\n",
    "epochs = range(1, len(loss) + 1)\n",
    "\n",
    "plt.plot(epochs, loss, 'bo', label='Training loss')\n",
    "plt.plot(epochs, val_loss, 'b', label='Validation loss')\n",
    "plt.title('Training and validation loss')\n",
    "plt.legend()\n",
    "plt.show()"
   ]
  },
  {
   "cell_type": "code",
   "execution_count": 39,
   "metadata": {},
   "outputs": [],
   "source": [
    "test_pred = model.predict(x_test)"
   ]
  },
  {
   "cell_type": "code",
   "execution_count": 47,
   "metadata": {},
   "outputs": [],
   "source": [
    "test_pred = test_pred.argmax(axis=1)"
   ]
  },
  {
   "cell_type": "code",
   "execution_count": 49,
   "metadata": {},
   "outputs": [],
   "source": [
    "test_labels = le.inverse_transform(test_pred)"
   ]
  },
  {
   "cell_type": "code",
   "execution_count": 52,
   "metadata": {},
   "outputs": [],
   "source": [
    "solutionPath = 'D:\\\\Machine Learning\\\\Datasets\\\\EmoContext\\\\test.txt'\n",
    "testDataPath = 'D:\\\\Machine Learning\\\\Datasets\\\\EmoContext\\\\testwithoutlabels.txt'\n",
    "with io.open(solutionPath, \"w\", encoding=\"utf8\") as fout:\n",
    "        fout.write('\\t'.join([\"id\", \"turn1\", \"turn2\", \"turn3\", \"label\"]) + '\\n')        \n",
    "        with io.open(testDataPath, encoding=\"utf8\") as fin:\n",
    "            fin.readline()\n",
    "            for lineNum, line in enumerate(fin):\n",
    "                fout.write('\\t'.join(line.strip().split('\\t')[:4]) + '\\t')\n",
    "                fout.write(test_labels[lineNum] + '\\n')"
   ]
  },
  {
   "cell_type": "code",
   "execution_count": null,
   "metadata": {},
   "outputs": [],
   "source": []
  }
 ],
 "metadata": {
  "kernelspec": {
   "display_name": "Python 3",
   "language": "python",
   "name": "python3"
  },
  "language_info": {
   "codemirror_mode": {
    "name": "ipython",
    "version": 3
   },
   "file_extension": ".py",
   "mimetype": "text/x-python",
   "name": "python",
   "nbconvert_exporter": "python",
   "pygments_lexer": "ipython3",
   "version": "3.6.6"
  }
 },
 "nbformat": 4,
 "nbformat_minor": 2
}
